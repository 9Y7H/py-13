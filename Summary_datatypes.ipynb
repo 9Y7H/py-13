{
  "nbformat": 4,
  "nbformat_minor": 0,
  "metadata": {
    "colab": {
      "name": "Summary_datatypes.ipynb",
      "version": "0.3.2",
      "provenance": [],
      "collapsed_sections": [],
      "include_colab_link": true
    },
    "kernelspec": {
      "name": "python3",
      "display_name": "Python 3"
    }
  },
  "cells": [
    {
      "cell_type": "markdown",
      "metadata": {
        "id": "view-in-github",
        "colab_type": "text"
      },
      "source": [
        "[View in Colaboratory](https://colab.research.google.com/github/9Y7H/py-13/blob/master/Summary_datatypes.ipynb)"
      ]
    },
    {
      "metadata": {
        "id": "yaQ76DCq6Bo3",
        "colab_type": "text"
      },
      "cell_type": "markdown",
      "source": [
        "##Summary of datatypes in Python\n",
        "\n",
        "*   list\n",
        "\n",
        "*  tuple\n",
        "\n",
        "*   dictionary\n",
        "\n",
        "*  string\n",
        "\n",
        "\n",
        "\n",
        "\n",
        "\n"
      ]
    },
    {
      "metadata": {
        "id": "6xzteWB-6sW3",
        "colab_type": "text"
      },
      "cell_type": "markdown",
      "source": [
        "###리스트 생성 및 항목 추가"
      ]
    },
    {
      "metadata": {
        "id": "Wg2vpvFv5xuO",
        "colab_type": "code",
        "colab": {}
      },
      "cell_type": "code",
      "source": [
        "a = [10,20,30,40,50]"
      ],
      "execution_count": 0,
      "outputs": []
    },
    {
      "metadata": {
        "id": "YVNiRjyA7QK8",
        "colab_type": "code",
        "colab": {
          "base_uri": "https://localhost:8080/",
          "height": 53
        },
        "outputId": "83ef5ea9-8068-4525-a391-460d1c3d424c"
      },
      "cell_type": "code",
      "source": [
        "print(\"a[0] == \",a[0],\",a[2] ==\",a[2],\"a[4] ==\",a[4])\n",
        "print(\"a[-1] == \",a[-1],\",a[-2] ==\",a[-2],\"a[-5] ==\",a[-5])"
      ],
      "execution_count": 13,
      "outputs": [
        {
          "output_type": "stream",
          "text": [
            "a[0] ==  10 ,a[2] == 30 a[4] == 50\n",
            "a[-1] ==  50 ,a[-2] == 40 a[-5] == 10\n"
          ],
          "name": "stdout"
        }
      ]
    },
    {
      "metadata": {
        "id": "IYhhml357tl1",
        "colab_type": "code",
        "colab": {}
      },
      "cell_type": "code",
      "source": [
        "b=[10,20,\"Hello\", [True,3.14] ]"
      ],
      "execution_count": 0,
      "outputs": []
    },
    {
      "metadata": {
        "id": "WWD-RXC972gN",
        "colab_type": "code",
        "colab": {
          "base_uri": "https://localhost:8080/",
          "height": 53
        },
        "outputId": "5303b7c3-8984-4f23-ed7b-fcb0f46b5ecf"
      },
      "cell_type": "code",
      "source": [
        "print(\"b[0] == \",b[0],\",b[2] ==\",b[2],\"b[3] ==\",b[3])\n",
        "print(\"b[-1] == \",b[-1],\",b[-2] ==\",b[-2],\"b[-4] ==\",b[-4])"
      ],
      "execution_count": 15,
      "outputs": [
        {
          "output_type": "stream",
          "text": [
            "b[0] ==  10 ,b[2] == Hello b[3] == [True, 3.14]\n",
            "b[-1] ==  [True, 3.14] ,b[-2] == Hello b[-4] == 10\n"
          ],
          "name": "stdout"
        }
      ]
    },
    {
      "metadata": {
        "id": "vzK17klS8QE1",
        "colab_type": "code",
        "colab": {
          "base_uri": "https://localhost:8080/",
          "height": 53
        },
        "outputId": "4b0be8a2-fecd-41d8-feec-1834550d7ddd"
      },
      "cell_type": "code",
      "source": [
        "print(\"b[3][0] == \",b[3][0],\",b[3][1] ==\",b[3][1])\n",
        "print(\"b[-1][-1] == \",b[-1][-1],\",b[-1][-2] ==\",b[-1][-2])"
      ],
      "execution_count": 16,
      "outputs": [
        {
          "output_type": "stream",
          "text": [
            "b[3][0] ==  True ,b[3][1] == 3.14\n",
            "b[-1][-1] ==  3.14 ,b[-1][-2] == True\n"
          ],
          "name": "stdout"
        }
      ]
    },
    {
      "metadata": {
        "id": "Ck5eGfzI9odL",
        "colab_type": "code",
        "colab": {
          "base_uri": "https://localhost:8080/",
          "height": 35
        },
        "outputId": "44836219-4595-47e3-cb14-da370a95ed56"
      },
      "cell_type": "code",
      "source": [
        "print(\"b[-2][-2] == \",b[-2][-2])"
      ],
      "execution_count": 17,
      "outputs": [
        {
          "output_type": "stream",
          "text": [
            "b[-2][-2] ==  l\n"
          ],
          "name": "stdout"
        }
      ]
    },
    {
      "metadata": {
        "id": "jvHWn1lF_JTr",
        "colab_type": "code",
        "colab": {
          "base_uri": "https://localhost:8080/",
          "height": 71
        },
        "outputId": "cf0df750-2cf5-4e23-a86c-b374401cd607"
      },
      "cell_type": "code",
      "source": [
        "print(\"a[0:2] == \",a[0:2],\",a[1:] ==\",a[1:])\n",
        "print(\"a[:3] == \",a[:3],\",a[:-2] ==\",a[:-2])\n",
        "print(\"a[:] == \",a[:])"
      ],
      "execution_count": 19,
      "outputs": [
        {
          "output_type": "stream",
          "text": [
            "a[0:2] ==  [10, 20] ,a[1:] == [20, 30, 40, 50]\n",
            "a[:3] ==  [10, 20, 30] ,a[:-2] == [10, 20, 30]\n",
            "a[:] ==  [10, 20, 30, 40, 50]\n"
          ],
          "name": "stdout"
        }
      ]
    },
    {
      "metadata": {
        "id": "ZppJ7GTRB4Yg",
        "colab_type": "text"
      },
      "cell_type": "markdown",
      "source": [
        "###tuple"
      ]
    },
    {
      "metadata": {
        "id": "Ttnb3dVjCuHQ",
        "colab_type": "code",
        "colab": {}
      },
      "cell_type": "code",
      "source": [
        "a=(10,20,30,40,50)"
      ],
      "execution_count": 0,
      "outputs": []
    },
    {
      "metadata": {
        "id": "sM6t3Ot-_pWC",
        "colab_type": "code",
        "colab": {
          "base_uri": "https://localhost:8080/",
          "height": 53
        },
        "outputId": "c4797f05-d6bd-4ab8-a3a2-a09f1face3f4"
      },
      "cell_type": "code",
      "source": [
        "print(\"a[0] == \",a[0],\",a[-2] ==\",a[-2],\",a[:] ==\",a[:])\n",
        "print(\"a[0:2] == \",a[0:2],\",a[1:] ==\",a[1:])"
      ],
      "execution_count": 24,
      "outputs": [
        {
          "output_type": "stream",
          "text": [
            "a[0] ==  10 ,a[-2] == 40 ,a[:] == (10, 20, 30, 40, 50)\n",
            "a[0:2] ==  (10, 20) ,a[1:] == (20, 30, 40, 50)\n"
          ],
          "name": "stdout"
        }
      ]
    },
    {
      "metadata": {
        "id": "rxjB43HZCP_T",
        "colab_type": "code",
        "colab": {
          "base_uri": "https://localhost:8080/",
          "height": 172
        },
        "outputId": "8de6be78-5fa7-4a11-8c63-d6a2b3d655e5"
      },
      "cell_type": "code",
      "source": [
        "a[0]=100"
      ],
      "execution_count": 25,
      "outputs": [
        {
          "output_type": "error",
          "ename": "TypeError",
          "evalue": "ignored",
          "traceback": [
            "\u001b[0;31m---------------------------------------------------------------------------\u001b[0m",
            "\u001b[0;31mTypeError\u001b[0m                                 Traceback (most recent call last)",
            "\u001b[0;32m<ipython-input-25-f96ffea17930>\u001b[0m in \u001b[0;36m<module>\u001b[0;34m()\u001b[0m\n\u001b[0;32m----> 1\u001b[0;31m \u001b[0ma\u001b[0m\u001b[0;34m[\u001b[0m\u001b[0;36m0\u001b[0m\u001b[0;34m]\u001b[0m\u001b[0;34m=\u001b[0m\u001b[0;36m100\u001b[0m\u001b[0;34m\u001b[0m\u001b[0m\n\u001b[0m",
            "\u001b[0;31mTypeError\u001b[0m: 'tuple' object does not support item assignment"
          ]
        }
      ]
    },
    {
      "metadata": {
        "id": "YH1ea_3eCyeZ",
        "colab_type": "text"
      },
      "cell_type": "markdown",
      "source": [
        "###dictionary"
      ]
    },
    {
      "metadata": {
        "id": "7C7WEhO1CmBG",
        "colab_type": "code",
        "colab": {}
      },
      "cell_type": "code",
      "source": [
        "score ={\"KIM\":90, \"LEE\":85, \"JUN\":95}"
      ],
      "execution_count": 0,
      "outputs": []
    },
    {
      "metadata": {
        "id": "jROatZilDMoO",
        "colab_type": "code",
        "colab": {
          "base_uri": "https://localhost:8080/",
          "height": 35
        },
        "outputId": "d9a9f648-4231-49f9-f0e5-a33c45f5f54d"
      },
      "cell_type": "code",
      "source": [
        "print(\"score['KIM'] ==\",score['KIM'])"
      ],
      "execution_count": 27,
      "outputs": [
        {
          "output_type": "stream",
          "text": [
            "score['KIM'] == 90\n"
          ],
          "name": "stdout"
        }
      ]
    },
    {
      "metadata": {
        "id": "eAyAbuTzDWXl",
        "colab_type": "code",
        "colab": {
          "base_uri": "https://localhost:8080/",
          "height": 35
        },
        "outputId": "70a79000-fb74-4864-daa7-8f4195e1d944"
      },
      "cell_type": "code",
      "source": [
        "score['HAN'] = 100\n",
        "\n",
        "print(score)"
      ],
      "execution_count": 29,
      "outputs": [
        {
          "output_type": "stream",
          "text": [
            "{'KIM': 90, 'LEE': 85, 'JUN': 95, 'HAN': 100}\n"
          ],
          "name": "stdout"
        }
      ]
    },
    {
      "metadata": {
        "id": "gEjKf8zdDaIw",
        "colab_type": "code",
        "colab": {
          "base_uri": "https://localhost:8080/",
          "height": 71
        },
        "outputId": "43015abb-3e47-4e45-c91d-b3471a311173"
      },
      "cell_type": "code",
      "source": [
        "print(\"score key == \",score.keys())\n",
        "print(\"score value == \",score.values())\n",
        "print(\"score items == \",score.items())"
      ],
      "execution_count": 32,
      "outputs": [
        {
          "output_type": "stream",
          "text": [
            "score key ==  dict_keys(['KIM', 'LEE', 'JUN', 'HAN'])\n",
            "score value ==  dict_values([90, 85, 95, 100])\n",
            "score items ==  dict_items([('KIM', 90), ('LEE', 85), ('JUN', 95), ('HAN', 100)])\n"
          ],
          "name": "stdout"
        }
      ]
    },
    {
      "metadata": {
        "id": "e1l8ZjtJDxHG",
        "colab_type": "code",
        "colab": {}
      },
      "cell_type": "code",
      "source": [
        "a = 'A73 , CD'"
      ],
      "execution_count": 0,
      "outputs": []
    },
    {
      "metadata": {
        "id": "Sy9IznFYEmCy",
        "colab_type": "code",
        "colab": {
          "base_uri": "https://localhost:8080/",
          "height": 35
        },
        "outputId": "463b31b0-984f-48d6-9e1d-c9f5feda7bfd"
      },
      "cell_type": "code",
      "source": [
        "a[1]"
      ],
      "execution_count": 41,
      "outputs": [
        {
          "output_type": "execute_result",
          "data": {
            "text/plain": [
              "'7'"
            ]
          },
          "metadata": {
            "tags": []
          },
          "execution_count": 41
        }
      ]
    },
    {
      "metadata": {
        "id": "QBV5PIdAFGSH",
        "colab_type": "code",
        "colab": {
          "base_uri": "https://localhost:8080/",
          "height": 35
        },
        "outputId": "8a03b7d8-1817-4c2d-ac85-5eb7159da917"
      },
      "cell_type": "code",
      "source": [
        "a= a+',EFG'\n",
        "a"
      ],
      "execution_count": 42,
      "outputs": [
        {
          "output_type": "execute_result",
          "data": {
            "text/plain": [
              "'A73 , CD,EFG'"
            ]
          },
          "metadata": {
            "tags": []
          },
          "execution_count": 42
        }
      ]
    },
    {
      "metadata": {
        "id": "LX6CvBxSFK9S",
        "colab_type": "code",
        "colab": {
          "base_uri": "https://localhost:8080/",
          "height": 35
        },
        "outputId": "7f65eb57-71f1-4f4a-a8bf-beabb24c92a7"
      },
      "cell_type": "code",
      "source": [
        "b= a.split(',')\n",
        "print(b)"
      ],
      "execution_count": 43,
      "outputs": [
        {
          "output_type": "stream",
          "text": [
            "['A73 ', ' CD', 'EFG']\n"
          ],
          "name": "stdout"
        }
      ]
    },
    {
      "metadata": {
        "id": "egh_5nd0FS58",
        "colab_type": "code",
        "colab": {
          "base_uri": "https://localhost:8080/",
          "height": 244
        },
        "outputId": "18305836-8601-4f54-95cd-48db25ae4618"
      },
      "cell_type": "code",
      "source": [
        "a = [10,20,30,40,50] #리스트\n",
        "b=(10,20,30,40,50) #튜플\n",
        "c={\"KIM\":90,\"LEE\":80} #딕셔너리\n",
        "d='Seoul, Korea'\n",
        "e=[[100,200],[300,400],[500,600]] #이중 리스트\n",
        "\n",
        "print(type(a),type(b),type(c),type(d),type(e))\n",
        "print(len(a),len(b),len(c),len(d),len(e))\n",
        "print(size(e)) #리스트에서는 size 라는 것을 받아들이지 않음"
      ],
      "execution_count": 47,
      "outputs": [
        {
          "output_type": "stream",
          "text": [
            "<class 'list'> <class 'tuple'> <class 'dict'> <class 'str'> <class 'list'>\n",
            "5 5 2 12 3\n"
          ],
          "name": "stdout"
        },
        {
          "output_type": "error",
          "ename": "NameError",
          "evalue": "ignored",
          "traceback": [
            "\u001b[0;31m---------------------------------------------------------------------------\u001b[0m",
            "\u001b[0;31mNameError\u001b[0m                                 Traceback (most recent call last)",
            "\u001b[0;32m<ipython-input-47-fa7d49efb595>\u001b[0m in \u001b[0;36m<module>\u001b[0;34m()\u001b[0m\n\u001b[1;32m      7\u001b[0m \u001b[0mprint\u001b[0m\u001b[0;34m(\u001b[0m\u001b[0mtype\u001b[0m\u001b[0;34m(\u001b[0m\u001b[0ma\u001b[0m\u001b[0;34m)\u001b[0m\u001b[0;34m,\u001b[0m\u001b[0mtype\u001b[0m\u001b[0;34m(\u001b[0m\u001b[0mb\u001b[0m\u001b[0;34m)\u001b[0m\u001b[0;34m,\u001b[0m\u001b[0mtype\u001b[0m\u001b[0;34m(\u001b[0m\u001b[0mc\u001b[0m\u001b[0;34m)\u001b[0m\u001b[0;34m,\u001b[0m\u001b[0mtype\u001b[0m\u001b[0;34m(\u001b[0m\u001b[0md\u001b[0m\u001b[0;34m)\u001b[0m\u001b[0;34m,\u001b[0m\u001b[0mtype\u001b[0m\u001b[0;34m(\u001b[0m\u001b[0me\u001b[0m\u001b[0;34m)\u001b[0m\u001b[0;34m)\u001b[0m\u001b[0;34m\u001b[0m\u001b[0m\n\u001b[1;32m      8\u001b[0m \u001b[0mprint\u001b[0m\u001b[0;34m(\u001b[0m\u001b[0mlen\u001b[0m\u001b[0;34m(\u001b[0m\u001b[0ma\u001b[0m\u001b[0;34m)\u001b[0m\u001b[0;34m,\u001b[0m\u001b[0mlen\u001b[0m\u001b[0;34m(\u001b[0m\u001b[0mb\u001b[0m\u001b[0;34m)\u001b[0m\u001b[0;34m,\u001b[0m\u001b[0mlen\u001b[0m\u001b[0;34m(\u001b[0m\u001b[0mc\u001b[0m\u001b[0;34m)\u001b[0m\u001b[0;34m,\u001b[0m\u001b[0mlen\u001b[0m\u001b[0;34m(\u001b[0m\u001b[0md\u001b[0m\u001b[0;34m)\u001b[0m\u001b[0;34m,\u001b[0m\u001b[0mlen\u001b[0m\u001b[0;34m(\u001b[0m\u001b[0me\u001b[0m\u001b[0;34m)\u001b[0m\u001b[0;34m)\u001b[0m\u001b[0;34m\u001b[0m\u001b[0m\n\u001b[0;32m----> 9\u001b[0;31m \u001b[0mprint\u001b[0m\u001b[0;34m(\u001b[0m\u001b[0msize\u001b[0m\u001b[0;34m(\u001b[0m\u001b[0me\u001b[0m\u001b[0;34m)\u001b[0m\u001b[0;34m)\u001b[0m \u001b[0;31m#리스트에서는 size 라는 것을 받아들이지 않음\u001b[0m\u001b[0;34m\u001b[0m\u001b[0m\n\u001b[0m",
            "\u001b[0;31mNameError\u001b[0m: name 'size' is not defined"
          ]
        }
      ]
    },
    {
      "metadata": {
        "id": "jVULMwjFG-gH",
        "colab_type": "code",
        "colab": {
          "base_uri": "https://localhost:8080/",
          "height": 35
        },
        "outputId": "2711680e-e955-4f5f-ec4c-8e5b29dcb36b"
      },
      "cell_type": "code",
      "source": [
        "a = 'Hello'\n",
        "b = {\"KIM\":90,\"LEE\":80}\n",
        "print(list(a),list(b.keys()),list(b.values()),list(b.items()))"
      ],
      "execution_count": 48,
      "outputs": [
        {
          "output_type": "stream",
          "text": [
            "['H', 'e', 'l', 'l', 'o'] ['KIM', 'LEE'] [90, 80] [('KIM', 90), ('LEE', 80)]\n"
          ],
          "name": "stdout"
        }
      ]
    },
    {
      "metadata": {
        "id": "9nanuOpcIAhH",
        "colab_type": "code",
        "colab": {
          "base_uri": "https://localhost:8080/",
          "height": 35
        },
        "outputId": "1f557966-605c-41e9-86f5-1067211513f2"
      },
      "cell_type": "code",
      "source": [
        "str(3.14)"
      ],
      "execution_count": 49,
      "outputs": [
        {
          "output_type": "execute_result",
          "data": {
            "text/plain": [
              "'3.14'"
            ]
          },
          "metadata": {
            "tags": []
          },
          "execution_count": 49
        }
      ]
    },
    {
      "metadata": {
        "id": "O3uMlTUxId_t",
        "colab_type": "code",
        "colab": {
          "base_uri": "https://localhost:8080/",
          "height": 35
        },
        "outputId": "7aacf925-e2e3-4185-cd08-0fb27254e5e8"
      },
      "cell_type": "code",
      "source": [
        "str('100')"
      ],
      "execution_count": 51,
      "outputs": [
        {
          "output_type": "execute_result",
          "data": {
            "text/plain": [
              "'100'"
            ]
          },
          "metadata": {
            "tags": []
          },
          "execution_count": 51
        }
      ]
    },
    {
      "metadata": {
        "id": "gORaEt52IfdF",
        "colab_type": "code",
        "colab": {
          "base_uri": "https://localhost:8080/",
          "height": 35
        },
        "outputId": "b5dd1f22-5697-4f4d-e7ba-726c229c6355"
      },
      "cell_type": "code",
      "source": [
        "str([1,2,3])"
      ],
      "execution_count": 52,
      "outputs": [
        {
          "output_type": "execute_result",
          "data": {
            "text/plain": [
              "'[1, 2, 3]'"
            ]
          },
          "metadata": {
            "tags": []
          },
          "execution_count": 52
        }
      ]
    },
    {
      "metadata": {
        "id": "9dW-bBavIjna",
        "colab_type": "code",
        "colab": {
          "base_uri": "https://localhost:8080/",
          "height": 35
        },
        "outputId": "56b6c839-61aa-4b36-bd3b-7639e1eb69cf"
      },
      "cell_type": "code",
      "source": [
        "int('100')"
      ],
      "execution_count": 53,
      "outputs": [
        {
          "output_type": "execute_result",
          "data": {
            "text/plain": [
              "100"
            ]
          },
          "metadata": {
            "tags": []
          },
          "execution_count": 53
        }
      ]
    },
    {
      "metadata": {
        "id": "HmA4RVlPIlKY",
        "colab_type": "code",
        "colab": {
          "base_uri": "https://localhost:8080/",
          "height": 35
        },
        "outputId": "f44308c0-ae7a-41e6-f170-1ec867675ddb"
      },
      "cell_type": "code",
      "source": [
        "int(3.14)"
      ],
      "execution_count": 55,
      "outputs": [
        {
          "output_type": "execute_result",
          "data": {
            "text/plain": [
              "3"
            ]
          },
          "metadata": {
            "tags": []
          },
          "execution_count": 55
        }
      ]
    },
    {
      "metadata": {
        "id": "cAf9V_O6Imkv",
        "colab_type": "code",
        "colab": {}
      },
      "cell_type": "code",
      "source": [
        ""
      ],
      "execution_count": 0,
      "outputs": []
    }
  ]
}