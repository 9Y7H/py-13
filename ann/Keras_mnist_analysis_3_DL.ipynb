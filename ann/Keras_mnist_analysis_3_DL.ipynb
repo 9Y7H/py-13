{
  "nbformat": 4,
  "nbformat_minor": 0,
  "metadata": {
    "colab": {
      "name": "Keras_mnist_analysis_3_DL",
      "version": "0.3.2",
      "provenance": [],
      "collapsed_sections": [],
      "include_colab_link": true
    },
    "kernelspec": {
      "name": "python3",
      "display_name": "Python 3"
    },
    "accelerator": "GPU"
  },
  "cells": [
    {
      "cell_type": "markdown",
      "metadata": {
        "id": "view-in-github",
        "colab_type": "text"
      },
      "source": [
        "<a href=\"https://colab.research.google.com/github/9Y7H/py-13/blob/master/ann/Keras_mnist_analysis_3_DL.ipynb\" target=\"_parent\"><img src=\"https://colab.research.google.com/assets/colab-badge.svg\" alt=\"Open In Colab\"/></a>"
      ]
    },
    {
      "metadata": {
        "colab_type": "text",
        "id": "gq81W1V3PkOY"
      },
      "cell_type": "markdown",
      "source": [
        "## Keras example: mnist analysis by DL (CV2D)\n",
        "\n",
        "- Keras was designed to easily use the famous deep-learning frameworks; tensorflow, tenano. \n",
        "- Keras provides an easy and convenient way to build deep learning models.\n",
        "\n",
        "    - Keras is an open source python library that enables you to easily build Deep Neural Networks. \n",
        "    - The library is capable of running on top of TensorFlow, Theano, Microsoft Cognitive Toolkit, and MXNet. \n",
        "    - Tensorflow and Theano are the most used numerical platforms in Python to build Deep Learning algorithms but they can be quite complex and difficult to use.\n",
        "    \n",
        "[Goood Intro to Keras](https://towardsdatascience.com/how-to-build-a-neural-network-with-keras-e8faa33d0ae4)"
      ]
    },
    {
      "metadata": {
        "id": "Nuc6dPLG-l54",
        "colab_type": "code",
        "colab": {}
      },
      "cell_type": "code",
      "source": [
        "# import numpy as np\n",
        "# from keras.utils import to_categorical\n",
        "# from keras import models\n",
        "# from keras import layers"
      ],
      "execution_count": 0,
      "outputs": []
    },
    {
      "metadata": {
        "colab_type": "code",
        "id": "0uzM3qr9PkOZ",
        "outputId": "676a5bd8-ae90-4c22-f792-960fd216b76f",
        "colab": {
          "base_uri": "https://localhost:8080/",
          "height": 107
        }
      },
      "cell_type": "code",
      "source": [
        "%%time\n",
        "from keras.datasets import mnist\n",
        "(X_train0, y_train0), (X_test0, y_test0) = mnist.load_data()"
      ],
      "execution_count": 2,
      "outputs": [
        {
          "output_type": "stream",
          "text": [
            "Using TensorFlow backend.\n"
          ],
          "name": "stderr"
        },
        {
          "output_type": "stream",
          "text": [
            "Downloading data from https://s3.amazonaws.com/img-datasets/mnist.npz\n",
            "11493376/11490434 [==============================] - 8s 1us/step\n",
            "CPU times: user 1.39 s, sys: 260 ms, total: 1.65 s\n",
            "Wall time: 10.1 s\n"
          ],
          "name": "stdout"
        }
      ]
    },
    {
      "metadata": {
        "colab_type": "code",
        "id": "9QeSX-ynPkOi",
        "outputId": "35e00821-1501-43dc-9cf1-a8c66a907010",
        "colab": {
          "base_uri": "https://localhost:8080/",
          "height": 89
        }
      },
      "cell_type": "code",
      "source": [
        "print(X_train0.shape, X_train0.dtype)\n",
        "print(y_train0.shape, y_train0.dtype)\n",
        "print(X_test0.shape, X_test0.dtype)\n",
        "print(y_test0.shape, y_test0.dtype)"
      ],
      "execution_count": 3,
      "outputs": [
        {
          "output_type": "stream",
          "text": [
            "(60000, 28, 28) uint8\n",
            "(60000,) uint8\n",
            "(10000, 28, 28) uint8\n",
            "(10000,) uint8\n"
          ],
          "name": "stdout"
        }
      ]
    },
    {
      "metadata": {
        "colab_type": "code",
        "id": "Bj9o_J40PkOo",
        "colab": {}
      },
      "cell_type": "code",
      "source": [
        "import matplotlib.pyplot as plt\n",
        "import matplotlib as mpl\n",
        "%matplotlib inline"
      ],
      "execution_count": 0,
      "outputs": []
    },
    {
      "metadata": {
        "id": "b0rDNTjI-1iU",
        "colab_type": "code",
        "outputId": "8d681cba-b508-407c-df9b-87bf8263994c",
        "colab": {
          "base_uri": "https://localhost:8080/",
          "height": 1529
        }
      },
      "cell_type": "code",
      "source": [
        "X_train0[0]  # 0 =< value =< 255"
      ],
      "execution_count": 5,
      "outputs": [
        {
          "output_type": "execute_result",
          "data": {
            "text/plain": [
              "array([[  0,   0,   0,   0,   0,   0,   0,   0,   0,   0,   0,   0,   0,\n",
              "          0,   0,   0,   0,   0,   0,   0,   0,   0,   0,   0,   0,   0,\n",
              "          0,   0],\n",
              "       [  0,   0,   0,   0,   0,   0,   0,   0,   0,   0,   0,   0,   0,\n",
              "          0,   0,   0,   0,   0,   0,   0,   0,   0,   0,   0,   0,   0,\n",
              "          0,   0],\n",
              "       [  0,   0,   0,   0,   0,   0,   0,   0,   0,   0,   0,   0,   0,\n",
              "          0,   0,   0,   0,   0,   0,   0,   0,   0,   0,   0,   0,   0,\n",
              "          0,   0],\n",
              "       [  0,   0,   0,   0,   0,   0,   0,   0,   0,   0,   0,   0,   0,\n",
              "          0,   0,   0,   0,   0,   0,   0,   0,   0,   0,   0,   0,   0,\n",
              "          0,   0],\n",
              "       [  0,   0,   0,   0,   0,   0,   0,   0,   0,   0,   0,   0,   0,\n",
              "          0,   0,   0,   0,   0,   0,   0,   0,   0,   0,   0,   0,   0,\n",
              "          0,   0],\n",
              "       [  0,   0,   0,   0,   0,   0,   0,   0,   0,   0,   0,   0,   3,\n",
              "         18,  18,  18, 126, 136, 175,  26, 166, 255, 247, 127,   0,   0,\n",
              "          0,   0],\n",
              "       [  0,   0,   0,   0,   0,   0,   0,   0,  30,  36,  94, 154, 170,\n",
              "        253, 253, 253, 253, 253, 225, 172, 253, 242, 195,  64,   0,   0,\n",
              "          0,   0],\n",
              "       [  0,   0,   0,   0,   0,   0,   0,  49, 238, 253, 253, 253, 253,\n",
              "        253, 253, 253, 253, 251,  93,  82,  82,  56,  39,   0,   0,   0,\n",
              "          0,   0],\n",
              "       [  0,   0,   0,   0,   0,   0,   0,  18, 219, 253, 253, 253, 253,\n",
              "        253, 198, 182, 247, 241,   0,   0,   0,   0,   0,   0,   0,   0,\n",
              "          0,   0],\n",
              "       [  0,   0,   0,   0,   0,   0,   0,   0,  80, 156, 107, 253, 253,\n",
              "        205,  11,   0,  43, 154,   0,   0,   0,   0,   0,   0,   0,   0,\n",
              "          0,   0],\n",
              "       [  0,   0,   0,   0,   0,   0,   0,   0,   0,  14,   1, 154, 253,\n",
              "         90,   0,   0,   0,   0,   0,   0,   0,   0,   0,   0,   0,   0,\n",
              "          0,   0],\n",
              "       [  0,   0,   0,   0,   0,   0,   0,   0,   0,   0,   0, 139, 253,\n",
              "        190,   2,   0,   0,   0,   0,   0,   0,   0,   0,   0,   0,   0,\n",
              "          0,   0],\n",
              "       [  0,   0,   0,   0,   0,   0,   0,   0,   0,   0,   0,  11, 190,\n",
              "        253,  70,   0,   0,   0,   0,   0,   0,   0,   0,   0,   0,   0,\n",
              "          0,   0],\n",
              "       [  0,   0,   0,   0,   0,   0,   0,   0,   0,   0,   0,   0,  35,\n",
              "        241, 225, 160, 108,   1,   0,   0,   0,   0,   0,   0,   0,   0,\n",
              "          0,   0],\n",
              "       [  0,   0,   0,   0,   0,   0,   0,   0,   0,   0,   0,   0,   0,\n",
              "         81, 240, 253, 253, 119,  25,   0,   0,   0,   0,   0,   0,   0,\n",
              "          0,   0],\n",
              "       [  0,   0,   0,   0,   0,   0,   0,   0,   0,   0,   0,   0,   0,\n",
              "          0,  45, 186, 253, 253, 150,  27,   0,   0,   0,   0,   0,   0,\n",
              "          0,   0],\n",
              "       [  0,   0,   0,   0,   0,   0,   0,   0,   0,   0,   0,   0,   0,\n",
              "          0,   0,  16,  93, 252, 253, 187,   0,   0,   0,   0,   0,   0,\n",
              "          0,   0],\n",
              "       [  0,   0,   0,   0,   0,   0,   0,   0,   0,   0,   0,   0,   0,\n",
              "          0,   0,   0,   0, 249, 253, 249,  64,   0,   0,   0,   0,   0,\n",
              "          0,   0],\n",
              "       [  0,   0,   0,   0,   0,   0,   0,   0,   0,   0,   0,   0,   0,\n",
              "          0,  46, 130, 183, 253, 253, 207,   2,   0,   0,   0,   0,   0,\n",
              "          0,   0],\n",
              "       [  0,   0,   0,   0,   0,   0,   0,   0,   0,   0,   0,   0,  39,\n",
              "        148, 229, 253, 253, 253, 250, 182,   0,   0,   0,   0,   0,   0,\n",
              "          0,   0],\n",
              "       [  0,   0,   0,   0,   0,   0,   0,   0,   0,   0,  24, 114, 221,\n",
              "        253, 253, 253, 253, 201,  78,   0,   0,   0,   0,   0,   0,   0,\n",
              "          0,   0],\n",
              "       [  0,   0,   0,   0,   0,   0,   0,   0,  23,  66, 213, 253, 253,\n",
              "        253, 253, 198,  81,   2,   0,   0,   0,   0,   0,   0,   0,   0,\n",
              "          0,   0],\n",
              "       [  0,   0,   0,   0,   0,   0,  18, 171, 219, 253, 253, 253, 253,\n",
              "        195,  80,   9,   0,   0,   0,   0,   0,   0,   0,   0,   0,   0,\n",
              "          0,   0],\n",
              "       [  0,   0,   0,   0,  55, 172, 226, 253, 253, 253, 253, 244, 133,\n",
              "         11,   0,   0,   0,   0,   0,   0,   0,   0,   0,   0,   0,   0,\n",
              "          0,   0],\n",
              "       [  0,   0,   0,   0, 136, 253, 253, 253, 212, 135, 132,  16,   0,\n",
              "          0,   0,   0,   0,   0,   0,   0,   0,   0,   0,   0,   0,   0,\n",
              "          0,   0],\n",
              "       [  0,   0,   0,   0,   0,   0,   0,   0,   0,   0,   0,   0,   0,\n",
              "          0,   0,   0,   0,   0,   0,   0,   0,   0,   0,   0,   0,   0,\n",
              "          0,   0],\n",
              "       [  0,   0,   0,   0,   0,   0,   0,   0,   0,   0,   0,   0,   0,\n",
              "          0,   0,   0,   0,   0,   0,   0,   0,   0,   0,   0,   0,   0,\n",
              "          0,   0],\n",
              "       [  0,   0,   0,   0,   0,   0,   0,   0,   0,   0,   0,   0,   0,\n",
              "          0,   0,   0,   0,   0,   0,   0,   0,   0,   0,   0,   0,   0,\n",
              "          0,   0]], dtype=uint8)"
            ]
          },
          "metadata": {
            "tags": []
          },
          "execution_count": 5
        }
      ]
    },
    {
      "metadata": {
        "id": "QRYDLgyX-9Q9",
        "colab_type": "code",
        "outputId": "3c97dae3-448d-47e8-ad92-355ac1ee9cd9",
        "colab": {
          "base_uri": "https://localhost:8080/",
          "height": 35
        }
      },
      "cell_type": "code",
      "source": [
        "y_train0[0]"
      ],
      "execution_count": 6,
      "outputs": [
        {
          "output_type": "execute_result",
          "data": {
            "text/plain": [
              "5"
            ]
          },
          "metadata": {
            "tags": []
          },
          "execution_count": 6
        }
      ]
    },
    {
      "metadata": {
        "colab_type": "code",
        "id": "G1go9IU4PkOs",
        "outputId": "c97c7ef4-e115-4455-a628-841def8d0fca",
        "colab": {
          "base_uri": "https://localhost:8080/",
          "height": 140
        }
      },
      "cell_type": "code",
      "source": [
        "# Plot X_train0[0]\n",
        "plt.figure(figsize=(2, 2))\n",
        "plt.imshow(X_train0[0], cmap=mpl.cm.bone_r)  # colormap\n",
        "plt.grid(False)\n",
        "plt.xticks([])\n",
        "plt.yticks([])\n",
        "plt.show()"
      ],
      "execution_count": 7,
      "outputs": [
        {
          "output_type": "display_data",
          "data": {
            "image/png": "[encoded data removed]",
            "text/plain": [
              "<matplotlib.figure.Figure at 0x7f2bd930d1d0>"
            ]
          },
          "metadata": {
            "tags": []
          }
        }
      ]
    },
    {
      "metadata": {
        "colab_type": "text",
        "id": "pU6e7TCgPkOx"
      },
      "cell_type": "markdown",
      "source": [
        "### Show images of numbers"
      ]
    },
    {
      "metadata": {
        "colab_type": "code",
        "id": "vjFhCPAZPkOy",
        "colab": {}
      },
      "cell_type": "code",
      "source": [
        "# 추가 사항\n",
        "import numpy as np\n",
        "# import matplotlib as mpl\n",
        "def plot_digits(instances, images_per_row=10, **options):\n",
        "    size = 28\n",
        "    images_per_row = min(len(instances), images_per_row)\n",
        "    images = [instance.reshape(size,size) for instance in instances]\n",
        "    n_rows = (len(instances) - 1) // images_per_row + 1\n",
        "    row_images = []\n",
        "    n_empty = n_rows * images_per_row - len(instances)\n",
        "    images.append(np.zeros((size, size * n_empty)))\n",
        "    for row in range(n_rows):\n",
        "        rimages = images[row * images_per_row : (row + 1) * images_per_row]\n",
        "        row_images.append(np.concatenate(rimages, axis=1))\n",
        "    image = np.concatenate(row_images, axis=0)\n",
        "    plt.imshow(image, cmap = mpl.cm.binary, **options)\n",
        "    plt.axis(\"off\")"
      ],
      "execution_count": 0,
      "outputs": []
    },
    {
      "metadata": {
        "colab_type": "code",
        "id": "wHX6-gGpPkO2",
        "outputId": "38313213-e60e-4247-d75f-e8ca525e0922",
        "colab": {
          "base_uri": "https://localhost:8080/",
          "height": 302
        }
      },
      "cell_type": "code",
      "source": [
        "plt.figure(figsize=(9,9))\n",
        "example_images = np.r_[X_train0[:50]]\n",
        "plot_digits(example_images, images_per_row=10)\n",
        "\n",
        "plt.show()"
      ],
      "execution_count": 9,
      "outputs": [
        {
          "output_type": "display_data",
          "data": {
            "image/png": "[encoded data removed]",
            "text/plain": [
              "<matplotlib.figure.Figure at 0x7f2bd65fa898>"
            ]
          },
          "metadata": {
            "tags": []
          }
        }
      ]
    },
    {
      "metadata": {
        "colab_type": "text",
        "id": "DMWvytSlPkO7"
      },
      "cell_type": "markdown",
      "source": [
        "### 데이터를 float 타입으로 바꾸고 스케일링한다. (GPU powered!)"
      ]
    },
    {
      "metadata": {
        "colab_type": "code",
        "id": "WyTcH3aDPkO8",
        "outputId": "8979f894-ee95-47ad-827c-6f291c16a0e9",
        "colab": {
          "base_uri": "https://localhost:8080/",
          "height": 35
        }
      },
      "cell_type": "code",
      "source": [
        "X_train = X_train0.reshape(60000, 28, 28, 1).astype('float32') / 255.0\n",
        "X_test = X_test0.reshape(10000, 28, 28, 1).astype('float32') / 255.0\n",
        "print(X_train.shape, X_train.dtype)\n",
        "\n",
        "# 데이터의 구조가 simple NN과는 다름을 확인하시오. (784 -> (28,28))"
      ],
      "execution_count": 10,
      "outputs": [
        {
          "output_type": "stream",
          "text": [
            "(60000, 28, 28, 1) float32\n"
          ],
          "name": "stdout"
        }
      ]
    },
    {
      "metadata": {
        "colab_type": "text",
        "id": "oibwpCXCPkPC"
      },
      "cell_type": "markdown",
      "source": [
        "### y 데이터는 One-Hot-Encoding 을 한다. (Probabilistic labeling)"
      ]
    },
    {
      "metadata": {
        "colab_type": "code",
        "id": "p4Q3HTYCPkPD",
        "outputId": "9e60096c-9a5b-4b6f-c55a-92218514e767",
        "colab": {
          "base_uri": "https://localhost:8080/",
          "height": 35
        }
      },
      "cell_type": "code",
      "source": [
        "y_train0[:5]  # first 5 labels"
      ],
      "execution_count": 11,
      "outputs": [
        {
          "output_type": "execute_result",
          "data": {
            "text/plain": [
              "array([5, 0, 4, 1, 9], dtype=uint8)"
            ]
          },
          "metadata": {
            "tags": []
          },
          "execution_count": 11
        }
      ]
    },
    {
      "metadata": {
        "colab_type": "code",
        "id": "8cUjXZRhPkPI",
        "outputId": "92d340db-4cac-4b32-ac0f-3bddc87ed170",
        "colab": {
          "base_uri": "https://localhost:8080/",
          "height": 107
        }
      },
      "cell_type": "code",
      "source": [
        "# to_categorical()\n",
        "from keras.utils import np_utils\n",
        "\n",
        "y_train = np_utils.to_categorical(y_train0, 10)\n",
        "y_test = np_utils.to_categorical(y_test0, 10)\n",
        "y_train[:5]  # Probabilistic labeling #인덱스 6번째가 '5'"
      ],
      "execution_count": 13,
      "outputs": [
        {
          "output_type": "execute_result",
          "data": {
            "text/plain": [
              "array([[0., 0., 0., 0., 0., 1., 0., 0., 0., 0.],\n",
              "       [1., 0., 0., 0., 0., 0., 0., 0., 0., 0.],\n",
              "       [0., 0., 0., 0., 1., 0., 0., 0., 0., 0.],\n",
              "       [0., 1., 0., 0., 0., 0., 0., 0., 0., 0.],\n",
              "       [0., 0., 0., 0., 0., 0., 0., 0., 0., 1.]], dtype=float32)"
            ]
          },
          "metadata": {
            "tags": []
          },
          "execution_count": 13
        }
      ]
    },
    {
      "metadata": {
        "colab_type": "text",
        "id": "9yfmlb0IPkPR"
      },
      "cell_type": "markdown",
      "source": [
        "***"
      ]
    },
    {
      "metadata": {
        "id": "_jieTyIRkHpv",
        "colab_type": "code",
        "colab": {
          "base_uri": "https://localhost:8080/",
          "height": 2267
        },
        "outputId": "fa714d95-eebd-47b0-fe43-1537a110de88"
      },
      "cell_type": "code",
      "source": [
        "# https://pypi.python.org/pypi/pydot\n",
        "!apt-get -qq install -y graphviz && pip install -q pydot\n",
        "import pydot"
      ],
      "execution_count": 14,
      "outputs": [
        {
          "output_type": "stream",
          "text": [
            "Selecting previously unselected package fontconfig.\n",
            "(Reading database ... \r(Reading database ... 5%\r(Reading database ... 10%\r(Reading database ... 15%\r(Reading database ... 20%\r(Reading database ... 25%\r(Reading database ... 30%\r(Reading database ... 35%\r(Reading database ... 40%\r(Reading database ... 45%\r(Reading database ... 50%\r(Reading database ... 55%\r(Reading database ... 60%\r(Reading database ... 65%\r(Reading database ... 70%\r(Reading database ... 75%\r(Reading database ... 80%\r(Reading database ... 85%\r(Reading database ... 90%\r(Reading database ... 95%\r(Reading database ... 100%\r(Reading database ... 26397 files and directories currently installed.)\n",
            "Preparing to unpack .../00-fontconfig_2.12.6-0ubuntu2_amd64.deb ...\n",
            "Unpacking fontconfig (2.12.6-0ubuntu2) ...\n",
            "Selecting previously unselected package libann0.\n",
            "Preparing to unpack .../01-libann0_1.1.2+doc-6_amd64.deb ...\n",
            "Unpacking libann0 (1.1.2+doc-6) ...\n",
            "Selecting previously unselected package libcdt5.\n",
            "Preparing to unpack .../02-libcdt5_2.40.1-2_amd64.deb ...\n",
            "Unpacking libcdt5 (2.40.1-2) ...\n",
            "Selecting previously unselected package libcgraph6.\n",
            "Preparing to unpack .../03-libcgraph6_2.40.1-2_amd64.deb ...\n",
            "Unpacking libcgraph6 (2.40.1-2) ...\n",
            "Selecting previously unselected package libjbig0:amd64.\n",
            "Preparing to unpack .../04-libjbig0_2.1-3.1build1_amd64.deb ...\n",
            "Unpacking libjbig0:amd64 (2.1-3.1build1) ...\n",
            "Selecting previously unselected package libtiff5:amd64.\n",
            "Preparing to unpack .../05-libtiff5_4.0.9-5_amd64.deb ...\n",
            "Unpacking libtiff5:amd64 (4.0.9-5) ...\n",
            "Selecting previously unselected package libwebp6:amd64.\n",
            "Preparing to unpack .../06-libwebp6_0.6.1-2_amd64.deb ...\n",
            "Unpacking libwebp6:amd64 (0.6.1-2) ...\n",
            "Selecting previously unselected package libxpm4:amd64.\n",
            "Preparing to unpack .../07-libxpm4_1%3a3.5.12-1_amd64.deb ...\n",
            "Unpacking libxpm4:amd64 (1:3.5.12-1) ...\n",
            "Selecting previously unselected package libgd3:amd64.\n",
            "Preparing to unpack .../08-libgd3_2.2.5-4ubuntu0.2_amd64.deb ...\n",
            "Unpacking libgd3:amd64 (2.2.5-4ubuntu0.2) ...\n",
            "Selecting previously unselected package libgts-0.7-5:amd64.\n",
            "Preparing to unpack .../09-libgts-0.7-5_0.7.6+darcs121130-4_amd64.deb ...\n",
            "Unpacking libgts-0.7-5:amd64 (0.7.6+darcs121130-4) ...\n",
            "Selecting previously unselected package libpixman-1-0:amd64.\n",
            "Preparing to unpack .../10-libpixman-1-0_0.34.0-2_amd64.deb ...\n",
            "Unpacking libpixman-1-0:amd64 (0.34.0-2) ...\n",
            "Selecting previously unselected package libxcb-render0:amd64.\n",
            "Preparing to unpack .../11-libxcb-render0_1.13-1_amd64.deb ...\n",
            "Unpacking libxcb-render0:amd64 (1.13-1) ...\n",
            "Selecting previously unselected package libxcb-shm0:amd64.\n",
            "Preparing to unpack .../12-libxcb-shm0_1.13-1_amd64.deb ...\n",
            "Unpacking libxcb-shm0:amd64 (1.13-1) ...\n",
            "Selecting previously unselected package libcairo2:amd64.\n",
            "Preparing to unpack .../13-libcairo2_1.15.10-2_amd64.deb ...\n",
            "Unpacking libcairo2:amd64 (1.15.10-2) ...\n",
            "Selecting previously unselected package libltdl7:amd64.\n",
            "Preparing to unpack .../14-libltdl7_2.4.6-2_amd64.deb ...\n",
            "Unpacking libltdl7:amd64 (2.4.6-2) ...\n",
            "Selecting previously unselected package libthai-data.\n",
            "Preparing to unpack .../15-libthai-data_0.1.27-2_all.deb ...\n",
            "Unpacking libthai-data (0.1.27-2) ...\n",
            "Selecting previously unselected package libdatrie1:amd64.\n",
            "Preparing to unpack .../16-libdatrie1_0.2.10-7_amd64.deb ...\n",
            "Unpacking libdatrie1:amd64 (0.2.10-7) ...\n",
            "Selecting previously unselected package libthai0:amd64.\n",
            "Preparing to unpack .../17-libthai0_0.1.27-2_amd64.deb ...\n",
            "Unpacking libthai0:amd64 (0.1.27-2) ...\n",
            "Selecting previously unselected package libpango-1.0-0:amd64.\n",
            "Preparing to unpack .../18-libpango-1.0-0_1.40.14-1ubuntu0.1_amd64.deb ...\n",
            "Unpacking libpango-1.0-0:amd64 (1.40.14-1ubuntu0.1) ...\n",
            "Selecting previously unselected package libpangoft2-1.0-0:amd64.\n",
            "Preparing to unpack .../19-libpangoft2-1.0-0_1.40.14-1ubuntu0.1_amd64.deb ...\n",
            "Unpacking libpangoft2-1.0-0:amd64 (1.40.14-1ubuntu0.1) ...\n",
            "Selecting previously unselected package libpangocairo-1.0-0:amd64.\n",
            "Preparing to unpack .../20-libpangocairo-1.0-0_1.40.14-1ubuntu0.1_amd64.deb ...\n",
            "Unpacking libpangocairo-1.0-0:amd64 (1.40.14-1ubuntu0.1) ...\n",
            "Selecting previously unselected package libpathplan4.\n",
            "Preparing to unpack .../21-libpathplan4_2.40.1-2_amd64.deb ...\n",
            "Unpacking libpathplan4 (2.40.1-2) ...\n",
            "Selecting previously unselected package libgvc6.\n",
            "Preparing to unpack .../22-libgvc6_2.40.1-2_amd64.deb ...\n",
            "Unpacking libgvc6 (2.40.1-2) ...\n",
            "Selecting previously unselected package libgvpr2.\n",
            "Preparing to unpack .../23-libgvpr2_2.40.1-2_amd64.deb ...\n",
            "Unpacking libgvpr2 (2.40.1-2) ...\n",
            "Selecting previously unselected package liblab-gamut1.\n",
            "Preparing to unpack .../24-liblab-gamut1_2.40.1-2_amd64.deb ...\n",
            "Unpacking liblab-gamut1 (2.40.1-2) ...\n",
            "Selecting previously unselected package libxt6:amd64.\n",
            "Preparing to unpack .../25-libxt6_1%3a1.1.5-1_amd64.deb ...\n",
            "Unpacking libxt6:amd64 (1:1.1.5-1) ...\n",
            "Selecting previously unselected package libxmu6:amd64.\n",
            "Preparing to unpack .../26-libxmu6_2%3a1.1.2-2_amd64.deb ...\n",
            "Unpacking libxmu6:amd64 (2:1.1.2-2) ...\n",
            "Selecting previously unselected package libxaw7:amd64.\n",
            "Preparing to unpack .../27-libxaw7_2%3a1.0.13-1_amd64.deb ...\n",
            "Unpacking libxaw7:amd64 (2:1.0.13-1) ...\n",
            "Selecting previously unselected package graphviz.\n",
            "Preparing to unpack .../28-graphviz_2.40.1-2_amd64.deb ...\n",
            "Unpacking graphviz (2.40.1-2) ...\n",
            "Selecting previously unselected package libgts-bin.\n",
            "Preparing to unpack .../29-libgts-bin_0.7.6+darcs121130-4_amd64.deb ...\n",
            "Unpacking libgts-bin (0.7.6+darcs121130-4) ...\n",
            "Setting up libgts-0.7-5:amd64 (0.7.6+darcs121130-4) ...\n",
            "Setting up libpathplan4 (2.40.1-2) ...\n",
            "Setting up liblab-gamut1 (2.40.1-2) ...\n",
            "Setting up libxcb-render0:amd64 (1.13-1) ...\n",
            "Setting up libjbig0:amd64 (2.1-3.1build1) ...\n",
            "Setting up libdatrie1:amd64 (0.2.10-7) ...\n",
            "Setting up libtiff5:amd64 (4.0.9-5) ...\n",
            "Setting up libpixman-1-0:amd64 (0.34.0-2) ...\n",
            "Processing triggers for libc-bin (2.27-3ubuntu1) ...\n",
            "Setting up libltdl7:amd64 (2.4.6-2) ...\n",
            "Setting up libann0 (1.1.2+doc-6) ...\n",
            "Setting up libxcb-shm0:amd64 (1.13-1) ...\n",
            "Setting up libxpm4:amd64 (1:3.5.12-1) ...\n",
            "Setting up libxt6:amd64 (1:1.1.5-1) ...\n",
            "Processing triggers for man-db (2.8.3-2ubuntu0.1) ...\n",
            "Setting up libgts-bin (0.7.6+darcs121130-4) ...\n",
            "Setting up libthai-data (0.1.27-2) ...\n",
            "Setting up libcdt5 (2.40.1-2) ...\n",
            "Setting up fontconfig (2.12.6-0ubuntu2) ...\n",
            "Regenerating fonts cache... done.\n",
            "Setting up libcgraph6 (2.40.1-2) ...\n",
            "Setting up libwebp6:amd64 (0.6.1-2) ...\n",
            "Setting up libcairo2:amd64 (1.15.10-2) ...\n",
            "Setting up libgvpr2 (2.40.1-2) ...\n",
            "Setting up libgd3:amd64 (2.2.5-4ubuntu0.2) ...\n",
            "Setting up libthai0:amd64 (0.1.27-2) ...\n",
            "Setting up libxmu6:amd64 (2:1.1.2-2) ...\n",
            "Setting up libpango-1.0-0:amd64 (1.40.14-1ubuntu0.1) ...\n",
            "Setting up libxaw7:amd64 (2:1.0.13-1) ...\n",
            "Setting up libpangoft2-1.0-0:amd64 (1.40.14-1ubuntu0.1) ...\n",
            "Setting up libpangocairo-1.0-0:amd64 (1.40.14-1ubuntu0.1) ...\n",
            "Setting up libgvc6 (2.40.1-2) ...\n",
            "Setting up graphviz (2.40.1-2) ...\n",
            "Processing triggers for libc-bin (2.27-3ubuntu1) ...\n"
          ],
          "name": "stdout"
        }
      ]
    },
    {
      "metadata": {
        "colab_type": "text",
        "id": "lENaEbwCPkPS"
      },
      "cell_type": "markdown",
      "source": [
        "## 신경망 구현 순서\n",
        "\n",
        "### Keras 를 사용하면 다음과 같은 순서로 신경망을 구성할 수 있다.\n",
        "\n",
        "1. **모형 객체 생성**, Sequential 모형 클래스 객체 생성\n",
        "2. **신경망 구성**, add 메서드로 layer 추가하여 구성\n",
        "    - Dense layer 가 가장 일반적인 신경망\n",
        "    - 입력단부터 순차적으로 추가한다.\n",
        "    - 레이어는 출력 뉴런 갯수를 첫번째 인수로 받는다.\n",
        "    - 최초의 레이어는 input_dim 인수로 입력 크기를 설정해야 한다.\n",
        "    - activation 인수로 activation 함수 설정\n",
        "3. **compile** 메서드로 모형 완성.\n",
        "    - loss인수로 Loss 함수 설정\n",
        "    - optimizer 인수로 최적화 알고리즘 설정\n",
        "    - metrics 인수로 트레이닝 단계에서 기록할 성능 기준 설정\n",
        "4. **fit** 메서드로 트레이닝\n",
        "    - nb_epoch 로 epoch 횟수 설정\n",
        "    - batch_size 로 mini batch size 설정\n",
        "    - metrics 인수로 설정한 성능 기준 기록을 출력으로 반환\n",
        "    - Jupyter Notebook을 사용할 때는 verbose=1 ->  show progress bar , verbose=2 ->  No progress bar "
      ]
    },
    {
      "metadata": {
        "colab_type": "text",
        "id": "q0zswd4ePkPc"
      },
      "cell_type": "markdown",
      "source": [
        "### 모형 구조 출력 준비\n",
        "> 만들어진 모형은 model_to_dot 명령이나 summary 명령으로 모델 내부의 layers 리스트를 살펴봄으로써 내부 구조를 확인할 수 있다.\n",
        "- graphviz, pydot"
      ]
    },
    {
      "metadata": {
        "colab_type": "code",
        "id": "ZohgHIFuHnJ1",
        "colab": {}
      },
      "cell_type": "code",
      "source": [
        "# # Method-1 (Failed)\n",
        "# # Install graphviz and pydot\n",
        "# # https://pypi.python.org/pypi/pydot\n",
        "# !apt-get -qq install -y graphviz && pip install -q pydot\n",
        "# import pydot"
      ],
      "execution_count": 0,
      "outputs": []
    },
    {
      "metadata": {
        "colab_type": "code",
        "id": "Cs6XQheZPkPd",
        "colab": {}
      },
      "cell_type": "code",
      "source": [
        "# # Method-2 (Failed)\n",
        "# !pip install pydot\n",
        "# !pip install pydotplus\n",
        "# !pip install GraphViz\n",
        "# import pydot"
      ],
      "execution_count": 0,
      "outputs": []
    },
    {
      "metadata": {
        "id": "kLEBToWfC4mG",
        "colab_type": "code",
        "outputId": "4bf827a1-d203-4c22-e4ae-573fdb999d37",
        "colab": {
          "base_uri": "https://localhost:8080/",
          "height": 233
        }
      },
      "cell_type": "code",
      "source": [
        "# https://laujohn.com/2018/09/24/Plot-Keras-Model-in-Colaboratory/\n",
        "# Install dependencies\n",
        "!apt install graphviz\n",
        "!pip install pydot pydot-ng\n",
        "!echo \"Double check with Python 3\"\n",
        "!python -c \"import pydot\"\n",
        "\n",
        "# Restart runtime to allow Jupyter to know the changes above (If necessary, run the below code)\n",
        "import os\n",
        "os._exit(0)"
      ],
      "execution_count": 0,
      "outputs": [
        {
          "output_type": "stream",
          "text": [
            "Reading package lists... Done\n",
            "Building dependency tree       \n",
            "Reading state information... Done\n",
            "graphviz is already the newest version (2.40.1-2).\n",
            "0 upgraded, 0 newly installed, 0 to remove and 7 not upgraded.\n",
            "Requirement already satisfied: pydot in /usr/local/lib/python3.6/dist-packages (1.4.0)\n",
            "Collecting pydot-ng\n",
            "  Downloading https://files.pythonhosted.org/packages/3c/5b/9a08333f2d70d404ffe42cea4f50159c4ad94feaa4d7585551c05cacef46/pydot_ng-2.0.0-py2.py3-none-any.whl\n",
            "Requirement already satisfied: pyparsing>=2.1.4 in /usr/local/lib/python3.6/dist-packages (from pydot) (2.3.0)\n",
            "Installing collected packages: pydot-ng\n",
            "Successfully installed pydot-ng-2.0.0\n",
            "Double check with Python 3\n"
          ],
          "name": "stdout"
        }
      ]
    },
    {
      "metadata": {
        "colab_type": "code",
        "id": "SNUjbYmnPkPn",
        "colab": {}
      },
      "cell_type": "code",
      "source": [
        "# import graphviz\n",
        "import pydot"
      ],
      "execution_count": 0,
      "outputs": []
    },
    {
      "metadata": {
        "id": "nZJZDg8nKQnz",
        "colab_type": "text"
      },
      "cell_type": "markdown",
      "source": [
        "### 모형 구성"
      ]
    },
    {
      "metadata": {
        "colab_type": "code",
        "id": "RfehsUoOPkPT",
        "outputId": "a7bcaa22-d31a-4aaf-d3b0-561dc2c4ba0a",
        "colab": {
          "base_uri": "https://localhost:8080/",
          "height": 35
        }
      },
      "cell_type": "code",
      "source": [
        "from keras.optimizers import SGD  # Stochastic Gradient Decent\n",
        "import numpy as np\n",
        "from keras.datasets import mnist\n",
        "from keras.utils import np_utils\n",
        "from keras.models import Sequential\n",
        "from keras.layers import Dense, Dropout, Flatten, Conv2D, MaxPooling2D\n",
        "from keras.callbacks import ModelCheckpoint,EarlyStopping"
      ],
      "execution_count": 2,
      "outputs": [
        {
          "output_type": "stream",
          "text": [
            "Using TensorFlow backend.\n"
          ],
          "name": "stderr"
        }
      ]
    },
    {
      "metadata": {
        "colab_type": "code",
        "id": "ztZnREtXPkPY",
        "colab": {}
      },
      "cell_type": "code",
      "source": [
        "# Deep Learning model\n",
        "np.random.seed(0)\n",
        "\n",
        "# Simple NN\n",
        "# model = Sequential()\n",
        "# model.add(Dense(15, input_dim=784, activation=\"sigmoid\"))  # firsr layer\n",
        "# model.add(Dense(10, activation=\"sigmoid\")) # output layer\n",
        "# model.compile(optimizer=SGD(lr=0.2), loss='mean_squared_error', metrics=[\"accuracy\"])\n",
        "\n",
        "# 컨볼루션 신경망의 설정 (Convolutional neural network 2D)\n",
        "model = Sequential()\n",
        "# model.add(Conv2D(32, kernel_size=(3, 3), input_dim=784, activation='relu'))\n",
        "model.add(Conv2D(32, kernel_size=(3, 3), input_shape=(28, 28, 1), activation='relu')) # 1st layer with input\n",
        "model.add(Conv2D(64, (3, 3), activation='relu')) # 2nd layer\n",
        "model.add(MaxPooling2D(pool_size=2))  # Poolin layer\n",
        "model.add(Dropout(0.25))  # Set dropout\n",
        "model.add(Flatten())      # Flatten\n",
        "model.add(Dense(128,  activation='relu'))  # Fully connected layer\n",
        "model.add(Dropout(0.5))   # Set dropout\n",
        "model.add(Dense(10, activation='softmax')) # Output layer with softmax activation"
      ],
      "execution_count": 0,
      "outputs": []
    },
    {
      "metadata": {
        "colab_type": "code",
        "id": "AAr5tQ9wPkPq",
        "outputId": "82b0c448-3667-417c-f0fc-5888741bf976",
        "colab": {
          "base_uri": "https://localhost:8080/",
          "height": 965
        }
      },
      "cell_type": "code",
      "source": [
        "from IPython.display import SVG\n",
        "from keras.utils.vis_utils import model_to_dot\n",
        "\n",
        "SVG(model_to_dot(model, show_shapes=True).create(prog='dot', format='svg'))"
      ],
      "execution_count": 4,
      "outputs": [
        {
          "output_type": "execute_result",
          "data": {
            "text/plain": [
              "<IPython.core.display.SVG object>"
            ],
            "image/svg+xml": "<svg height=\"709pt\" viewBox=\"0.00 0.00 412.00 709.00\" width=\"412pt\" xmlns=\"http://www.w3.org/2000/svg\" xmlns:xlink=\"http://www.w3.org/1999/xlink\">\n<g class=\"graph\" id=\"graph0\" transform=\"scale(1 1) rotate(0) translate(4 705)\">\n<title>G</title>\n<polygon fill=\"#ffffff\" points=\"-4,4 -4,-705 408,-705 408,4 -4,4\" stroke=\"transparent\"/>\n<!-- 140283968686176 -->\n<g class=\"node\" id=\"node1\">\n<title>140283968686176</title>\n<polygon fill=\"none\" points=\"44,-581.5 44,-627.5 360,-627.5 360,-581.5 44,-581.5\" stroke=\"#000000\"/>\n<text fill=\"#000000\" font-family=\"Times,serif\" font-size=\"14.00\" text-anchor=\"middle\" x=\"110.5\" y=\"-600.8\">conv2d_1: Conv2D</text>\n<polyline fill=\"none\" points=\"177,-581.5 177,-627.5 \" stroke=\"#000000\"/>\n<text fill=\"#000000\" font-family=\"Times,serif\" font-size=\"14.00\" text-anchor=\"middle\" x=\"206\" y=\"-612.3\">input:</text>\n<polyline fill=\"none\" points=\"177,-604.5 235,-604.5 \" stroke=\"#000000\"/>\n<text fill=\"#000000\" font-family=\"Times,serif\" font-size=\"14.00\" text-anchor=\"middle\" x=\"206\" y=\"-589.3\">output:</text>\n<polyline fill=\"none\" points=\"235,-581.5 235,-627.5 \" stroke=\"#000000\"/>\n<text fill=\"#000000\" font-family=\"Times,serif\" font-size=\"14.00\" text-anchor=\"middle\" x=\"297.5\" y=\"-612.3\">(None, 28, 28, 1)</text>\n<polyline fill=\"none\" points=\"235,-604.5 360,-604.5 \" stroke=\"#000000\"/>\n<text fill=\"#000000\" font-family=\"Times,serif\" font-size=\"14.00\" text-anchor=\"middle\" x=\"297.5\" y=\"-589.3\">(None, 26, 26, 32)</text>\n</g>\n<!-- 140283521160080 -->\n<g class=\"node\" id=\"node2\">\n<title>140283521160080</title>\n<polygon fill=\"none\" points=\"44,-498.5 44,-544.5 360,-544.5 360,-498.5 44,-498.5\" stroke=\"#000000\"/>\n<text fill=\"#000000\" font-family=\"Times,serif\" font-size=\"14.00\" text-anchor=\"middle\" x=\"110.5\" y=\"-517.8\">conv2d_2: Conv2D</text>\n<polyline fill=\"none\" points=\"177,-498.5 177,-544.5 \" stroke=\"#000000\"/>\n<text fill=\"#000000\" font-family=\"Times,serif\" font-size=\"14.00\" text-anchor=\"middle\" x=\"206\" y=\"-529.3\">input:</text>\n<polyline fill=\"none\" points=\"177,-521.5 235,-521.5 \" stroke=\"#000000\"/>\n<text fill=\"#000000\" font-family=\"Times,serif\" font-size=\"14.00\" text-anchor=\"middle\" x=\"206\" y=\"-506.3\">output:</text>\n<polyline fill=\"none\" points=\"235,-498.5 235,-544.5 \" stroke=\"#000000\"/>\n<text fill=\"#000000\" font-family=\"Times,serif\" font-size=\"14.00\" text-anchor=\"middle\" x=\"297.5\" y=\"-529.3\">(None, 26, 26, 32)</text>\n<polyline fill=\"none\" points=\"235,-521.5 360,-521.5 \" stroke=\"#000000\"/>\n<text fill=\"#000000\" font-family=\"Times,serif\" font-size=\"14.00\" text-anchor=\"middle\" x=\"297.5\" y=\"-506.3\">(None, 24, 24, 64)</text>\n</g>\n<!-- 140283968686176&#45;&gt;140283521160080 -->\n<g class=\"edge\" id=\"edge2\">\n<title>140283968686176-&gt;140283521160080</title>\n<path d=\"M202,-581.3799C202,-573.1745 202,-563.7679 202,-554.8786\" fill=\"none\" stroke=\"#000000\"/>\n<polygon fill=\"#000000\" points=\"205.5001,-554.784 202,-544.784 198.5001,-554.784 205.5001,-554.784\" stroke=\"#000000\"/>\n</g>\n<!-- 140282475793208 -->\n<g class=\"node\" id=\"node3\">\n<title>140282475793208</title>\n<polygon fill=\"none\" points=\"0,-415.5 0,-461.5 404,-461.5 404,-415.5 0,-415.5\" stroke=\"#000000\"/>\n<text fill=\"#000000\" font-family=\"Times,serif\" font-size=\"14.00\" text-anchor=\"middle\" x=\"110.5\" y=\"-434.8\">max_pooling2d_1: MaxPooling2D</text>\n<polyline fill=\"none\" points=\"221,-415.5 221,-461.5 \" stroke=\"#000000\"/>\n<text fill=\"#000000\" font-family=\"Times,serif\" font-size=\"14.00\" text-anchor=\"middle\" x=\"250\" y=\"-446.3\">input:</text>\n<polyline fill=\"none\" points=\"221,-438.5 279,-438.5 \" stroke=\"#000000\"/>\n<text fill=\"#000000\" font-family=\"Times,serif\" font-size=\"14.00\" text-anchor=\"middle\" x=\"250\" y=\"-423.3\">output:</text>\n<polyline fill=\"none\" points=\"279,-415.5 279,-461.5 \" stroke=\"#000000\"/>\n<text fill=\"#000000\" font-family=\"Times,serif\" font-size=\"14.00\" text-anchor=\"middle\" x=\"341.5\" y=\"-446.3\">(None, 24, 24, 64)</text>\n<polyline fill=\"none\" points=\"279,-438.5 404,-438.5 \" stroke=\"#000000\"/>\n<text fill=\"#000000\" font-family=\"Times,serif\" font-size=\"14.00\" text-anchor=\"middle\" x=\"341.5\" y=\"-423.3\">(None, 12, 12, 64)</text>\n</g>\n<!-- 140283521160080&#45;&gt;140282475793208 -->\n<g class=\"edge\" id=\"edge3\">\n<title>140283521160080-&gt;140282475793208</title>\n<path d=\"M202,-498.3799C202,-490.1745 202,-480.7679 202,-471.8786\" fill=\"none\" stroke=\"#000000\"/>\n<polygon fill=\"#000000\" points=\"205.5001,-471.784 202,-461.784 198.5001,-471.784 205.5001,-471.784\" stroke=\"#000000\"/>\n</g>\n<!-- 140282467012336 -->\n<g class=\"node\" id=\"node4\">\n<title>140282467012336</title>\n<polygon fill=\"none\" points=\"43.5,-332.5 43.5,-378.5 360.5,-378.5 360.5,-332.5 43.5,-332.5\" stroke=\"#000000\"/>\n<text fill=\"#000000\" font-family=\"Times,serif\" font-size=\"14.00\" text-anchor=\"middle\" x=\"110.5\" y=\"-351.8\">dropout_1: Dropout</text>\n<polyline fill=\"none\" points=\"177.5,-332.5 177.5,-378.5 \" stroke=\"#000000\"/>\n<text fill=\"#000000\" font-family=\"Times,serif\" font-size=\"14.00\" text-anchor=\"middle\" x=\"206.5\" y=\"-363.3\">input:</text>\n<polyline fill=\"none\" points=\"177.5,-355.5 235.5,-355.5 \" stroke=\"#000000\"/>\n<text fill=\"#000000\" font-family=\"Times,serif\" font-size=\"14.00\" text-anchor=\"middle\" x=\"206.5\" y=\"-340.3\">output:</text>\n<polyline fill=\"none\" points=\"235.5,-332.5 235.5,-378.5 \" stroke=\"#000000\"/>\n<text fill=\"#000000\" font-family=\"Times,serif\" font-size=\"14.00\" text-anchor=\"middle\" x=\"298\" y=\"-363.3\">(None, 12, 12, 64)</text>\n<polyline fill=\"none\" points=\"235.5,-355.5 360.5,-355.5 \" stroke=\"#000000\"/>\n<text fill=\"#000000\" font-family=\"Times,serif\" font-size=\"14.00\" text-anchor=\"middle\" x=\"298\" y=\"-340.3\">(None, 12, 12, 64)</text>\n</g>\n<!-- 140282475793208&#45;&gt;140282467012336 -->\n<g class=\"edge\" id=\"edge4\">\n<title>140282475793208-&gt;140282467012336</title>\n<path d=\"M202,-415.3799C202,-407.1745 202,-397.7679 202,-388.8786\" fill=\"none\" stroke=\"#000000\"/>\n<polygon fill=\"#000000\" points=\"205.5001,-388.784 202,-378.784 198.5001,-388.784 205.5001,-388.784\" stroke=\"#000000\"/>\n</g>\n<!-- 140282475792816 -->\n<g class=\"node\" id=\"node5\">\n<title>140282475792816</title>\n<polygon fill=\"none\" points=\"54,-249.5 54,-295.5 350,-295.5 350,-249.5 54,-249.5\" stroke=\"#000000\"/>\n<text fill=\"#000000\" font-family=\"Times,serif\" font-size=\"14.00\" text-anchor=\"middle\" x=\"110.5\" y=\"-268.8\">flatten_1: Flatten</text>\n<polyline fill=\"none\" points=\"167,-249.5 167,-295.5 \" stroke=\"#000000\"/>\n<text fill=\"#000000\" font-family=\"Times,serif\" font-size=\"14.00\" text-anchor=\"middle\" x=\"196\" y=\"-280.3\">input:</text>\n<polyline fill=\"none\" points=\"167,-272.5 225,-272.5 \" stroke=\"#000000\"/>\n<text fill=\"#000000\" font-family=\"Times,serif\" font-size=\"14.00\" text-anchor=\"middle\" x=\"196\" y=\"-257.3\">output:</text>\n<polyline fill=\"none\" points=\"225,-249.5 225,-295.5 \" stroke=\"#000000\"/>\n<text fill=\"#000000\" font-family=\"Times,serif\" font-size=\"14.00\" text-anchor=\"middle\" x=\"287.5\" y=\"-280.3\">(None, 12, 12, 64)</text>\n<polyline fill=\"none\" points=\"225,-272.5 350,-272.5 \" stroke=\"#000000\"/>\n<text fill=\"#000000\" font-family=\"Times,serif\" font-size=\"14.00\" text-anchor=\"middle\" x=\"287.5\" y=\"-257.3\">(None, 9216)</text>\n</g>\n<!-- 140282467012336&#45;&gt;140282475792816 -->\n<g class=\"edge\" id=\"edge5\">\n<title>140282467012336-&gt;140282475792816</title>\n<path d=\"M202,-332.3799C202,-324.1745 202,-314.7679 202,-305.8786\" fill=\"none\" stroke=\"#000000\"/>\n<polygon fill=\"#000000\" points=\"205.5001,-305.784 202,-295.784 198.5001,-305.784 205.5001,-305.784\" stroke=\"#000000\"/>\n</g>\n<!-- 140282467012112 -->\n<g class=\"node\" id=\"node6\">\n<title>140282467012112</title>\n<polygon fill=\"none\" points=\"72,-166.5 72,-212.5 332,-212.5 332,-166.5 72,-166.5\" stroke=\"#000000\"/>\n<text fill=\"#000000\" font-family=\"Times,serif\" font-size=\"14.00\" text-anchor=\"middle\" x=\"125.5\" y=\"-185.8\">dense_1: Dense</text>\n<polyline fill=\"none\" points=\"179,-166.5 179,-212.5 \" stroke=\"#000000\"/>\n<text fill=\"#000000\" font-family=\"Times,serif\" font-size=\"14.00\" text-anchor=\"middle\" x=\"208\" y=\"-197.3\">input:</text>\n<polyline fill=\"none\" points=\"179,-189.5 237,-189.5 \" stroke=\"#000000\"/>\n<text fill=\"#000000\" font-family=\"Times,serif\" font-size=\"14.00\" text-anchor=\"middle\" x=\"208\" y=\"-174.3\">output:</text>\n<polyline fill=\"none\" points=\"237,-166.5 237,-212.5 \" stroke=\"#000000\"/>\n<text fill=\"#000000\" font-family=\"Times,serif\" font-size=\"14.00\" text-anchor=\"middle\" x=\"284.5\" y=\"-197.3\">(None, 9216)</text>\n<polyline fill=\"none\" points=\"237,-189.5 332,-189.5 \" stroke=\"#000000\"/>\n<text fill=\"#000000\" font-family=\"Times,serif\" font-size=\"14.00\" text-anchor=\"middle\" x=\"284.5\" y=\"-174.3\">(None, 128)</text>\n</g>\n<!-- 140282475792816&#45;&gt;140282467012112 -->\n<g class=\"edge\" id=\"edge6\">\n<title>140282475792816-&gt;140282467012112</title>\n<path d=\"M202,-249.3799C202,-241.1745 202,-231.7679 202,-222.8786\" fill=\"none\" stroke=\"#000000\"/>\n<polygon fill=\"#000000\" points=\"205.5001,-222.784 202,-212.784 198.5001,-222.784 205.5001,-222.784\" stroke=\"#000000\"/>\n</g>\n<!-- 140282467128432 -->\n<g class=\"node\" id=\"node7\">\n<title>140282467128432</title>\n<polygon fill=\"none\" points=\"62.5,-83.5 62.5,-129.5 341.5,-129.5 341.5,-83.5 62.5,-83.5\" stroke=\"#000000\"/>\n<text fill=\"#000000\" font-family=\"Times,serif\" font-size=\"14.00\" text-anchor=\"middle\" x=\"129.5\" y=\"-102.8\">dropout_2: Dropout</text>\n<polyline fill=\"none\" points=\"196.5,-83.5 196.5,-129.5 \" stroke=\"#000000\"/>\n<text fill=\"#000000\" font-family=\"Times,serif\" font-size=\"14.00\" text-anchor=\"middle\" x=\"225.5\" y=\"-114.3\">input:</text>\n<polyline fill=\"none\" points=\"196.5,-106.5 254.5,-106.5 \" stroke=\"#000000\"/>\n<text fill=\"#000000\" font-family=\"Times,serif\" font-size=\"14.00\" text-anchor=\"middle\" x=\"225.5\" y=\"-91.3\">output:</text>\n<polyline fill=\"none\" points=\"254.5,-83.5 254.5,-129.5 \" stroke=\"#000000\"/>\n<text fill=\"#000000\" font-family=\"Times,serif\" font-size=\"14.00\" text-anchor=\"middle\" x=\"298\" y=\"-114.3\">(None, 128)</text>\n<polyline fill=\"none\" points=\"254.5,-106.5 341.5,-106.5 \" stroke=\"#000000\"/>\n<text fill=\"#000000\" font-family=\"Times,serif\" font-size=\"14.00\" text-anchor=\"middle\" x=\"298\" y=\"-91.3\">(None, 128)</text>\n</g>\n<!-- 140282467012112&#45;&gt;140282467128432 -->\n<g class=\"edge\" id=\"edge7\">\n<title>140282467012112-&gt;140282467128432</title>\n<path d=\"M202,-166.3799C202,-158.1745 202,-148.7679 202,-139.8786\" fill=\"none\" stroke=\"#000000\"/>\n<polygon fill=\"#000000\" points=\"205.5001,-139.784 202,-129.784 198.5001,-139.784 205.5001,-139.784\" stroke=\"#000000\"/>\n</g>\n<!-- 140282466452368 -->\n<g class=\"node\" id=\"node8\">\n<title>140282466452368</title>\n<polygon fill=\"none\" points=\"76,-.5 76,-46.5 328,-46.5 328,-.5 76,-.5\" stroke=\"#000000\"/>\n<text fill=\"#000000\" font-family=\"Times,serif\" font-size=\"14.00\" text-anchor=\"middle\" x=\"129.5\" y=\"-19.8\">dense_2: Dense</text>\n<polyline fill=\"none\" points=\"183,-.5 183,-46.5 \" stroke=\"#000000\"/>\n<text fill=\"#000000\" font-family=\"Times,serif\" font-size=\"14.00\" text-anchor=\"middle\" x=\"212\" y=\"-31.3\">input:</text>\n<polyline fill=\"none\" points=\"183,-23.5 241,-23.5 \" stroke=\"#000000\"/>\n<text fill=\"#000000\" font-family=\"Times,serif\" font-size=\"14.00\" text-anchor=\"middle\" x=\"212\" y=\"-8.3\">output:</text>\n<polyline fill=\"none\" points=\"241,-.5 241,-46.5 \" stroke=\"#000000\"/>\n<text fill=\"#000000\" font-family=\"Times,serif\" font-size=\"14.00\" text-anchor=\"middle\" x=\"284.5\" y=\"-31.3\">(None, 128)</text>\n<polyline fill=\"none\" points=\"241,-23.5 328,-23.5 \" stroke=\"#000000\"/>\n<text fill=\"#000000\" font-family=\"Times,serif\" font-size=\"14.00\" text-anchor=\"middle\" x=\"284.5\" y=\"-8.3\">(None, 10)</text>\n</g>\n<!-- 140282467128432&#45;&gt;140282466452368 -->\n<g class=\"edge\" id=\"edge8\">\n<title>140282467128432-&gt;140282466452368</title>\n<path d=\"M202,-83.3799C202,-75.1745 202,-65.7679 202,-56.8786\" fill=\"none\" stroke=\"#000000\"/>\n<polygon fill=\"#000000\" points=\"205.5001,-56.784 202,-46.784 198.5001,-56.784 205.5001,-56.784\" stroke=\"#000000\"/>\n</g>\n<!-- 140282475792256 -->\n<g class=\"node\" id=\"node9\">\n<title>140282475792256</title>\n<polygon fill=\"none\" points=\"137.5,-664.5 137.5,-700.5 266.5,-700.5 266.5,-664.5 137.5,-664.5\" stroke=\"#000000\"/>\n<text fill=\"#000000\" font-family=\"Times,serif\" font-size=\"14.00\" text-anchor=\"middle\" x=\"202\" y=\"-678.8\">140282475792256</text>\n</g>\n<!-- 140282475792256&#45;&gt;140283968686176 -->\n<g class=\"edge\" id=\"edge1\">\n<title>140282475792256-&gt;140283968686176</title>\n<path d=\"M202,-664.4092C202,-656.4308 202,-646.795 202,-637.606\" fill=\"none\" stroke=\"#000000\"/>\n<polygon fill=\"#000000\" points=\"205.5001,-637.5333 202,-627.5333 198.5001,-637.5334 205.5001,-637.5333\" stroke=\"#000000\"/>\n</g>\n</g>\n</svg>"
          },
          "metadata": {
            "tags": []
          },
          "execution_count": 4
        }
      ]
    },
    {
      "metadata": {
        "colab_type": "code",
        "id": "TAVzKJuoPkPu",
        "colab": {}
      },
      "cell_type": "code",
      "source": [
        "from keras.utils import plot_model\n",
        "plot_model(model, to_file='model_DL.png')"
      ],
      "execution_count": 0,
      "outputs": []
    },
    {
      "metadata": {
        "colab_type": "code",
        "id": "s1S3au1QPkPx",
        "outputId": "4ca8f225-246c-48d0-c973-d1d601266f00",
        "colab": {
          "base_uri": "https://localhost:8080/",
          "height": 431
        }
      },
      "cell_type": "code",
      "source": [
        "model.summary() # vV Vv"
      ],
      "execution_count": 8,
      "outputs": [
        {
          "output_type": "stream",
          "text": [
            "_________________________________________________________________\n",
            "Layer (type)                 Output Shape              Param #   \n",
            "=================================================================\n",
            "conv2d_1 (Conv2D)            (None, 26, 26, 32)        320       \n",
            "_________________________________________________________________\n",
            "conv2d_2 (Conv2D)            (None, 24, 24, 64)        18496     \n",
            "_________________________________________________________________\n",
            "max_pooling2d_1 (MaxPooling2 (None, 12, 12, 64)        0         \n",
            "_________________________________________________________________\n",
            "dropout_1 (Dropout)          (None, 12, 12, 64)        0         \n",
            "_________________________________________________________________\n",
            "flatten_1 (Flatten)          (None, 9216)              0         \n",
            "_________________________________________________________________\n",
            "dense_1 (Dense)              (None, 128)               1179776   \n",
            "_________________________________________________________________\n",
            "dropout_2 (Dropout)          (None, 128)               0         \n",
            "_________________________________________________________________\n",
            "dense_2 (Dense)              (None, 10)                1290      \n",
            "=================================================================\n",
            "Total params: 1,199,882\n",
            "Trainable params: 1,199,882\n",
            "Non-trainable params: 0\n",
            "_________________________________________________________________\n"
          ],
          "name": "stdout"
        }
      ]
    },
    {
      "metadata": {
        "colab_type": "code",
        "id": "wvCjX5eePkP1",
        "colab": {}
      },
      "cell_type": "code",
      "source": [
        "l1 = model.layers[0]  # 1st layer with input : Cpnv2D (filtering #1)\n",
        "l2 = model.layers[1]  # 2nd layer : Conv2D (filtering #2)\n",
        "l3 = model.layers[2]  # 3rd layer : max pooling (Extracting the dominant characteristics)\n",
        "l4 = model.layers[3]  # 4th layer: dropout to avoid overfitting\n",
        "l5 = model.layers[4]  # 5th layer: flatten\n",
        "l6 = model.layers[5]  # 6th dense layer\n",
        "l7 = model.layers[6]  # 7th layer: dropout to avoid overfitting\n",
        "l8 = model.layers[7]  # last layer: output layer (softmax: probabilistic prediction of 0 to 9)"
      ],
      "execution_count": 0,
      "outputs": []
    },
    {
      "metadata": {
        "colab_type": "code",
        "id": "6_m_rkBkPkP5",
        "outputId": "e2ba9ab9-b12a-4703-aa18-16a56e8a1109",
        "colab": {
          "base_uri": "https://localhost:8080/",
          "height": 107
        }
      },
      "cell_type": "code",
      "source": [
        "l1.name, type(l1), l1.output_shape, l1.activation.__name__, l1.count_params()  # 3*3*32 + 32 = 320"
      ],
      "execution_count": 10,
      "outputs": [
        {
          "output_type": "execute_result",
          "data": {
            "text/plain": [
              "('conv2d_1',\n",
              " keras.layers.convolutional.Conv2D,\n",
              " (None, 26, 26, 32),\n",
              " 'relu',\n",
              " 320)"
            ]
          },
          "metadata": {
            "tags": []
          },
          "execution_count": 10
        }
      ]
    },
    {
      "metadata": {
        "id": "HS26oO53C3GD",
        "colab_type": "text"
      },
      "cell_type": "markdown",
      "source": [
        "[link: moving gif - \"How to do with convolution?\"](http://machinelearninguru.com/_images/topics/computer_vision/basics/convolutional_layer_1/stride1.gif)"
      ]
    },
    {
      "metadata": {
        "colab_type": "code",
        "id": "xs8tTQEzPkP-",
        "outputId": "76ee0b32-a05e-4168-8894-229e450d2428",
        "colab": {
          "base_uri": "https://localhost:8080/",
          "height": 107
        }
      },
      "cell_type": "code",
      "source": [
        "l2.name, type(l2), l2.output_shape, l2.activation.__name__, l2.count_params()   # 3*3*32*64 + 64 = 18496"
      ],
      "execution_count": 11,
      "outputs": [
        {
          "output_type": "execute_result",
          "data": {
            "text/plain": [
              "('conv2d_2',\n",
              " keras.layers.convolutional.Conv2D,\n",
              " (None, 24, 24, 64),\n",
              " 'relu',\n",
              " 18496)"
            ]
          },
          "metadata": {
            "tags": []
          },
          "execution_count": 11
        }
      ]
    },
    {
      "metadata": {
        "id": "4zqJibXEN3Zz",
        "colab_type": "code",
        "outputId": "b0cf68c4-9f01-4d25-963f-a99be03712b1",
        "colab": {
          "base_uri": "https://localhost:8080/",
          "height": 35
        }
      },
      "cell_type": "code",
      "source": [
        "l3.name, type(l3), l3.output_shape, l3.count_params()"
      ],
      "execution_count": 12,
      "outputs": [
        {
          "output_type": "execute_result",
          "data": {
            "text/plain": [
              "('max_pooling2d_1', keras.layers.pooling.MaxPooling2D, (None, 12, 12, 64), 0)"
            ]
          },
          "metadata": {
            "tags": []
          },
          "execution_count": 12
        }
      ]
    },
    {
      "metadata": {
        "id": "zJbjqyEYON4X",
        "colab_type": "code",
        "outputId": "09a7a188-cc06-4795-d560-83ca2cfbe259",
        "colab": {
          "base_uri": "https://localhost:8080/",
          "height": 35
        }
      },
      "cell_type": "code",
      "source": [
        "l4.name, type(l4), l4.output_shape, l4.count_params()"
      ],
      "execution_count": 13,
      "outputs": [
        {
          "output_type": "execute_result",
          "data": {
            "text/plain": [
              "('dropout_1', keras.layers.core.Dropout, (None, 12, 12, 64), 0)"
            ]
          },
          "metadata": {
            "tags": []
          },
          "execution_count": 13
        }
      ]
    },
    {
      "metadata": {
        "id": "F0381P7NOdeA",
        "colab_type": "code",
        "outputId": "899d2ed4-1c9e-4356-c95f-50128ea9ef9c",
        "colab": {
          "base_uri": "https://localhost:8080/",
          "height": 35
        }
      },
      "cell_type": "code",
      "source": [
        "l5.name, type(l5), l5.output_shape, l5.count_params()  # 12*12*64 = 9216"
      ],
      "execution_count": 14,
      "outputs": [
        {
          "output_type": "execute_result",
          "data": {
            "text/plain": [
              "('flatten_1', keras.layers.core.Flatten, (None, 9216), 0)"
            ]
          },
          "metadata": {
            "tags": []
          },
          "execution_count": 14
        }
      ]
    },
    {
      "metadata": {
        "colab_type": "code",
        "id": "65X9MOkBPkQD",
        "outputId": "9817134c-42b4-463c-b20e-5507844adaba",
        "colab": {
          "base_uri": "https://localhost:8080/",
          "height": 35
        }
      },
      "cell_type": "code",
      "source": [
        "l6.name, type(l6), l6.output_shape, l6.activation.__name__, l6.count_params()   # 9216*128+128 = 1179776"
      ],
      "execution_count": 15,
      "outputs": [
        {
          "output_type": "execute_result",
          "data": {
            "text/plain": [
              "('dense_1', keras.layers.core.Dense, (None, 128), 'relu', 1179776)"
            ]
          },
          "metadata": {
            "tags": []
          },
          "execution_count": 15
        }
      ]
    },
    {
      "metadata": {
        "id": "eogqB1Y8Oo5y",
        "colab_type": "code",
        "outputId": "68ab55f0-ba9d-4c7d-a670-5629e8a7e8ea",
        "colab": {
          "base_uri": "https://localhost:8080/",
          "height": 35
        }
      },
      "cell_type": "code",
      "source": [
        "l7.name, type(l7), l7.output_shape, l7.count_params()"
      ],
      "execution_count": 16,
      "outputs": [
        {
          "output_type": "execute_result",
          "data": {
            "text/plain": [
              "('dropout_2', keras.layers.core.Dropout, (None, 128), 0)"
            ]
          },
          "metadata": {
            "tags": []
          },
          "execution_count": 16
        }
      ]
    },
    {
      "metadata": {
        "id": "ZYQbzTxuOxyS",
        "colab_type": "code",
        "outputId": "614032f0-a103-4d6e-f76f-179a5528e988",
        "colab": {
          "base_uri": "https://localhost:8080/",
          "height": 35
        }
      },
      "cell_type": "code",
      "source": [
        "l8.name, type(l8), l8.output_shape, l8.activation.__name__, l8.count_params()  # 128*10 + 10 = 1290"
      ],
      "execution_count": 17,
      "outputs": [
        {
          "output_type": "execute_result",
          "data": {
            "text/plain": [
              "('dense_2', keras.layers.core.Dense, (None, 10), 'softmax', 1290)"
            ]
          },
          "metadata": {
            "tags": []
          },
          "execution_count": 17
        }
      ]
    },
    {
      "metadata": {
        "id": "uwR4t2RyBuwt",
        "colab_type": "text"
      },
      "cell_type": "markdown",
      "source": [
        "### Links to gooood introduction: convolution\n",
        "\n",
        "- [cnn 요약, 직관적인 설명(단, bias에 대한 설명 부족)](http://taewan.kim/post/cnn/)\n",
        "- [Undrestanding Convolutional Layers in Convolutional Neural Networks (CNNs)](http://machinelearninguru.com/computer_vision/basics/convolution/convolution_layer.html)\n",
        "- [Short Introduction to Convolutions and Pooling](https://medium.com/analytics-vidhya/deep-learning-methods-1700548a3093)"
      ]
    },
    {
      "metadata": {
        "colab_type": "text",
        "id": "OSXXm_pkPkQI"
      },
      "cell_type": "markdown",
      "source": [
        "## fit 메서드로 트레이닝"
      ]
    },
    {
      "metadata": {
        "colab_type": "code",
        "id": "BlS2pikMPkQK",
        "colab": {}
      },
      "cell_type": "code",
      "source": [
        "# Compiling model\n",
        "model.compile(loss='categorical_crossentropy',\n",
        "              optimizer='adam',\n",
        "              metrics=['accuracy'])\n",
        "\n",
        "# adam: Adaptive Moment Estimation"
      ],
      "execution_count": 0,
      "outputs": []
    },
    {
      "metadata": {
        "id": "eyfkWwy-QA5D",
        "colab_type": "text"
      },
      "cell_type": "markdown",
      "source": [
        "### Reload data and preprocess data"
      ]
    },
    {
      "metadata": {
        "colab_type": "code",
        "id": "nPWNw0imP4lY",
        "outputId": "dfaee016-9d42-415f-8f46-fbd1c4443242",
        "colab": {
          "base_uri": "https://localhost:8080/",
          "height": 53
        }
      },
      "cell_type": "code",
      "source": [
        "%%time\n",
        "from keras.datasets import mnist\n",
        "(X_train0, y_train0), (X_test0, y_test0) = mnist.load_data()"
      ],
      "execution_count": 19,
      "outputs": [
        {
          "output_type": "stream",
          "text": [
            "CPU times: user 300 ms, sys: 39.6 ms, total: 340 ms\n",
            "Wall time: 344 ms\n"
          ],
          "name": "stdout"
        }
      ]
    },
    {
      "metadata": {
        "colab_type": "code",
        "id": "4FpvLawUP4lj",
        "outputId": "aa64ee59-8059-4e35-df67-d4496c080dc5",
        "colab": {
          "base_uri": "https://localhost:8080/",
          "height": 89
        }
      },
      "cell_type": "code",
      "source": [
        "print(X_train0.shape, X_train0.dtype)\n",
        "print(y_train0.shape, y_train0.dtype)\n",
        "print(X_test0.shape, X_test0.dtype)\n",
        "print(y_test0.shape, y_test0.dtype)"
      ],
      "execution_count": 20,
      "outputs": [
        {
          "output_type": "stream",
          "text": [
            "(60000, 28, 28) uint8\n",
            "(60000,) uint8\n",
            "(10000, 28, 28) uint8\n",
            "(10000,) uint8\n"
          ],
          "name": "stdout"
        }
      ]
    },
    {
      "metadata": {
        "colab_type": "code",
        "outputId": "d965cc0e-31ea-4ab7-8524-fdc6bbcaf5ca",
        "id": "y3C3rsiMQ84n",
        "colab": {
          "base_uri": "https://localhost:8080/",
          "height": 35
        }
      },
      "cell_type": "code",
      "source": [
        "# 데이터를 float 타입으로 바꾸고 스케일링한다. \n",
        "X_train = X_train0.reshape(60000, 28, 28, 1).astype('float32') / 255.0\n",
        "X_test = X_test0.reshape(10000, 28, 28, 1).astype('float32') / 255.0\n",
        "print(X_train.shape, X_train.dtype)"
      ],
      "execution_count": 21,
      "outputs": [
        {
          "output_type": "stream",
          "text": [
            "(60000, 28, 28, 1) float32\n"
          ],
          "name": "stdout"
        }
      ]
    },
    {
      "metadata": {
        "colab_type": "code",
        "id": "82NV4_bmRNF4",
        "colab": {}
      },
      "cell_type": "code",
      "source": [
        "# One-hot encoding: Probabilistic labeling\n",
        "# to_categorical()\n",
        "from keras.utils import np_utils\n",
        "\n",
        "y_train = np_utils.to_categorical(y_train0, 10)\n",
        "y_test = np_utils.to_categorical(y_test0, 10)"
      ],
      "execution_count": 0,
      "outputs": []
    },
    {
      "metadata": {
        "colab_type": "code",
        "id": "BnyuCb-2PkQN",
        "outputId": "e47dd053-e311-4fdc-9c61-e489cda1ee26",
        "colab": {
          "base_uri": "https://localhost:8080/",
          "height": 1151
        }
      },
      "cell_type": "code",
      "source": [
        "# Fitting model\n",
        "%%time\n",
        "hist = model.fit(X_train, y_train, \n",
        "                 epochs=30, batch_size=100, #batch_size 처음 계산할 때 100개씩\n",
        "                 validation_data=(X_test, y_test),  #검증데이터 ->test 데이터\n",
        "                 verbose=1)\n",
        "\n",
        "# batch_size: 100 -> 60,000개의 트레이닝 데이터를 100개씩 600묶음으로 나눈 후, \n",
        "# 각 묶음에 대하어 forward, back propagation을 실시하면서 파라미터를 조정한다.\n",
        "# epochs: 전체 600개의 batch에 대하여 다 계산을 수행하면 epoch 1 종료.\n",
        "# validation_data: 테스트 데이터를 섞어서 검증한다."
      ],
      "execution_count": 23,
      "outputs": [
        {
          "output_type": "stream",
          "text": [
            "Train on 60000 samples, validate on 10000 samples\n",
            "Epoch 1/30\n",
            "60000/60000 [==============================] - 13s 212us/step - loss: 0.2292 - acc: 0.9304 - val_loss: 0.0492 - val_acc: 0.9837\n",
            "Epoch 2/30\n",
            "60000/60000 [==============================] - 10s 171us/step - loss: 0.0835 - acc: 0.9749 - val_loss: 0.0380 - val_acc: 0.9874\n",
            "Epoch 3/30\n",
            "60000/60000 [==============================] - 10s 168us/step - loss: 0.0616 - acc: 0.9810 - val_loss: 0.0320 - val_acc: 0.9893\n",
            "Epoch 4/30\n",
            "60000/60000 [==============================] - 10s 169us/step - loss: 0.0499 - acc: 0.9844 - val_loss: 0.0353 - val_acc: 0.9887\n",
            "Epoch 5/30\n",
            "60000/60000 [==============================] - 10s 168us/step - loss: 0.0430 - acc: 0.9867 - val_loss: 0.0286 - val_acc: 0.9914\n",
            "Epoch 6/30\n",
            "60000/60000 [==============================] - 10s 170us/step - loss: 0.0383 - acc: 0.9879 - val_loss: 0.0303 - val_acc: 0.9905\n",
            "Epoch 7/30\n",
            "60000/60000 [==============================] - 10s 170us/step - loss: 0.0345 - acc: 0.9890 - val_loss: 0.0297 - val_acc: 0.9909\n",
            "Epoch 8/30\n",
            "60000/60000 [==============================] - 10s 172us/step - loss: 0.0300 - acc: 0.9906 - val_loss: 0.0266 - val_acc: 0.9922\n",
            "Epoch 9/30\n",
            "60000/60000 [==============================] - 10s 169us/step - loss: 0.0285 - acc: 0.9910 - val_loss: 0.0268 - val_acc: 0.9924\n",
            "Epoch 10/30\n",
            "60000/60000 [==============================] - 10s 168us/step - loss: 0.0249 - acc: 0.9916 - val_loss: 0.0299 - val_acc: 0.9918\n",
            "Epoch 11/30\n",
            "60000/60000 [==============================] - 10s 169us/step - loss: 0.0225 - acc: 0.9928 - val_loss: 0.0241 - val_acc: 0.9940\n",
            "Epoch 12/30\n",
            "60000/60000 [==============================] - 10s 168us/step - loss: 0.0205 - acc: 0.9931 - val_loss: 0.0263 - val_acc: 0.9931\n",
            "Epoch 13/30\n",
            "60000/60000 [==============================] - 10s 169us/step - loss: 0.0212 - acc: 0.9929 - val_loss: 0.0250 - val_acc: 0.9927\n",
            "Epoch 14/30\n",
            "60000/60000 [==============================] - 10s 169us/step - loss: 0.0197 - acc: 0.9935 - val_loss: 0.0274 - val_acc: 0.9924\n",
            "Epoch 15/30\n",
            "60000/60000 [==============================] - 10s 168us/step - loss: 0.0172 - acc: 0.9942 - val_loss: 0.0281 - val_acc: 0.9929\n",
            "Epoch 16/30\n",
            "60000/60000 [==============================] - 10s 169us/step - loss: 0.0173 - acc: 0.9942 - val_loss: 0.0277 - val_acc: 0.9934\n",
            "Epoch 17/30\n",
            "60000/60000 [==============================] - 10s 169us/step - loss: 0.0166 - acc: 0.9943 - val_loss: 0.0295 - val_acc: 0.9923\n",
            "Epoch 18/30\n",
            "60000/60000 [==============================] - 10s 169us/step - loss: 0.0136 - acc: 0.9954 - val_loss: 0.0299 - val_acc: 0.9922\n",
            "Epoch 19/30\n",
            "60000/60000 [==============================] - 10s 169us/step - loss: 0.0132 - acc: 0.9954 - val_loss: 0.0281 - val_acc: 0.9925\n",
            "Epoch 20/30\n",
            "60000/60000 [==============================] - 10s 168us/step - loss: 0.0153 - acc: 0.9949 - val_loss: 0.0284 - val_acc: 0.9929\n",
            "Epoch 21/30\n",
            "60000/60000 [==============================] - 10s 168us/step - loss: 0.0136 - acc: 0.9957 - val_loss: 0.0278 - val_acc: 0.9927\n",
            "Epoch 22/30\n",
            "60000/60000 [==============================] - 10s 168us/step - loss: 0.0129 - acc: 0.9955 - val_loss: 0.0293 - val_acc: 0.9920\n",
            "Epoch 23/30\n",
            "60000/60000 [==============================] - 10s 169us/step - loss: 0.0118 - acc: 0.9957 - val_loss: 0.0303 - val_acc: 0.9934\n",
            "Epoch 24/30\n",
            "60000/60000 [==============================] - 10s 168us/step - loss: 0.0121 - acc: 0.9961 - val_loss: 0.0289 - val_acc: 0.9933\n",
            "Epoch 25/30\n",
            "60000/60000 [==============================] - 10s 169us/step - loss: 0.0113 - acc: 0.9964 - val_loss: 0.0302 - val_acc: 0.9927\n",
            "Epoch 26/30\n",
            "60000/60000 [==============================] - 10s 168us/step - loss: 0.0111 - acc: 0.9964 - val_loss: 0.0310 - val_acc: 0.9933\n",
            "Epoch 27/30\n",
            "60000/60000 [==============================] - 10s 168us/step - loss: 0.0097 - acc: 0.9967 - val_loss: 0.0328 - val_acc: 0.9939\n",
            "Epoch 28/30\n",
            "60000/60000 [==============================] - 10s 169us/step - loss: 0.0114 - acc: 0.9963 - val_loss: 0.0323 - val_acc: 0.9934\n",
            "Epoch 29/30\n",
            "60000/60000 [==============================] - 10s 168us/step - loss: 0.0117 - acc: 0.9962 - val_loss: 0.0299 - val_acc: 0.9935\n",
            "Epoch 30/30\n",
            "60000/60000 [==============================] - 10s 169us/step - loss: 0.0096 - acc: 0.9970 - val_loss: 0.0322 - val_acc: 0.9937\n",
            "CPU times: user 4min 12s, sys: 58 s, total: 5min 10s\n",
            "Wall time: 5min 7s\n"
          ],
          "name": "stdout"
        }
      ]
    },
    {
      "metadata": {
        "id": "t9_5UD-3T_xh",
        "colab_type": "text"
      },
      "cell_type": "markdown",
      "source": [
        "### Plot results: preformance and accuracy"
      ]
    },
    {
      "metadata": {
        "id": "slGyI2ADT-QJ",
        "colab_type": "code",
        "colab": {}
      },
      "cell_type": "code",
      "source": [
        "import matplotlib.pyplot as plt\n",
        "import matplotlib as mpl\n",
        "%matplotlib inline"
      ],
      "execution_count": 0,
      "outputs": []
    },
    {
      "metadata": {
        "colab_type": "code",
        "id": "pVbjE1dKPkQT",
        "outputId": "92a06e6c-9cf8-4d49-8ae9-7285f770b527",
        "colab": {
          "base_uri": "https://localhost:8080/",
          "height": 265
        }
      },
      "cell_type": "code",
      "source": [
        "# Plot performance\n",
        "plt.plot(hist.history['loss'])\n",
        "plt.show()"
      ],
      "execution_count": 25,
      "outputs": [
        {
          "output_type": "display_data",
          "data": {
            "image/png": "[encoded data removed]",
            "text/plain": [
              "<matplotlib.figure.Figure at 0x7f960e8bb940>"
            ]
          },
          "metadata": {
            "tags": []
          }
        }
      ]
    },
    {
      "metadata": {
        "colab_type": "code",
        "id": "ZMnKgKKIPkQZ",
        "outputId": "7ce128d0-9d75-480e-e4dd-f4e340582333",
        "colab": {
          "base_uri": "https://localhost:8080/",
          "height": 268
        }
      },
      "cell_type": "code",
      "source": [
        "plt.plot(hist.history['acc'], 'b-', label=\"training\")\n",
        "plt.plot(hist.history['val_acc'], 'r:', label=\"test\")\n",
        "plt.legend()\n",
        "plt.show()"
      ],
      "execution_count": 26,
      "outputs": [
        {
          "output_type": "display_data",
          "data": {
            "image/png": "[encoded data removed]",
            "text/plain": [
              "<matplotlib.figure.Figure at 0x7f9608adee10>"
            ]
          },
          "metadata": {
            "tags": []
          }
        }
      ]
    },
    {
      "metadata": {
        "colab_type": "text",
        "id": "Z-DHlkaIPkQf"
      },
      "cell_type": "markdown",
      "source": [
        "## 가중치 정보"
      ]
    },
    {
      "metadata": {
        "colab_type": "text",
        "id": "6wMUIyl9PkQg"
      },
      "cell_type": "markdown",
      "source": [
        "> 트레이닝이 끝난 모형의 가중치 정보는 get_weights 메서드로 구할 수 있다. 이 메서드는 w 값과 b 값을 출력한다."
      ]
    },
    {
      "metadata": {
        "colab_type": "code",
        "id": "FPs0dIqGPkQi",
        "outputId": "f3fe3baf-ab9a-4cbe-93a5-87b716673521",
        "colab": {
          "base_uri": "https://localhost:8080/",
          "height": 35
        }
      },
      "cell_type": "code",
      "source": [
        "w1 = l1.get_weights()\n",
        "w1[0].shape, w1[1].shape"
      ],
      "execution_count": 27,
      "outputs": [
        {
          "output_type": "execute_result",
          "data": {
            "text/plain": [
              "((3, 3, 1, 32), (32,))"
            ]
          },
          "metadata": {
            "tags": []
          },
          "execution_count": 27
        }
      ]
    },
    {
      "metadata": {
        "colab_type": "code",
        "id": "N8O1tOezPkQn",
        "outputId": "cf36dc40-83e0-4000-f34e-9119db560872",
        "colab": {
          "base_uri": "https://localhost:8080/",
          "height": 35
        }
      },
      "cell_type": "code",
      "source": [
        "w2 = l2.get_weights()\n",
        "w2[0].shape, w2[1].shape"
      ],
      "execution_count": 28,
      "outputs": [
        {
          "output_type": "execute_result",
          "data": {
            "text/plain": [
              "((3, 3, 32, 64), (64,))"
            ]
          },
          "metadata": {
            "tags": []
          },
          "execution_count": 28
        }
      ]
    },
    {
      "metadata": {
        "colab_type": "text",
        "id": "LZXFhiKmPkQq"
      },
      "cell_type": "markdown",
      "source": [
        "## 모형의 사용\n",
        "\n",
        "> 트레이닝이 끝난 모형은 predict 메서드로 y 값을 출력하거나 출력된 y값을 각 클래스에 대한 판별함수로 가정하고 predict_classes 메서드로 classification을 할 수 있다."
      ]
    },
    {
      "metadata": {
        "colab_type": "code",
        "id": "39qRwSsUPkQr",
        "outputId": "b3d444dc-c3bb-40f0-c873-6808d1033542",
        "colab": {
          "base_uri": "https://localhost:8080/",
          "height": 140
        }
      },
      "cell_type": "code",
      "source": [
        "plt.figure(figsize=(2, 2))\n",
        "plt.imshow(X_test0[0], cmap=mpl.cm.bone_r)\n",
        "plt.grid(False)\n",
        "plt.xticks([])\n",
        "plt.yticks([])\n",
        "plt.show()"
      ],
      "execution_count": 29,
      "outputs": [
        {
          "output_type": "display_data",
          "data": {
            "image/png": "[encoded data removed]",
            "text/plain": [
              "<matplotlib.figure.Figure at 0x7f9606176240>"
            ]
          },
          "metadata": {
            "tags": []
          }
        }
      ]
    },
    {
      "metadata": {
        "colab_type": "code",
        "id": "NGqV-k-WPkQv",
        "outputId": "bd146c32-9702-4714-a497-b75e93cfe532",
        "colab": {
          "base_uri": "https://localhost:8080/",
          "height": 71
        }
      },
      "cell_type": "code",
      "source": [
        "model.predict(X_test[:1, :]) #10*1"
      ],
      "execution_count": 31,
      "outputs": [
        {
          "output_type": "execute_result",
          "data": {
            "text/plain": [
              "array([[2.5337166e-23, 3.4997254e-17, 4.1369427e-21, 1.4310819e-19,\n",
              "        1.6725631e-25, 7.4119816e-22, 2.2541835e-34, 1.0000000e+00,\n",
              "        3.8005697e-24, 1.4192797e-18]], dtype=float32)"
            ]
          },
          "metadata": {
            "tags": []
          },
          "execution_count": 31
        }
      ]
    },
    {
      "metadata": {
        "colab_type": "code",
        "id": "tRQ9Rw_sPkQy",
        "outputId": "12aa83ae-d2c9-44ae-8b7e-8fb63f5ea40e",
        "colab": {
          "base_uri": "https://localhost:8080/",
          "height": 35
        }
      },
      "cell_type": "code",
      "source": [
        "model.predict_classes(X_test[:1, :], verbose=0)"
      ],
      "execution_count": 32,
      "outputs": [
        {
          "output_type": "execute_result",
          "data": {
            "text/plain": [
              "array([7])"
            ]
          },
          "metadata": {
            "tags": []
          },
          "execution_count": 32
        }
      ]
    },
    {
      "metadata": {
        "colab_type": "text",
        "id": "srzftvKTPkQ4"
      },
      "cell_type": "markdown",
      "source": [
        "## DL 모형의 저장\n",
        "\n",
        ">  트레이닝이 끝난 모형은 save 메서드로 가중치와 함께 hdf5 형식으로 저장하였다가 나중에 load 명령으로 불러 사용할 수 있다."
      ]
    },
    {
      "metadata": {
        "colab_type": "code",
        "id": "zJrolYqcPkQ5",
        "colab": {}
      },
      "cell_type": "code",
      "source": [
        "model.save('my_model_dl.hdf5')\n",
        "# del model"
      ],
      "execution_count": 0,
      "outputs": []
    },
    {
      "metadata": {
        "id": "3hWFZrEEnXpg",
        "colab_type": "code",
        "outputId": "481ec9b9-06b6-49cc-f787-a08c47e5e2a3",
        "colab": {
          "base_uri": "https://localhost:8080/",
          "height": 35
        }
      },
      "cell_type": "code",
      "source": [
        "ls"
      ],
      "execution_count": 34,
      "outputs": [
        {
          "output_type": "stream",
          "text": [
            "model_DL.png  my_model_dl.hdf5  \u001b[0m\u001b[01;34msample_data\u001b[0m/\n"
          ],
          "name": "stdout"
        }
      ]
    },
    {
      "metadata": {
        "colab_type": "code",
        "id": "np9AT_PPSomd",
        "outputId": "9133c454-2924-4adf-e88a-d70596313e74",
        "colab": {
          "base_uri": "https://localhost:8080/",
          "height": 71
        }
      },
      "cell_type": "code",
      "source": [
        "!ls sample_data"
      ],
      "execution_count": 35,
      "outputs": [
        {
          "output_type": "stream",
          "text": [
            "anscombe.json\t\t      mnist_test.csv\n",
            "california_housing_test.csv   mnist_train_small.csv\n",
            "california_housing_train.csv  README.md\n"
          ],
          "name": "stdout"
        }
      ]
    },
    {
      "metadata": {
        "colab_type": "code",
        "id": "JfBu6IunPkQ8",
        "outputId": "a1136234-d72a-40f4-a4a7-31333a0e29c7",
        "colab": {
          "base_uri": "https://localhost:8080/",
          "height": 35
        }
      },
      "cell_type": "code",
      "source": [
        "from keras.models import load_model\n",
        "\n",
        "model2 = load_model('my_model_dl.hdf5')\n",
        "model2.predict_classes(X_test[:1, :], verbose=0)"
      ],
      "execution_count": 36,
      "outputs": [
        {
          "output_type": "execute_result",
          "data": {
            "text/plain": [
              "array([7])"
            ]
          },
          "metadata": {
            "tags": []
          },
          "execution_count": 36
        }
      ]
    },
    {
      "metadata": {
        "colab_type": "code",
        "id": "jGNA5WC9PkRA",
        "outputId": "c3ca8e7c-2034-4641-a339-1d76889a4481",
        "colab": {
          "base_uri": "https://localhost:8080/",
          "height": 35
        }
      },
      "cell_type": "code",
      "source": [
        "model2.predict_classes(X_test[:10, :], verbose=0)"
      ],
      "execution_count": 37,
      "outputs": [
        {
          "output_type": "execute_result",
          "data": {
            "text/plain": [
              "array([7, 2, 1, 0, 4, 1, 4, 9, 5, 9])"
            ]
          },
          "metadata": {
            "tags": []
          },
          "execution_count": 37
        }
      ]
    },
    {
      "metadata": {
        "colab_type": "code",
        "id": "ygAqLgiHPkRE",
        "outputId": "beed6e00-c312-456a-de11-8bf730cbfe50",
        "colab": {
          "base_uri": "https://localhost:8080/",
          "height": 35
        }
      },
      "cell_type": "code",
      "source": [
        "y_test0[:10]"
      ],
      "execution_count": 38,
      "outputs": [
        {
          "output_type": "execute_result",
          "data": {
            "text/plain": [
              "array([7, 2, 1, 0, 4, 1, 4, 9, 5, 9], dtype=uint8)"
            ]
          },
          "metadata": {
            "tags": []
          },
          "execution_count": 38
        }
      ]
    },
    {
      "metadata": {
        "colab_type": "text",
        "id": "p9Y6NuoePkRH"
      },
      "cell_type": "markdown",
      "source": [
        "### 테스트 데이터에 대한 예측 정확도 계산 "
      ]
    },
    {
      "metadata": {
        "colab_type": "code",
        "id": "r8bV6coBPkRI",
        "outputId": "11ab4406-1c85-4e30-e2d1-db249f0ac1a6",
        "colab": {
          "base_uri": "https://localhost:8080/",
          "height": 53
        }
      },
      "cell_type": "code",
      "source": [
        "# Correct prediction\n",
        "model2.predict_classes(X_test[8:9, :], verbose=1)"
      ],
      "execution_count": 39,
      "outputs": [
        {
          "output_type": "stream",
          "text": [
            "\r1/1 [==============================] - 0s 3ms/step\n"
          ],
          "name": "stdout"
        },
        {
          "output_type": "execute_result",
          "data": {
            "text/plain": [
              "array([5])"
            ]
          },
          "metadata": {
            "tags": []
          },
          "execution_count": 39
        }
      ]
    },
    {
      "metadata": {
        "colab_type": "code",
        "id": "9lCIt9QePkRT",
        "outputId": "69abfb50-30c3-4246-e89d-1606eb5c058b",
        "colab": {
          "base_uri": "https://localhost:8080/",
          "height": 35
        }
      },
      "cell_type": "code",
      "source": [
        "y_test0[8]"
      ],
      "execution_count": 40,
      "outputs": [
        {
          "output_type": "execute_result",
          "data": {
            "text/plain": [
              "5"
            ]
          },
          "metadata": {
            "tags": []
          },
          "execution_count": 40
        }
      ]
    },
    {
      "metadata": {
        "colab_type": "code",
        "id": "rVmuXg4lPkRX",
        "outputId": "27b89ffa-9621-4013-8152-9d0020996d84",
        "colab": {
          "base_uri": "https://localhost:8080/",
          "height": 35
        }
      },
      "cell_type": "code",
      "source": [
        "# 전체 테스트 데이터에 대한 예측\n",
        "x_pred = model2.predict_classes(X_test, verbose=1)"
      ],
      "execution_count": 41,
      "outputs": [
        {
          "output_type": "stream",
          "text": [
            "10000/10000 [==============================] - 1s 96us/step\n"
          ],
          "name": "stdout"
        }
      ]
    },
    {
      "metadata": {
        "colab_type": "code",
        "id": "vPyMIn3yPkRa",
        "outputId": "79207351-ef00-4166-9aec-aee35e5e6aa7",
        "colab": {
          "base_uri": "https://localhost:8080/",
          "height": 35
        }
      },
      "cell_type": "code",
      "source": [
        "t_count = np.sum(x_pred==y_test0) # True positive\n",
        "f_count = np.sum(x_pred!=y_test0) # False positive\n",
        "f_count==10000-t_count"
      ],
      "execution_count": 42,
      "outputs": [
        {
          "output_type": "execute_result",
          "data": {
            "text/plain": [
              "True"
            ]
          },
          "metadata": {
            "tags": []
          },
          "execution_count": 42
        }
      ]
    },
    {
      "metadata": {
        "colab_type": "code",
        "id": "h94J6VBWPkRg",
        "outputId": "4fa9cfa4-7067-4d0f-d12e-dd30c5786574",
        "colab": {
          "base_uri": "https://localhost:8080/",
          "height": 35
        }
      },
      "cell_type": "code",
      "source": [
        "t_count,f_count"
      ],
      "execution_count": 43,
      "outputs": [
        {
          "output_type": "execute_result",
          "data": {
            "text/plain": [
              "(9937, 63)"
            ]
          },
          "metadata": {
            "tags": []
          },
          "execution_count": 43
        }
      ]
    },
    {
      "metadata": {
        "colab_type": "code",
        "id": "pWv5_DB7PkRm",
        "outputId": "b57a8a2b-3a36-4482-d960-99b2046b856f",
        "colab": {
          "base_uri": "https://localhost:8080/",
          "height": 35
        }
      },
      "cell_type": "code",
      "source": [
        "accuracy = t_count/10000*100\n",
        "accuracy"
      ],
      "execution_count": 44,
      "outputs": [
        {
          "output_type": "execute_result",
          "data": {
            "text/plain": [
              "99.37"
            ]
          },
          "metadata": {
            "tags": []
          },
          "execution_count": 44
        }
      ]
    },
    {
      "metadata": {
        "colab_type": "text",
        "id": "cSEv58pjPkRp"
      },
      "cell_type": "markdown",
      "source": [
        "## DL is great!!!"
      ]
    },
    {
      "metadata": {
        "id": "XGINZBi-Hv5D",
        "colab_type": "text"
      },
      "cell_type": "markdown",
      "source": [
        "### Goood introduction to CNN\n",
        "- [Image(Cat vs. dog) classifier with CNN](https://towardsdatascience.com/image-classifier-cats-vs-dogs-with-convolutional-neural-networks-cnns-and-google-colabs-4e9af21ae7a8)\n",
        "\n",
        "- [Full CNN overview](https://cdn-images-1.medium.com/max/1100/1*qsbsCVyu376kqdnNcdxmmw.png)\n",
        "- [Process of CNN](https://cdn-images-1.medium.com/max/1100/1*yZQjaMKHjm1HzDF4t4juzg.png)"
      ]
    },
    {
      "metadata": {
        "colab_type": "code",
        "id": "ov3KjFMNPkRq",
        "colab": {}
      },
      "cell_type": "code",
      "source": [
        ""
      ],
      "execution_count": 0,
      "outputs": []
    }
  ]
}