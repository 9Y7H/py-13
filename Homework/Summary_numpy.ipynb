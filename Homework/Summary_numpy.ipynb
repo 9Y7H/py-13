{
  "nbformat": 4,
  "nbformat_minor": 0,
  "metadata": {
    "colab": {
      "name": "Summary_numpy.ipynb",
      "version": "0.3.2",
      "provenance": [],
      "collapsed_sections": [],
      "include_colab_link": true
    },
    "kernelspec": {
      "name": "python3",
      "display_name": "Python 3"
    }
  },
  "cells": [
    {
      "cell_type": "markdown",
      "metadata": {
        "id": "view-in-github",
        "colab_type": "text"
      },
      "source": [
        "<a href=\"https://colab.research.google.com/github/9Y7H/py-13/blob/master/Homework/Summary_numpy.ipynb\" target=\"_parent\"><img src=\"https://colab.research.google.com/assets/colab-badge.svg\" alt=\"Open In Colab\"/></a>"
      ]
    },
    {
      "metadata": {
        "id": "tzaSGpvLYwbG",
        "colab_type": "toc"
      },
      "cell_type": "markdown",
      "source": [
        ">>>[라이브러리 - overview](#scrollTo=Oowy-rXCINrL)\n",
        "\n",
        ">>>[라이브러리 - numpy](#scrollTo=lwkU4jfreQMo)\n",
        "\n",
        ">>>>>[numpy란?](#scrollTo=lwkU4jfreQMo)\n",
        "\n",
        ">>>>>[numpy vs list](#scrollTo=lwkU4jfreQMo)\n",
        "\n",
        ">>>[라이브러리-numpy vector(1차원 배열)](#scrollTo=o_9t87yDgkeg)\n",
        "\n",
        ">>>>>[벡터(vector) 생성](#scrollTo=o_9t87yDgkeg)\n",
        "\n",
        ">>>>>[벡터(vector) 산술연산](#scrollTo=sx4n8wUylHF-)\n",
        "\n",
        ">>>[라이브러리-numpy matrix(행렬)](#scrollTo=G7AYXs34kGfm)\n",
        "\n",
        ">>>>>[행렬(matrix) 생성](#scrollTo=G7AYXs34kGfm)\n",
        "\n",
        ">>>>>[형 변환(reshape)](#scrollTo=kkGFjkzylNo5)\n",
        "\n",
        ">>>[리이브러리-numpy 행렬 곱(dot product)](#scrollTo=njx2ym96m7cu)\n",
        "\n",
        ">>>>>[행렬 곱(dot product)(1)](#scrollTo=njx2ym96m7cu)\n",
        "\n",
        ">>>>>[행렬 곱(dot product)(2)](#scrollTo=k9i3f7eqoylr)\n",
        "\n",
        ">>>[라이브러리-numpy broadcast](#scrollTo=1iRn5ED-p2H1)\n",
        "\n",
        ">>>[라이브러리-nupmy 전치행렬(transpose)](#scrollTo=Kv0MmfNvqz_N)\n",
        "\n",
        ">>>>>[전치행렬(transpose)](#scrollTo=Kv0MmfNvqz_N)\n",
        "\n",
        ">>>[라이브러리-numpy 행렬 indexing/ slicing](#scrollTo=7PEwUy13ts0A)\n",
        "\n",
        ">>>>>[행렬 원소 접근(1)](#scrollTo=7PEwUy13ts0A)\n",
        "\n",
        ">>>[라이브러리-numpy 행렬 iterator](#scrollTo=subzM4ZZvYTb)\n",
        "\n",
        ">>>>>[행렬 원소 접근(2)](#scrollTo=subzM4ZZvYTb)\n",
        "\n"
      ]
    },
    {
      "metadata": {
        "id": "Oowy-rXCINrL",
        "colab_type": "text"
      },
      "cell_type": "markdown",
      "source": [
        "###라이브러리 - overview"
      ]
    },
    {
      "metadata": {
        "id": "eplqNvMXICUk",
        "colab_type": "code",
        "outputId": "5bb27112-a737-45fe-a9fe-f9ef59390586",
        "colab": {
          "base_uri": "https://localhost:8080/",
          "height": 35
        }
      },
      "cell_type": "code",
      "source": [
        "import numpy\n",
        "\n",
        "A = numpy.array([1,2])\n",
        "\n",
        "print(\"A ==\", A, \",type ==\",type(A))"
      ],
      "execution_count": 1,
      "outputs": [
        {
          "output_type": "stream",
          "text": [
            "A == [1 2] ,type == <class 'numpy.ndarray'>\n"
          ],
          "name": "stdout"
        }
      ]
    },
    {
      "metadata": {
        "id": "uP5YDkh5IvY9",
        "colab_type": "code",
        "outputId": "c0b740e0-1ff4-434c-cfad-abd4a39b04ca",
        "colab": {
          "base_uri": "https://localhost:8080/",
          "height": 35
        }
      },
      "cell_type": "code",
      "source": [
        "import numpy as np\n",
        "\n",
        "A = np.array([1,2])\n",
        "\n",
        "print(\"A ==\", A, \",type ==\",type(A))"
      ],
      "execution_count": 2,
      "outputs": [
        {
          "output_type": "stream",
          "text": [
            "A == [1 2] ,type == <class 'numpy.ndarray'>\n"
          ],
          "name": "stdout"
        }
      ]
    },
    {
      "metadata": {
        "id": "nBe_TpQQJBlM",
        "colab_type": "code",
        "outputId": "53a86172-603c-4e24-ffad-f306911b05ff",
        "colab": {
          "base_uri": "https://localhost:8080/",
          "height": 35
        }
      },
      "cell_type": "code",
      "source": [
        "from numpy import exp\n",
        "\n",
        "result = exp(1)\n",
        "\n",
        "print(\"result ==\", result,\", type ==\", type(result))"
      ],
      "execution_count": 3,
      "outputs": [
        {
          "output_type": "stream",
          "text": [
            "result == 2.718281828459045 , type == <class 'numpy.float64'>\n"
          ],
          "name": "stdout"
        }
      ]
    },
    {
      "metadata": {
        "id": "fxtZis_5JSbG",
        "colab_type": "code",
        "outputId": "a291ccbb-62fa-4549-af6e-7389b1e010a4",
        "colab": {
          "base_uri": "https://localhost:8080/",
          "height": 35
        }
      },
      "cell_type": "code",
      "source": [
        "from numpy import *\n",
        "\n",
        "result = exp(1) + log(1.7) + sqrt(2)\n",
        "\n",
        "print(\"result ==\", result,\", type ==\", type(result))"
      ],
      "execution_count": 4,
      "outputs": [
        {
          "output_type": "stream",
          "text": [
            "result == 4.663123641894311 , type == <class 'numpy.float64'>\n"
          ],
          "name": "stdout"
        }
      ]
    },
    {
      "metadata": {
        "id": "lwkU4jfreQMo",
        "colab_type": "text"
      },
      "cell_type": "markdown",
      "source": [
        "###라이브러리 - numpy\n",
        "\n",
        "\n",
        "#####numpy란?\n",
        "\n",
        "=>머신러닝 코드 개발할 경우 자주 사용되는 벡터, 행렬 등을 표현하고 연산될 때 반드시 필요한 라이브러리\n",
        "\n",
        "#####numpy vs list\n",
        "\n",
        "=>머신러닝에서 숫자, 사람, 동물 등의 인식을 하기 위해서는 이미지(image)데이터를 행렬(matrix)로 변환하는 것이 중요\n",
        "\n",
        "=>행렬(matrix)을 나타내기 위해서는 리스트(list)를 사용할 수도 있지만, 행렬 연산이 직관적이지 않고 오류 가능성이 높기 때문에, 행렬 연산을 위해서는 numpy 사용이 필수임"
      ]
    },
    {
      "metadata": {
        "id": "q0R2Sv3-JpDq",
        "colab_type": "code",
        "colab": {}
      },
      "cell_type": "code",
      "source": [
        "import numpy as no"
      ],
      "execution_count": 0,
      "outputs": []
    },
    {
      "metadata": {
        "id": "K22A2y8WfzCL",
        "colab_type": "code",
        "colab": {}
      },
      "cell_type": "code",
      "source": [
        "#리스트로 행렬 표현\n",
        "\n",
        "A = [ [1,0], [0,1] ]\n",
        "B = [ [1,1], [1,1] ]"
      ],
      "execution_count": 0,
      "outputs": []
    },
    {
      "metadata": {
        "id": "XvickkQTgAf0",
        "colab_type": "code",
        "outputId": "be1838e9-201e-4432-ac20-e36881ab6935",
        "colab": {
          "base_uri": "https://localhost:8080/",
          "height": 35
        }
      },
      "cell_type": "code",
      "source": [
        "A + B #행렬 연산이 아닌 리스트 연산"
      ],
      "execution_count": 7,
      "outputs": [
        {
          "output_type": "execute_result",
          "data": {
            "text/plain": [
              "[[1, 0], [0, 1], [1, 1], [1, 1]]"
            ]
          },
          "metadata": {
            "tags": []
          },
          "execution_count": 7
        }
      ]
    },
    {
      "metadata": {
        "id": "rCB9G21RgEuw",
        "colab_type": "code",
        "colab": {}
      },
      "cell_type": "code",
      "source": [
        "#numpy, matrix, 직관적임\n",
        "\n",
        "A = np.array([ [1,0], [0,1] ])\n",
        "B = np.array([ [1,1], [1,1] ])"
      ],
      "execution_count": 0,
      "outputs": []
    },
    {
      "metadata": {
        "id": "rvU-Iq4ggVVK",
        "colab_type": "code",
        "outputId": "86a75dd3-3c1b-4850-9850-c00f0b474b4a",
        "colab": {
          "base_uri": "https://localhost:8080/",
          "height": 54
        }
      },
      "cell_type": "code",
      "source": [
        "A + B #행렬 연산"
      ],
      "execution_count": 9,
      "outputs": [
        {
          "output_type": "execute_result",
          "data": {
            "text/plain": [
              "array([[2, 1],\n",
              "       [1, 2]])"
            ]
          },
          "metadata": {
            "tags": []
          },
          "execution_count": 9
        }
      ]
    },
    {
      "metadata": {
        "id": "o_9t87yDgkeg",
        "colab_type": "text"
      },
      "cell_type": "markdown",
      "source": [
        "###라이브러리-numpy vector(1차원 배열)\n",
        "\n",
        "#####*  벡터(vector) 생성\n",
        "\n",
        "=>vector는 np.array([...])를 사용하여 생성함(import numpy as np)\n",
        "\n",
        "=>머신러닝 코드 구현시, 연산을 위해서 vetcor, matrix등의 형상(shape),차원(dimension)을 확인하는 것이 필요함\n"
      ]
    },
    {
      "metadata": {
        "id": "DBZ9s0gOgZTH",
        "colab_type": "code",
        "colab": {}
      },
      "cell_type": "code",
      "source": [
        "A = np.array([1, 2, 3])\n",
        "B = np.array([4, 5, 6])"
      ],
      "execution_count": 0,
      "outputs": []
    },
    {
      "metadata": {
        "id": "YqWAEYLZiZmJ",
        "colab_type": "code",
        "outputId": "04606452-adfc-40b3-ef98-dbe041e5cd5d",
        "colab": {
          "base_uri": "https://localhost:8080/",
          "height": 35
        }
      },
      "cell_type": "code",
      "source": [
        "#vector A, B 출력\n",
        "print(\"A ==\", A,\", B ==\",B)"
      ],
      "execution_count": 11,
      "outputs": [
        {
          "output_type": "stream",
          "text": [
            "A == [1 2 3] , B == [4 5 6]\n"
          ],
          "name": "stdout"
        }
      ]
    },
    {
      "metadata": {
        "id": "WSSTYJhNinto",
        "colab_type": "code",
        "outputId": "2801f821-84da-47bb-b678-91c4bcc0e491",
        "colab": {
          "base_uri": "https://localhost:8080/",
          "height": 35
        }
      },
      "cell_type": "code",
      "source": [
        "#vector A, B 형상 출력 => shape\n",
        "print(\"A.shape ==\",A.shape,\", B.shaape ==\",B.shape)"
      ],
      "execution_count": 12,
      "outputs": [
        {
          "output_type": "stream",
          "text": [
            "A.shape == (3,) , B.shaape == (3,)\n"
          ],
          "name": "stdout"
        }
      ]
    },
    {
      "metadata": {
        "id": "RsSYkW-LjJo6",
        "colab_type": "code",
        "outputId": "3211eafa-a36b-4451-ee8e-5de8e987a1cf",
        "colab": {
          "base_uri": "https://localhost:8080/",
          "height": 35
        }
      },
      "cell_type": "code",
      "source": [
        "#vector A, B 차원 출력 => ndim\n",
        "print(\"A.ndim ==\",A.ndim,\", B.ndim ==\",B.ndim)"
      ],
      "execution_count": 13,
      "outputs": [
        {
          "output_type": "stream",
          "text": [
            "A.ndim == 1 , B.ndim == 1\n"
          ],
          "name": "stdout"
        }
      ]
    },
    {
      "metadata": {
        "id": "sx4n8wUylHF-",
        "colab_type": "text"
      },
      "cell_type": "markdown",
      "source": [
        "#####*   벡터(vector) 산술연산\n",
        "\n",
        "=>vector 간 산술연산(+, -, *, /)은 벡터의 각각의 원소에 대하여 행해짐"
      ]
    },
    {
      "metadata": {
        "id": "7OdBR-abjTTw",
        "colab_type": "code",
        "outputId": "ea7aa699-3650-4f0f-942b-91c058c81409",
        "colab": {
          "base_uri": "https://localhost:8080/",
          "height": 90
        }
      },
      "cell_type": "code",
      "source": [
        "#vector 산술 연산\n",
        "\n",
        "print(\"A + B ==\", A+B)\n",
        "print(\"A - B ==\", A-B)\n",
        "print(\"A * B ==\", A*B)\n",
        "print(\"A / B ==\", A/B)"
      ],
      "execution_count": 14,
      "outputs": [
        {
          "output_type": "stream",
          "text": [
            "A + B == [5 7 9]\n",
            "A - B == [-3 -3 -3]\n",
            "A * B == [ 4 10 18]\n",
            "A / B == [0.25 0.4  0.5 ]\n"
          ],
          "name": "stdout"
        }
      ]
    },
    {
      "metadata": {
        "id": "G7AYXs34kGfm",
        "colab_type": "text"
      },
      "cell_type": "markdown",
      "source": [
        "###라이브러리-numpy matrix(행렬)\n",
        "\n",
        "\n",
        "#####*   행렬(matrix) 생성\n",
        "\n",
        "=>matrix는 vector와 마찬가지로 np.array([ [...],[...], ...])를 사용하여 생성함(import numpy as np)\n"
      ]
    },
    {
      "metadata": {
        "id": "Hbafvmdfj62H",
        "colab_type": "code",
        "colab": {}
      },
      "cell_type": "code",
      "source": [
        "A = np.array([[1, 2, 3],[4, 5, 6]])\n",
        "B = np.array([[-1, -2, -3],[-4,-5,-6]])"
      ],
      "execution_count": 0,
      "outputs": []
    },
    {
      "metadata": {
        "id": "6iOsrzoQlUa2",
        "colab_type": "code",
        "outputId": "52e75610-35d1-4cf2-ae17-cad5d301ea2c",
        "colab": {
          "base_uri": "https://localhost:8080/",
          "height": 35
        }
      },
      "cell_type": "code",
      "source": [
        "#matrix A, B 형상 출력 => shape\n",
        "print(\"A.shape ==\",A.shape,\", B.shape ==\",B.shape)"
      ],
      "execution_count": 16,
      "outputs": [
        {
          "output_type": "stream",
          "text": [
            "A.shape == (2, 3) , B.shape == (2, 3)\n"
          ],
          "name": "stdout"
        }
      ]
    },
    {
      "metadata": {
        "id": "jfh4XMdylnHE",
        "colab_type": "code",
        "outputId": "aba341b5-41fc-4362-94c9-ad082e0acb13",
        "colab": {
          "base_uri": "https://localhost:8080/",
          "height": 35
        }
      },
      "cell_type": "code",
      "source": [
        "#matrix A, B 차원 출력 => ndim\n",
        "print(\"A.ndim ==\",A.ndim,\", B.ndim ==\",B.ndim)"
      ],
      "execution_count": 17,
      "outputs": [
        {
          "output_type": "stream",
          "text": [
            "A.ndim == 2 , B.ndim == 2\n"
          ],
          "name": "stdout"
        }
      ]
    },
    {
      "metadata": {
        "id": "kkGFjkzylNo5",
        "colab_type": "text"
      },
      "cell_type": "markdown",
      "source": [
        "#####*   형 변환(reshape)\n",
        "\n",
        "=>vector를 matrix로 변경하거나 matrix를 다른 형상의 matrix로 변경하기 위해서는 reshape() 사용하여 행렬의 shape을 변경하여야 함"
      ]
    },
    {
      "metadata": {
        "id": "vcqpOL7_l55C",
        "colab_type": "code",
        "colab": {}
      },
      "cell_type": "code",
      "source": [
        "C = np.array([1, 2, 3])"
      ],
      "execution_count": 0,
      "outputs": []
    },
    {
      "metadata": {
        "id": "JSU8T5M8mBG2",
        "colab_type": "code",
        "outputId": "bb1d8958-fe22-4b49-e654-04182e429062",
        "colab": {
          "base_uri": "https://localhost:8080/",
          "height": 35
        }
      },
      "cell_type": "code",
      "source": [
        "#vector C형상 출력 => shape\n",
        "print(\"C.shape ==\", C.shape)"
      ],
      "execution_count": 19,
      "outputs": [
        {
          "output_type": "stream",
          "text": [
            "C.shape == (3,)\n"
          ],
          "name": "stdout"
        }
      ]
    },
    {
      "metadata": {
        "id": "sFdQ9OTCmX3r",
        "colab_type": "code",
        "colab": {}
      },
      "cell_type": "code",
      "source": [
        "#vector를 (1,3) 행렬로 형 변환\n",
        "C = C.reshape(1, 3)"
      ],
      "execution_count": 0,
      "outputs": []
    },
    {
      "metadata": {
        "id": "S06Pzbpxmiy0",
        "colab_type": "code",
        "outputId": "abb15154-1445-4fe6-b9bc-9fb3301baf05",
        "colab": {
          "base_uri": "https://localhost:8080/",
          "height": 35
        }
      },
      "cell_type": "code",
      "source": [
        "print(\"C.shape ==\", C.shape)"
      ],
      "execution_count": 21,
      "outputs": [
        {
          "output_type": "stream",
          "text": [
            "C.shape == (1, 3)\n"
          ],
          "name": "stdout"
        }
      ]
    },
    {
      "metadata": {
        "id": "njx2ym96m7cu",
        "colab_type": "text"
      },
      "cell_type": "markdown",
      "source": [
        "###리이브러리-numpy 행렬 곱(dot product)\n",
        "\n",
        "#####*   행렬 곱(dot product)(1)\n",
        "\n",
        "=>A행렬과 B행렬의 행렬 곱(dot product)는 np.dot(A,B) 나타내며, 행렬 A의 열 벡터와 B 행렬의 행 벡터가 같아야 함\n",
        "\n",
        "=>만약 같지 않다면 reshape 또는 전치행렬(transpose)등을 사용하여 형 변환을 한 후에 행렬 곱 실행해야 함\n",
        "\n"
      ]
    },
    {
      "metadata": {
        "id": "gTieiaBemnQw",
        "colab_type": "code",
        "colab": {}
      },
      "cell_type": "code",
      "source": [
        "A = np.array([ [1, 2, 3], [4, 5, 6]]) #2X3 행렬\n",
        "B = np.array([ [-1, -2], [-3, -4], [-5, -6] ]) #3X2 행렬"
      ],
      "execution_count": 0,
      "outputs": []
    },
    {
      "metadata": {
        "id": "ZKt077CwoD0l",
        "colab_type": "code",
        "colab": {}
      },
      "cell_type": "code",
      "source": [
        "#(2X3) dot product (3X2) ==(2X2) 행렬\n",
        "C = np.dot(A, B) #행렬 곱 수행"
      ],
      "execution_count": 0,
      "outputs": []
    },
    {
      "metadata": {
        "id": "7w3rfT4yoTG4",
        "colab_type": "code",
        "outputId": "3fc11464-15da-4dd8-970f-3a135ff0c4e5",
        "colab": {
          "base_uri": "https://localhost:8080/",
          "height": 90
        }
      },
      "cell_type": "code",
      "source": [
        "#matrix A, B 형상 출력 => shape\n",
        "print(\"A.shape ==\", A.shape,\", B.shape ==\", B.shape)\n",
        "print(\"C.shape ==\",C.shape)\n",
        "print(C)"
      ],
      "execution_count": 24,
      "outputs": [
        {
          "output_type": "stream",
          "text": [
            "A.shape == (2, 3) , B.shape == (3, 2)\n",
            "C.shape == (2, 2)\n",
            "[[-22 -28]\n",
            " [-49 -64]]\n"
          ],
          "name": "stdout"
        }
      ]
    },
    {
      "metadata": {
        "id": "k9i3f7eqoylr",
        "colab_type": "text"
      },
      "cell_type": "markdown",
      "source": [
        "\n",
        "\n",
        "#####*   행렬 곱(dot product)(2)\n",
        "1.행렬곱 조건을 만족하는 다양한 크기의 행렬을 연속으로 만든다\n",
        "\n",
        "2.행렬 곱을 연속으로 계산\n",
        "\n",
        "3.결과값을 만들 수 있기 때문에 머신러닝과 이미지 프로세싱 분야에서 자주 사용\n",
        "\n",
        "*다양한 특성을 갖는 필터 개발이 불가능*\n",
        "\n"
      ]
    },
    {
      "metadata": {
        "id": "1iRn5ED-p2H1",
        "colab_type": "text"
      },
      "cell_type": "markdown",
      "source": [
        "###라이브러리-numpy broadcast\n",
        "=>numpy에서는 크기가 다른 두 행렬 간에서도 사칙연산(+, -, *, /)을 할 수 있는데 이를 브로드캐스트(broadcast)라고 지칭함 \n",
        "\n",
        "=> 차원이 작은 쪽이 큰 쪽의 행 단위로 반복적으로 크기를 맞춘 후에 계산"
      ]
    },
    {
      "metadata": {
        "id": "ErMX5f65omVX",
        "colab_type": "code",
        "colab": {}
      },
      "cell_type": "code",
      "source": [
        "A = np.array([ [1, 2], [3, 4]])\n",
        "b =5"
      ],
      "execution_count": 0,
      "outputs": []
    },
    {
      "metadata": {
        "id": "RACt7uAiqe9Q",
        "colab_type": "code",
        "outputId": "c4fdfe28-ef20-425a-b689-b1d6e12b85a0",
        "colab": {
          "base_uri": "https://localhost:8080/",
          "height": 54
        }
      },
      "cell_type": "code",
      "source": [
        "print(A+b)"
      ],
      "execution_count": 26,
      "outputs": [
        {
          "output_type": "stream",
          "text": [
            "[[6 7]\n",
            " [8 9]]\n"
          ],
          "name": "stdout"
        }
      ]
    },
    {
      "metadata": {
        "id": "TVfe-UC_qiCE",
        "colab_type": "code",
        "colab": {}
      },
      "cell_type": "code",
      "source": [
        "C = np.array([ [1, 2],[3, 4] ])\n",
        "D = np.array([4, 5])"
      ],
      "execution_count": 0,
      "outputs": []
    },
    {
      "metadata": {
        "id": "nZuRxxutqsCn",
        "colab_type": "code",
        "outputId": "b24e847a-b5cf-4dc5-baab-85bbfa8e049d",
        "colab": {
          "base_uri": "https://localhost:8080/",
          "height": 54
        }
      },
      "cell_type": "code",
      "source": [
        "print(C+D)"
      ],
      "execution_count": 28,
      "outputs": [
        {
          "output_type": "stream",
          "text": [
            "[[5 7]\n",
            " [7 9]]\n"
          ],
          "name": "stdout"
        }
      ]
    },
    {
      "metadata": {
        "id": "Kv0MmfNvqz_N",
        "colab_type": "text"
      },
      "cell_type": "markdown",
      "source": [
        "###라이브러리-nupmy 전치행렬(transpose)\n",
        "\n",
        "\n",
        "#####*  전치행렬(transpose)\n",
        "\n",
        "=>어떤 행렬의 전치행렬(transposed matrix)은 원본 행렬의 열은 행으로, 행은 열로 바꾼 것으로서, 원본 행렬을 A라고 하면 A^T로 나타냄\n",
        "\n",
        "=>즉, 1행은 1열로 바꾸고 2행은 2열로, 3행은 3열로 바꾼 행렬을 의미\n",
        "\n"
      ]
    },
    {
      "metadata": {
        "id": "8BA2mmhcqt_p",
        "colab_type": "code",
        "colab": {}
      },
      "cell_type": "code",
      "source": [
        "A = np.array([ [1, 2],[3, 4],[5, 6] ]) #3X2 행렬\n",
        "B = A.T #A의 전치행렬, 2X3 행렬"
      ],
      "execution_count": 0,
      "outputs": []
    },
    {
      "metadata": {
        "id": "5oucrH3ysNsL",
        "colab_type": "code",
        "outputId": "a8aa0a84-fdfb-466d-ebac-257473890add",
        "colab": {
          "base_uri": "https://localhost:8080/",
          "height": 127
        }
      },
      "cell_type": "code",
      "source": [
        "print(\"A.shape ==\",A.shape,\", B.shape ==\",B.shape)\n",
        "print(A)\n",
        "print(B)"
      ],
      "execution_count": 30,
      "outputs": [
        {
          "output_type": "stream",
          "text": [
            "A.shape == (3, 2) , B.shape == (2, 3)\n",
            "[[1 2]\n",
            " [3 4]\n",
            " [5 6]]\n",
            "[[1 3 5]\n",
            " [2 4 6]]\n"
          ],
          "name": "stdout"
        }
      ]
    },
    {
      "metadata": {
        "id": "rWwKJdmPscF-",
        "colab_type": "code",
        "colab": {}
      },
      "cell_type": "code",
      "source": [
        "#vector 전치행렬\n",
        "\n",
        "C = np.array([ 1, 2, 3, 4, 5]) #vector, matrix 아님\n",
        "D = C.T #C는 vector 이므로 transpose 안됨"
      ],
      "execution_count": 0,
      "outputs": []
    },
    {
      "metadata": {
        "id": "CbIuK5gQs6JX",
        "colab_type": "code",
        "colab": {}
      },
      "cell_type": "code",
      "source": [
        "E = C.reshape(1,5) #1X5 matrix\n",
        "F = E.T #E의 전치행렬"
      ],
      "execution_count": 0,
      "outputs": []
    },
    {
      "metadata": {
        "id": "duFj6VTItGeU",
        "colab_type": "code",
        "outputId": "fad3485a-2ca8-4559-c348-e0fedf5070a6",
        "colab": {
          "base_uri": "https://localhost:8080/",
          "height": 146
        }
      },
      "cell_type": "code",
      "source": [
        "print(\"C.shape ==\", C.shape,\", D.shape ==\", D.shape)\n",
        "print(\"E.shape ==\", E.shape,\", F.shape ==\", F.shape)\n",
        "print(F)"
      ],
      "execution_count": 33,
      "outputs": [
        {
          "output_type": "stream",
          "text": [
            "C.shape == (5,) , D.shape == (5,)\n",
            "E.shape == (1, 5) , F.shape == (5, 1)\n",
            "[[1]\n",
            " [2]\n",
            " [3]\n",
            " [4]\n",
            " [5]]\n"
          ],
          "name": "stdout"
        }
      ]
    },
    {
      "metadata": {
        "id": "7PEwUy13ts0A",
        "colab_type": "text"
      },
      "cell_type": "markdown",
      "source": [
        "###라이브러리-numpy 행렬 indexing/ slicing\n",
        "\n",
        "\n",
        "#####*   행렬 원소 접근(1)\n",
        "\n",
        "=>행렬 원소를 명시적(explicit)으로 접근하기 위해서는 리스트(list)에서처럼, 인덱스/슬라이싱 모두 사용가능 함\n",
        "\n"
      ]
    },
    {
      "metadata": {
        "id": "1Bc0BiP3tbEz",
        "colab_type": "code",
        "colab": {}
      },
      "cell_type": "code",
      "source": [
        "A = np.array([10, 20, 30, 40, 50, 60]).reshape(3, 2)"
      ],
      "execution_count": 0,
      "outputs": []
    },
    {
      "metadata": {
        "id": "HHlA55ImuTK9",
        "colab_type": "code",
        "outputId": "59d79763-7548-4be2-c610-b0736e501f7b",
        "colab": {
          "base_uri": "https://localhost:8080/",
          "height": 90
        }
      },
      "cell_type": "code",
      "source": [
        "print(\"A.shape ==\",A.shape)\n",
        "print(A)"
      ],
      "execution_count": 35,
      "outputs": [
        {
          "output_type": "stream",
          "text": [
            "A.shape == (3, 2)\n",
            "[[10 20]\n",
            " [30 40]\n",
            " [50 60]]\n"
          ],
          "name": "stdout"
        }
      ]
    },
    {
      "metadata": {
        "id": "VV-voIseuYQA",
        "colab_type": "code",
        "outputId": "e8cd23b5-0dde-4648-97ef-1f282931af3b",
        "colab": {
          "base_uri": "https://localhost:8080/",
          "height": 54
        }
      },
      "cell_type": "code",
      "source": [
        "print(\"A[0, 0] ==\",A[0, 0],\", A[0][0] ==\",A[0][0]) #A[0,0] 과 A[0][0]의 값을 출력\n",
        "print(\"A[2, 1] ==\",A[2, 1],\", A[2][1] ==\",A[2][1]) #A[2,1] 과 A[2][1]의 값을 출력"
      ],
      "execution_count": 36,
      "outputs": [
        {
          "output_type": "stream",
          "text": [
            "A[0, 0] == 10 , A[0][0] == 10\n",
            "A[2, 1] == 60 , A[2][1] == 60\n"
          ],
          "name": "stdout"
        }
      ]
    },
    {
      "metadata": {
        "id": "AxCm2lYputUE",
        "colab_type": "code",
        "outputId": "5f12c8bb-911d-4d6f-e87f-1a5dc347c719",
        "colab": {
          "base_uri": "https://localhost:8080/",
          "height": 54
        }
      },
      "cell_type": "code",
      "source": [
        "print(\"A[0:-1, 1:2] ==\", A[0:-1, 1:2])#배열 A 의 인덱스 0번부터 마지막 값을 뺀 인덱스 중\n",
        "                                      # 인덱스 1번부터 2버을를 포함하지 않은 값을 출력"
      ],
      "execution_count": 37,
      "outputs": [
        {
          "output_type": "stream",
          "text": [
            "A[0:-1, 1:2] == [[20]\n",
            " [40]]\n"
          ],
          "name": "stdout"
        }
      ]
    },
    {
      "metadata": {
        "id": "bGEwqu_2u42x",
        "colab_type": "code",
        "outputId": "32ff374e-a9b8-4c18-93ef-aa6f167dcc26",
        "colab": {
          "base_uri": "https://localhost:8080/",
          "height": 90
        }
      },
      "cell_type": "code",
      "source": [
        "print(\"A[:,0] ==\",A[:,0])\n",
        "print(\"A[:, :] ==\",A[:, :])"
      ],
      "execution_count": 38,
      "outputs": [
        {
          "output_type": "stream",
          "text": [
            "A[:,0] == [10 30 50]\n",
            "A[:, :] == [[10 20]\n",
            " [30 40]\n",
            " [50 60]]\n"
          ],
          "name": "stdout"
        }
      ]
    },
    {
      "metadata": {
        "id": "subzM4ZZvYTb",
        "colab_type": "text"
      },
      "cell_type": "markdown",
      "source": [
        "###라이브러리-numpy 행렬 iterator\n",
        "\n",
        "\n",
        "#####*   행렬 원소 접근(2)\n",
        "\n",
        "=>명시적(explicit) 인덱스/ 슬라이싱 이외에, 행렬 모든 원소를 access하는 경우에는 iterator 사용가능\n",
        "\n"
      ]
    },
    {
      "metadata": {
        "id": "bvXpR4yOvHMk",
        "colab_type": "code",
        "outputId": "db4ed9a1-cd20-44c6-df8b-1e71ed039abd",
        "colab": {
          "base_uri": "https://localhost:8080/",
          "height": 109
        }
      },
      "cell_type": "code",
      "source": [
        "import numpy as np\n",
        "\n",
        "A = np.array([[10, 20, 30, 40],[50, 60, 70, 80]])\n",
        "\n",
        "print(A,\"\\n\")\n",
        "print(\"A.shape ==\", A.shape,\"\\n\")"
      ],
      "execution_count": 39,
      "outputs": [
        {
          "output_type": "stream",
          "text": [
            "[[10 20 30 40]\n",
            " [50 60 70 80]] \n",
            "\n",
            "A.shape == (2, 4) \n",
            "\n"
          ],
          "name": "stdout"
        }
      ]
    },
    {
      "metadata": {
        "id": "wvDF31VSwXbt",
        "colab_type": "code",
        "outputId": "8475e9ab-d7d5-4757-9b65-d4f965886b07",
        "colab": {
          "base_uri": "https://localhost:8080/",
          "height": 164
        }
      },
      "cell_type": "code",
      "source": [
        "#행렬 A의 itrator 생성\n",
        "\n",
        "it = np.nditer(A,flags=['multi_index'],op_flags=['readwrite'])\n",
        "\n",
        "while not it.finished:\n",
        "  idx = it.multi_index\n",
        "  \n",
        "  print(\"current value => \",A[idx])\n",
        "  \n",
        "  it.iternext()"
      ],
      "execution_count": 40,
      "outputs": [
        {
          "output_type": "stream",
          "text": [
            "current value =>  10\n",
            "current value =>  20\n",
            "current value =>  30\n",
            "current value =>  40\n",
            "current value =>  50\n",
            "current value =>  60\n",
            "current value =>  70\n",
            "current value =>  80\n"
          ],
          "name": "stdout"
        }
      ]
    }
  ]
}