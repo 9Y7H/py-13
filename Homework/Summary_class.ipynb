{
  "nbformat": 4,
  "nbformat_minor": 0,
  "metadata": {
    "colab": {
      "name": "Summary_class.ipynb",
      "version": "0.3.2",
      "provenance": [],
      "collapsed_sections": [],
      "include_colab_link": true
    },
    "kernelspec": {
      "name": "python3",
      "display_name": "Python 3"
    }
  },
  "cells": [
    {
      "cell_type": "markdown",
      "metadata": {
        "id": "view-in-github",
        "colab_type": "text"
      },
      "source": [
        "<a href=\"https://colab.research.google.com/github/9Y7H/py-13/blob/master/Homework/Summary_class.ipynb\" target=\"_parent\"><img src=\"https://colab.research.google.com/assets/colab-badge.svg\" alt=\"Open In Colab\"/></a>"
      ]
    },
    {
      "metadata": {
        "id": "oxIg6AgSd3x-",
        "colab_type": "toc"
      },
      "cell_type": "markdown",
      "source": [
        ">>[class 클래스 이름:](#updateTitle=true&folderId=117Sf2vXVH_F1RXCZnupQ-CzaJJUyEZMu&scrollTo=kPhkjxGeH5j9)\n",
        "\n",
        ">>>[클래스-class](#updateTitle=true&folderId=117Sf2vXVH_F1RXCZnupQ-CzaJJUyEZMu&scrollTo=OYdlrbLaR9nU)\n",
        "\n",
        ">>>[예외처리 - exception](#updateTitle=true&folderId=117Sf2vXVH_F1RXCZnupQ-CzaJJUyEZMu&scrollTo=YRRlxNJWdk0c)\n",
        "\n",
        ">>>[with 구문](#updateTitle=true&folderId=117Sf2vXVH_F1RXCZnupQ-CzaJJUyEZMu&scrollTo=Z771CVY6cNLh)\n",
        "\n"
      ]
    },
    {
      "metadata": {
        "id": "lXQFA6mhBhvQ",
        "colab_type": "text"
      },
      "cell_type": "markdown",
      "source": [
        "#class\n",
        "\n",
        "-파이썬 클래스는 class 키워드를 사용하여 자신만의 데이터 타임을 만들 수 있음"
      ]
    },
    {
      "metadata": {
        "id": "kPhkjxGeH5j9",
        "colab_type": "text"
      },
      "cell_type": "markdown",
      "source": [
        "###class 클래스 이름:\n",
        "           def __init__(self, 인수, ...) #생성자\n",
        "           def 메서드이름(self, 인수, ...) #메서드"
      ]
    },
    {
      "metadata": {
        "id": "X1i1IdnhHKLH",
        "colab_type": "code",
        "colab": {}
      },
      "cell_type": "code",
      "source": [
        "class Person:\n",
        "  \n",
        "  def __init__(self, name):\n",
        "    self.name = name\n",
        "    print(self.name + \" is initialized\")\n",
        "    \n",
        "  def work(self, company):\n",
        "    print(self.name + \" is working in \"+company)\n",
        "  \n",
        "  def sleep(self):\n",
        "    print(self.name + \" is sleeping\")"
      ],
      "execution_count": 0,
      "outputs": []
    },
    {
      "metadata": {
        "id": "WA27Mrq2AJZO",
        "colab_type": "code",
        "outputId": "d3d9e888-72cd-47a2-e034-f0324c5aad77",
        "colab": {
          "base_uri": "https://localhost:8080/",
          "height": 35
        }
      },
      "cell_type": "code",
      "source": [
        "#Person instance 2개 생성\n",
        "obj = Person(\"PARK\")"
      ],
      "execution_count": 2,
      "outputs": [
        {
          "output_type": "stream",
          "text": [
            "PARK is initialized\n"
          ],
          "name": "stdout"
        }
      ]
    },
    {
      "metadata": {
        "id": "trwoMdt6AJGP",
        "colab_type": "code",
        "outputId": "da758a90-f40a-4cda-9852-c4d876419eff",
        "colab": {
          "base_uri": "https://localhost:8080/",
          "height": 54
        }
      },
      "cell_type": "code",
      "source": [
        "#method call\n",
        "obj.work(\"ABCDEF\")\n",
        "obj.sleep()"
      ],
      "execution_count": 3,
      "outputs": [
        {
          "output_type": "stream",
          "text": [
            "PARK is working in ABCDEF\n",
            "PARK is sleeping\n"
          ],
          "name": "stdout"
        }
      ]
    },
    {
      "metadata": {
        "id": "6xM7Qfk7AIyq",
        "colab_type": "code",
        "outputId": "9f939633-014f-47d0-8992-2e42ad413078",
        "colab": {
          "base_uri": "https://localhost:8080/",
          "height": 35
        }
      },
      "cell_type": "code",
      "source": [
        "#속성에 직접 접근, 기본적으로 파이썬에서는 모두 public\n",
        "print(\"current person object is \",obj.name)"
      ],
      "execution_count": 4,
      "outputs": [
        {
          "output_type": "stream",
          "text": [
            "current person object is  PARK\n"
          ],
          "name": "stdout"
        }
      ]
    },
    {
      "metadata": {
        "id": "OYdlrbLaR9nU",
        "colab_type": "text"
      },
      "cell_type": "markdown",
      "source": [
        "###클래스-class"
      ]
    },
    {
      "metadata": {
        "id": "WF3bXaU7O3re",
        "colab_type": "code",
        "colab": {}
      },
      "cell_type": "code",
      "source": [
        "class Person:\n",
        "  \n",
        "  count = 0 #class variable\n",
        "  \n",
        "  def __init__(self,name):\n",
        "    self.name = name\n",
        "    Person.count += 1    #class 변수 count 증가\n",
        "    print(self.name + \" is initialized\")\n",
        "    \n",
        "  def work(self, company):\n",
        "     print(self.name + \" is working in \"+company)\n",
        "  \n",
        "  def sleep(self):\n",
        "    print(self.name + \" is sleeping\")\n",
        "    \n",
        "  @classmethod     #@반드시 표시하여 해당 메서드가 클래스 메서드임을 표시\n",
        "  def getCount(cls):     #class method\n",
        "    return cls.count\n"
      ],
      "execution_count": 0,
      "outputs": []
    },
    {
      "metadata": {
        "id": "wGdTTnrTASgy",
        "colab_type": "code",
        "outputId": "82ca74ad-9c1d-49ee-dc73-9c89dd47c822",
        "colab": {
          "base_uri": "https://localhost:8080/",
          "height": 54
        }
      },
      "cell_type": "code",
      "source": [
        "#Person instance 2개 생성\n",
        "obj1 = Person(\"PARK\")\n",
        "obj2 = Person(\"KIM\")"
      ],
      "execution_count": 6,
      "outputs": [
        {
          "output_type": "stream",
          "text": [
            "PARK is initialized\n",
            "KIM is initialized\n"
          ],
          "name": "stdout"
        }
      ]
    },
    {
      "metadata": {
        "id": "IIKcrKf7ASXC",
        "colab_type": "code",
        "outputId": "537e3b5e-fdfd-41a9-96bc-1a620ce0b65c",
        "colab": {
          "base_uri": "https://localhost:8080/",
          "height": 54
        }
      },
      "cell_type": "code",
      "source": [
        "#method call\n",
        "obj1.work(\"ABCDEF\")\n",
        "\n",
        "obj2.sleep()"
      ],
      "execution_count": 7,
      "outputs": [
        {
          "output_type": "stream",
          "text": [
            "PARK is working in ABCDEF\n",
            "KIM is sleeping\n"
          ],
          "name": "stdout"
        }
      ]
    },
    {
      "metadata": {
        "id": "tFsWV-PtASMZ",
        "colab_type": "code",
        "outputId": "fff829b6-c6f9-49e5-eb16-0293b2b19339",
        "colab": {
          "base_uri": "https://localhost:8080/",
          "height": 35
        }
      },
      "cell_type": "code",
      "source": [
        "#속성에 직접 접근, 기본적으로 파이썬에서는 모두 public\n",
        "print(\"current person object is \",obj.name,\",\",obj2.name)"
      ],
      "execution_count": 8,
      "outputs": [
        {
          "output_type": "stream",
          "text": [
            "current person object is  PARK , KIM\n"
          ],
          "name": "stdout"
        }
      ]
    },
    {
      "metadata": {
        "id": "VFQxwVwNASC-",
        "colab_type": "code",
        "outputId": "fa5c6e2c-3605-4218-9296-efef0e657d4c",
        "colab": {
          "base_uri": "https://localhost:8080/",
          "height": 35
        }
      },
      "cell_type": "code",
      "source": [
        "#class method 호출\n",
        "print(\"Person count ==\",Person.getCount())"
      ],
      "execution_count": 9,
      "outputs": [
        {
          "output_type": "stream",
          "text": [
            "Person count == 2\n"
          ],
          "name": "stdout"
        }
      ]
    },
    {
      "metadata": {
        "id": "kDAI6EIuAR1L",
        "colab_type": "code",
        "outputId": "68655eb2-d79e-4af9-9706-754854e32b16",
        "colab": {
          "base_uri": "https://localhost:8080/",
          "height": 35
        }
      },
      "cell_type": "code",
      "source": [
        "#class variable direct access\n",
        "print(Person.count)"
      ],
      "execution_count": 10,
      "outputs": [
        {
          "output_type": "stream",
          "text": [
            "2\n"
          ],
          "name": "stdout"
        }
      ]
    },
    {
      "metadata": {
        "id": "YIztF6tqUEIm",
        "colab_type": "code",
        "colab": {}
      },
      "cell_type": "code",
      "source": [
        "class PrivateMemberTest: #모든 멤버가 public 이기 때문에 외부에서 직접 접근 가능\n",
        "  \n",
        "  def __init__(self, name1, name2):\n",
        "    \n",
        "    self.name1 = name1\n",
        "    self.__name2 = name2    #private member variable\n",
        "    print(\" initalized with \"+name1,\",\",name2)\n",
        "    \n",
        "  def getNames(self):\n",
        "    self.__printNames()\n",
        "    return self.name1, self.__name2\n",
        "  \n",
        "  def __printNames(self):     #private member variable\n",
        "    print(self.name1 , self.__name2)"
      ],
      "execution_count": 0,
      "outputs": []
    },
    {
      "metadata": {
        "id": "ZWnrdulyAv2W",
        "colab_type": "code",
        "outputId": "bf042bdf-db24-403c-a7c4-f85ecf390862",
        "colab": {
          "base_uri": "https://localhost:8080/",
          "height": 303
        }
      },
      "cell_type": "code",
      "source": [
        "#인스턴스 생성\n",
        "obj = PrivateMemberTest(\"PARK\",\"KIM\")\n",
        "\n",
        "print(obj.name1)\n",
        "print(obj.getNames())\n",
        "print(obj.__printNames())     #error 발생\n",
        "print(obj.__name2)    #error 발생"
      ],
      "execution_count": 12,
      "outputs": [
        {
          "output_type": "stream",
          "text": [
            " initalized with PARK , KIM\n",
            "PARK\n",
            "PARK KIM\n",
            "('PARK', 'KIM')\n"
          ],
          "name": "stdout"
        },
        {
          "output_type": "error",
          "ename": "AttributeError",
          "evalue": "ignored",
          "traceback": [
            "\u001b[0;31m---------------------------------------------------------------------------\u001b[0m",
            "\u001b[0;31mAttributeError\u001b[0m                            Traceback (most recent call last)",
            "\u001b[0;32m<ipython-input-12-8165276251e4>\u001b[0m in \u001b[0;36m<module>\u001b[0;34m()\u001b[0m\n\u001b[1;32m      3\u001b[0m \u001b[0mprint\u001b[0m\u001b[0;34m(\u001b[0m\u001b[0mobj\u001b[0m\u001b[0;34m.\u001b[0m\u001b[0mname1\u001b[0m\u001b[0;34m)\u001b[0m\u001b[0;34m\u001b[0m\u001b[0;34m\u001b[0m\u001b[0m\n\u001b[1;32m      4\u001b[0m \u001b[0mprint\u001b[0m\u001b[0;34m(\u001b[0m\u001b[0mobj\u001b[0m\u001b[0;34m.\u001b[0m\u001b[0mgetNames\u001b[0m\u001b[0;34m(\u001b[0m\u001b[0;34m)\u001b[0m\u001b[0;34m)\u001b[0m\u001b[0;34m\u001b[0m\u001b[0;34m\u001b[0m\u001b[0m\n\u001b[0;32m----> 5\u001b[0;31m \u001b[0mprint\u001b[0m\u001b[0;34m(\u001b[0m\u001b[0mobj\u001b[0m\u001b[0;34m.\u001b[0m\u001b[0m__printNames\u001b[0m\u001b[0;34m(\u001b[0m\u001b[0;34m)\u001b[0m\u001b[0;34m)\u001b[0m     \u001b[0;31m#error 발생\u001b[0m\u001b[0;34m\u001b[0m\u001b[0;34m\u001b[0m\u001b[0m\n\u001b[0m\u001b[1;32m      6\u001b[0m \u001b[0mprint\u001b[0m\u001b[0;34m(\u001b[0m\u001b[0mobj\u001b[0m\u001b[0;34m.\u001b[0m\u001b[0m__name2\u001b[0m\u001b[0;34m)\u001b[0m    \u001b[0;31m#error 발생\u001b[0m\u001b[0;34m\u001b[0m\u001b[0;34m\u001b[0m\u001b[0m\n",
            "\u001b[0;31mAttributeError\u001b[0m: 'PrivateMemberTest' object has no attribute '__printNames'"
          ]
        }
      ]
    },
    {
      "metadata": {
        "id": "dNo2IGY2YRmb",
        "colab_type": "code",
        "colab": {}
      },
      "cell_type": "code",
      "source": [
        "def print_name(name):\n",
        "  print(\"[def] \",name)\n",
        "class SameTest:\n",
        "  \n",
        "  def __init__(self):\n",
        "    \n",
        "    #아무것도 안하기 때문에 pass\n",
        "    pass\n",
        "  \n",
        " #외부 함수와 동일한 이름으로 method 정의\n",
        "  def print_name(self,name):\n",
        "    print(\"[SameTest] \",name)\n",
        "  def call_test(self):\n",
        "    \n",
        "    #외부 함수 호출\n",
        "    print_name(\"KIM\")\n",
        "    \n",
        "    #클래스 내부 method 호출\n",
        "    self.print_name(\"KIM\")\n",
        "    \n",
        "#preate SameTest object\n",
        "obj = SameTest()"
      ],
      "execution_count": 0,
      "outputs": []
    },
    {
      "metadata": {
        "id": "eZnxNKsWBAcq",
        "colab_type": "code",
        "outputId": "086e5fe9-4a43-4d86-a0aa-adb2c7a89902",
        "colab": {
          "base_uri": "https://localhost:8080/",
          "height": 35
        }
      },
      "cell_type": "code",
      "source": [
        "#call function print_name\n",
        "print_name(\"HAN\")"
      ],
      "execution_count": 18,
      "outputs": [
        {
          "output_type": "stream",
          "text": [
            "[def]  HAN\n"
          ],
          "name": "stdout"
        }
      ]
    },
    {
      "metadata": {
        "id": "lUwKF1e2BAPe",
        "colab_type": "code",
        "outputId": "8a689e02-b8ef-4907-cb55-853419496751",
        "colab": {
          "base_uri": "https://localhost:8080/",
          "height": 35
        }
      },
      "cell_type": "code",
      "source": [
        "#call method print_name\n",
        "obj.print_name(\"HAN\")\n"
      ],
      "execution_count": 19,
      "outputs": [
        {
          "output_type": "stream",
          "text": [
            "[SameTest]  HAN\n"
          ],
          "name": "stdout"
        }
      ]
    },
    {
      "metadata": {
        "id": "UsGKMC92BAAi",
        "colab_type": "code",
        "outputId": "209b8239-3ea6-48e7-afd4-7b15eaac8957",
        "colab": {
          "base_uri": "https://localhost:8080/",
          "height": 54
        }
      },
      "cell_type": "code",
      "source": [
        "#call method call_test\n",
        "obj.call_test()"
      ],
      "execution_count": 20,
      "outputs": [
        {
          "output_type": "stream",
          "text": [
            "[def]  KIM\n",
            "[SameTest]  KIM\n"
          ],
          "name": "stdout"
        }
      ]
    },
    {
      "metadata": {
        "id": "YRRlxNJWdk0c",
        "colab_type": "text"
      },
      "cell_type": "markdown",
      "source": [
        "###예외처리 - exception\n",
        "-try 블록에서 에러가 발생 시 exception문을 이동"
      ]
    },
    {
      "metadata": {
        "id": "oDv300Utahfa",
        "colab_type": "code",
        "colab": {}
      },
      "cell_type": "code",
      "source": [
        "def calc(list_data):\n",
        "  \n",
        "  sum = 0\n",
        "  \n",
        "  try:\n",
        "    sum = list_data[0] + list_data[1] + list_data[2]\n",
        "    \n",
        "    if sum < 0:\n",
        "      raise Exception(\"Sum is minus\")\n",
        "      \n",
        "  except IndexError as err:\n",
        "    print(str(err))\n",
        "  except Exception as err:\n",
        "    print(str(err))\n",
        "  finally:     #마지막\n",
        "    print(sum)"
      ],
      "execution_count": 0,
      "outputs": []
    },
    {
      "metadata": {
        "id": "30RVizuSbgIR",
        "colab_type": "code",
        "outputId": "76b94e4e-f8b5-46b9-e1ee-4dbcae524b6c",
        "colab": {
          "base_uri": "https://localhost:8080/",
          "height": 54
        }
      },
      "cell_type": "code",
      "source": [
        "calc([1,2])    #index error 발생 #세개의 값이 입력되지 않았음"
      ],
      "execution_count": 35,
      "outputs": [
        {
          "output_type": "stream",
          "text": [
            "list index out of range\n",
            "0\n"
          ],
          "name": "stdout"
        }
      ]
    },
    {
      "metadata": {
        "id": "5cyCPaOpNajT",
        "colab_type": "code",
        "colab": {
          "base_uri": "https://localhost:8080/",
          "height": 35
        },
        "outputId": "b8f8c944-930f-4746-ceeb-e34af8667a52"
      },
      "cell_type": "code",
      "source": [
        "calc([1,5,8]) #sum 의 값이 0보다 크기 때문에 값만"
      ],
      "execution_count": 36,
      "outputs": [
        {
          "output_type": "stream",
          "text": [
            "14\n"
          ],
          "name": "stdout"
        }
      ]
    },
    {
      "metadata": {
        "id": "voAcTQpYNJhc",
        "colab_type": "code",
        "colab": {
          "base_uri": "https://localhost:8080/",
          "height": 54
        },
        "outputId": "20c1de32-4af9-4c2b-ea28-0b15bcf1da5a"
      },
      "cell_type": "code",
      "source": [
        "calc([1,-2,-4])# sum 의 값이 0보다 작기 때문에 문자열출력"
      ],
      "execution_count": 37,
      "outputs": [
        {
          "output_type": "stream",
          "text": [
            "Sum is minus\n",
            "-5\n"
          ],
          "name": "stdout"
        }
      ]
    },
    {
      "metadata": {
        "id": "kkytnTzDboj3",
        "colab_type": "code",
        "outputId": "ea782316-326a-4123-a4a5-66e3535fa642",
        "colab": {
          "base_uri": "https://localhost:8080/",
          "height": 54
        }
      },
      "cell_type": "code",
      "source": [
        "calc([1,2,-100])     #인위적인 excption 발생"
      ],
      "execution_count": 38,
      "outputs": [
        {
          "output_type": "stream",
          "text": [
            "Sum is minus\n",
            "-97\n"
          ],
          "name": "stdout"
        }
      ]
    },
    {
      "metadata": {
        "id": "Z771CVY6cNLh",
        "colab_type": "text"
      },
      "cell_type": "markdown",
      "source": [
        "###with 구문\n",
        "-일반적으로 파일(file) 또는 세션(session) 사용하는 순서는 \n",
        "\n",
        "open() => read() 또는 write() => close()"
      ]
    },
    {
      "metadata": {
        "id": "UB-uw-nxbvX2",
        "colab_type": "code",
        "colab": {}
      },
      "cell_type": "code",
      "source": [
        "#일반적인 방법\n",
        "\n",
        "f = open(\"./file_test\",'w')\n",
        "         \n",
        "f.write(\"Hello, Python !!!\")\n",
        "         \n",
        "f.close()"
      ],
      "execution_count": 0,
      "outputs": []
    },
    {
      "metadata": {
        "id": "7Wiq9BwNcgVT",
        "colab_type": "code",
        "colab": {}
      },
      "cell_type": "code",
      "source": [
        "#with 구문을 사용한 방법\n",
        "#with 블록을 벗어나는 순간 파일 객체 f가 자동으로 close 됨\n",
        "\n",
        "with open(\"./file_test\",'w') as f:\n",
        "  f.write(\"Hello, Python !!!\")"
      ],
      "execution_count": 0,
      "outputs": []
    },
    {
      "metadata": {
        "id": "kQyh3rbEONmV",
        "colab_type": "text"
      },
      "cell_type": "markdown",
      "source": [
        "with 문을 사용하면 열린 파일이 자동으로 닫힌다.\n",
        "\n",
        "with 는 딥러닝 프레임워크인 Tensorflow에서 session 관리에 자주 사용된다.\n"
      ]
    }
  ]
}