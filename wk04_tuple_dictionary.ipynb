{
  "nbformat": 4,
  "nbformat_minor": 0,
  "metadata": {
    "colab": {
      "name": "wk04_tuple_dictionary",
      "version": "0.3.2",
      "provenance": [],
      "collapsed_sections": [],
      "include_colab_link": true
    },
    "kernelspec": {
      "display_name": "Python 3",
      "language": "python",
      "name": "python3"
    }
  },
  "cells": [
    {
      "cell_type": "markdown",
      "metadata": {
        "id": "view-in-github",
        "colab_type": "text"
      },
      "source": [
        "[View in Colaboratory](https://colab.research.google.com/github/9Y7H/py-13/blob/master/wk04_tuple_dictionary.ipynb)"
      ]
    },
    {
      "metadata": {
        "id": "wxfL9kc6zoxt",
        "colab_type": "text"
      },
      "cell_type": "markdown",
      "source": [
        "# 데이터형 (Date types)\n",
        "\n",
        "- String\n",
        "- Number\n",
        "- Boolean\n",
        "- List\n",
        "- Tuple\n",
        "- Dictionary"
      ]
    },
    {
      "metadata": {
        "id": "2Y5P8_pYz5qf",
        "colab_type": "toc"
      },
      "cell_type": "markdown",
      "source": [
        ">[데이터형 (Date types)](#scrollTo=wxfL9kc6zoxt)\n",
        "\n",
        ">>[딕셔너리를 사용 (Ch.03-01)](#scrollTo=FH6m6bhMzoxu)\n",
        "\n",
        ">>>[딕셔너리(Dictionary)란](#scrollTo=DCzeacPezoxy)\n",
        "\n",
        ">>>[키를 사용하여 요소를 추출하기](#scrollTo=oOlquktszox1)\n",
        "\n",
        ">>>[키를 사용하여 요소를 치환하기](#scrollTo=LNSucE5tzox6)\n",
        "\n",
        ">>>[새로운 키와 값을 추가하기](#scrollTo=GhHvHImAzox8)\n",
        "\n",
        ">>>[키를 사용하여 요소를 삭제](#scrollTo=ntpYt9-bzox_)\n",
        "\n",
        ">>>[키의 존재 확인](#scrollTo=hrLmfPMezoyH)\n",
        "\n",
        ">>>[키를 사용한 루프](#scrollTo=YQQOnsQPzoyP)\n",
        "\n",
        ">>[딕셔너리형 구사 (Ch.4-6)](#scrollTo=ZKSl1ZSYzoyU)\n",
        "\n",
        ">>>[시퀀스 등으로부터 딕셔너리를 작성](#scrollTo=uqoL-__BzoyV)\n",
        "\n",
        ">>>[두 개의 딕셔너리를 조합](#scrollTo=Tbm5Xaxlzoyd)\n",
        "\n",
        ">>>[딕셔너리의 키를 스마트하게 다루기](#scrollTo=DUWT1Mauzoyj)\n",
        "\n",
        ">>[set(집합)을 사용 (Ch.3-2)](#scrollTo=yUFj7fc3zoys)\n",
        "\n",
        ">>>[set의 정의](#scrollTo=-OxbUwvxzoyu)\n",
        "\n",
        ">>>[set의 합집합 구하기](#scrollTo=vI2XdDfAzoyx)\n",
        "\n",
        ">>>[set의 차집합 구하기](#scrollTo=M8kCqilxzoy2)\n",
        "\n",
        ">>>[set의 교집합 구하기](#scrollTo=DKtCi36izoy6)\n",
        "\n",
        ">>>>[set의 대상차집합 구하기](#scrollTo=nMKzkkvjzoy9)\n",
        "\n",
        ">>>[set과 리스트](#scrollTo=Jg18yRCyzozB)\n",
        "\n",
        ">>>[set과 비교](#scrollTo=kCh9wTFuzozI)\n",
        "\n",
        ">>[set형 구사 (Ch.4-5)](#scrollTo=UIR9TlY1zozP)\n",
        "\n",
        ">>>[set형 메쏘드를 활용](#scrollTo=U-g1ZMb7zozQ)\n",
        "\n",
        ">>[튜플(tuple)을 사용 (Ch.03-03)](#scrollTo=EQm7wtwbzozb)\n",
        "\n",
        ">>>[튜플의 이점](#scrollTo=fb0ppf9Szozq)\n",
        "\n",
        ">>[리스트형, 튜플형 구사하기 (Ch.4-4)](#scrollTo=jk3S8pIMzoz2)\n",
        "\n",
        ">>>[리스트를 정렬](#scrollTo=BpGbXDdmzoz2)\n",
        "\n",
        ">>>[정렬 순서 커스터마이징(Customizing)](#scrollTo=pq-GZg_tzoz-)\n",
        "\n",
        ">>>[언팩 대입](#scrollTo=VQ72ppVizo0J)\n",
        "\n",
        ">>>[슬라이스의 스텝 수](#scrollTo=J6ANWY8Gzo0M)\n",
        "\n",
        ">>>[슬라이스를 사용한 요소의 대입과 삭제](#scrollTo=w3uPaJAWzo0W)\n",
        "\n",
        ">>[if문의 응용 (Ch.03-04)](#scrollTo=RPKXNI3Kzo0Z)\n",
        "\n",
        ">>>[비교 연산자와 True(참), False(거짓)](#scrollTo=4CnoeCdGzo0a)\n",
        "\n",
        ">>>[비교에 관한 메모](#scrollTo=UwvrO5E1zo0j)\n",
        "\n",
        ">>>[복잡한 비교 – 논리연산](#scrollTo=3NsrAamRzo00)\n",
        "\n",
        ">>[루프의 응용 (Ch.3-5)](#scrollTo=U_ayC-iOzo02)\n",
        "\n",
        ">>>[while문으로 루프를 작성](#scrollTo=Ro2yPszzzo02)\n",
        "\n",
        ">>>[break문과 continue문을 사용한 루프의 제어](#scrollTo=svfFQDvlzo04)\n",
        "\n",
        ">>[함수의 응용 (Ch.3-6)](#scrollTo=juUpfBNqzo0_)\n",
        "\n",
        ">>>[함수에 디폴트 인수를 정의](#scrollTo=QYhdLpK4zo1E)\n",
        "\n",
        ">>>[인수의 키워드 지정](#scrollTo=6CKM0MaKzo1K)\n",
        "\n",
        ">>>[함수와 지역 변수](#scrollTo=BmeQ017wzo1N)\n",
        "\n",
        ">>[if문과 내장형 (Ch.4-7)](#scrollTo=w_9mrjK8zo1Y)\n",
        "\n",
        ">>>[내장형과 True(참), False(거짓)](#scrollTo=yL8yOwOYzo1Z)\n",
        "\n",
        ">>[for문과 내장형 (Ch.4-8)](#scrollTo=aWLbEyTZzo1r)\n",
        "\n",
        ">>>[range( ) 함수 구사하기](#scrollTo=chvWFG8Zzo1s)\n",
        "\n",
        ">>>[시퀀스와 루프 카운터](#scrollTo=hRQx-qQEzo1y)\n",
        "\n",
        ">>>[두개의 시퀀스를 사용한 루프](#scrollTo=oi35DraXzo12)\n",
        "\n",
        ">>[함수와 내장형 (Ch.4-9)](#scrollTo=Bk3tPJv0zo13)\n",
        "\n",
        ">>>[반환값과 언팩 대입](#scrollTo=BhdEga6Jzo17)\n",
        "\n",
        ">>>>[위의 digest() 함수가 variance도 추가로 반환하게 변경해보시오!](#scrollTo=lknhUkNdDzzm)\n",
        "\n",
        ">>>[함수로 인수 리스트를 받기](#scrollTo=ZnHLqHIWzo1_)\n",
        "\n",
        ">>>[함수로 키워드 인수 받기](#scrollTo=gTIF5d1Hzo2C)\n",
        "\n",
        ">>>[기본 인수 및 갱신 가능한 내장형](#scrollTo=vbtlwiPozo2D)\n",
        "\n",
        ">[Chapter 04-01](#scrollTo=9UkYeaiwzo2I)\n",
        "\n",
        ">>[객체로서의 내장형](#scrollTo=9UkYeaiwzo2I)\n",
        "\n",
        ">>>[메쏘드란?](#scrollTo=6hCU7Ndjzo2K)\n",
        "\n"
      ]
    },
    {
      "metadata": {
        "id": "FH6m6bhMzoxu",
        "colab_type": "text"
      },
      "cell_type": "markdown",
      "source": [
        "## 딕셔너리를 사용 (Ch.03-01)"
      ]
    },
    {
      "metadata": {
        "id": "S-_DXgHAzoxw",
        "colab_type": "code",
        "colab": {
          "base_uri": "https://localhost:8080/",
          "height": 35
        },
        "outputId": "a5836b42-e6df-44db-c046-ade59b3e7bb9"
      },
      "cell_type": "code",
      "source": [
        "# 별명, 출생지, 이름을 리스트에 저장\n",
        "purple = [\"도깨비\", \"서울\", \"김영수\"]\n",
        "\n",
        "# 인덱스를 사용하면 요소를 꺼낼 수 있지만\n",
        "# 인덱스를 기억해야 하기 때문에 조금 복잡하다\n",
        "purple[1]"
      ],
      "execution_count": 6,
      "outputs": [
        {
          "output_type": "execute_result",
          "data": {
            "text/plain": [
              "'서울'"
            ]
          },
          "metadata": {
            "tags": []
          },
          "execution_count": 6
        }
      ]
    },
    {
      "metadata": {
        "id": "DCzeacPezoxy",
        "colab_type": "text"
      },
      "cell_type": "markdown",
      "source": [
        "### 딕셔너리(Dictionary)란"
      ]
    },
    {
      "metadata": {
        "id": "nWO_OSKWzoxz",
        "colab_type": "code",
        "colab": {}
      },
      "cell_type": "code",
      "source": [
        "# 딕셔너리의 정의\n",
        "purple = {\"별명\": \"도깨비\",\n",
        "          \"출신지\": \"서울\", #키와 value가 함께 하는 형식\n",
        "          \"이름\": \"김영수\"}\n",
        "# javascript의 객체와 유사"
      ],
      "execution_count": 0,
      "outputs": []
    },
    {
      "metadata": {
        "id": "oOlquktszox1",
        "colab_type": "text"
      },
      "cell_type": "markdown",
      "source": [
        "### 키를 사용하여 요소를 추출하기"
      ]
    },
    {
      "metadata": {
        "id": "80nTTQ4Gzox2",
        "colab_type": "code",
        "colab": {
          "base_uri": "https://localhost:8080/",
          "height": 35
        },
        "outputId": "1cde097f-f7c3-4f1b-acfe-d8166960f079"
      },
      "cell_type": "code",
      "source": [
        "# 딕셔너리로부터 값을 추출\n",
        "print(purple[\"출신지\"])"
      ],
      "execution_count": 8,
      "outputs": [
        {
          "output_type": "stream",
          "text": [
            "서울\n"
          ],
          "name": "stdout"
        }
      ]
    },
    {
      "metadata": {
        "id": "v-Ga_6Qizox3",
        "colab_type": "code",
        "colab": {
          "base_uri": "https://localhost:8080/",
          "height": 35
        },
        "outputId": "fa02144b-ebc3-48fa-abd7-19677f762b78"
      },
      "cell_type": "code",
      "source": [
        "# 딕셔너리 purple의 내용을 확인\n",
        "# 딕셔너리의 내용을 보면\n",
        "# 순서가 정의했을 때와 달라지고 있다\n",
        "# (그러나 Python 3.6.5까지, 3.6.6부터는 순서가 보존된다)\n",
        "purple #오름차순으로 정리됨"
      ],
      "execution_count": 9,
      "outputs": [
        {
          "output_type": "execute_result",
          "data": {
            "text/plain": [
              "{'별명': '도깨비', '이름': '김영수', '출신지': '서울'}"
            ]
          },
          "metadata": {
            "tags": []
          },
          "execution_count": 9
        }
      ]
    },
    {
      "metadata": {
        "id": "3HKkDhL20PaP",
        "colab_type": "code",
        "colab": {
          "base_uri": "https://localhost:8080/",
          "height": 35
        },
        "outputId": "37c910ba-e6c4-4467-ff2d-9ac2e0f8f0d9"
      },
      "cell_type": "code",
      "source": [
        "!python --version #python의 버전을 알아봄"
      ],
      "execution_count": 10,
      "outputs": [
        {
          "output_type": "stream",
          "text": [
            "Python 3.6.6\n"
          ],
          "name": "stdout"
        }
      ]
    },
    {
      "metadata": {
        "id": "Dud0wk4x23vW",
        "colab_type": "code",
        "colab": {
          "base_uri": "https://localhost:8080/",
          "height": 174
        },
        "outputId": "cda26ea3-6698-4b5b-a9f8-b71e8116d632"
      },
      "cell_type": "code",
      "source": [
        "python --version # !가 있어야 외부 명령어가 실행됨"
      ],
      "execution_count": 11,
      "outputs": [
        {
          "output_type": "error",
          "ename": "NameError",
          "evalue": "ignored",
          "traceback": [
            "\u001b[0;31m---------------------------------------------------------------------------\u001b[0m",
            "\u001b[0;31mNameError\u001b[0m                                 Traceback (most recent call last)",
            "\u001b[0;32m<ipython-input-11-4dc570c08069>\u001b[0m in \u001b[0;36m<module>\u001b[0;34m()\u001b[0m\n\u001b[0;32m----> 1\u001b[0;31m \u001b[0mpython\u001b[0m \u001b[0;34m-\u001b[0m\u001b[0;34m-\u001b[0m\u001b[0mversion\u001b[0m \u001b[0;31m# !가 있어야 외부 명령어가 실행됨\u001b[0m\u001b[0;34m\u001b[0m\u001b[0m\n\u001b[0m",
            "\u001b[0;31mNameError\u001b[0m: name 'python' is not defined"
          ]
        }
      ]
    },
    {
      "metadata": {
        "id": "LNSucE5tzox6",
        "colab_type": "text"
      },
      "cell_type": "markdown",
      "source": [
        "### 키를 사용하여 요소를 치환하기"
      ]
    },
    {
      "metadata": {
        "id": "RUMWopJ6zox6",
        "colab_type": "code",
        "colab": {
          "base_uri": "https://localhost:8080/",
          "height": 193
        },
        "outputId": "3333a6b1-f212-4feb-e1ad-81bdc2f393c0"
      },
      "cell_type": "code",
      "source": [
        "# 값의 변경\n",
        "purple[\"이름\"] = \"홍길동\"\n",
        "purple            # 딕셔너리 내용을 확인"
      ],
      "execution_count": 5,
      "outputs": [
        {
          "output_type": "error",
          "ename": "NameError",
          "evalue": "ignored",
          "traceback": [
            "\u001b[0;31m---------------------------------------------------------------------------\u001b[0m",
            "\u001b[0;31mNameError\u001b[0m                                 Traceback (most recent call last)",
            "\u001b[0;32m<ipython-input-5-f952871430e9>\u001b[0m in \u001b[0;36m<module>\u001b[0;34m()\u001b[0m\n\u001b[0;32m----> 1\u001b[0;31m \u001b[0mpurple\u001b[0m\u001b[0;34m[\u001b[0m\u001b[0;34m\"이름\"\u001b[0m\u001b[0;34m]\u001b[0m \u001b[0;34m=\u001b[0m \u001b[0;34m\"홍길동\"\u001b[0m\u001b[0;34m\u001b[0m\u001b[0m\n\u001b[0m\u001b[1;32m      2\u001b[0m \u001b[0mpurple\u001b[0m            \u001b[0;31m# 딕셔너리 내용을 확인\u001b[0m\u001b[0;34m\u001b[0m\u001b[0m\n",
            "\u001b[0;31mNameError\u001b[0m: name 'purple' is not defined"
          ]
        }
      ]
    },
    {
      "metadata": {
        "id": "GhHvHImAzox8",
        "colab_type": "text"
      },
      "cell_type": "markdown",
      "source": [
        "### 새로운 키와 값을 추가하기"
      ]
    },
    {
      "metadata": {
        "id": "ST09Mfjkzox9",
        "colab_type": "code",
        "colab": {
          "base_uri": "https://localhost:8080/",
          "height": 35
        },
        "outputId": "5a97b9ba-1321-495f-a481-2523497b5710"
      },
      "cell_type": "code",
      "source": [
        "# 요소의 추가\n",
        "purple[\"생년월일\"] = \"1993년 6월 21일\"\n",
        "purple            # 딕셔너리 내용을 확인"
      ],
      "execution_count": 12,
      "outputs": [
        {
          "output_type": "execute_result",
          "data": {
            "text/plain": [
              "{'별명': '도깨비', '생년월일': '1993년 6월 21일', '이름': '김영수', '출신지': '서울'}"
            ]
          },
          "metadata": {
            "tags": []
          },
          "execution_count": 12
        }
      ]
    },
    {
      "metadata": {
        "id": "ntpYt9-bzox_",
        "colab_type": "text"
      },
      "cell_type": "markdown",
      "source": [
        "### 키를 사용하여 요소를 삭제"
      ]
    },
    {
      "metadata": {
        "id": "ik504Xhyzox_",
        "colab_type": "code",
        "colab": {
          "base_uri": "https://localhost:8080/",
          "height": 35
        },
        "outputId": "c1b4a051-41e8-4bea-ca0e-17d907586e17"
      },
      "cell_type": "code",
      "source": [
        "# 요소의 삭제\n",
        "del purple[\"별명\"]\n",
        "purple            # 딕셔너리 내용을 확인"
      ],
      "execution_count": 13,
      "outputs": [
        {
          "output_type": "execute_result",
          "data": {
            "text/plain": [
              "{'생년월일': '1993년 6월 21일', '이름': '김영수', '출신지': '서울'}"
            ]
          },
          "metadata": {
            "tags": []
          },
          "execution_count": 13
        }
      ]
    },
    {
      "metadata": {
        "id": "Kw9jSQkXzoyD",
        "colab_type": "code",
        "colab": {
          "base_uri": "https://localhost:8080/",
          "height": 174
        },
        "outputId": "d54888e6-b562-4454-8a69-61f21ce54a3c"
      },
      "cell_type": "code",
      "source": [
        "# 존재하지 않는 키를 지정한 경우\n",
        "purple[\"별명\"] # 존재하지 않는 키를 부르면 에러"
      ],
      "execution_count": 14,
      "outputs": [
        {
          "output_type": "error",
          "ename": "KeyError",
          "evalue": "ignored",
          "traceback": [
            "\u001b[0;31m---------------------------------------------------------------------------\u001b[0m",
            "\u001b[0;31mKeyError\u001b[0m                                  Traceback (most recent call last)",
            "\u001b[0;32m<ipython-input-14-e6e3d487f95b>\u001b[0m in \u001b[0;36m<module>\u001b[0;34m()\u001b[0m\n\u001b[0;32m----> 1\u001b[0;31m \u001b[0mpurple\u001b[0m\u001b[0;34m[\u001b[0m\u001b[0;34m\"별명\"\u001b[0m\u001b[0;34m]\u001b[0m \u001b[0;31m# 존재하지 않는 키를 부르면 에러\u001b[0m\u001b[0;34m\u001b[0m\u001b[0m\n\u001b[0m",
            "\u001b[0;31mKeyError\u001b[0m: '별명'"
          ]
        }
      ]
    },
    {
      "metadata": {
        "id": "htgdzMBD04AZ",
        "colab_type": "code",
        "colab": {
          "base_uri": "https://localhost:8080/",
          "height": 35
        },
        "outputId": "a0e922e0-9def-43e5-dc65-fa9414e5cf02"
      },
      "cell_type": "code",
      "source": [
        "purple.keys()"
      ],
      "execution_count": 15,
      "outputs": [
        {
          "output_type": "execute_result",
          "data": {
            "text/plain": [
              "dict_keys(['출신지', '이름', '생년월일'])"
            ]
          },
          "metadata": {
            "tags": []
          },
          "execution_count": 15
        }
      ]
    },
    {
      "metadata": {
        "id": "KPAEt4bZ099s",
        "colab_type": "code",
        "colab": {
          "base_uri": "https://localhost:8080/",
          "height": 35
        },
        "outputId": "a1188c4b-d8b4-46db-cf7b-dd750afd738b"
      },
      "cell_type": "code",
      "source": [
        "purple.values()"
      ],
      "execution_count": 16,
      "outputs": [
        {
          "output_type": "execute_result",
          "data": {
            "text/plain": [
              "dict_values(['서울', '김영수', '1993년 6월 21일'])"
            ]
          },
          "metadata": {
            "tags": []
          },
          "execution_count": 16
        }
      ]
    },
    {
      "metadata": {
        "id": "hrLmfPMezoyH",
        "colab_type": "text"
      },
      "cell_type": "markdown",
      "source": [
        "### 키의 존재 확인"
      ]
    },
    {
      "metadata": {
        "id": "nNhTY7JkzoyI",
        "colab_type": "code",
        "colab": {}
      },
      "cell_type": "code",
      "source": [
        "# convert_number() 함수의 정의\n",
        "# in을 사용한 키의 존재 확인 샘플\n",
        "def convert_number(num):\n",
        "    # 아라비아 숫자와 로마 숫자의 대응표를 딕셔너리에 정의\n",
        "    roman_nums = {1:\"I\", 2:\"II\", 3:\"III\", 4:\"IV\", 5:\"V\",\n",
        "                  6:\"VI\", 7:\"VII\", 8:\"VIII\", 9:\"IX\"}\n",
        "    if num in roman_nums: #입력한 값을 로마 숫자로 바꿔 나타냄\n",
        "        # 딕셔너리의 키로 인수의 정수가 존재하고 있으면\n",
        "        # 키에 대응하는 값을 리턴값으로 한다\n",
        "        return roman_nums[num]\n",
        "    else:\n",
        "        return \"[변환 불가]\""
      ],
      "execution_count": 0,
      "outputs": []
    },
    {
      "metadata": {
        "id": "DjK2x410zoyM",
        "colab_type": "code",
        "colab": {
          "base_uri": "https://localhost:8080/",
          "height": 35
        },
        "outputId": "0e8d6b37-bce8-428d-d651-0c6147509929"
      },
      "cell_type": "code",
      "source": [
        "convert_number(3)   # 함수 호출"
      ],
      "execution_count": 26,
      "outputs": [
        {
          "output_type": "execute_result",
          "data": {
            "text/plain": [
              "'III'"
            ]
          },
          "metadata": {
            "tags": []
          },
          "execution_count": 26
        }
      ]
    },
    {
      "metadata": {
        "id": "6fxZdy2o1Rkq",
        "colab_type": "code",
        "colab": {
          "base_uri": "https://localhost:8080/",
          "height": 35
        },
        "outputId": "b85457a8-7066-4462-9487-d99ee906a0b7"
      },
      "cell_type": "code",
      "source": [
        "convert_number(10)"
      ],
      "execution_count": 27,
      "outputs": [
        {
          "output_type": "execute_result",
          "data": {
            "text/plain": [
              "'[변환 불가]'"
            ]
          },
          "metadata": {
            "tags": []
          },
          "execution_count": 27
        }
      ]
    },
    {
      "metadata": {
        "id": "YQQOnsQPzoyP",
        "colab_type": "text"
      },
      "cell_type": "markdown",
      "source": [
        "### 키를 사용한 루프"
      ]
    },
    {
      "metadata": {
        "id": "_XKcJbTJzoyQ",
        "colab_type": "code",
        "colab": {}
      },
      "cell_type": "code",
      "source": [
        "# 딕셔너리의 키를 사용한 루프\n",
        "purple = {\"별명\": \"도깨비\",\n",
        "          \"출신지\": \"서울\",\n",
        "          \"이름\": \"홍길동\",\n",
        "          \"생년월일\": \"1993년 6월 21일\"}"
      ],
      "execution_count": 0,
      "outputs": []
    },
    {
      "metadata": {
        "id": "2hSxXPhm1j0m",
        "colab_type": "code",
        "colab": {
          "base_uri": "https://localhost:8080/",
          "height": 90
        },
        "outputId": "5fa44baf-87f1-41c1-c427-3a8813664c7f"
      },
      "cell_type": "code",
      "source": [
        "for key in purple:           # 키를 전부 추출\n",
        "    print(key, purple[key])  # 키와 요소를 표시"
      ],
      "execution_count": 18,
      "outputs": [
        {
          "output_type": "stream",
          "text": [
            "별명 도깨비\n",
            "출신지 서울\n",
            "이름 홍길동\n",
            "생년월일 1993년 6월 21일\n"
          ],
          "name": "stdout"
        }
      ]
    },
    {
      "metadata": {
        "id": "ZKSl1ZSYzoyU",
        "colab_type": "text"
      },
      "cell_type": "markdown",
      "source": [
        "## 딕셔너리형 구사 (Ch.4-6)"
      ]
    },
    {
      "metadata": {
        "id": "uqoL-__BzoyV",
        "colab_type": "text"
      },
      "cell_type": "markdown",
      "source": [
        "### 시퀀스 등으로부터 딕셔너리를 작성"
      ]
    },
    {
      "metadata": {
        "id": "v62Laqs5zoyW",
        "colab_type": "code",
        "colab": {
          "base_uri": "https://localhost:8080/",
          "height": 35
        },
        "outputId": "58aea0ff-5d1f-4cc3-9f5a-a305e528a2bf"
      },
      "cell_type": "code",
      "source": [
        "# {'one':1, 'two':2}라는 딕셔너리를 만든다\n",
        "\n",
        "# 딕셔너리에서 딕셔너리를 만듦(복사)\n",
        "dict({'one':1, 'two':2}) #{} 딕셔너리"
      ],
      "execution_count": 19,
      "outputs": [
        {
          "output_type": "execute_result",
          "data": {
            "text/plain": [
              "{'one': 1, 'two': 2}"
            ]
          },
          "metadata": {
            "tags": []
          },
          "execution_count": 19
        }
      ]
    },
    {
      "metadata": {
        "id": "bCDp485qzoyY",
        "colab_type": "code",
        "colab": {
          "base_uri": "https://localhost:8080/",
          "height": 35
        },
        "outputId": "5e364742-b46e-4327-b464-5f4cee7b7503"
      },
      "cell_type": "code",
      "source": [
        "# 키와 값의 시퀀스로 딕셔너리를 만듦\n",
        "dict([['one', 1], ['two', 2]]) #[] 리스트"
      ],
      "execution_count": 31,
      "outputs": [
        {
          "output_type": "execute_result",
          "data": {
            "text/plain": [
              "{'one': 1, 'two': 2}"
            ]
          },
          "metadata": {
            "tags": []
          },
          "execution_count": 31
        }
      ]
    },
    {
      "metadata": {
        "id": "rsZcACMLzoya",
        "colab_type": "code",
        "colab": {
          "base_uri": "https://localhost:8080/",
          "height": 35
        },
        "outputId": "63d8f94d-2bb3-4046-a00d-bfb3624dcc67"
      },
      "cell_type": "code",
      "source": [
        " # 키워드 인수로 딕셔너리를 만듦\n",
        "dict(one=1, two=2)"
      ],
      "execution_count": 32,
      "outputs": [
        {
          "output_type": "execute_result",
          "data": {
            "text/plain": [
              "{'one': 1, 'two': 2}"
            ]
          },
          "metadata": {
            "tags": []
          },
          "execution_count": 32
        }
      ]
    },
    {
      "metadata": {
        "id": "Tbm5Xaxlzoyd",
        "colab_type": "text"
      },
      "cell_type": "markdown",
      "source": [
        "### 두 개의 딕셔너리를 조합"
      ]
    },
    {
      "metadata": {
        "id": "RKBnHhLOzoye",
        "colab_type": "code",
        "colab": {
          "base_uri": "https://localhost:8080/",
          "height": 35
        },
        "outputId": "a201c407-61d0-4aae-e6c8-bf5d1dbfa672"
      },
      "cell_type": "code",
      "source": [
        "# update() 메쏘드에 의한 딕셔너리의 연결\n",
        "rssitem = {\"title\"  :\"파이썬의 공부 전\",\n",
        "           \"link\"   :\"http://host.to/blog/entry\",\n",
        "           \"dc_date\":\"2016-07-12T13:24:04Z\"}\n",
        "# 딕셔너리 변경\n",
        "rssitem.update({\"title\"     :\"파이썬을 공부 중\",\n",
        "                \"dc:creator\":\"someone\"}) #내용 추가\n",
        "rssitem.keys()   # 키의 요약을 표시"
      ],
      "execution_count": 33,
      "outputs": [
        {
          "output_type": "execute_result",
          "data": {
            "text/plain": [
              "dict_keys(['title', 'link', 'dc_date', 'dc:creator'])"
            ]
          },
          "metadata": {
            "tags": []
          },
          "execution_count": 33
        }
      ]
    },
    {
      "metadata": {
        "id": "iPeyXl2Pzoyi",
        "colab_type": "code",
        "colab": {
          "base_uri": "https://localhost:8080/",
          "height": 89
        },
        "outputId": "04f40c82-6ea0-4767-8e49-c4d86560f802"
      },
      "cell_type": "code",
      "source": [
        "rssitem          # 딕셔너리를 표시, 키는 유일! #알파벳 순으로 정리"
      ],
      "execution_count": 37,
      "outputs": [
        {
          "output_type": "execute_result",
          "data": {
            "text/plain": [
              "{'dc:creator': 'someone',\n",
              " 'dc_date': '2016-07-12T13:24:04Z',\n",
              " 'link': 'http://host.to/blog/entry',\n",
              " 'title': '파이썬을 공부 중'}"
            ]
          },
          "metadata": {
            "tags": []
          },
          "execution_count": 37
        }
      ]
    },
    {
      "metadata": {
        "id": "DUWT1Mauzoyj",
        "colab_type": "text"
      },
      "cell_type": "markdown",
      "source": [
        "### 딕셔너리의 키를 스마트하게 다루기"
      ]
    },
    {
      "metadata": {
        "id": "EVlU59aZzoyk",
        "colab_type": "code",
        "colab": {
          "base_uri": "https://localhost:8080/",
          "height": 35
        },
        "outputId": "da07a51a-c188-4aec-d952-e6dab531ed7c"
      },
      "cell_type": "code",
      "source": [
        "# 영어 단어의 출현 수를 딕셔너리에서 계산\n",
        "#\n",
        "# 책에서는 지면의 사정 등으로 추상적인 샘플 코드를 게재하고 있지만\n",
        "# 여기에 코드를 보충하여 다시 작성했다\n",
        "\n",
        "line = \"\"\"If you can dream it, you can do it. \n",
        "- Walt Disney\"\"\"\n",
        "wordcnt = {}              # 딕셔너리를 초기화\n",
        "for word in line.split():\n",
        "    if word in wordcnt:\n",
        "        wordcnt[word] = wordcnt[word]+1\n",
        "    else:\n",
        "        wordcnt[word] = 1\n",
        "print(wordcnt)            # 결과 표시"
      ],
      "execution_count": 38,
      "outputs": [
        {
          "output_type": "stream",
          "text": [
            "{'If': 1, 'you': 2, 'can': 2, 'dream': 1, 'it,': 1, 'do': 1, 'it.': 1, '-': 1, 'Walt': 1, 'Disney': 1}\n"
          ],
          "name": "stdout"
        }
      ]
    },
    {
      "metadata": {
        "id": "HziI8aY2zoym",
        "colab_type": "code",
        "colab": {
          "base_uri": "https://localhost:8080/",
          "height": 35
        },
        "outputId": "a77ea2cd-1aeb-4859-f5a5-755bdc0d11e0"
      },
      "cell_type": "code",
      "source": [
        "# 딕셔너리의 get 메쏘드를 사용하여 다시 작성\n",
        "wordcnt = {}              # 딕셔너리를 초기화\n",
        "for word in line.split():\n",
        "    wordcnt[word] = wordcnt.get(word, 0)+1\n",
        "print(wordcnt)            # 결과 표시"
      ],
      "execution_count": 39,
      "outputs": [
        {
          "output_type": "stream",
          "text": [
            "{'If': 1, 'you': 2, 'can': 2, 'dream': 1, 'it,': 1, 'do': 1, 'it.': 1, '-': 1, 'Walt': 1, 'Disney': 1}\n"
          ],
          "name": "stdout"
        }
      ]
    },
    {
      "metadata": {
        "id": "RoPQQFkG2MQf",
        "colab_type": "code",
        "colab": {
          "base_uri": "https://localhost:8080/",
          "height": 197
        },
        "outputId": "e70f11c1-f050-4edc-84e5-e5d1f43a7dc9"
      },
      "cell_type": "code",
      "source": [
        "wordcnt"
      ],
      "execution_count": 40,
      "outputs": [
        {
          "output_type": "execute_result",
          "data": {
            "text/plain": [
              "{'-': 1,\n",
              " 'Disney': 1,\n",
              " 'If': 1,\n",
              " 'Walt': 1,\n",
              " 'can': 2,\n",
              " 'do': 1,\n",
              " 'dream': 1,\n",
              " 'it,': 1,\n",
              " 'it.': 1,\n",
              " 'you': 2}"
            ]
          },
          "metadata": {
            "tags": []
          },
          "execution_count": 40
        }
      ]
    },
    {
      "metadata": {
        "id": "l-ta-d1w7J-s",
        "colab_type": "text"
      },
      "cell_type": "markdown",
      "source": [
        "[get() method of dictionary](https://www.programiz.com/python-programming/methods/dictionary/get)"
      ]
    },
    {
      "metadata": {
        "id": "zmOm0cvZzoyo",
        "colab_type": "code",
        "colab": {
          "base_uri": "https://localhost:8080/",
          "height": 230
        },
        "outputId": "fa05c796-9c11-433e-b492-7fd5865157d4"
      },
      "cell_type": "code",
      "source": [
        "# 더미 setdefault()를 사용한 샘플\n",
        "wordcnt = {}              # 딕셔너리를 초기화\n",
        "for word in line.split():\n",
        "    wordcnt[word] = wordcnt.setdefault(word, 0) + 1\n",
        "print(wordcnt)            # 결과 표시"
      ],
      "execution_count": 20,
      "outputs": [
        {
          "output_type": "error",
          "ename": "NameError",
          "evalue": "ignored",
          "traceback": [
            "\u001b[0;31m---------------------------------------------------------------------------\u001b[0m",
            "\u001b[0;31mNameError\u001b[0m                                 Traceback (most recent call last)",
            "\u001b[0;32m<ipython-input-20-4e1f1c808a5a>\u001b[0m in \u001b[0;36m<module>\u001b[0;34m()\u001b[0m\n\u001b[1;32m      1\u001b[0m \u001b[0mwordcnt\u001b[0m \u001b[0;34m=\u001b[0m \u001b[0;34m{\u001b[0m\u001b[0;34m}\u001b[0m              \u001b[0;31m# 딕셔너리를 초기화\u001b[0m\u001b[0;34m\u001b[0m\u001b[0m\n\u001b[0;32m----> 2\u001b[0;31m \u001b[0;32mfor\u001b[0m \u001b[0mword\u001b[0m \u001b[0;32min\u001b[0m \u001b[0mline\u001b[0m\u001b[0;34m.\u001b[0m\u001b[0msplit\u001b[0m\u001b[0;34m(\u001b[0m\u001b[0;34m)\u001b[0m\u001b[0;34m:\u001b[0m\u001b[0;34m\u001b[0m\u001b[0m\n\u001b[0m\u001b[1;32m      3\u001b[0m     \u001b[0mwordcnt\u001b[0m\u001b[0;34m[\u001b[0m\u001b[0mword\u001b[0m\u001b[0;34m]\u001b[0m \u001b[0;34m=\u001b[0m \u001b[0mwordcnt\u001b[0m\u001b[0;34m.\u001b[0m\u001b[0msetdefault\u001b[0m\u001b[0;34m(\u001b[0m\u001b[0mword\u001b[0m\u001b[0;34m,\u001b[0m \u001b[0;36m0\u001b[0m\u001b[0;34m)\u001b[0m \u001b[0;34m+\u001b[0m \u001b[0;36m1\u001b[0m\u001b[0;34m\u001b[0m\u001b[0m\n\u001b[1;32m      4\u001b[0m \u001b[0mprint\u001b[0m\u001b[0;34m(\u001b[0m\u001b[0mwordcnt\u001b[0m\u001b[0;34m)\u001b[0m            \u001b[0;31m# 결과 표시\u001b[0m\u001b[0;34m\u001b[0m\u001b[0m\n",
            "\u001b[0;31mNameError\u001b[0m: name 'line' is not defined"
          ]
        }
      ]
    },
    {
      "metadata": {
        "id": "TYSjJO99zoyq",
        "colab_type": "code",
        "colab": {}
      },
      "cell_type": "code",
      "source": [
        "# "
      ],
      "execution_count": 0,
      "outputs": []
    },
    {
      "metadata": {
        "id": "yUFj7fc3zoys",
        "colab_type": "text"
      },
      "cell_type": "markdown",
      "source": [
        "## set(집합)을 사용 (Ch.3-2)"
      ]
    },
    {
      "metadata": {
        "id": "-OxbUwvxzoyu",
        "colab_type": "text"
      },
      "cell_type": "markdown",
      "source": [
        "### set의 정의"
      ]
    },
    {
      "metadata": {
        "id": "WGxZpAqdzoyu",
        "colab_type": "code",
        "colab": {}
      },
      "cell_type": "code",
      "source": [
        "# set의 정의: key 없이 항목으로만 정의\n",
        "dice = {1, 2, 3, 4, 5, 6} #중복허용x, 키가 없음\n",
        "coin = {\"앞면\", \"뒷면\"}"
      ],
      "execution_count": 0,
      "outputs": []
    },
    {
      "metadata": {
        "id": "vI2XdDfAzoyx",
        "colab_type": "text"
      },
      "cell_type": "markdown",
      "source": [
        "### set의 합집합 구하기"
      ]
    },
    {
      "metadata": {
        "id": "EU6piRfSzoyy",
        "colab_type": "code",
        "colab": {
          "base_uri": "https://localhost:8080/",
          "height": 35
        },
        "outputId": "1923f550-06a2-43a7-b2ed-949b842a291d"
      },
      "cell_type": "code",
      "source": [
        "# 합집합의 연산\n",
        "prime = {2, 3, 5, 7, 13, 17}  # 소수의 set을 정의\n",
        "fib = {1, 1, 2, 3, 5, 8, 13}  # 피보나치수의 set을 정의 #처음과 다음 숫자르 더해 다음 숫자가 나옴\n",
        "\n",
        "prime_fib = prime | fib       # 2개의 합집합\n",
        "prime_fib                     # 얻어진 합집합을 표시 #정의는 중복이 가능하지만 결과값엔 중복이 안됨"
      ],
      "execution_count": 23,
      "outputs": [
        {
          "output_type": "execute_result",
          "data": {
            "text/plain": [
              "{1, 2, 3, 5, 7, 8, 13, 17}"
            ]
          },
          "metadata": {
            "tags": []
          },
          "execution_count": 23
        }
      ]
    },
    {
      "metadata": {
        "id": "dFe3EDGu2MQo",
        "colab_type": "code",
        "colab": {
          "base_uri": "https://localhost:8080/",
          "height": 35
        },
        "outputId": "915f9b83-e717-4516-d5c6-3a539ed0650e"
      },
      "cell_type": "code",
      "source": [
        "# 중복 불허\n",
        "fib,prime"
      ],
      "execution_count": 24,
      "outputs": [
        {
          "output_type": "execute_result",
          "data": {
            "text/plain": [
              "({1, 2, 3, 5, 8, 13}, {2, 3, 5, 7, 13, 17})"
            ]
          },
          "metadata": {
            "tags": []
          },
          "execution_count": 24
        }
      ]
    },
    {
      "metadata": {
        "id": "M8kCqilxzoy2",
        "colab_type": "text"
      },
      "cell_type": "markdown",
      "source": [
        "### set의 차집합 구하기"
      ]
    },
    {
      "metadata": {
        "id": "LqqPKA9Lzoy3",
        "colab_type": "code",
        "colab": {
          "base_uri": "https://localhost:8080/",
          "height": 35
        },
        "outputId": "eeb5180e-7f6d-466f-8c9b-15903bad3eda"
      },
      "cell_type": "code",
      "source": [
        "# 차집합의 작성\n",
        "dice = {1, 2, 3, 4, 5, 6}      # 주사위 눈의 set을 정의\n",
        "even = {2, 4, 6, 8, 10}        # 짝수의 set을 정의\n",
        "\n",
        "odd_dice = dice - even         # 주사위의 눈과 짝수의 차집합\n",
        "odd_dice                       # 홀수만 표시"
      ],
      "execution_count": 25,
      "outputs": [
        {
          "output_type": "execute_result",
          "data": {
            "text/plain": [
              "{1, 3, 5}"
            ]
          },
          "metadata": {
            "tags": []
          },
          "execution_count": 25
        }
      ]
    },
    {
      "metadata": {
        "id": "pvKqG01I2MQr",
        "colab_type": "code",
        "colab": {
          "base_uri": "https://localhost:8080/",
          "height": 35
        },
        "outputId": "3e3b08b0-0b53-4071-c30e-11e940dacc7b"
      },
      "cell_type": "code",
      "source": [
        "even-dice"
      ],
      "execution_count": 26,
      "outputs": [
        {
          "output_type": "execute_result",
          "data": {
            "text/plain": [
              "{8, 10}"
            ]
          },
          "metadata": {
            "tags": []
          },
          "execution_count": 26
        }
      ]
    },
    {
      "metadata": {
        "id": "DKtCi36izoy6",
        "colab_type": "text"
      },
      "cell_type": "markdown",
      "source": [
        "### set의 교집합 구하기"
      ]
    },
    {
      "metadata": {
        "id": "vr5TOTSPzoy6",
        "colab_type": "code",
        "colab": {
          "base_uri": "https://localhost:8080/",
          "height": 35
        },
        "outputId": "2409293d-66c1-48d9-bd7a-61cf30c4cd2b"
      },
      "cell_type": "code",
      "source": [
        "# 교집합 구하기\n",
        "prefs = {\"부산\", \"충청남도\", \"전라남도\", \"경상남도\"}  # 지방명의 set을 정의\n",
        "capitals = {\"부산\", \"천안\", \"나주\", \"창원\"}        # 도청소재지의 set을 정의\n",
        "\n",
        "pref_cap = prefs & capitals       # 2개의 교집합 # & 공통된 부분 구하기\n",
        "pref_cap                          # 교집합의 표시"
      ],
      "execution_count": 27,
      "outputs": [
        {
          "output_type": "execute_result",
          "data": {
            "text/plain": [
              "{'부산'}"
            ]
          },
          "metadata": {
            "tags": []
          },
          "execution_count": 27
        }
      ]
    },
    {
      "metadata": {
        "id": "nMKzkkvjzoy9",
        "colab_type": "text"
      },
      "cell_type": "markdown",
      "source": [
        "#### set의 대상차집합 구하기"
      ]
    },
    {
      "metadata": {
        "id": "GADjO9u9zoy-",
        "colab_type": "code",
        "colab": {
          "base_uri": "https://localhost:8080/",
          "height": 35
        },
        "outputId": "af377bfd-e2a9-4dc4-e19a-755b47a4a279"
      },
      "cell_type": "code",
      "source": [
        "# 대상차집합의 작성\n",
        "prefs = {\"부산\", \"충청남도\", \"전라남도\", \"경상남도\"}  # 지방명의 set을 정의\n",
        "capitals = {\"부산\", \"천안\", \"나주\", \"창원\",\"경상남도\"}        # 도청소재지의 set을 정의\n",
        "\n",
        "pref_cap2 = prefs ^ capitals       # 2개의 대상차집합을 구함 #XOR(^)를 사용\n",
        "pref_cap2                          # 대상차집합을 표시"
      ],
      "execution_count": 28,
      "outputs": [
        {
          "output_type": "execute_result",
          "data": {
            "text/plain": [
              "{'나주', '전라남도', '창원', '천안', '충청남도'}"
            ]
          },
          "metadata": {
            "tags": []
          },
          "execution_count": 28
        }
      ]
    },
    {
      "metadata": {
        "id": "Jg18yRCyzozB",
        "colab_type": "text"
      },
      "cell_type": "markdown",
      "source": [
        "### set과 리스트"
      ]
    },
    {
      "metadata": {
        "id": "rpA7zRfzzozE",
        "colab_type": "code",
        "colab": {
          "base_uri": "https://localhost:8080/",
          "height": 35
        },
        "outputId": "188d4b93-194b-4b4a-f180-ec0855487373"
      },
      "cell_type": "code",
      "source": [
        "# 리스트를 set에 변환하기\n",
        "# set을 사용하여 문자열 리스트의 중복을 제거하는\n",
        "# 문자열 리스트를 정의\n",
        "codon = ['ATG', 'GGC', 'TCC', 'AAG', 'TTC', 'TGG',\n",
        "         'GAC', 'TCC'] #임의의 염기서열 리스트 #리스트는 중복 가능\n",
        "s_codon = set(codon)      # 리스트를 set으로 변환 #set은 중복으로 허용하지 않음\n",
        "print(len(codon), len(s_codon))    # 리스트와 set의 길이를 표시 \n",
        "#set은 중복된 'TCC'를 하나로 취급"
      ],
      "execution_count": 29,
      "outputs": [
        {
          "output_type": "stream",
          "text": [
            "8 7\n"
          ],
          "name": "stdout"
        }
      ]
    },
    {
      "metadata": {
        "id": "4G4v81jdzozG",
        "colab_type": "code",
        "colab": {
          "base_uri": "https://localhost:8080/",
          "height": 35
        },
        "outputId": "18e648a6-41aa-4a45-aecf-aff37e1b80e6"
      },
      "cell_type": "code",
      "source": [
        "s_codon  # 코돈(codon)이란 특정 아미노산을 결정짓는 mRNA 상의 3개의 염기서열"
      ],
      "execution_count": 30,
      "outputs": [
        {
          "output_type": "execute_result",
          "data": {
            "text/plain": [
              "{'AAG', 'ATG', 'GAC', 'GGC', 'TCC', 'TGG', 'TTC'}"
            ]
          },
          "metadata": {
            "tags": []
          },
          "execution_count": 30
        }
      ]
    },
    {
      "metadata": {
        "id": "kCh9wTFuzozI",
        "colab_type": "text"
      },
      "cell_type": "markdown",
      "source": [
        "### set과 비교"
      ]
    },
    {
      "metadata": {
        "id": "8qb1Xm6UzozI",
        "colab_type": "code",
        "colab": {
          "base_uri": "https://localhost:8080/",
          "height": 54
        },
        "outputId": "7f36ac2b-9de1-495e-a58d-a07656106df2"
      },
      "cell_type": "code",
      "source": [
        "# 요소의 검색과 set의 비교\n",
        "prime = {2, 3, 5, 7, 13, 17}  # 소수의 set을 정의\n",
        "fib = {1, 1, 2, 3, 5, 8, 13}  # 피보나치수의 set을 정의\n",
        "\n",
        "prime_fib = prime & fib       # 2개의 교집합을 연산\n",
        "if 13 in prime_fib:\n",
        "    print(\"13은 소수이고, 피보나치 수이기도 하다\")\n",
        "if {2, 3} <= prime_fib:\n",
        "    print(\"2, 3은 소수이고, 피보나치 수이기도 하다\")"
      ],
      "execution_count": 31,
      "outputs": [
        {
          "output_type": "stream",
          "text": [
            "13은 소수이고, 피보나치 수이기도 하다\n",
            "2, 3은 소수이고, 피보나치 수이기도 하다\n"
          ],
          "name": "stdout"
        }
      ]
    },
    {
      "metadata": {
        "id": "ChoJFGQDzozK",
        "colab_type": "code",
        "colab": {
          "base_uri": "https://localhost:8080/",
          "height": 35
        },
        "outputId": "15d4e8d1-ea3b-4053-cf93-39537328ef1f"
      },
      "cell_type": "code",
      "source": [
        "prime_fib"
      ],
      "execution_count": 32,
      "outputs": [
        {
          "output_type": "execute_result",
          "data": {
            "text/plain": [
              "{2, 3, 5, 13}"
            ]
          },
          "metadata": {
            "tags": []
          },
          "execution_count": 32
        }
      ]
    },
    {
      "metadata": {
        "id": "slGZiHaAzozM",
        "colab_type": "code",
        "colab": {
          "base_uri": "https://localhost:8080/",
          "height": 35
        },
        "outputId": "73393114-ed3a-4903-dbb6-5c67776246bb"
      },
      "cell_type": "code",
      "source": [
        "if {1, 2, 3} <= prime_fib:\n",
        "    print(\"2, 3은 소수이고, 피보나치 수이기도 하다\")\n",
        "# else 추가 \"1은 소수가 아니다.\"\n",
        "else:\n",
        "  print(\"1은 소수가 아니다.\")"
      ],
      "execution_count": 33,
      "outputs": [
        {
          "output_type": "stream",
          "text": [
            "1은 소수가 아니다.\n"
          ],
          "name": "stdout"
        }
      ]
    },
    {
      "metadata": {
        "id": "vj4LNv7GzozN",
        "colab_type": "code",
        "colab": {}
      },
      "cell_type": "code",
      "source": [
        ""
      ],
      "execution_count": 0,
      "outputs": []
    },
    {
      "metadata": {
        "id": "UIR9TlY1zozP",
        "colab_type": "text"
      },
      "cell_type": "markdown",
      "source": [
        "## set형 구사 (Ch.4-5)"
      ]
    },
    {
      "metadata": {
        "id": "U-g1ZMb7zozQ",
        "colab_type": "text"
      },
      "cell_type": "markdown",
      "source": [
        "### set형 메쏘드를 활용"
      ]
    },
    {
      "metadata": {
        "id": "GXnO9RYLzozQ",
        "colab_type": "code",
        "colab": {
          "base_uri": "https://localhost:8080/",
          "height": 35
        },
        "outputId": "04a559cd-bb8f-4411-8727-70300d057985"
      },
      "cell_type": "code",
      "source": [
        "# set형 메쏘드에는 두가지 방법이 있다\n",
        "# 하나는 결과 set의 복사본을 반환 객체를 변경하는 메쏘드이다\n",
        "prime = set([2, 3, 5, 7, 11])\n",
        "fib = set([0, 1, 2, 3, 5, 8])\n",
        "new_set = prime.union(fib)     # 메소드가 돌려주는 결과를 변수로 받음\n",
        "new_set                        # 변수를 표시\n",
        "#중복을 빼고 확장시킴"
      ],
      "execution_count": 34,
      "outputs": [
        {
          "output_type": "execute_result",
          "data": {
            "text/plain": [
              "{0, 1, 2, 3, 5, 7, 8, 11}"
            ]
          },
          "metadata": {
            "tags": []
          },
          "execution_count": 34
        }
      ]
    },
    {
      "metadata": {
        "id": "qc13SoaazozS",
        "colab_type": "code",
        "colab": {
          "base_uri": "https://localhost:8080/",
          "height": 35
        },
        "outputId": "9cdd75da-a063-4307-c2a5-2926d8b39302"
      },
      "cell_type": "code",
      "source": [
        "prime                          # 메쏘드를 호출한 원래의 변수는 변하지 않는다"
      ],
      "execution_count": 35,
      "outputs": [
        {
          "output_type": "execute_result",
          "data": {
            "text/plain": [
              "{2, 3, 5, 7, 11}"
            ]
          },
          "metadata": {
            "tags": []
          },
          "execution_count": 35
        }
      ]
    },
    {
      "metadata": {
        "id": "NTkwxhojzozT",
        "colab_type": "code",
        "colab": {
          "base_uri": "https://localhost:8080/",
          "height": 35
        },
        "outputId": "fe93f8af-0060-4da3-8a05-9d5cd80002e1"
      },
      "cell_type": "code",
      "source": [
        "# 다른 하나는 개체 자체를 변경하는 메쏘드입니다\n",
        "\n",
        "prefs = set(['서울시', '경기도', '강원도'])   # set 정의\n",
        "prefs.add('제주도')                        # 요수를 추가\n",
        "prefs                                     # 요소를 표시"
      ],
      "execution_count": 36,
      "outputs": [
        {
          "output_type": "execute_result",
          "data": {
            "text/plain": [
              "{'강원도', '경기도', '서울시', '제주도'}"
            ]
          },
          "metadata": {
            "tags": []
          },
          "execution_count": 36
        }
      ]
    },
    {
      "metadata": {
        "id": "fywh4GF4zoza",
        "colab_type": "code",
        "colab": {}
      },
      "cell_type": "code",
      "source": [
        ""
      ],
      "execution_count": 0,
      "outputs": []
    },
    {
      "metadata": {
        "id": "EQm7wtwbzozb",
        "colab_type": "text"
      },
      "cell_type": "markdown",
      "source": [
        "## 튜플(tuple) (Ch.03-03)"
      ]
    },
    {
      "metadata": {
        "id": "j6u_rGsbzozc",
        "colab_type": "code",
        "colab": {}
      },
      "cell_type": "code",
      "source": [
        "# 튜플의 정의\n",
        "month_names = (\"January\", \"February\", \"March\", \"April\",\n",
        "               \"May\", \"June\", \"July\")\n",
        "#정의한 값은 변하지 않음\n",
        "#()로 정리한다."
      ],
      "execution_count": 0,
      "outputs": []
    },
    {
      "metadata": {
        "id": "sLAAiNWnzozg",
        "colab_type": "code",
        "colab": {
          "base_uri": "https://localhost:8080/",
          "height": 35
        },
        "outputId": "74a4dad4-5b3a-4974-f7c8-8a4d300907f2"
      },
      "cell_type": "code",
      "source": [
        "# 튜플에서 요소를 추출\n",
        "month_names[1]   # 2월의 이름을 표시\n",
        "#index는 0부터 시작"
      ],
      "execution_count": 38,
      "outputs": [
        {
          "output_type": "execute_result",
          "data": {
            "text/plain": [
              "'February'"
            ]
          },
          "metadata": {
            "tags": []
          },
          "execution_count": 38
        }
      ]
    },
    {
      "metadata": {
        "id": "93-NRaP-zozj",
        "colab_type": "code",
        "colab": {
          "base_uri": "https://localhost:8080/",
          "height": 174
        },
        "outputId": "566180a1-5479-426f-ab6d-19ae58870409"
      },
      "cell_type": "code",
      "source": [
        "# 튜플은 요소의 변경이 불가능!!!\n",
        "month_names[0] = \"오월\" #튜플 객체는 안에 항목을 새로 정의할 수 없다"
      ],
      "execution_count": 39,
      "outputs": [
        {
          "output_type": "error",
          "ename": "TypeError",
          "evalue": "ignored",
          "traceback": [
            "\u001b[0;31m---------------------------------------------------------------------------\u001b[0m",
            "\u001b[0;31mTypeError\u001b[0m                                 Traceback (most recent call last)",
            "\u001b[0;32m<ipython-input-39-efabcc406078>\u001b[0m in \u001b[0;36m<module>\u001b[0;34m()\u001b[0m\n\u001b[0;32m----> 1\u001b[0;31m \u001b[0mmonth_names\u001b[0m\u001b[0;34m[\u001b[0m\u001b[0;36m0\u001b[0m\u001b[0;34m]\u001b[0m \u001b[0;34m=\u001b[0m \u001b[0;34m\"오월\"\u001b[0m \u001b[0;31m#튜플 객체는 안에 항목을 새로 정의할 수 없다\u001b[0m\u001b[0;34m\u001b[0m\u001b[0m\n\u001b[0m",
            "\u001b[0;31mTypeError\u001b[0m: 'tuple' object does not support item assignment"
          ]
        }
      ]
    },
    {
      "metadata": {
        "id": "alg-v8Unzozn",
        "colab_type": "code",
        "colab": {
          "base_uri": "https://localhost:8080/",
          "height": 35
        },
        "outputId": "271e1bca-665e-4a17-95a5-2218afb4b4b2"
      },
      "cell_type": "code",
      "source": [
        "# 튜플의 연결\n",
        "month_names = month_names + (\"August\", \"September\", \"October\", \n",
        "                           \"November\", \"December\") #확장\n",
        "month_names[11]   # 12월의 이름을 표시"
      ],
      "execution_count": 40,
      "outputs": [
        {
          "output_type": "execute_result",
          "data": {
            "text/plain": [
              "'December'"
            ]
          },
          "metadata": {
            "tags": []
          },
          "execution_count": 40
        }
      ]
    },
    {
      "metadata": {
        "id": "fb0ppf9Szozq",
        "colab_type": "text"
      },
      "cell_type": "markdown",
      "source": [
        "### 튜플의 이점"
      ]
    },
    {
      "metadata": {
        "id": "OE59r8-Rzozs",
        "colab_type": "code",
        "colab": {}
      },
      "cell_type": "code",
      "source": [
        "# 튜플을 키로 사용한 딕셔너리의 작성\n",
        "# 시/도청 소재지와 위도, 경도를 딕셔너리에 등록\n",
        "pref_capitals = {(37.27479, 127.00962):\"경기도(수원시)\",\n",
        "                 (37.88565, 127.73):\"강원도(춘천시)\",\n",
        "                 (36.48008, 127.28921):\"세종특별자치시(보람동)\"}"
      ],
      "execution_count": 0,
      "outputs": []
    },
    {
      "metadata": {
        "id": "TeH5a101zozt",
        "colab_type": "code",
        "colab": {
          "base_uri": "https://localhost:8080/",
          "height": 35
        },
        "outputId": "c01f6124-8f5d-49ed-cef3-788398e34ce6"
      },
      "cell_type": "code",
      "source": [
        "# 지정한 위도, 경도에 맞는 시/도청 소재지를 조사\n",
        "loc = (36.48008, 127.28921)    # 조사하고 싶은 지점의 위도, 경도\n",
        "for key in pref_capitals:      # 키로 루프\n",
        "    if loc == key:\n",
        "        # 조사하고 싶은 지점과 딕셔너리의 키가 같은가\n",
        "        print(pref_capitals[key])\n",
        "        break                 # 루프를 빠져나옴"
      ],
      "execution_count": 42,
      "outputs": [
        {
          "output_type": "stream",
          "text": [
            "세종특별자치시(보람동)\n"
          ],
          "name": "stdout"
        }
      ]
    },
    {
      "metadata": {
        "id": "JDCmbBebzozx",
        "colab_type": "code",
        "colab": {
          "base_uri": "https://localhost:8080/",
          "height": 35
        },
        "outputId": "8226d2ad-0b02-4cc9-e2e9-13a6367fb80e"
      },
      "cell_type": "code",
      "source": [
        "# 지정한 위도, 경도에 가장 가까운 시/도청 소재지를 조사\n",
        "loc = (36.35016, 127.38571)   # 조사하고 싶은 지점의 위도, 경도\n",
        "nearest_cap = ''              # 가장 가까운 시/도청 소재지명을 보존하는 변수\n",
        "nearest_dist = 10000          # 가장 가까운 지점까지의 거리를 보존하는 변수\n",
        "for key in pref_capitals:     # 키로 루프\n",
        "    # 위도, 경도의 차를 제곱하여 거리를 계산\n",
        "    dist = (loc[0]-key[0])**2+(loc[1]-key[1])**2  # distance between locations\n",
        "    if nearest_dist > dist:\n",
        "        # 보다 가까운 지점을 발견했으므로 변수에 대입\n",
        "        nearest_dist = dist\n",
        "        nearest_cap = pref_capitals[key]\n",
        "\n",
        "print(nearest_cap)"
      ],
      "execution_count": 43,
      "outputs": [
        {
          "output_type": "stream",
          "text": [
            "세종특별자치시(보람동)\n"
          ],
          "name": "stdout"
        }
      ]
    },
    {
      "metadata": {
        "id": "_V4maJYZzozz",
        "colab_type": "code",
        "colab": {}
      },
      "cell_type": "code",
      "source": [
        "# break\n",
        "# break\n",
        "# break"
      ],
      "execution_count": 0,
      "outputs": []
    },
    {
      "metadata": {
        "id": "jk3S8pIMzoz2",
        "colab_type": "text"
      },
      "cell_type": "markdown",
      "source": [
        "## 리스트형, 튜플형 구사하기 (Ch.4-4)"
      ]
    },
    {
      "metadata": {
        "id": "BpGbXDdmzoz2",
        "colab_type": "text"
      },
      "cell_type": "markdown",
      "source": [
        "### 리스트를 정렬"
      ]
    },
    {
      "metadata": {
        "id": "OWFkcSbbzoz3",
        "colab_type": "code",
        "colab": {
          "base_uri": "https://localhost:8080/",
          "height": 35
        },
        "outputId": "a596671b-98c9-4f92-bf5d-b05349852893"
      },
      "cell_type": "code",
      "source": [
        "# 오름차순으로 정렬\n",
        "monk_fish_team = [158, 157, 163, 157, 145]\n",
        "monk_fish_team.sort()          # 정렬하기\n",
        "monk_fish_team                 # 리스트 내용 확인"
      ],
      "execution_count": 45,
      "outputs": [
        {
          "output_type": "execute_result",
          "data": {
            "text/plain": [
              "[145, 157, 157, 158, 163]"
            ]
          },
          "metadata": {
            "tags": []
          },
          "execution_count": 45
        }
      ]
    },
    {
      "metadata": {
        "id": "AR3jmEKFzoz5",
        "colab_type": "code",
        "colab": {
          "base_uri": "https://localhost:8080/",
          "height": 35
        },
        "outputId": "c71ab40c-bbde-4463-ccd8-b2f0c77bda7a"
      },
      "cell_type": "code",
      "source": [
        "# 내림차순으로 정렬\n",
        "monk_fish_team.sort(reverse=True)  # 정렬하기 #reverse=True 내림차순으로 정리하기 위한 것\n",
        "monk_fish_team                     # 리스트 내용 확인"
      ],
      "execution_count": 46,
      "outputs": [
        {
          "output_type": "execute_result",
          "data": {
            "text/plain": [
              "[163, 158, 157, 157, 145]"
            ]
          },
          "metadata": {
            "tags": []
          },
          "execution_count": 46
        }
      ]
    },
    {
      "metadata": {
        "id": "pq-GZg_tzoz-",
        "colab_type": "text"
      },
      "cell_type": "markdown",
      "source": [
        "### 정렬 순서 커스터마이징(Customizing)"
      ]
    },
    {
      "metadata": {
        "id": "R8Wr4i2Mzoz_",
        "colab_type": "code",
        "colab": {}
      },
      "cell_type": "code",
      "source": [
        "# 튜플의 리스트를 작성\n",
        "tank_data = [(\"A형 전차\", 38, 80, 75), (\"B형 전차\", 42, 50, 37),\n",
        "             (\"X형 전차\", 20, 17, 57), (\"Y형 전차\", 40, 50, 75),\n",
        "             (\"Z형 전차\", 39, 51, 75)] #5개의 튜플로 구성된 리스트"
      ],
      "execution_count": 0,
      "outputs": []
    },
    {
      "metadata": {
        "id": "a1_cwOiIzo0A",
        "colab_type": "code",
        "colab": {}
      },
      "cell_type": "code",
      "source": [
        "# 전차의 제원을 더해 반환하는 함수\n",
        "# 정렬에 사용할 함수를 정의\n",
        "def evaluate_tankdata(tup):\n",
        "    return tup[1]+tup[2]+tup[3] #튜플에 저장된 정보 세개 더하기"
      ],
      "execution_count": 0,
      "outputs": []
    },
    {
      "metadata": {
        "id": "KCrgLoTizo0D",
        "colab_type": "code",
        "colab": {
          "base_uri": "https://localhost:8080/",
          "height": 54
        },
        "outputId": "e84dcd1b-f58c-4093-9aa8-651fedd39949"
      },
      "cell_type": "code",
      "source": [
        "# 각 전차의 강함을 표시\n",
        "print(evaluate_tankdata(tank_data[0])) #탱크의 총 성능\n",
        "print(evaluate_tankdata(tank_data[4]))"
      ],
      "execution_count": 13,
      "outputs": [
        {
          "output_type": "stream",
          "text": [
            "193\n",
            "165\n"
          ],
          "name": "stdout"
        }
      ]
    },
    {
      "metadata": {
        "id": "Ljsf79LD7oM3",
        "colab_type": "code",
        "colab": {
          "base_uri": "https://localhost:8080/",
          "height": 35
        },
        "outputId": "701a3f7e-cbdd-494a-dfac-db2db4fbc330"
      },
      "cell_type": "code",
      "source": [
        "# 다음 계산 결과는?\n",
        "evaluate_tankdata(tank_data)\n",
        "#리스트에 두번째 세번째 네번째 정보를 저장한 튜플을 가져옴\n",
        "#튜플을 가져오는 이유는? 튜플을 확장하기 때문에 하나의 튜플로 가져옴 tup[1]+tup[2]+tup[3]"
      ],
      "execution_count": 14,
      "outputs": [
        {
          "output_type": "execute_result",
          "data": {
            "text/plain": [
              "('B형 전차', 42, 50, 37, 'X형 전차', 20, 17, 57, 'Y형 전차', 40, 50, 75)"
            ]
          },
          "metadata": {
            "tags": []
          },
          "execution_count": 14
        }
      ]
    },
    {
      "metadata": {
        "id": "hvXkKRDlzo0F",
        "colab_type": "code",
        "colab": {
          "base_uri": "https://localhost:8080/",
          "height": 35
        },
        "outputId": "99a08bc6-7d70-4a82-db65-26bd31e8def7"
      },
      "cell_type": "code",
      "source": [
        "# 전차의 강함으로 정렬하기\n",
        "tank_data.sort(key=evaluate_tankdata, reverse=True) #세개의 값을 내림차순으로 정리\n",
        "print(tank_data)"
      ],
      "execution_count": 5,
      "outputs": [
        {
          "output_type": "stream",
          "text": [
            "[('A형 전차', 38, 80, 75), ('Y형 전차', 40, 50, 75), ('Z형 전차', 39, 51, 75), ('B형 전차', 42, 50, 37), ('X형 전차', 20, 17, 57)]\n"
          ],
          "name": "stdout"
        }
      ]
    },
    {
      "metadata": {
        "id": "VQ72ppVizo0J",
        "colab_type": "text"
      },
      "cell_type": "markdown",
      "source": [
        "### 언팩 대입"
      ]
    },
    {
      "metadata": {
        "id": "EQX6-MzIzo0J",
        "colab_type": "code",
        "colab": {
          "base_uri": "https://localhost:8080/",
          "height": 35
        },
        "outputId": "b054347b-ab75-41ea-ace6-eb1284252399"
      },
      "cell_type": "code",
      "source": [
        "# 언팩 대입 사용\n",
        "a = 1\n",
        "b = 2\n",
        "b, a = a, b   # 여러 개의 요소를 동시에 대입\n",
        "print(a, b)"
      ],
      "execution_count": 55,
      "outputs": [
        {
          "output_type": "stream",
          "text": [
            "2 1\n"
          ],
          "name": "stdout"
        }
      ]
    },
    {
      "metadata": {
        "id": "J6ANWY8Gzo0M",
        "colab_type": "text"
      },
      "cell_type": "markdown",
      "source": [
        "[링크 텍스트](https://)### 슬라이스의 스텝 수\n",
        "#####시험"
      ]
    },
    {
      "metadata": {
        "id": "ubNfuvlgzo0M",
        "colab_type": "code",
        "colab": {
          "base_uri": "https://localhost:8080/",
          "height": 35
        },
        "outputId": "1e2b852c-05ea-4570-c964-3a7daccfc506"
      },
      "cell_type": "code",
      "source": [
        "# 리스트에서 슬라이스로 요소를 추출\n",
        "a = [1, 2, 3, 4, 5]   # 리스트 정의\n",
        "a                     # 리스트 보기"
      ],
      "execution_count": 56,
      "outputs": [
        {
          "output_type": "execute_result",
          "data": {
            "text/plain": [
              "[1, 2, 3, 4, 5]"
            ]
          },
          "metadata": {
            "tags": []
          },
          "execution_count": 56
        }
      ]
    },
    {
      "metadata": {
        "id": "HX-sfGoIzo0Q",
        "colab_type": "code",
        "colab": {
          "base_uri": "https://localhost:8080/",
          "height": 35
        },
        "outputId": "374c5c30-1edb-48cc-a993-21cdc70e3563"
      },
      "cell_type": "code",
      "source": [
        "# 슬라이스의 범위를 지정\n",
        "a[1:4]                # 인덱스 1부터 3까지 추출, [1:3]이 아닌 것에 주의"
      ],
      "execution_count": 57,
      "outputs": [
        {
          "output_type": "execute_result",
          "data": {
            "text/plain": [
              "[2, 3, 4]"
            ]
          },
          "metadata": {
            "tags": []
          },
          "execution_count": 57
        }
      ]
    },
    {
      "metadata": {
        "id": "p8gCXgvmzo0T",
        "colab_type": "code",
        "colab": {
          "base_uri": "https://localhost:8080/",
          "height": 35
        },
        "outputId": "0aa1a4b8-ec2c-4402-b4cd-3dabfe9eaf38"
      },
      "cell_type": "code",
      "source": [
        "# 인덱스 이상의 요소 수를 지정\n",
        "a[2:100]              # 오류가 나지 않음"
      ],
      "execution_count": 58,
      "outputs": [
        {
          "output_type": "execute_result",
          "data": {
            "text/plain": [
              "[3, 4, 5]"
            ]
          },
          "metadata": {
            "tags": []
          },
          "execution_count": 58
        }
      ]
    },
    {
      "metadata": {
        "id": "2tGzrzdN87Yp",
        "colab_type": "code",
        "colab": {
          "base_uri": "https://localhost:8080/",
          "height": 35
        },
        "outputId": "123a8789-52c4-4317-e63b-0fc14f5be5d1"
      },
      "cell_type": "code",
      "source": [
        "a[:] #전부 다(범위 지정이 안된거나 마찬가지)"
      ],
      "execution_count": 59,
      "outputs": [
        {
          "output_type": "execute_result",
          "data": {
            "text/plain": [
              "[1, 2, 3, 4, 5]"
            ]
          },
          "metadata": {
            "tags": []
          },
          "execution_count": 59
        }
      ]
    },
    {
      "metadata": {
        "id": "ZCHe9_N-2MRl",
        "colab_type": "code",
        "colab": {
          "base_uri": "https://localhost:8080/",
          "height": 35
        },
        "outputId": "be59e84e-8f19-4d51-e5d8-b30835b6b492"
      },
      "cell_type": "code",
      "source": [
        "a[-1]"
      ],
      "execution_count": 60,
      "outputs": [
        {
          "output_type": "execute_result",
          "data": {
            "text/plain": [
              "5"
            ]
          },
          "metadata": {
            "tags": []
          },
          "execution_count": 60
        }
      ]
    },
    {
      "metadata": {
        "id": "Qbi4rOM62MRm",
        "colab_type": "code",
        "colab": {
          "base_uri": "https://localhost:8080/",
          "height": 35
        },
        "outputId": "062a8b4c-09b2-480e-ad03-07d635cbe9f6"
      },
      "cell_type": "code",
      "source": [
        " a[:-1] #마지막 리스트 빼고 출력"
      ],
      "execution_count": 127,
      "outputs": [
        {
          "output_type": "execute_result",
          "data": {
            "text/plain": [
              "[1, 2, 3, 4]"
            ]
          },
          "metadata": {
            "tags": []
          },
          "execution_count": 127
        }
      ]
    },
    {
      "metadata": {
        "id": "HqU4soyE8_GI",
        "colab_type": "code",
        "colab": {
          "base_uri": "https://localhost:8080/",
          "height": 35
        },
        "outputId": "d041e455-145d-4a9d-a8e1-2d5b16d0ab74"
      },
      "cell_type": "code",
      "source": [
        "a[:-2]"
      ],
      "execution_count": 128,
      "outputs": [
        {
          "output_type": "execute_result",
          "data": {
            "text/plain": [
              "[1, 2, 3]"
            ]
          },
          "metadata": {
            "tags": []
          },
          "execution_count": 128
        }
      ]
    },
    {
      "metadata": {
        "id": "A_Rry6BHzo0V",
        "colab_type": "code",
        "colab": {
          "base_uri": "https://localhost:8080/",
          "height": 35
        },
        "outputId": "cf53d9de-4449-4be3-e41e-e1e97cadff0e"
      },
      "cell_type": "code",
      "source": [
        "a[::2]                # 리스트에서 짝수번째의 요소를 추출\n",
        "#리스트 중 2번 4번 6번 짝수 항목의 요소만"
      ],
      "execution_count": 129,
      "outputs": [
        {
          "output_type": "execute_result",
          "data": {
            "text/plain": [
              "[1, 3, 5]"
            ]
          },
          "metadata": {
            "tags": []
          },
          "execution_count": 129
        }
      ]
    },
    {
      "metadata": {
        "id": "w3uPaJAWzo0W",
        "colab_type": "text"
      },
      "cell_type": "markdown",
      "source": [
        "### 슬라이스를 사용한 요소의 대입과 삭제"
      ]
    },
    {
      "metadata": {
        "id": "EgeV1IGVzo0X",
        "colab_type": "code",
        "colab": {
          "base_uri": "https://localhost:8080/",
          "height": 35
        },
        "outputId": "db7e969f-7670-4e97-fa6f-01765a3c52b0"
      },
      "cell_type": "code",
      "source": [
        "# 요소의 추가\n",
        "a = [1, 2, 3, 4, 5]   # 리스트를 작성\n",
        "# 리스트의 3번째 부터 다섯번째 요소를 치환\n",
        "a[2:4] = ['Three', 'Four', 'five']\n",
        "a                     # 결과의 표시 ? Understand???"
      ],
      "execution_count": 131,
      "outputs": [
        {
          "output_type": "execute_result",
          "data": {
            "text/plain": [
              "[1, 2, 'Three', 'Four', 'five', 5]"
            ]
          },
          "metadata": {
            "tags": []
          },
          "execution_count": 131
        }
      ]
    },
    {
      "metadata": {
        "id": "welUHuS8zo0Y",
        "colab_type": "code",
        "colab": {
          "base_uri": "https://localhost:8080/",
          "height": 35
        },
        "outputId": "86e50335-6ace-47da-fe50-eaf0c0d5fdcc"
      },
      "cell_type": "code",
      "source": [
        "# 요소의 삭제\n",
        "a = [1, 2, 3, 4, 5]   # 리스트를 작성\n",
        "del a[2:]             # 3번째부터 마지막까지 삭제\n",
        "a                     # 결과 확인"
      ],
      "execution_count": 132,
      "outputs": [
        {
          "output_type": "execute_result",
          "data": {
            "text/plain": [
              "[1, 2]"
            ]
          },
          "metadata": {
            "tags": []
          },
          "execution_count": 132
        }
      ]
    },
    {
      "metadata": {
        "id": "RPKXNI3Kzo0Z",
        "colab_type": "text"
      },
      "cell_type": "markdown",
      "source": [
        "## if문의 응용 (Ch.03-04)"
      ]
    },
    {
      "metadata": {
        "id": "4CnoeCdGzo0a",
        "colab_type": "text"
      },
      "cell_type": "markdown",
      "source": [
        "### 비교 연산자와 True(참), False(거짓)"
      ]
    },
    {
      "metadata": {
        "id": "M0bLbx7bzo0a",
        "colab_type": "code",
        "colab": {
          "base_uri": "https://localhost:8080/",
          "height": 35
        },
        "outputId": "802082cc-a23d-460e-ee11-c65479b937c6"
      },
      "cell_type": "code",
      "source": [
        "# 비교식에서는 결과에 따라 True(참), False(거짓)가 돌아온다\n",
        "1+1 == 2          # 수식과 수치 비교 1"
      ],
      "execution_count": 133,
      "outputs": [
        {
          "output_type": "execute_result",
          "data": {
            "text/plain": [
              "True"
            ]
          },
          "metadata": {
            "tags": []
          },
          "execution_count": 133
        }
      ]
    },
    {
      "metadata": {
        "id": "5REJULxbzo0b",
        "colab_type": "code",
        "colab": {
          "base_uri": "https://localhost:8080/",
          "height": 35
        },
        "outputId": "f861fec5-c500-4daa-fca3-066ff9a7a214"
      },
      "cell_type": "code",
      "source": [
        "5**(4-4)+9 == 10  # 수식과 수치 비교 1"
      ],
      "execution_count": 134,
      "outputs": [
        {
          "output_type": "execute_result",
          "data": {
            "text/plain": [
              "True"
            ]
          },
          "metadata": {
            "tags": []
          },
          "execution_count": 134
        }
      ]
    },
    {
      "metadata": {
        "id": "17e-cxJwzo0c",
        "colab_type": "code",
        "colab": {
          "base_uri": "https://localhost:8080/",
          "height": 35
        },
        "outputId": "6fbf9bea-be44-40c2-9612-e06b58362275"
      },
      "cell_type": "code",
      "source": [
        "5 > 2             # 수치의 크고 작음 비교"
      ],
      "execution_count": 135,
      "outputs": [
        {
          "output_type": "execute_result",
          "data": {
            "text/plain": [
              "True"
            ]
          },
          "metadata": {
            "tags": []
          },
          "execution_count": 135
        }
      ]
    },
    {
      "metadata": {
        "id": "JxmP6ugKzo0e",
        "colab_type": "code",
        "colab": {
          "base_uri": "https://localhost:8080/",
          "height": 35
        },
        "outputId": "e787e323-3fac-403e-85ad-2db739016bf9"
      },
      "cell_type": "code",
      "source": [
        "100 == 100.0      # 정수와 부동 소수점 비교"
      ],
      "execution_count": 136,
      "outputs": [
        {
          "output_type": "execute_result",
          "data": {
            "text/plain": [
              "True"
            ]
          },
          "metadata": {
            "tags": []
          },
          "execution_count": 136
        }
      ]
    },
    {
      "metadata": {
        "id": "7IyXU1dB96Gx",
        "colab_type": "code",
        "colab": {
          "base_uri": "https://localhost:8080/",
          "height": 136
        },
        "outputId": "b66fef78-0bb2-44a3-c0e7-4b2852a715cf"
      },
      "cell_type": "code",
      "source": [
        "100 === 100.0 #=== 크기와 데이터 타입을 둘 다 고려하는 것이지만 파이썬에선 ===취급하지 않음"
      ],
      "execution_count": 142,
      "outputs": [
        {
          "output_type": "error",
          "ename": "SyntaxError",
          "evalue": "ignored",
          "traceback": [
            "\u001b[0;36m  File \u001b[0;32m\"<ipython-input-142-60eeb81c6a75>\"\u001b[0;36m, line \u001b[0;32m1\u001b[0m\n\u001b[0;31m    100 === 100.0 #=== 크기와 데이터 타입을 둘 다 고려하는 것이지만 파이썬에선 ===취급하지 않음\u001b[0m\n\u001b[0m          ^\u001b[0m\n\u001b[0;31mSyntaxError\u001b[0m\u001b[0;31m:\u001b[0m invalid syntax\n"
          ]
        }
      ]
    },
    {
      "metadata": {
        "id": "OluBRvslzo0g",
        "colab_type": "code",
        "colab": {
          "base_uri": "https://localhost:8080/",
          "height": 35
        },
        "outputId": "7ca69fd6-731a-41d0-9dd3-c31924864dd4"
      },
      "cell_type": "code",
      "source": [
        "\"길동\" != \"홍길동\"   # 문자열 비교"
      ],
      "execution_count": 138,
      "outputs": [
        {
          "output_type": "execute_result",
          "data": {
            "text/plain": [
              "True"
            ]
          },
          "metadata": {
            "tags": []
          },
          "execution_count": 138
        }
      ]
    },
    {
      "metadata": {
        "id": "_J82vkO2zo0i",
        "colab_type": "code",
        "colab": {
          "base_uri": "https://localhost:8080/",
          "height": 35
        },
        "outputId": "27357b87-b0cc-47c2-f091-3395bbdcd58a"
      },
      "cell_type": "code",
      "source": [
        "[1, 2, 3] == [1, 2, 3]  # 리스트와 리스트의 비교"
      ],
      "execution_count": 143,
      "outputs": [
        {
          "output_type": "execute_result",
          "data": {
            "text/plain": [
              "True"
            ]
          },
          "metadata": {
            "tags": []
          },
          "execution_count": 143
        }
      ]
    },
    {
      "metadata": {
        "id": "UwvrO5E1zo0j",
        "colab_type": "text"
      },
      "cell_type": "markdown",
      "source": [
        "### 비교에 관한 메모"
      ]
    },
    {
      "metadata": {
        "id": "RNRkxl16zo0k",
        "colab_type": "code",
        "colab": {
          "base_uri": "https://localhost:8080/",
          "height": 172
        },
        "outputId": "d6f69bdb-265e-4fb6-bcd0-6233861d253c"
      },
      "cell_type": "code",
      "source": [
        "# Python(3)는 다른 형태의 비교를 실행 할 수 없다\n",
        "1 < \"2\"    # 오류가 발생"
      ],
      "execution_count": 144,
      "outputs": [
        {
          "output_type": "error",
          "ename": "TypeError",
          "evalue": "ignored",
          "traceback": [
            "\u001b[0;31m---------------------------------------------------------------------------\u001b[0m",
            "\u001b[0;31mTypeError\u001b[0m                                 Traceback (most recent call last)",
            "\u001b[0;32m<ipython-input-144-7ab6cd2b00d7>\u001b[0m in \u001b[0;36m<module>\u001b[0;34m()\u001b[0m\n\u001b[0;32m----> 1\u001b[0;31m \u001b[0;36m1\u001b[0m \u001b[0;34m<\u001b[0m \u001b[0;34m\"2\"\u001b[0m    \u001b[0;31m# 오류가 발생\u001b[0m\u001b[0;34m\u001b[0m\u001b[0m\n\u001b[0m",
            "\u001b[0;31mTypeError\u001b[0m: '<' not supported between instances of 'int' and 'str'"
          ]
        }
      ]
    },
    {
      "metadata": {
        "id": "oCfXDH7lzo0m",
        "colab_type": "code",
        "colab": {
          "base_uri": "https://localhost:8080/",
          "height": 35
        },
        "outputId": "63a460b0-dd8b-462a-814d-da7a4fff3f22"
      },
      "cell_type": "code",
      "source": [
        "# 문자열을 명시적으로 숫자로 변환하여 비교하는 것이 파이썬의 방법\n",
        "1 < int(\"2\") #숫자로 취급가능"
      ],
      "execution_count": 148,
      "outputs": [
        {
          "output_type": "execute_result",
          "data": {
            "text/plain": [
              "True"
            ]
          },
          "metadata": {
            "tags": []
          },
          "execution_count": 148
        }
      ]
    },
    {
      "metadata": {
        "id": "aDrYIeT3zo0n",
        "colab_type": "code",
        "colab": {
          "base_uri": "https://localhost:8080/",
          "height": 35
        },
        "outputId": "d733382b-0273-46de-9fd4-66e7e8d10788"
      },
      "cell_type": "code",
      "source": [
        "# 문자열끼리의 비교 (대소)\n",
        "\"100\" < \"200\"    # 보기 원하는 결과가 돌아오고 있는 것 같지만"
      ],
      "execution_count": 149,
      "outputs": [
        {
          "output_type": "execute_result",
          "data": {
            "text/plain": [
              "True"
            ]
          },
          "metadata": {
            "tags": []
          },
          "execution_count": 149
        }
      ]
    },
    {
      "metadata": {
        "id": "sqUAr1sXzo0q",
        "colab_type": "code",
        "colab": {
          "base_uri": "https://localhost:8080/",
          "height": 35
        },
        "outputId": "24837bbd-2d33-4c6f-b11b-f11ac5aab8c1"
      },
      "cell_type": "code",
      "source": [
        "\"100\" < \"2\"      # (내부적으로) 문자열을 숫자로 비교하는 것은 아니다\n",
        "#아스키코드로 비교함"
      ],
      "execution_count": 152,
      "outputs": [
        {
          "output_type": "execute_result",
          "data": {
            "text/plain": [
              "True"
            ]
          },
          "metadata": {
            "tags": []
          },
          "execution_count": 152
        }
      ]
    },
    {
      "metadata": {
        "id": "D0BUolGXzo0u",
        "colab_type": "code",
        "colab": {
          "base_uri": "https://localhost:8080/",
          "height": 35
        },
        "outputId": "e031f691-3ffc-44cd-89a1-107a0c810b64"
      },
      "cell_type": "code",
      "source": [
        "\"100\" > \"2\""
      ],
      "execution_count": 153,
      "outputs": [
        {
          "output_type": "execute_result",
          "data": {
            "text/plain": [
              "False"
            ]
          },
          "metadata": {
            "tags": []
          },
          "execution_count": 153
        }
      ]
    },
    {
      "metadata": {
        "id": "3NsrAamRzo00",
        "colab_type": "text"
      },
      "cell_type": "markdown",
      "source": [
        "### 복잡한 비교 – 논리연산"
      ]
    },
    {
      "metadata": {
        "id": "u9SSTPaAzo00",
        "colab_type": "code",
        "colab": {
          "base_uri": "https://localhost:8080/",
          "height": 35
        },
        "outputId": "6e85e22a-47a8-4f67-8f15-6e6230370024"
      },
      "cell_type": "code",
      "source": [
        "# 조건식에 논리 연산자를 사용한 예\n",
        "# 지구상에서 수평으로 쏘아올린 물체가 속도(v)에 의해\n",
        "# 어떤 행동을 하는지를 조사\n",
        "v = 30000                   # 쏘아 올리는 속도(km/h)\n",
        "if v < 28400:               # 제1 우주속도 이하\n",
        "    print(\"지구에 낙하합니다\")\n",
        "if v >= 28400 and v < 40300: # 제1 우주속도 이상이며 제2 우주속도 미만\n",
        "    print(\"달과 친구입니다\")\n",
        "if v >= 40300 and v < 60100: # 제2 우주속도 이상이며 제3 우주속도 미만\n",
        "    print(\"혹성과 같은 부류입니다\")\n",
        "if v >= 60100:               # 제3 우주속도 이상\n",
        "    print(\"알파 센타우리를 노려라\")"
      ],
      "execution_count": 154,
      "outputs": [
        {
          "output_type": "stream",
          "text": [
            "달과 친구입니다\n"
          ],
          "name": "stdout"
        }
      ]
    },
    {
      "metadata": {
        "id": "EI5cK2kkzo02",
        "colab_type": "code",
        "colab": {}
      },
      "cell_type": "code",
      "source": [
        ""
      ],
      "execution_count": 0,
      "outputs": []
    },
    {
      "metadata": {
        "id": "U_ayC-iOzo02",
        "colab_type": "text"
      },
      "cell_type": "markdown",
      "source": [
        "## 루프의 응용 (Ch.3-5)"
      ]
    },
    {
      "metadata": {
        "id": "Ro2yPszzzo02",
        "colab_type": "text"
      },
      "cell_type": "markdown",
      "source": [
        "### while문으로 루프를 작성"
      ]
    },
    {
      "metadata": {
        "id": "HTX05Iwczo03",
        "colab_type": "code",
        "colab": {
          "base_uri": "https://localhost:8080/",
          "height": 1817
        },
        "outputId": "710dc962-1413-43c1-9e7e-0cee53f5b803"
      },
      "cell_type": "code",
      "source": [
        "# Fizz Buzz 문제를 푸는 프로그램\n",
        "cnt = 1                   # 루프 카운터를 초기화\n",
        "while cnt <= 100:         # 1부터 100까지 반복 #파이썬은 do ~while이 존재 x\n",
        "    if cnt%3 == 0 and cnt%5 == 0:\n",
        "        print(\"FizzBuzz\") # 3으로도 나누어지고 5로도 나누어 지는 것\n",
        "    elif cnt%3 == 0:\n",
        "        print(\"Fizz\")     # 3으로 나누어지는 것\n",
        "    elif cnt%5 == 0:\n",
        "        print(\"Buzz\")     # 5로 나누어지는 것\n",
        "    else:\n",
        "        print(cnt)        # 값의 표시\n",
        "    cnt = cnt+1           # 카운터를 1씩 증가"
      ],
      "execution_count": 155,
      "outputs": [
        {
          "output_type": "stream",
          "text": [
            "1\n",
            "2\n",
            "Fizz\n",
            "4\n",
            "Buzz\n",
            "Fizz\n",
            "7\n",
            "8\n",
            "Fizz\n",
            "Buzz\n",
            "11\n",
            "Fizz\n",
            "13\n",
            "14\n",
            "FizzBuzz\n",
            "16\n",
            "17\n",
            "Fizz\n",
            "19\n",
            "Buzz\n",
            "Fizz\n",
            "22\n",
            "23\n",
            "Fizz\n",
            "Buzz\n",
            "26\n",
            "Fizz\n",
            "28\n",
            "29\n",
            "FizzBuzz\n",
            "31\n",
            "32\n",
            "Fizz\n",
            "34\n",
            "Buzz\n",
            "Fizz\n",
            "37\n",
            "38\n",
            "Fizz\n",
            "Buzz\n",
            "41\n",
            "Fizz\n",
            "43\n",
            "44\n",
            "FizzBuzz\n",
            "46\n",
            "47\n",
            "Fizz\n",
            "49\n",
            "Buzz\n",
            "Fizz\n",
            "52\n",
            "53\n",
            "Fizz\n",
            "Buzz\n",
            "56\n",
            "Fizz\n",
            "58\n",
            "59\n",
            "FizzBuzz\n",
            "61\n",
            "62\n",
            "Fizz\n",
            "64\n",
            "Buzz\n",
            "Fizz\n",
            "67\n",
            "68\n",
            "Fizz\n",
            "Buzz\n",
            "71\n",
            "Fizz\n",
            "73\n",
            "74\n",
            "FizzBuzz\n",
            "76\n",
            "77\n",
            "Fizz\n",
            "79\n",
            "Buzz\n",
            "Fizz\n",
            "82\n",
            "83\n",
            "Fizz\n",
            "Buzz\n",
            "86\n",
            "Fizz\n",
            "88\n",
            "89\n",
            "FizzBuzz\n",
            "91\n",
            "92\n",
            "Fizz\n",
            "94\n",
            "Buzz\n",
            "Fizz\n",
            "97\n",
            "98\n",
            "Fizz\n",
            "Buzz\n"
          ],
          "name": "stdout"
        }
      ]
    },
    {
      "metadata": {
        "id": "svfFQDvlzo04",
        "colab_type": "text"
      },
      "cell_type": "markdown",
      "source": [
        "### break문과 continue문을 사용한 루프의 제어"
      ]
    },
    {
      "metadata": {
        "id": "of_2xeQXzo04",
        "colab_type": "code",
        "colab": {
          "base_uri": "https://localhost:8080/",
          "height": 54
        },
        "outputId": "d46f76f1-b11f-46ed-9a75-5f9063492434"
      },
      "cell_type": "code",
      "source": [
        "# 가위, 바위, 보 프로그램\n",
        "from random import randint              # 난수를 발생하는 함수를 import 함 \n",
        "#randint 랜덤 정수 설정\n",
        "hands = {0:\"가위\", 1:\"바위\", 2:\"보\"}       # 가위, 바위, 보의 수\n",
        "# 승패의 규칙\n",
        "rules = {(0, 0):\"비김\", (0, 1):\"컴승\", (0, 2):\"컴패\",   \n",
        "         (1, 0):\"패\", (1, 1):\"비김\", (1, 2):\"승\",\n",
        "         (2, 0):\"승\", (2, 1):\"패\", (2, 2):\"비김\"}\n",
        "\n",
        "while True:\n",
        "    # 가위, 바위, 보의 루프\n",
        "    pc_hand = randint(0, 2)             # 난수로 수를 결정\n",
        "    user_hand_str = input(\"0:가위 1:바위 2:보 3:종료\")\n",
        "    if user_hand_str == \"3\":\n",
        "        # 종료값이 입력되면 루프를 빠져나감\n",
        "#         print(\"Game over!\")\n",
        "        break\n",
        "    if user_hand_str not in (\"0\", \"1\", \"2\"):\n",
        "        # 부정한 입력의 경우 루프의 앞으로 되돌아감\n",
        "        continue\n",
        "    user_hand = int(user_hand_str)     # 사용자의 수를 값으로 변환\n",
        "    # 수의 표시\n",
        "    print(\"당신:\"+hands[user_hand]+\", 컴퓨터:\"+hands[pc_hand])\n",
        "    # 승패의 표시\n",
        "    print(rules[(user_hand, pc_hand)])\n",
        "    #딕셔너리를 사용하여 간단한 게임"
      ],
      "execution_count": 61,
      "outputs": [
        {
          "output_type": "stream",
          "text": [
            "0:가위 1:바위 2:보 3:종료\n",
            "0:가위 1:바위 2:보 3:종료3\n"
          ],
          "name": "stdout"
        }
      ]
    },
    {
      "metadata": {
        "id": "juUpfBNqzo0_",
        "colab_type": "text"
      },
      "cell_type": "markdown",
      "source": [
        "## 함수의 응용 (Ch.3-6)"
      ]
    },
    {
      "metadata": {
        "id": "-2WQ8tj8zo0_",
        "colab_type": "code",
        "colab": {
          "base_uri": "https://localhost:8080/",
          "height": 35
        },
        "outputId": "c785256f-b950-4c51-e30f-273723bbc07c"
      },
      "cell_type": "code",
      "source": [
        "# int() 함수의 예\n",
        "# 함수 호출, 인수, 반환 복습\n",
        "int(\"101010\", 2)       # 이진수 해당 문자열을 숫자로 변환"
      ],
      "execution_count": 62,
      "outputs": [
        {
          "output_type": "execute_result",
          "data": {
            "text/plain": [
              "42"
            ]
          },
          "metadata": {
            "tags": []
          },
          "execution_count": 62
        }
      ]
    },
    {
      "metadata": {
        "id": "WSMysogLzo1C",
        "colab_type": "code",
        "colab": {
          "base_uri": "https://localhost:8080/",
          "height": 35
        },
        "outputId": "833b4dbf-3b28-4936-dcce-27e584332b88"
      },
      "cell_type": "code",
      "source": [
        "# 두 번째 인수를 지정하지 않을 경우 묵시적으로 10으로 간주\n",
        "int(\"101010\")"
      ],
      "execution_count": 63,
      "outputs": [
        {
          "output_type": "execute_result",
          "data": {
            "text/plain": [
              "101010"
            ]
          },
          "metadata": {
            "tags": []
          },
          "execution_count": 63
        }
      ]
    },
    {
      "metadata": {
        "id": "QYhdLpK4zo1E",
        "colab_type": "text"
      },
      "cell_type": "markdown",
      "source": [
        "### 함수에 디폴트 인수를 정의"
      ]
    },
    {
      "metadata": {
        "id": "RV63edR8zo1E",
        "colab_type": "code",
        "colab": {}
      },
      "cell_type": "code",
      "source": [
        "def fizzbuzz(count=100, fizzmod=3, buzzmod=5):\n",
        "    \"\"\"\n",
        "    FizzBuzz 문제를 푸는 함수\n",
        "    반복 횟수, Fizz/Buzz를 표시하는 조건을 변경할 수 있다\n",
        "    (이것은 docstring 문자열입니다)\n",
        "    \"\"\"\n",
        "    for cnt in range(1, count+1):             # 카운트 반복\n",
        "        if cnt%fizzmod == 0 and cnt%buzzmod == 0:\n",
        "            # fizzmod와 buzzmod도 딱 나누어 떨어짐\n",
        "            print(\"FizzBuzz\")\n",
        "        elif cnt%fizzmod == 0:\n",
        "            # fizzmod로 딱 나누어 떨어짐\n",
        "            print(\"Fizz\")\n",
        "        elif cnt%buzzmod == 0:\n",
        "            # buzzmod로 딱 나누어 떨어짐\n",
        "            print(\"Buzz\")\n",
        "        else:\n",
        "            # 값을 표시\n",
        "            print(cnt)"
      ],
      "execution_count": 0,
      "outputs": []
    },
    {
      "metadata": {
        "id": "KMewwG0Tzo1I",
        "colab_type": "code",
        "colab": {
          "base_uri": "https://localhost:8080/",
          "height": 937
        },
        "outputId": "3febbd87-9369-4501-d577-c937a2f20734"
      },
      "cell_type": "code",
      "source": [
        "# 함수를 호출 (인수, 즉 매개변수를 다르게 지정하여 함수 실행)\n",
        "fizzbuzz(50, 2, 7)"
      ],
      "execution_count": 66,
      "outputs": [
        {
          "output_type": "stream",
          "text": [
            "1\n",
            "Fizz\n",
            "3\n",
            "Fizz\n",
            "5\n",
            "Fizz\n",
            "Buzz\n",
            "Fizz\n",
            "9\n",
            "Fizz\n",
            "11\n",
            "Fizz\n",
            "13\n",
            "FizzBuzz\n",
            "15\n",
            "Fizz\n",
            "17\n",
            "Fizz\n",
            "19\n",
            "Fizz\n",
            "Buzz\n",
            "Fizz\n",
            "23\n",
            "Fizz\n",
            "25\n",
            "Fizz\n",
            "27\n",
            "FizzBuzz\n",
            "29\n",
            "Fizz\n",
            "31\n",
            "Fizz\n",
            "33\n",
            "Fizz\n",
            "Buzz\n",
            "Fizz\n",
            "37\n",
            "Fizz\n",
            "39\n",
            "Fizz\n",
            "41\n",
            "FizzBuzz\n",
            "43\n",
            "Fizz\n",
            "45\n",
            "Fizz\n",
            "47\n",
            "Fizz\n",
            "Buzz\n",
            "Fizz\n"
          ],
          "name": "stdout"
        }
      ]
    },
    {
      "metadata": {
        "id": "6CKM0MaKzo1K",
        "colab_type": "text"
      },
      "cell_type": "markdown",
      "source": [
        "### 인수의 키워드 지정"
      ]
    },
    {
      "metadata": {
        "id": "j4cZtTcizo1L",
        "colab_type": "code",
        "colab": {
          "base_uri": "https://localhost:8080/",
          "height": 35
        },
        "outputId": "34223057-d94c-4360-e266-8cb09173c84c"
      },
      "cell_type": "code",
      "source": [
        "# 인수의 키워드 지정\n",
        "# 키워드를 지정하여 인수의 순서를 바꿔 본다\n",
        "int(base=2, x=\"1010\")  # int(\"1010\", 2)와 같다"
      ],
      "execution_count": 67,
      "outputs": [
        {
          "output_type": "execute_result",
          "data": {
            "text/plain": [
              "10"
            ]
          },
          "metadata": {
            "tags": []
          },
          "execution_count": 67
        }
      ]
    },
    {
      "metadata": {
        "id": "BmeQ017wzo1N",
        "colab_type": "text"
      },
      "cell_type": "markdown",
      "source": [
        "### 함수와 지역 변수"
      ]
    },
    {
      "metadata": {
        "id": "5F5sLuWQzo1O",
        "colab_type": "code",
        "colab": {
          "base_uri": "https://localhost:8080/",
          "height": 54
        },
        "outputId": "8ccd4c36-fd95-41bb-ea09-aeaa27402576"
      },
      "cell_type": "code",
      "source": [
        "# 함수의 밖에서 정의한 변수를 함수 내에서 사용\n",
        "local_var = 1           # 함수의 외부에서 변수를 정의\n",
        "\n",
        "def test_func(an_arg):\n",
        "    local_var = an_arg  # 함수 내부에서 같은 이름의 변수를 정의\n",
        "    print(\"test_func()의 내부 =\", local_var)\n",
        "\n",
        "test_func(200)\n",
        "print(\"test_func()의 외부 =\", local_var)"
      ],
      "execution_count": 68,
      "outputs": [
        {
          "output_type": "stream",
          "text": [
            "test_func()의 내부 = 200\n",
            "test_func()의 외부 = 1\n"
          ],
          "name": "stdout"
        }
      ]
    },
    {
      "metadata": {
        "id": "doqJgqAuzo1U",
        "colab_type": "code",
        "colab": {}
      },
      "cell_type": "code",
      "source": [
        ""
      ],
      "execution_count": 0,
      "outputs": []
    },
    {
      "metadata": {
        "id": "9UkYeaiwzo2I",
        "colab_type": "text"
      },
      "cell_type": "markdown",
      "source": [
        "## 객체로서의 내장형 (Ch.4-1)"
      ]
    },
    {
      "metadata": {
        "id": "6hCU7Ndjzo2K",
        "colab_type": "text"
      },
      "cell_type": "markdown",
      "source": [
        "### 메쏘드란?"
      ]
    },
    {
      "metadata": {
        "id": "yzYCAR6bzo2M",
        "colab_type": "code",
        "colab": {}
      },
      "cell_type": "code",
      "source": [
        "# 리스트의 인덱스를 반환하는 함수 find_index의 정의\n",
        "def find_index(the_list, target):\n",
        "    # the_list에서 target의 인덱스를 조사하는 함수\n",
        "    idx = 0                 # 인덱스용의 카운터를 초기화\n",
        "    for item in the_list:   # 리스트의 요소를 1개씩 조사\n",
        "        if target == the_list[idx]:\n",
        "            # 조사하고 싶은 요소가 발견되면 인덱스를 반환\n",
        "            return idx\n",
        "        idx = idx+1    # 인덱스를 1 증가"
      ],
      "execution_count": 0,
      "outputs": []
    },
    {
      "metadata": {
        "id": "xMQTdaP8zo2N",
        "colab_type": "code",
        "colab": {
          "base_uri": "https://localhost:8080/",
          "height": 35
        },
        "outputId": "a0747693-294b-4b64-f715-fcc8b584570d"
      },
      "cell_type": "code",
      "source": [
        "# find_index( )를 사용한 예\n",
        "# 리스트를 정의\n",
        "mcz=[\"영희\", \"길동\", \"순철\", \"철희\", \"지영\"]\n",
        "find_index(mcz, \"순철\")"
      ],
      "execution_count": 70,
      "outputs": [
        {
          "output_type": "execute_result",
          "data": {
            "text/plain": [
              "2"
            ]
          },
          "metadata": {
            "tags": []
          },
          "execution_count": 70
        }
      ]
    },
    {
      "metadata": {
        "id": "UZ4w8fVAzo2O",
        "colab_type": "code",
        "colab": {
          "base_uri": "https://localhost:8080/",
          "height": 35
        },
        "outputId": "9e727f7c-4020-40ff-9119-fa4cbfb601b0"
      },
      "cell_type": "code",
      "source": [
        "# index( ) 메쏘드를 사용한 예\n",
        "# 메쏘드를 사용하여 동일한 작업을 하는 것이 더 쉽다\n",
        "mcz.index(\"순철\")"
      ],
      "execution_count": 71,
      "outputs": [
        {
          "output_type": "execute_result",
          "data": {
            "text/plain": [
              "2"
            ]
          },
          "metadata": {
            "tags": []
          },
          "execution_count": 71
        }
      ]
    },
    {
      "metadata": {
        "id": "w_9mrjK8zo1Y",
        "colab_type": "text"
      },
      "cell_type": "markdown",
      "source": [
        "## if문과 내장형 (Ch.4-7)"
      ]
    },
    {
      "metadata": {
        "id": "yL8yOwOYzo1Z",
        "colab_type": "text"
      },
      "cell_type": "markdown",
      "source": [
        "### 내장형과 True(참), False(거짓)"
      ]
    },
    {
      "metadata": {
        "id": "XtEhi5nLzo1Z",
        "colab_type": "code",
        "colab": {
          "base_uri": "https://localhost:8080/",
          "height": 35
        },
        "outputId": "5d68a969-d478-4d94-b824-9454831ff992"
      },
      "cell_type": "code",
      "source": [
        "# True로 판별되는 객체\n",
        "s = \"SPAM\"  # 문자열 정의\n",
        "if len(s) != 0:\n",
        "    print(\"s는 비어 있지 않다.\")"
      ],
      "execution_count": 72,
      "outputs": [
        {
          "output_type": "stream",
          "text": [
            "s는 비어 있지 않다.\n"
          ],
          "name": "stdout"
        }
      ]
    },
    {
      "metadata": {
        "id": "bGX7bp9Azo1a",
        "colab_type": "code",
        "colab": {
          "base_uri": "https://localhost:8080/",
          "height": 35
        },
        "outputId": "c7a996a3-d87b-4964-f2eb-073f06bb5a02"
      },
      "cell_type": "code",
      "source": [
        "# 같은 처리를 다음과 같이도 쓸 수도 있다\n",
        "if s:\n",
        "    print(\"s는 비어 있지 않다.\")"
      ],
      "execution_count": 73,
      "outputs": [
        {
          "output_type": "stream",
          "text": [
            "s는 비어 있지 않다.\n"
          ],
          "name": "stdout"
        }
      ]
    },
    {
      "metadata": {
        "id": "SxpouRvwzo1c",
        "colab_type": "code",
        "colab": {
          "base_uri": "https://localhost:8080/",
          "height": 35
        },
        "outputId": "aa93181a-b9c5-41f9-ffe3-235c782791ac"
      },
      "cell_type": "code",
      "source": [
        "# 기타 True(참)가 되는 객체\n",
        "if 1:               # 0이 아닌 숫자\n",
        "    print(True)"
      ],
      "execution_count": 74,
      "outputs": [
        {
          "output_type": "stream",
          "text": [
            "True\n"
          ],
          "name": "stdout"
        }
      ]
    },
    {
      "metadata": {
        "id": "kXwSkKZHzo1g",
        "colab_type": "code",
        "colab": {
          "base_uri": "https://localhost:8080/",
          "height": 35
        },
        "outputId": "d6fc15b5-a524-4dce-9565-c4b55c1401c9"
      },
      "cell_type": "code",
      "source": [
        "if \"KILLERRABBIT\":  # 길이가 있는(비어 있지 않은) 문자열\n",
        "    print(True)"
      ],
      "execution_count": 75,
      "outputs": [
        {
          "output_type": "stream",
          "text": [
            "True\n"
          ],
          "name": "stdout"
        }
      ]
    },
    {
      "metadata": {
        "id": "Rg1HDZQdzo1i",
        "colab_type": "code",
        "colab": {
          "base_uri": "https://localhost:8080/",
          "height": 35
        },
        "outputId": "ded401cd-46da-407d-b0a7-c24c631a1c9c"
      },
      "cell_type": "code",
      "source": [
        "if [1, 2, 3]:       # 요소를 가진 리스트, 튜플 등\n",
        "    print(True)"
      ],
      "execution_count": 76,
      "outputs": [
        {
          "output_type": "stream",
          "text": [
            "True\n"
          ],
          "name": "stdout"
        }
      ]
    },
    {
      "metadata": {
        "id": "nVHYhO1Fzo1i",
        "colab_type": "code",
        "colab": {
          "base_uri": "https://localhost:8080/",
          "height": 35
        },
        "outputId": "0dabec18-76eb-4067-8832-06246af750a6"
      },
      "cell_type": "code",
      "source": [
        "if {1:'One', 2:'Two'}: # 요소를 가진 딕셔너리\n",
        "    print(True)"
      ],
      "execution_count": 77,
      "outputs": [
        {
          "output_type": "stream",
          "text": [
            "True\n"
          ],
          "name": "stdout"
        }
      ]
    },
    {
      "metadata": {
        "id": "Pir98GKTzo1m",
        "colab_type": "code",
        "colab": {}
      },
      "cell_type": "code",
      "source": [
        "# False(거짓)가 되는 객체\n",
        "# print()가 있는 블록이 실행되지 않는다\n",
        "if 0:               # 숫자 0\n",
        "    print(True)"
      ],
      "execution_count": 0,
      "outputs": []
    },
    {
      "metadata": {
        "id": "mzlQYbYHzo1n",
        "colab_type": "code",
        "colab": {}
      },
      "cell_type": "code",
      "source": [
        "if \"\":              # 빈 문자열\n",
        "    print(True)"
      ],
      "execution_count": 0,
      "outputs": []
    },
    {
      "metadata": {
        "id": "UimWsGH9zo1o",
        "colab_type": "code",
        "colab": {}
      },
      "cell_type": "code",
      "source": [
        "if []:              # 빈 리시트나 튜플 등\n",
        "    print(True)"
      ],
      "execution_count": 0,
      "outputs": []
    },
    {
      "metadata": {
        "id": "wXbszQqrzo1q",
        "colab_type": "code",
        "colab": {}
      },
      "cell_type": "code",
      "source": [
        "if {}:              # 빈 딕셔너리\n",
        "    print(True)"
      ],
      "execution_count": 0,
      "outputs": []
    },
    {
      "metadata": {
        "id": "m0eR7TKMzo1q",
        "colab_type": "code",
        "colab": {}
      },
      "cell_type": "code",
      "source": [
        ""
      ],
      "execution_count": 0,
      "outputs": []
    },
    {
      "metadata": {
        "id": "aWLbEyTZzo1r",
        "colab_type": "text"
      },
      "cell_type": "markdown",
      "source": [
        "## for문과 내장형 (Ch.4-8)"
      ]
    },
    {
      "metadata": {
        "id": "chvWFG8Zzo1s",
        "colab_type": "text"
      },
      "cell_type": "markdown",
      "source": [
        "### range( ) 함수 구사하기"
      ]
    },
    {
      "metadata": {
        "id": "-QlCXtq6zo1s",
        "colab_type": "code",
        "colab": {
          "base_uri": "https://localhost:8080/",
          "height": 35
        },
        "outputId": "ce725193-7c1d-4aee-8f16-34be4d37c729"
      },
      "cell_type": "code",
      "source": [
        "# 10～20의 리스트를 작성\n",
        "for i in range(10, 21):\n",
        "    print(i, end=' ')   # 줄바꿈하지 않고 공백을 추가하여 반복하는 변수를 표시"
      ],
      "execution_count": 86,
      "outputs": [
        {
          "output_type": "stream",
          "text": [
            "10 11 12 13 14 15 16 17 18 19 20 "
          ],
          "name": "stdout"
        }
      ]
    },
    {
      "metadata": {
        "id": "mc84sOGnzo1u",
        "colab_type": "code",
        "colab": {
          "base_uri": "https://localhost:8080/",
          "height": 35
        },
        "outputId": "0cdbbdfb-226c-4d3a-88a0-7f031c5101c5"
      },
      "cell_type": "code",
      "source": [
        "# range() 함수에 스텝 수 부여\n",
        "for i in range(10, 21, 2):  # 10부터 20까지, 2씩 증가\n",
        "    print(i, end=' ')"
      ],
      "execution_count": 87,
      "outputs": [
        {
          "output_type": "stream",
          "text": [
            "10 12 14 16 18 20 "
          ],
          "name": "stdout"
        }
      ]
    },
    {
      "metadata": {
        "id": "5rtzo-Ewzo1w",
        "colab_type": "code",
        "colab": {
          "base_uri": "https://localhost:8080/",
          "height": 35
        },
        "outputId": "810629f8-b759-459d-9ece-5d8ad82f565a"
      },
      "cell_type": "code",
      "source": [
        "for i in range(10, 21, 3):  # 10부터 19까지, 3씩 증가\n",
        "    print(i, end=' ')"
      ],
      "execution_count": 88,
      "outputs": [
        {
          "output_type": "stream",
          "text": [
            "10 13 16 19 "
          ],
          "name": "stdout"
        }
      ]
    },
    {
      "metadata": {
        "id": "1MYveMFpzo1x",
        "colab_type": "code",
        "colab": {
          "base_uri": "https://localhost:8080/",
          "height": 35
        },
        "outputId": "614c3a62-bfdf-4b4f-9d37-48c6fe1117fd"
      },
      "cell_type": "code",
      "source": [
        "for i in range(20, 9, -1):  # 20부터 10까지, 1씩 감소\n",
        "    print(i, end=' ')"
      ],
      "execution_count": 89,
      "outputs": [
        {
          "output_type": "stream",
          "text": [
            "20 19 18 17 16 15 14 13 12 11 10 "
          ],
          "name": "stdout"
        }
      ]
    },
    {
      "metadata": {
        "id": "hRQx-qQEzo1y",
        "colab_type": "text"
      },
      "cell_type": "markdown",
      "source": [
        "### 시퀀스와 루프 카운터"
      ]
    },
    {
      "metadata": {
        "id": "DcPj9siCzo1y",
        "colab_type": "code",
        "colab": {
          "base_uri": "https://localhost:8080/",
          "height": 35
        },
        "outputId": "884a6fe2-74dc-4a73-877a-d7843d822ec0"
      },
      "cell_type": "code",
      "source": [
        "# 카운터 변수를 사용한 루프 카운터\n",
        "\n",
        "# 책의 코드를 보충하였다\n",
        "\n",
        "# 순서를 정의\n",
        "seq = [\"야구\", \"축구\", \"농구\", \"배구\", \"탁구\"]\n",
        "counter = 0        # 루프 카운터를 초기화\n",
        "for item in seq:\n",
        "    print(counter, item, end=' ')\n",
        "    counter += 1"
      ],
      "execution_count": 90,
      "outputs": [
        {
          "output_type": "stream",
          "text": [
            "0 야구 1 축구 2 농구 3 배구 4 탁구 "
          ],
          "name": "stdout"
        }
      ]
    },
    {
      "metadata": {
        "id": "egwfukfhzo10",
        "colab_type": "code",
        "colab": {
          "base_uri": "https://localhost:8080/",
          "height": 35
        },
        "outputId": "45c2bcd0-cad3-403e-fbfa-ced74f8b77df"
      },
      "cell_type": "code",
      "source": [
        "# range()를 사용한 루프 카운터\n",
        "for cnt in range(len(seq)):\n",
        "    print(cnt, seq[cnt], end=' ')"
      ],
      "execution_count": 91,
      "outputs": [
        {
          "output_type": "stream",
          "text": [
            "0 야구 1 축구 2 농구 3 배구 4 탁구 "
          ],
          "name": "stdout"
        }
      ]
    },
    {
      "metadata": {
        "id": "Nm1WpmTxzo11",
        "colab_type": "code",
        "colab": {
          "base_uri": "https://localhost:8080/",
          "height": 35
        },
        "outputId": "c644d7b7-01c6-4127-887f-06e7bd79ae5b"
      },
      "cell_type": "code",
      "source": [
        "# enumerate ()를 사용한 예\n",
        "for cnt, item in enumerate(seq):\n",
        "    print(cnt, item, end=' ')"
      ],
      "execution_count": 92,
      "outputs": [
        {
          "output_type": "stream",
          "text": [
            "0 야구 1 축구 2 농구 3 배구 4 탁구 "
          ],
          "name": "stdout"
        }
      ]
    },
    {
      "metadata": {
        "id": "oi35DraXzo12",
        "colab_type": "text"
      },
      "cell_type": "markdown",
      "source": [
        "### 두개의 시퀀스를 사용한 루프"
      ]
    },
    {
      "metadata": {
        "id": "IdBQHrMfzo13",
        "colab_type": "code",
        "colab": {
          "base_uri": "https://localhost:8080/",
          "height": 90
        },
        "outputId": "0f13d406-b27b-49b3-f950-479b35e7a93f"
      },
      "cell_type": "code",
      "source": [
        "# zip() 함수의 사용\n",
        "for n, w in zip([1, 2, 3, 4], ['a', 'b', 'c', 'd']):\n",
        "    print(n, w)"
      ],
      "execution_count": 93,
      "outputs": [
        {
          "output_type": "stream",
          "text": [
            "1 a\n",
            "2 b\n",
            "3 c\n",
            "4 d\n"
          ],
          "name": "stdout"
        }
      ]
    },
    {
      "metadata": {
        "id": "Bk3tPJv0zo13",
        "colab_type": "text"
      },
      "cell_type": "markdown",
      "source": [
        "## 함수와 내장형 (Ch.4-9)"
      ]
    },
    {
      "metadata": {
        "id": "yNBIJFHlzo14",
        "colab_type": "code",
        "colab": {}
      },
      "cell_type": "code",
      "source": [
        "# 여러 반환 값을 반환하는 함수\n",
        "\n",
        "# 책의 코드를 보충하여 수정함\n",
        "\n",
        "def foo():\n",
        "    return [1, 2]  # 반환값이 list"
      ],
      "execution_count": 0,
      "outputs": []
    },
    {
      "metadata": {
        "id": "n8vgyP35zo14",
        "colab_type": "code",
        "colab": {
          "base_uri": "https://localhost:8080/",
          "height": 35
        },
        "outputId": "1d541661-bc00-4dcf-9053-dda198ea3660"
      },
      "cell_type": "code",
      "source": [
        "# 함수의 반환값을 리스트로 받음\n",
        "alist = foo()\n",
        "alist           # 반환값으로 받은 리스트 보기"
      ],
      "execution_count": 95,
      "outputs": [
        {
          "output_type": "execute_result",
          "data": {
            "text/plain": [
              "[1, 2]"
            ]
          },
          "metadata": {
            "tags": []
          },
          "execution_count": 95
        }
      ]
    },
    {
      "metadata": {
        "id": "C9Z2v9k01lEy",
        "colab_type": "code",
        "colab": {
          "base_uri": "https://localhost:8080/",
          "height": 35
        },
        "outputId": "15e09df1-06c8-4e54-b950-676523a44d6a"
      },
      "cell_type": "code",
      "source": [
        "type(alist)"
      ],
      "execution_count": 96,
      "outputs": [
        {
          "output_type": "execute_result",
          "data": {
            "text/plain": [
              "list"
            ]
          },
          "metadata": {
            "tags": []
          },
          "execution_count": 96
        }
      ]
    },
    {
      "metadata": {
        "id": "BhdEga6Jzo17",
        "colab_type": "text"
      },
      "cell_type": "markdown",
      "source": [
        "### 반환값과 언팩 대입"
      ]
    },
    {
      "metadata": {
        "id": "zIsokqg6zo17",
        "colab_type": "code",
        "colab": {}
      },
      "cell_type": "code",
      "source": [
        "# 목록의 최솟값, 최댓값, 평균값을 반환하는 함수\n",
        "def digest(in_list):\n",
        "    minvalue = min(in_list)\n",
        "    maxvalue = max(in_list)\n",
        "    average = sum(in_list)/len(in_list)\n",
        "\n",
        "    return [minvalue, maxvalue, average]"
      ],
      "execution_count": 0,
      "outputs": []
    },
    {
      "metadata": {
        "id": "5D0IUTnnzo1-",
        "colab_type": "code",
        "colab": {
          "base_uri": "https://localhost:8080/",
          "height": 35
        },
        "outputId": "1395fe96-8e28-4b10-ffaf-9eebfe0ae8ee"
      },
      "cell_type": "code",
      "source": [
        "# 함수를 사용\n",
        "monk_fish_team = [158, 157, 163, 157, 145]\n",
        "minvalue, maxvalue, average = digest(monk_fish_team)\n",
        "print(minvalue, maxvalue, average)"
      ],
      "execution_count": 106,
      "outputs": [
        {
          "output_type": "stream",
          "text": [
            "145 163 156.0\n"
          ],
          "name": "stdout"
        }
      ]
    },
    {
      "metadata": {
        "id": "lknhUkNdDzzm",
        "colab_type": "text"
      },
      "cell_type": "markdown",
      "source": [
        "#### [도전] 위의 digest() 함수가 variance도 추가로 반환하게 변경해보시오!(과제)"
      ]
    },
    {
      "metadata": {
        "id": "UeuMOc7MQjLq",
        "colab_type": "code",
        "colab": {}
      },
      "cell_type": "code",
      "source": [
        "def digest(in_list):\n",
        "  minvalue = min(in_list)\n",
        "  maxvalue = max(in_list)\n",
        "  average = sum(in_list)/len(in_list)\n",
        "  variance = 0\n",
        "  \n",
        "  for n in in_list:\n",
        "    variance = variance + (n-average)**2\n",
        "  variance = variance/len(in_list)\n",
        "  \n",
        "  return[minvalue, maxvalue, average, variance]"
      ],
      "execution_count": 0,
      "outputs": []
    },
    {
      "metadata": {
        "id": "umEHSRrGdprc",
        "colab_type": "code",
        "colab": {
          "base_uri": "https://localhost:8080/",
          "height": 35
        },
        "outputId": "8240fb92-2ac3-4fef-96b9-f4ce8f8fb323"
      },
      "cell_type": "code",
      "source": [
        "monk_fish_team = [158, 157, 163, 157, 145]\n",
        "minvalue, maxvalue, average, variance = digest(monk_fish_team)\n",
        "print(minvalue, maxvalue, average, variance)"
      ],
      "execution_count": 16,
      "outputs": [
        {
          "output_type": "stream",
          "text": [
            "145 163 156.0 35.2\n"
          ],
          "name": "stdout"
        }
      ]
    },
    {
      "metadata": {
        "id": "ZnHLqHIWzo1_",
        "colab_type": "text"
      },
      "cell_type": "markdown",
      "source": [
        "### 함수로 인수 리스트를 받기"
      ]
    },
    {
      "metadata": {
        "id": "QOBrXdIkzo1_",
        "colab_type": "code",
        "colab": {
          "base_uri": "https://localhost:8080/",
          "height": 35
        },
        "outputId": "f4937d72-2b63-402c-f676-99e79cf4d430"
      },
      "cell_type": "code",
      "source": [
        "# 함수로 인수 리스트를 받기\n",
        "def foo(a, b, *vals):   # *인수를 갖는 함수를 정의\n",
        "    print(a, b, vals)\n",
        "foo(1, 2, 3, 4, 5)      # 5개의 값을 인수로 지정하여 호출"
      ],
      "execution_count": 99,
      "outputs": [
        {
          "output_type": "stream",
          "text": [
            "1 2 (3, 4, 5)\n"
          ],
          "name": "stdout"
        }
      ]
    },
    {
      "metadata": {
        "id": "dCsxICNgzo2B",
        "colab_type": "code",
        "colab": {
          "base_uri": "https://localhost:8080/",
          "height": 174
        },
        "outputId": "2f4e8829-5fe7-4028-de3b-c1ab6a55af27"
      },
      "cell_type": "code",
      "source": [
        "foo(1, 2, c=3)          # c라고 하는 미정의 키워드 인수를 지정"
      ],
      "execution_count": 100,
      "outputs": [
        {
          "output_type": "error",
          "ename": "TypeError",
          "evalue": "ignored",
          "traceback": [
            "\u001b[0;31m---------------------------------------------------------------------------\u001b[0m",
            "\u001b[0;31mTypeError\u001b[0m                                 Traceback (most recent call last)",
            "\u001b[0;32m<ipython-input-100-9b94e6067912>\u001b[0m in \u001b[0;36m<module>\u001b[0;34m()\u001b[0m\n\u001b[0;32m----> 1\u001b[0;31m \u001b[0mfoo\u001b[0m\u001b[0;34m(\u001b[0m\u001b[0;36m1\u001b[0m\u001b[0;34m,\u001b[0m \u001b[0;36m2\u001b[0m\u001b[0;34m,\u001b[0m \u001b[0mc\u001b[0m\u001b[0;34m=\u001b[0m\u001b[0;36m3\u001b[0m\u001b[0;34m)\u001b[0m          \u001b[0;31m# c라고 하는 미정의 키워드 인수를 지정\u001b[0m\u001b[0;34m\u001b[0m\u001b[0m\n\u001b[0m",
            "\u001b[0;31mTypeError\u001b[0m: foo() got an unexpected keyword argument 'c'"
          ]
        }
      ]
    },
    {
      "metadata": {
        "id": "gTIF5d1Hzo2C",
        "colab_type": "text"
      },
      "cell_type": "markdown",
      "source": [
        "### 함수로 키워드 인수 받기"
      ]
    },
    {
      "metadata": {
        "id": "LyPvlT28zo2C",
        "colab_type": "code",
        "colab": {
          "base_uri": "https://localhost:8080/",
          "height": 35
        },
        "outputId": "5b66726d-d299-4080-a99e-68f27f5d1983"
      },
      "cell_type": "code",
      "source": [
        "# 정의되지 않은 키워드 인수\n",
        "def bar(a, b, **args):    # **인수를 갖는 함수를 정의\n",
        "    print(a, b, args)\n",
        "\n",
        "bar(1, 2, c=3, d=4)       # 정의하지 않은 키워드 인수를 정의"
      ],
      "execution_count": 101,
      "outputs": [
        {
          "output_type": "stream",
          "text": [
            "1 2 {'c': 3, 'd': 4}\n"
          ],
          "name": "stdout"
        }
      ]
    },
    {
      "metadata": {
        "id": "vbtlwiPozo2D",
        "colab_type": "text"
      },
      "cell_type": "markdown",
      "source": [
        "### 기본 인수 및 갱신 가능한 내장형 (사용 주의!)"
      ]
    },
    {
      "metadata": {
        "id": "lkRQ6EcCzo2E",
        "colab_type": "text"
      },
      "cell_type": "markdown",
      "source": [
        "변경 가능한 내장형을 기본 인수로 설정하면 곤란한 일이 생기기 때문에 주의가 필요하다.\n",
        "\n",
        "구체적으로 예를 보는 것이 알기 쉽다고 생각하기 때문에 그런 함수를 만들어 호출한다."
      ]
    },
    {
      "metadata": {
        "id": "lgj5pyqxzo2E",
        "colab_type": "code",
        "colab": {}
      },
      "cell_type": "code",
      "source": [
        "def append_to(a_list, b_list=[]):\n",
        "    # 변경 가능한 객체(목록)를 기본 인수로 가지는 함수를 정의\n",
        "    b_list.append(0)\n",
        "    return a_list+b_list"
      ],
      "execution_count": 0,
      "outputs": []
    },
    {
      "metadata": {
        "id": "4kyFAdvEzo2F",
        "colab_type": "code",
        "colab": {
          "base_uri": "https://localhost:8080/",
          "height": 35
        },
        "outputId": "97e12e86-1466-4aba-a823-4872babc3dcf"
      },
      "cell_type": "code",
      "source": [
        "list_1 = [1, 2, 3, 4]        # 리스트 정의\n",
        "# 두 번째 인수를 생략하고 함수를 호출\n",
        "list_2 = append_to(list_1)\n",
        "list_2                       # 결과 표시"
      ],
      "execution_count": 18,
      "outputs": [
        {
          "output_type": "execute_result",
          "data": {
            "text/plain": [
              "[1, 2, 3, 4, 0]"
            ]
          },
          "metadata": {
            "tags": []
          },
          "execution_count": 18
        }
      ]
    },
    {
      "metadata": {
        "id": "0T1oJazaR9y7",
        "colab_type": "code",
        "colab": {
          "base_uri": "https://localhost:8080/",
          "height": 35
        },
        "outputId": "71963273-897f-4abd-90df-2e0ebdb42bca"
      },
      "cell_type": "code",
      "source": [
        "list_1"
      ],
      "execution_count": 19,
      "outputs": [
        {
          "output_type": "execute_result",
          "data": {
            "text/plain": [
              "[1, 2, 3, 4]"
            ]
          },
          "metadata": {
            "tags": []
          },
          "execution_count": 19
        }
      ]
    },
    {
      "metadata": {
        "id": "hNYTnCuMzo2F",
        "colab_type": "code",
        "colab": {
          "base_uri": "https://localhost:8080/",
          "height": 35
        },
        "outputId": "c81aa866-6f8d-4160-9bd2-b79c39058dbe"
      },
      "cell_type": "code",
      "source": [
        "list_3 = append_to(list_1)   # 함수를 다시 호출\n",
        "# 함수의 인수 b_list에 추가, 0이 추가되므로\n",
        "# 결과의 끝은 [0, 0]이 된다\n",
        "list_3"
      ],
      "execution_count": 20,
      "outputs": [
        {
          "output_type": "execute_result",
          "data": {
            "text/plain": [
              "[1, 2, 3, 4, 0, 0]"
            ]
          },
          "metadata": {
            "tags": []
          },
          "execution_count": 20
        }
      ]
    },
    {
      "metadata": {
        "id": "QXqd8W_Qzo2G",
        "colab_type": "code",
        "colab": {
          "base_uri": "https://localhost:8080/",
          "height": 35
        },
        "outputId": "dd3faf38-1cac-4357-ea7f-e9d509263b58"
      },
      "cell_type": "code",
      "source": [
        "list_3 = append_to(list_1)\n",
        "# 인수 b_list에 추가, 0이 추가되기 때문에 결과가 달라진다\n",
        "list_3"
      ],
      "execution_count": 21,
      "outputs": [
        {
          "output_type": "execute_result",
          "data": {
            "text/plain": [
              "[1, 2, 3, 4, 0, 0, 0]"
            ]
          },
          "metadata": {
            "tags": []
          },
          "execution_count": 21
        }
      ]
    },
    {
      "metadata": {
        "id": "CWwJ0TIbzo2I",
        "colab_type": "text"
      },
      "cell_type": "markdown",
      "source": [
        "- 따라서, 기본 인수로 변경 가능한 객체를 설정하면 함수 내에서 한 파괴적인 조작이 그대로 유지된다. \n",
        "- 이것은 기본 인수의 객체가 인터프리터 실행에 저장되어 있기 때문이다.\n",
        "- 기본 인수로 변경 가능한 객체를 설정하면 예상대로 처리되지 않을 수 있으므로 주의가 필요하다."
      ]
    },
    {
      "metadata": {
        "id": "vL9iZREpzo2P",
        "colab_type": "code",
        "colab": {}
      },
      "cell_type": "code",
      "source": [
        "# break"
      ],
      "execution_count": 0,
      "outputs": []
    },
    {
      "metadata": {
        "id": "wenXZgev3cgu",
        "colab_type": "code",
        "colab": {}
      },
      "cell_type": "code",
      "source": [
        ""
      ],
      "execution_count": 0,
      "outputs": []
    }
  ]
}