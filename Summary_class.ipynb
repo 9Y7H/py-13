{
  "nbformat": 4,
  "nbformat_minor": 0,
  "metadata": {
    "colab": {
      "name": "Summary_class.ipynb",
      "version": "0.3.2",
      "provenance": [],
      "collapsed_sections": [],
      "include_colab_link": true
    },
    "kernelspec": {
      "name": "python3",
      "display_name": "Python 3"
    }
  },
  "cells": [
    {
      "cell_type": "markdown",
      "metadata": {
        "id": "view-in-github",
        "colab_type": "text"
      },
      "source": [
        "<a href=\"https://colab.research.google.com/github/9Y7H/py-13/blob/master/Summary_class.ipynb\" target=\"_parent\"><img src=\"https://colab.research.google.com/assets/colab-badge.svg\" alt=\"Open In Colab\"/></a>"
      ]
    },
    {
      "metadata": {
        "id": "oxIg6AgSd3x-",
        "colab_type": "toc"
      },
      "cell_type": "markdown",
      "source": [
        ">>[class 클래스 이름:](#updateTitle=true&folderId=117Sf2vXVH_F1RXCZnupQ-CzaJJUyEZMu&scrollTo=kPhkjxGeH5j9)\n",
        "\n",
        ">>>[클래스-class](#updateTitle=true&folderId=117Sf2vXVH_F1RXCZnupQ-CzaJJUyEZMu&scrollTo=OYdlrbLaR9nU)\n",
        "\n",
        ">>>[예외처리 - exception](#updateTitle=true&folderId=117Sf2vXVH_F1RXCZnupQ-CzaJJUyEZMu&scrollTo=YRRlxNJWdk0c)\n",
        "\n",
        ">>>[with 구문](#updateTitle=true&folderId=117Sf2vXVH_F1RXCZnupQ-CzaJJUyEZMu&scrollTo=Z771CVY6cNLh)\n",
        "\n"
      ]
    },
    {
      "metadata": {
        "id": "kPhkjxGeH5j9",
        "colab_type": "text"
      },
      "cell_type": "markdown",
      "source": [
        "##class 클래스 이름:\n",
        "           def __init__(self, 인수, ...) #생성자\n",
        "           def 메서드이름(self, 인수, ...) #메서드"
      ]
    },
    {
      "metadata": {
        "id": "X1i1IdnhHKLH",
        "colab_type": "code",
        "colab": {
          "base_uri": "https://localhost:8080/",
          "height": 89
        },
        "outputId": "43d16568-5738-46f1-d59a-2f7e6ea375ff"
      },
      "cell_type": "code",
      "source": [
        "class Person:\n",
        "  \n",
        "  def __init__(self, name):\n",
        "    self.name = name\n",
        "    print(self.name + \" is initialized\")\n",
        "    \n",
        "  def work(self, company):\n",
        "    print(self.name + \" is working in \"+company)\n",
        "  \n",
        "  def sleep(self):\n",
        "    print(self.name + \" is sleeping\")\n",
        "    \n",
        "#Person instance 2개 생성\n",
        "obj = Person(\"PARK\")\n",
        "\n",
        "#method call\n",
        "obj.work(\"ABCDEF\")\n",
        "obj.sleep()\n",
        "\n",
        "#속성에 직접 접근, 기본적으로 파이썬에서는 모두 public\n",
        "print(\"current person object is \",obj.name)"
      ],
      "execution_count": 1,
      "outputs": [
        {
          "output_type": "stream",
          "text": [
            "PARK is initialized\n",
            "PARK is working in ABCDEF\n",
            "PARK is sleeping\n",
            "current person object is  PARK\n"
          ],
          "name": "stdout"
        }
      ]
    },
    {
      "metadata": {
        "id": "OYdlrbLaR9nU",
        "colab_type": "text"
      },
      "cell_type": "markdown",
      "source": [
        "###클래스-class"
      ]
    },
    {
      "metadata": {
        "id": "WF3bXaU7O3re",
        "colab_type": "code",
        "colab": {
          "base_uri": "https://localhost:8080/",
          "height": 143
        },
        "outputId": "d20cdc60-2e9e-4dce-b0f0-721c6e233e6b"
      },
      "cell_type": "code",
      "source": [
        "class Person:\n",
        "  \n",
        "  count = 0 #class variable\n",
        "  \n",
        "  def __init__(self,name):\n",
        "    self.name = name\n",
        "    Person.count += 1    #class 변수 count 증가\n",
        "    print(self.name + \" is initialized\")\n",
        "    \n",
        "  def work(self, company):\n",
        "     print(self.name + \" is working in \"+company)\n",
        "  \n",
        "  def sleep(self):\n",
        "    print(self.name + \" is sleeping\")\n",
        "    \n",
        "  @classmethod\n",
        "  def getCount(cls):     #class method\n",
        "    return cls.count\n",
        "    \n",
        "#Person instance 2개 생성\n",
        "obj1 = Person(\"PARK\")\n",
        "obj2 = Person(\"KIM\")\n",
        "\n",
        "#method call\n",
        "obj1.work(\"ABCDEF\")\n",
        "\n",
        "obj2.sleep()\n",
        "\n",
        "#속성에 직접 접근, 기본적으로 파이썬에서는 모두 public\n",
        "print(\"current person object is \",obj.name,\",\",obj2.name)\n",
        "\n",
        "#class method 호출\n",
        "print(\"Person count ==\",Person.getCount())\n",
        "\n",
        "#class variable direct access\n",
        "print(Person.count)"
      ],
      "execution_count": 2,
      "outputs": [
        {
          "output_type": "stream",
          "text": [
            "PARK is initialized\n",
            "KIM is initialized\n",
            "PARK is working in ABCDEF\n",
            "KIM is sleeping\n",
            "current person object is  PARK , KIM\n",
            "Person count == 2\n",
            "2\n"
          ],
          "name": "stdout"
        }
      ]
    },
    {
      "metadata": {
        "id": "YIztF6tqUEIm",
        "colab_type": "code",
        "colab": {
          "base_uri": "https://localhost:8080/",
          "height": 298
        },
        "outputId": "f584eb98-e80a-47a7-b12f-c7eecaf2212e"
      },
      "cell_type": "code",
      "source": [
        "class PrivateMemberTest:\n",
        "  \n",
        "  def __init__(self, name1, name2):\n",
        "    \n",
        "    self.name1 = name1\n",
        "    self.__name2 = name2    #private member variable\n",
        "    print(\" initalized with \"+name1,\",\",name2)\n",
        "    \n",
        "  def getNames(self):\n",
        "    self.__printNames()\n",
        "    return self.name1, self.__name2\n",
        "  \n",
        "  def __printNames(self):     #private member variable\n",
        "    print(self.name1 , self.__name2)\n",
        "    \n",
        "#인스턴스 생성\n",
        "obj = PrivateMemberTest(\"PARK\",\"KIM\")\n",
        "\n",
        "print(obj.name1)\n",
        "print(obj.getNames())\n",
        "print(obj.__printNames())     #error 발생\n",
        "print(obj.__name2)    #error 발생"
      ],
      "execution_count": 7,
      "outputs": [
        {
          "output_type": "stream",
          "text": [
            " initalized with PARK , KIM\n",
            "PARK\n",
            "PARK KIM\n",
            "('PARK', 'KIM')\n"
          ],
          "name": "stdout"
        },
        {
          "output_type": "error",
          "ename": "AttributeError",
          "evalue": "ignored",
          "traceback": [
            "\u001b[0;31m---------------------------------------------------------------------------\u001b[0m",
            "\u001b[0;31mAttributeError\u001b[0m                            Traceback (most recent call last)",
            "\u001b[0;32m<ipython-input-7-e649037eafba>\u001b[0m in \u001b[0;36m<module>\u001b[0;34m()\u001b[0m\n\u001b[1;32m     19\u001b[0m \u001b[0mprint\u001b[0m\u001b[0;34m(\u001b[0m\u001b[0mobj\u001b[0m\u001b[0;34m.\u001b[0m\u001b[0mname1\u001b[0m\u001b[0;34m)\u001b[0m\u001b[0;34m\u001b[0m\u001b[0m\n\u001b[1;32m     20\u001b[0m \u001b[0mprint\u001b[0m\u001b[0;34m(\u001b[0m\u001b[0mobj\u001b[0m\u001b[0;34m.\u001b[0m\u001b[0mgetNames\u001b[0m\u001b[0;34m(\u001b[0m\u001b[0;34m)\u001b[0m\u001b[0;34m)\u001b[0m\u001b[0;34m\u001b[0m\u001b[0m\n\u001b[0;32m---> 21\u001b[0;31m \u001b[0mprint\u001b[0m\u001b[0;34m(\u001b[0m\u001b[0mobj\u001b[0m\u001b[0;34m.\u001b[0m\u001b[0m__printNames\u001b[0m\u001b[0;34m(\u001b[0m\u001b[0;34m)\u001b[0m\u001b[0;34m)\u001b[0m     \u001b[0;31m#error 발생\u001b[0m\u001b[0;34m\u001b[0m\u001b[0m\n\u001b[0m\u001b[1;32m     22\u001b[0m \u001b[0mprint\u001b[0m\u001b[0;34m(\u001b[0m\u001b[0mobj\u001b[0m\u001b[0;34m.\u001b[0m\u001b[0m__name2\u001b[0m\u001b[0;34m)\u001b[0m    \u001b[0;31m#error 발생\u001b[0m\u001b[0;34m\u001b[0m\u001b[0m\n",
            "\u001b[0;31mAttributeError\u001b[0m: 'PrivateMemberTest' object has no attribute '__printNames'"
          ]
        }
      ]
    },
    {
      "metadata": {
        "id": "dNo2IGY2YRmb",
        "colab_type": "code",
        "colab": {
          "base_uri": "https://localhost:8080/",
          "height": 89
        },
        "outputId": "62ee2cbb-3d4e-489e-d491-0e61fce99481"
      },
      "cell_type": "code",
      "source": [
        "def print_name(name):\n",
        "  print(\"[def] \",name)\n",
        "class SameTest:\n",
        "  \n",
        "  def __init__(self):\n",
        "    \n",
        "    #아무것도 안하기 때문에 pass\n",
        "    pass\n",
        "  \n",
        " #외부 함수와 동일한 이름으로 method 정의\n",
        "  def print_name(self,name):\n",
        "    print(\"[SameTest] \",name)\n",
        "  def call_test(self):\n",
        "    \n",
        "    #외부 함수 호출\n",
        "    print_name(\"KIM\")\n",
        "    \n",
        "    #클래스 내부 method 호출\n",
        "    self.print_name(\"KIM\")\n",
        "    \n",
        "#preate SameTest object\n",
        "obj = SameTest()\n",
        "\n",
        "#call function print_name\n",
        "print_name(\"LEE\")\n",
        "\n",
        "#call method print_name\n",
        "obj.print_name(\"LEE\")\n",
        "\n",
        "#call method call_test\n",
        "obj.call_test()"
      ],
      "execution_count": 9,
      "outputs": [
        {
          "output_type": "stream",
          "text": [
            "[def]  LEE\n",
            "[SameTest]  LEE\n",
            "[def]  KIM\n",
            "[SameTest]  KIM\n"
          ],
          "name": "stdout"
        }
      ]
    },
    {
      "metadata": {
        "id": "YRRlxNJWdk0c",
        "colab_type": "text"
      },
      "cell_type": "markdown",
      "source": [
        "###예외처리 - exception"
      ]
    },
    {
      "metadata": {
        "id": "oDv300Utahfa",
        "colab_type": "code",
        "colab": {}
      },
      "cell_type": "code",
      "source": [
        "def calc(list_data):\n",
        "  \n",
        "  sum = 0\n",
        "  \n",
        "  try:\n",
        "    sum = list_data[0] + list_data[1] + list_data[2]\n",
        "    \n",
        "    if sum < 0:\n",
        "      raise Exception(\"Sum is minus\")\n",
        "      \n",
        "  except IndexError as err:\n",
        "    print(str(err))\n",
        "  except Exception as err:\n",
        "    print(str(err))\n",
        "  finally:\n",
        "    print(sum)"
      ],
      "execution_count": 0,
      "outputs": []
    },
    {
      "metadata": {
        "id": "30RVizuSbgIR",
        "colab_type": "code",
        "colab": {
          "base_uri": "https://localhost:8080/",
          "height": 53
        },
        "outputId": "f3a92e49-2641-4968-e18c-c209166d9003"
      },
      "cell_type": "code",
      "source": [
        "calc([1.2])     #intex error 발생"
      ],
      "execution_count": 15,
      "outputs": [
        {
          "output_type": "stream",
          "text": [
            "list index out of range\n",
            "0\n"
          ],
          "name": "stdout"
        }
      ]
    },
    {
      "metadata": {
        "id": "kkytnTzDboj3",
        "colab_type": "code",
        "colab": {
          "base_uri": "https://localhost:8080/",
          "height": 53
        },
        "outputId": "a51c9012-2260-44b0-ef22-281b9b52f9eb"
      },
      "cell_type": "code",
      "source": [
        "calc([1,2,-100])     #인위적인 excption 발생"
      ],
      "execution_count": 16,
      "outputs": [
        {
          "output_type": "stream",
          "text": [
            "Sum is minus\n",
            "-97\n"
          ],
          "name": "stdout"
        }
      ]
    },
    {
      "metadata": {
        "id": "Z771CVY6cNLh",
        "colab_type": "text"
      },
      "cell_type": "markdown",
      "source": [
        "###with 구문"
      ]
    },
    {
      "metadata": {
        "id": "UB-uw-nxbvX2",
        "colab_type": "code",
        "colab": {}
      },
      "cell_type": "code",
      "source": [
        "#일반적인 방법\n",
        "\n",
        "f = open(\"./file_test\",'w')\n",
        "         \n",
        "f.write(\"Hello, Python !!!\")\n",
        "         \n",
        "f.close()"
      ],
      "execution_count": 0,
      "outputs": []
    },
    {
      "metadata": {
        "id": "7Wiq9BwNcgVT",
        "colab_type": "code",
        "colab": {}
      },
      "cell_type": "code",
      "source": [
        "#with 구문을 사용한 방법\n",
        "#with 블록을 벗어나는 순간 파일 객체 f가 자동으로 close 됨\n",
        "\n",
        "with open(\"./file_test\",'w') as f:\n",
        "  f.write(\"Hello, Python !!!\")"
      ],
      "execution_count": 0,
      "outputs": []
    }
  ]
}