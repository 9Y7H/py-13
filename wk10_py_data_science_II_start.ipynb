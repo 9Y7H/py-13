{
  "nbformat": 4,
  "nbformat_minor": 0,
  "metadata": {
    "colab": {
      "name": "wk10_py_data_science_II_start.ipynb",
      "version": "0.3.2",
      "provenance": [],
      "collapsed_sections": [],
      "include_colab_link": true
    },
    "kernelspec": {
      "display_name": "Python 3",
      "language": "python",
      "name": "python3"
    }
  },
  "cells": [
    {
      "cell_type": "markdown",
      "metadata": {
        "id": "view-in-github",
        "colab_type": "text"
      },
      "source": [
        "<a href=\"https://colab.research.google.com/github/9Y7H/py-13/blob/master/wk10_py_data_science_II_start.ipynb\" target=\"_parent\"><img src=\"https://colab.research.google.com/assets/colab-badge.svg\" alt=\"Open In Colab\"/></a>"
      ]
    },
    {
      "metadata": {
        "id": "Dz3hwlrNDVkG",
        "colab_type": "text"
      },
      "cell_type": "markdown",
      "source": [
        "### Python data science: pandas & graphics wokout"
      ]
    },
    {
      "metadata": {
        "id": "zM6TWdNJDVkH",
        "colab_type": "text"
      },
      "cell_type": "markdown",
      "source": [
        "## Using pandas"
      ]
    },
    {
      "metadata": {
        "id": "7Pxpu2bCDVkI",
        "colab_type": "text"
      },
      "cell_type": "markdown",
      "source": [
        "* [10 Minutes to pandas](https://pandas.pydata.org/pandas-docs/stable/10min.html)\n",
        "* [Pandas tutorial with interactive exercises](https://www.kaggle.com/pistak/pandas-tutorial-with-interactive-exercises)"
      ]
    },
    {
      "metadata": {
        "id": "lXN34n1PDVkJ",
        "colab_type": "code",
        "colab": {}
      },
      "cell_type": "code",
      "source": [
        "import pandas as pd\n",
        "import numpy as np\n",
        "import matplotlib.pyplot as plt\n",
        "%matplotlib inline"
      ],
      "execution_count": 0,
      "outputs": []
    },
    {
      "metadata": {
        "id": "ZeG5DgtODVkL",
        "colab_type": "text"
      },
      "cell_type": "markdown",
      "source": [
        "### [1] Make data, Series, and DataFrame\n",
        "=>행렬구조의 데이터 DataFrame, 벡터구조의 데이터 Series"
      ]
    },
    {
      "metadata": {
        "id": "WB0EfWyCDVkL",
        "colab_type": "text"
      },
      "cell_type": "markdown",
      "source": [
        "### Series"
      ]
    },
    {
      "metadata": {
        "id": "9K5J2uEjDVkN",
        "colab_type": "code",
        "outputId": "d19403ad-3543-4468-dbb2-3efafda0f7f3",
        "colab": {
          "base_uri": "https://localhost:8080/",
          "height": 146
        }
      },
      "cell_type": "code",
      "source": [
        "# Creating a Series by passing a list of values #데이터의 한 계열\n",
        "s = pd.Series([1,3,5,np.nan,6,8]) \n",
        "# np.nan 숫자가 아닌 다른 것, 숫자가 아니라도 에러가 나지 않고 빼고 계산한다.\n",
        "s"
      ],
      "execution_count": 66,
      "outputs": [
        {
          "output_type": "execute_result",
          "data": {
            "text/plain": [
              "0    1.0\n",
              "1    3.0\n",
              "2    5.0\n",
              "3    NaN\n",
              "4    6.0\n",
              "5    8.0\n",
              "dtype: float64"
            ]
          },
          "metadata": {
            "tags": []
          },
          "execution_count": 66
        }
      ]
    },
    {
      "metadata": {
        "id": "E1MuUP_nDVkQ",
        "colab_type": "code",
        "outputId": "75b79174-a618-4b99-dfa1-7a66dc831c97",
        "colab": {
          "base_uri": "https://localhost:8080/",
          "height": 72
        }
      },
      "cell_type": "code",
      "source": [
        "# Creating a DataFrame by passing a NumPy array, with a datetime index and labeled columns:\n",
        "dates = pd.date_range('20130101', periods=6)\n",
        "dates"
      ],
      "execution_count": 67,
      "outputs": [
        {
          "output_type": "execute_result",
          "data": {
            "text/plain": [
              "DatetimeIndex(['2013-01-01', '2013-01-02', '2013-01-03', '2013-01-04',\n",
              "               '2013-01-05', '2013-01-06'],\n",
              "              dtype='datetime64[ns]', freq='D')"
            ]
          },
          "metadata": {
            "tags": []
          },
          "execution_count": 67
        }
      ]
    },
    {
      "metadata": {
        "id": "AtGk9yOUDVkS",
        "colab_type": "code",
        "outputId": "615c2dd6-69cd-4824-e548-4868a9744a28",
        "colab": {
          "base_uri": "https://localhost:8080/",
          "height": 225
        }
      },
      "cell_type": "code",
      "source": [
        " # Make dataframe using an array with random numbers\n",
        "df = pd.DataFrame(np.random.randn(6,4), index=dates, columns=list('ABCD'))\n",
        "#randn 평균이 0(?,index=dates 날짜를 인덱스로 사용\n",
        "df"
      ],
      "execution_count": 68,
      "outputs": [
        {
          "output_type": "execute_result",
          "data": {
            "text/html": [
              "<div>\n",
              "<style scoped>\n",
              "    .dataframe tbody tr th:only-of-type {\n",
              "        vertical-align: middle;\n",
              "    }\n",
              "\n",
              "    .dataframe tbody tr th {\n",
              "        vertical-align: top;\n",
              "    }\n",
              "\n",
              "    .dataframe thead th {\n",
              "        text-align: right;\n",
              "    }\n",
              "</style>\n",
              "<table border=\"1\" class=\"dataframe\">\n",
              "  <thead>\n",
              "    <tr style=\"text-align: right;\">\n",
              "      <th></th>\n",
              "      <th>A</th>\n",
              "      <th>B</th>\n",
              "      <th>C</th>\n",
              "      <th>D</th>\n",
              "    </tr>\n",
              "  </thead>\n",
              "  <tbody>\n",
              "    <tr>\n",
              "      <th>2013-01-01</th>\n",
              "      <td>0.828306</td>\n",
              "      <td>-1.210004</td>\n",
              "      <td>-1.061015</td>\n",
              "      <td>0.055927</td>\n",
              "    </tr>\n",
              "    <tr>\n",
              "      <th>2013-01-02</th>\n",
              "      <td>-0.544799</td>\n",
              "      <td>0.655444</td>\n",
              "      <td>0.712425</td>\n",
              "      <td>0.863576</td>\n",
              "    </tr>\n",
              "    <tr>\n",
              "      <th>2013-01-03</th>\n",
              "      <td>0.217715</td>\n",
              "      <td>-0.753202</td>\n",
              "      <td>-0.134670</td>\n",
              "      <td>2.582344</td>\n",
              "    </tr>\n",
              "    <tr>\n",
              "      <th>2013-01-04</th>\n",
              "      <td>-0.475458</td>\n",
              "      <td>0.841730</td>\n",
              "      <td>-1.821381</td>\n",
              "      <td>0.058715</td>\n",
              "    </tr>\n",
              "    <tr>\n",
              "      <th>2013-01-05</th>\n",
              "      <td>-0.300339</td>\n",
              "      <td>-0.930300</td>\n",
              "      <td>0.369425</td>\n",
              "      <td>-0.425397</td>\n",
              "    </tr>\n",
              "    <tr>\n",
              "      <th>2013-01-06</th>\n",
              "      <td>-0.347017</td>\n",
              "      <td>-0.793589</td>\n",
              "      <td>0.905843</td>\n",
              "      <td>1.089211</td>\n",
              "    </tr>\n",
              "  </tbody>\n",
              "</table>\n",
              "</div>"
            ],
            "text/plain": [
              "                   A         B         C         D\n",
              "2013-01-01  0.828306 -1.210004 -1.061015  0.055927\n",
              "2013-01-02 -0.544799  0.655444  0.712425  0.863576\n",
              "2013-01-03  0.217715 -0.753202 -0.134670  2.582344\n",
              "2013-01-04 -0.475458  0.841730 -1.821381  0.058715\n",
              "2013-01-05 -0.300339 -0.930300  0.369425 -0.425397\n",
              "2013-01-06 -0.347017 -0.793589  0.905843  1.089211"
            ]
          },
          "metadata": {
            "tags": []
          },
          "execution_count": 68
        }
      ]
    },
    {
      "metadata": {
        "id": "h-D3T7lRDVkV",
        "colab_type": "code",
        "outputId": "ee87e78e-0b7c-48ea-c2c3-8577870eff03",
        "colab": {
          "base_uri": "https://localhost:8080/",
          "height": 109
        }
      },
      "cell_type": "code",
      "source": [
        "# check types of df  --> same type\n",
        "df.dtypes #데이터 타입: 64바이트 실수의 형태"
      ],
      "execution_count": 69,
      "outputs": [
        {
          "output_type": "execute_result",
          "data": {
            "text/plain": [
              "A    float64\n",
              "B    float64\n",
              "C    float64\n",
              "D    float64\n",
              "dtype: object"
            ]
          },
          "metadata": {
            "tags": []
          },
          "execution_count": 69
        }
      ]
    },
    {
      "metadata": {
        "id": "XindhWdzDVkY",
        "colab_type": "code",
        "colab": {}
      },
      "cell_type": "code",
      "source": [
        "# Creating a DataFrame by passing a dict of objects that can be converted to series-like.\n",
        "df2 = pd.DataFrame({ 'A' : 1., \n",
        "                    'B' : pd.Timestamp('20130102'),\n",
        "                    'C' : pd.Series(1,index=list(range(4)),dtype='float32'),\n",
        "                    'D' : np.array([3] * 4,dtype='int32'),\n",
        "                    'E' : pd.Categorical([\"test\",\"train\",\"test\",\"train\"]),#문자열\n",
        "                    'F' : 'foo' })#문자"
      ],
      "execution_count": 0,
      "outputs": []
    },
    {
      "metadata": {
        "id": "Aw0dmaJVDVkZ",
        "colab_type": "code",
        "outputId": "e5529b85-5917-47ef-ebe8-3cd4150d3686",
        "colab": {
          "base_uri": "https://localhost:8080/",
          "height": 166
        }
      },
      "cell_type": "code",
      "source": [
        "df2"
      ],
      "execution_count": 71,
      "outputs": [
        {
          "output_type": "execute_result",
          "data": {
            "text/html": [
              "<div>\n",
              "<style scoped>\n",
              "    .dataframe tbody tr th:only-of-type {\n",
              "        vertical-align: middle;\n",
              "    }\n",
              "\n",
              "    .dataframe tbody tr th {\n",
              "        vertical-align: top;\n",
              "    }\n",
              "\n",
              "    .dataframe thead th {\n",
              "        text-align: right;\n",
              "    }\n",
              "</style>\n",
              "<table border=\"1\" class=\"dataframe\">\n",
              "  <thead>\n",
              "    <tr style=\"text-align: right;\">\n",
              "      <th></th>\n",
              "      <th>A</th>\n",
              "      <th>B</th>\n",
              "      <th>C</th>\n",
              "      <th>D</th>\n",
              "      <th>E</th>\n",
              "      <th>F</th>\n",
              "    </tr>\n",
              "  </thead>\n",
              "  <tbody>\n",
              "    <tr>\n",
              "      <th>0</th>\n",
              "      <td>1.0</td>\n",
              "      <td>2013-01-02</td>\n",
              "      <td>1.0</td>\n",
              "      <td>3</td>\n",
              "      <td>test</td>\n",
              "      <td>foo</td>\n",
              "    </tr>\n",
              "    <tr>\n",
              "      <th>1</th>\n",
              "      <td>1.0</td>\n",
              "      <td>2013-01-02</td>\n",
              "      <td>1.0</td>\n",
              "      <td>3</td>\n",
              "      <td>train</td>\n",
              "      <td>foo</td>\n",
              "    </tr>\n",
              "    <tr>\n",
              "      <th>2</th>\n",
              "      <td>1.0</td>\n",
              "      <td>2013-01-02</td>\n",
              "      <td>1.0</td>\n",
              "      <td>3</td>\n",
              "      <td>test</td>\n",
              "      <td>foo</td>\n",
              "    </tr>\n",
              "    <tr>\n",
              "      <th>3</th>\n",
              "      <td>1.0</td>\n",
              "      <td>2013-01-02</td>\n",
              "      <td>1.0</td>\n",
              "      <td>3</td>\n",
              "      <td>train</td>\n",
              "      <td>foo</td>\n",
              "    </tr>\n",
              "  </tbody>\n",
              "</table>\n",
              "</div>"
            ],
            "text/plain": [
              "     A          B    C  D      E    F\n",
              "0  1.0 2013-01-02  1.0  3   test  foo\n",
              "1  1.0 2013-01-02  1.0  3  train  foo\n",
              "2  1.0 2013-01-02  1.0  3   test  foo\n",
              "3  1.0 2013-01-02  1.0  3  train  foo"
            ]
          },
          "metadata": {
            "tags": []
          },
          "execution_count": 71
        }
      ]
    },
    {
      "metadata": {
        "id": "A92R0pKCDVkc",
        "colab_type": "code",
        "outputId": "dfebd1d2-9f9f-45a6-cf90-1d3f41fbded9",
        "colab": {
          "base_uri": "https://localhost:8080/",
          "height": 146
        }
      },
      "cell_type": "code",
      "source": [
        "# check types of df2 --> different types\n",
        "df2.dtypes #df와의 차이점은 데이터 타입\n",
        "#pandas의 데이터 타입은 여러가지 데이터 타입을 담을 수 있는 효율적인 것"
      ],
      "execution_count": 72,
      "outputs": [
        {
          "output_type": "execute_result",
          "data": {
            "text/plain": [
              "A           float64\n",
              "B    datetime64[ns]\n",
              "C           float32\n",
              "D             int32\n",
              "E          category\n",
              "F            object\n",
              "dtype: object"
            ]
          },
          "metadata": {
            "tags": []
          },
          "execution_count": 72
        }
      ]
    },
    {
      "metadata": {
        "id": "20VimNkQDVke",
        "colab_type": "text"
      },
      "cell_type": "markdown",
      "source": [
        "### [2] Handling data"
      ]
    },
    {
      "metadata": {
        "id": "wry2lOc-DVkf",
        "colab_type": "code",
        "outputId": "28f99527-6483-492e-8c12-ee5fc58e9604",
        "colab": {
          "base_uri": "https://localhost:8080/",
          "height": 106
        }
      },
      "cell_type": "code",
      "source": [
        "# head()\n",
        "df.head(2) #처음 데이터 2개"
      ],
      "execution_count": 73,
      "outputs": [
        {
          "output_type": "execute_result",
          "data": {
            "text/html": [
              "<div>\n",
              "<style scoped>\n",
              "    .dataframe tbody tr th:only-of-type {\n",
              "        vertical-align: middle;\n",
              "    }\n",
              "\n",
              "    .dataframe tbody tr th {\n",
              "        vertical-align: top;\n",
              "    }\n",
              "\n",
              "    .dataframe thead th {\n",
              "        text-align: right;\n",
              "    }\n",
              "</style>\n",
              "<table border=\"1\" class=\"dataframe\">\n",
              "  <thead>\n",
              "    <tr style=\"text-align: right;\">\n",
              "      <th></th>\n",
              "      <th>A</th>\n",
              "      <th>B</th>\n",
              "      <th>C</th>\n",
              "      <th>D</th>\n",
              "    </tr>\n",
              "  </thead>\n",
              "  <tbody>\n",
              "    <tr>\n",
              "      <th>2013-01-01</th>\n",
              "      <td>0.828306</td>\n",
              "      <td>-1.210004</td>\n",
              "      <td>-1.061015</td>\n",
              "      <td>0.055927</td>\n",
              "    </tr>\n",
              "    <tr>\n",
              "      <th>2013-01-02</th>\n",
              "      <td>-0.544799</td>\n",
              "      <td>0.655444</td>\n",
              "      <td>0.712425</td>\n",
              "      <td>0.863576</td>\n",
              "    </tr>\n",
              "  </tbody>\n",
              "</table>\n",
              "</div>"
            ],
            "text/plain": [
              "                   A         B         C         D\n",
              "2013-01-01  0.828306 -1.210004 -1.061015  0.055927\n",
              "2013-01-02 -0.544799  0.655444  0.712425  0.863576"
            ]
          },
          "metadata": {
            "tags": []
          },
          "execution_count": 73
        }
      ]
    },
    {
      "metadata": {
        "id": "cykw_LKQDVkg",
        "colab_type": "code",
        "outputId": "7a53df83-ca04-48a8-873d-8b573f53f8b0",
        "colab": {
          "base_uri": "https://localhost:8080/",
          "height": 136
        }
      },
      "cell_type": "code",
      "source": [
        " df.tail(3) #마지막 데이터 3개"
      ],
      "execution_count": 74,
      "outputs": [
        {
          "output_type": "execute_result",
          "data": {
            "text/html": [
              "<div>\n",
              "<style scoped>\n",
              "    .dataframe tbody tr th:only-of-type {\n",
              "        vertical-align: middle;\n",
              "    }\n",
              "\n",
              "    .dataframe tbody tr th {\n",
              "        vertical-align: top;\n",
              "    }\n",
              "\n",
              "    .dataframe thead th {\n",
              "        text-align: right;\n",
              "    }\n",
              "</style>\n",
              "<table border=\"1\" class=\"dataframe\">\n",
              "  <thead>\n",
              "    <tr style=\"text-align: right;\">\n",
              "      <th></th>\n",
              "      <th>A</th>\n",
              "      <th>B</th>\n",
              "      <th>C</th>\n",
              "      <th>D</th>\n",
              "    </tr>\n",
              "  </thead>\n",
              "  <tbody>\n",
              "    <tr>\n",
              "      <th>2013-01-04</th>\n",
              "      <td>-0.475458</td>\n",
              "      <td>0.841730</td>\n",
              "      <td>-1.821381</td>\n",
              "      <td>0.058715</td>\n",
              "    </tr>\n",
              "    <tr>\n",
              "      <th>2013-01-05</th>\n",
              "      <td>-0.300339</td>\n",
              "      <td>-0.930300</td>\n",
              "      <td>0.369425</td>\n",
              "      <td>-0.425397</td>\n",
              "    </tr>\n",
              "    <tr>\n",
              "      <th>2013-01-06</th>\n",
              "      <td>-0.347017</td>\n",
              "      <td>-0.793589</td>\n",
              "      <td>0.905843</td>\n",
              "      <td>1.089211</td>\n",
              "    </tr>\n",
              "  </tbody>\n",
              "</table>\n",
              "</div>"
            ],
            "text/plain": [
              "                   A         B         C         D\n",
              "2013-01-04 -0.475458  0.841730 -1.821381  0.058715\n",
              "2013-01-05 -0.300339 -0.930300  0.369425 -0.425397\n",
              "2013-01-06 -0.347017 -0.793589  0.905843  1.089211"
            ]
          },
          "metadata": {
            "tags": []
          },
          "execution_count": 74
        }
      ]
    },
    {
      "metadata": {
        "id": "H-jUWxzGDVkl",
        "colab_type": "code",
        "outputId": "7ec93c66-9a09-4e91-d16c-98f6938ebedb",
        "colab": {
          "base_uri": "https://localhost:8080/",
          "height": 72
        }
      },
      "cell_type": "code",
      "source": [
        "# Display the index, columns, and the underlying NumPy data:\n",
        "df.index"
      ],
      "execution_count": 75,
      "outputs": [
        {
          "output_type": "execute_result",
          "data": {
            "text/plain": [
              "DatetimeIndex(['2013-01-01', '2013-01-02', '2013-01-03', '2013-01-04',\n",
              "               '2013-01-05', '2013-01-06'],\n",
              "              dtype='datetime64[ns]', freq='D')"
            ]
          },
          "metadata": {
            "tags": []
          },
          "execution_count": 75
        }
      ]
    },
    {
      "metadata": {
        "id": "bwTcsj1dDVko",
        "colab_type": "code",
        "outputId": "edd45a7d-2d13-475f-b334-6095cf0c8b94",
        "colab": {
          "base_uri": "https://localhost:8080/",
          "height": 35
        }
      },
      "cell_type": "code",
      "source": [
        "df.columns"
      ],
      "execution_count": 76,
      "outputs": [
        {
          "output_type": "execute_result",
          "data": {
            "text/plain": [
              "Index(['A', 'B', 'C', 'D'], dtype='object')"
            ]
          },
          "metadata": {
            "tags": []
          },
          "execution_count": 76
        }
      ]
    },
    {
      "metadata": {
        "id": "OzvDp7CrDVkr",
        "colab_type": "code",
        "outputId": "c0dbf7c7-e6be-4639-97b6-58510ed2b0a1",
        "colab": {
          "base_uri": "https://localhost:8080/",
          "height": 284
        }
      },
      "cell_type": "code",
      "source": [
        "# describe() shows a quick statistic summary of your data:\n",
        "df.describe() #각 열의 데이터 분포(평균, 표준편차, ...)를 요약해 보여줌\n",
        "#mean은 대부분 0부근이지만 6개밖에 안되는 데이터라서 아직 0의 값에 근접하지 못했다."
      ],
      "execution_count": 77,
      "outputs": [
        {
          "output_type": "execute_result",
          "data": {
            "text/html": [
              "<div>\n",
              "<style scoped>\n",
              "    .dataframe tbody tr th:only-of-type {\n",
              "        vertical-align: middle;\n",
              "    }\n",
              "\n",
              "    .dataframe tbody tr th {\n",
              "        vertical-align: top;\n",
              "    }\n",
              "\n",
              "    .dataframe thead th {\n",
              "        text-align: right;\n",
              "    }\n",
              "</style>\n",
              "<table border=\"1\" class=\"dataframe\">\n",
              "  <thead>\n",
              "    <tr style=\"text-align: right;\">\n",
              "      <th></th>\n",
              "      <th>A</th>\n",
              "      <th>B</th>\n",
              "      <th>C</th>\n",
              "      <th>D</th>\n",
              "    </tr>\n",
              "  </thead>\n",
              "  <tbody>\n",
              "    <tr>\n",
              "      <th>count</th>\n",
              "      <td>6.000000</td>\n",
              "      <td>6.000000</td>\n",
              "      <td>6.000000</td>\n",
              "      <td>6.000000</td>\n",
              "    </tr>\n",
              "    <tr>\n",
              "      <th>mean</th>\n",
              "      <td>-0.103599</td>\n",
              "      <td>-0.364987</td>\n",
              "      <td>-0.171562</td>\n",
              "      <td>0.704063</td>\n",
              "    </tr>\n",
              "    <tr>\n",
              "      <th>std</th>\n",
              "      <td>0.529639</td>\n",
              "      <td>0.879260</td>\n",
              "      <td>1.072314</td>\n",
              "      <td>1.078328</td>\n",
              "    </tr>\n",
              "    <tr>\n",
              "      <th>min</th>\n",
              "      <td>-0.544799</td>\n",
              "      <td>-1.210004</td>\n",
              "      <td>-1.821381</td>\n",
              "      <td>-0.425397</td>\n",
              "    </tr>\n",
              "    <tr>\n",
              "      <th>25%</th>\n",
              "      <td>-0.443348</td>\n",
              "      <td>-0.896122</td>\n",
              "      <td>-0.829429</td>\n",
              "      <td>0.056624</td>\n",
              "    </tr>\n",
              "    <tr>\n",
              "      <th>50%</th>\n",
              "      <td>-0.323678</td>\n",
              "      <td>-0.773395</td>\n",
              "      <td>0.117377</td>\n",
              "      <td>0.461146</td>\n",
              "    </tr>\n",
              "    <tr>\n",
              "      <th>75%</th>\n",
              "      <td>0.088202</td>\n",
              "      <td>0.303283</td>\n",
              "      <td>0.626675</td>\n",
              "      <td>1.032802</td>\n",
              "    </tr>\n",
              "    <tr>\n",
              "      <th>max</th>\n",
              "      <td>0.828306</td>\n",
              "      <td>0.841730</td>\n",
              "      <td>0.905843</td>\n",
              "      <td>2.582344</td>\n",
              "    </tr>\n",
              "  </tbody>\n",
              "</table>\n",
              "</div>"
            ],
            "text/plain": [
              "              A         B         C         D\n",
              "count  6.000000  6.000000  6.000000  6.000000\n",
              "mean  -0.103599 -0.364987 -0.171562  0.704063\n",
              "std    0.529639  0.879260  1.072314  1.078328\n",
              "min   -0.544799 -1.210004 -1.821381 -0.425397\n",
              "25%   -0.443348 -0.896122 -0.829429  0.056624\n",
              "50%   -0.323678 -0.773395  0.117377  0.461146\n",
              "75%    0.088202  0.303283  0.626675  1.032802\n",
              "max    0.828306  0.841730  0.905843  2.582344"
            ]
          },
          "metadata": {
            "tags": []
          },
          "execution_count": 77
        }
      ]
    },
    {
      "metadata": {
        "id": "rHKgto3nDVku",
        "colab_type": "code",
        "outputId": "cede9b0f-e174-444e-9aed-3119048830c7",
        "colab": {
          "base_uri": "https://localhost:8080/",
          "height": 284
        }
      },
      "cell_type": "code",
      "source": [
        "df2.describe() #6개의 항목 중 왜 3개만? 숫자형 항목이 A,C,D 밖에 없기 때문이다"
      ],
      "execution_count": 78,
      "outputs": [
        {
          "output_type": "execute_result",
          "data": {
            "text/html": [
              "<div>\n",
              "<style scoped>\n",
              "    .dataframe tbody tr th:only-of-type {\n",
              "        vertical-align: middle;\n",
              "    }\n",
              "\n",
              "    .dataframe tbody tr th {\n",
              "        vertical-align: top;\n",
              "    }\n",
              "\n",
              "    .dataframe thead th {\n",
              "        text-align: right;\n",
              "    }\n",
              "</style>\n",
              "<table border=\"1\" class=\"dataframe\">\n",
              "  <thead>\n",
              "    <tr style=\"text-align: right;\">\n",
              "      <th></th>\n",
              "      <th>A</th>\n",
              "      <th>C</th>\n",
              "      <th>D</th>\n",
              "    </tr>\n",
              "  </thead>\n",
              "  <tbody>\n",
              "    <tr>\n",
              "      <th>count</th>\n",
              "      <td>4.0</td>\n",
              "      <td>4.0</td>\n",
              "      <td>4.0</td>\n",
              "    </tr>\n",
              "    <tr>\n",
              "      <th>mean</th>\n",
              "      <td>1.0</td>\n",
              "      <td>1.0</td>\n",
              "      <td>3.0</td>\n",
              "    </tr>\n",
              "    <tr>\n",
              "      <th>std</th>\n",
              "      <td>0.0</td>\n",
              "      <td>0.0</td>\n",
              "      <td>0.0</td>\n",
              "    </tr>\n",
              "    <tr>\n",
              "      <th>min</th>\n",
              "      <td>1.0</td>\n",
              "      <td>1.0</td>\n",
              "      <td>3.0</td>\n",
              "    </tr>\n",
              "    <tr>\n",
              "      <th>25%</th>\n",
              "      <td>1.0</td>\n",
              "      <td>1.0</td>\n",
              "      <td>3.0</td>\n",
              "    </tr>\n",
              "    <tr>\n",
              "      <th>50%</th>\n",
              "      <td>1.0</td>\n",
              "      <td>1.0</td>\n",
              "      <td>3.0</td>\n",
              "    </tr>\n",
              "    <tr>\n",
              "      <th>75%</th>\n",
              "      <td>1.0</td>\n",
              "      <td>1.0</td>\n",
              "      <td>3.0</td>\n",
              "    </tr>\n",
              "    <tr>\n",
              "      <th>max</th>\n",
              "      <td>1.0</td>\n",
              "      <td>1.0</td>\n",
              "      <td>3.0</td>\n",
              "    </tr>\n",
              "  </tbody>\n",
              "</table>\n",
              "</div>"
            ],
            "text/plain": [
              "         A    C    D\n",
              "count  4.0  4.0  4.0\n",
              "mean   1.0  1.0  3.0\n",
              "std    0.0  0.0  0.0\n",
              "min    1.0  1.0  3.0\n",
              "25%    1.0  1.0  3.0\n",
              "50%    1.0  1.0  3.0\n",
              "75%    1.0  1.0  3.0\n",
              "max    1.0  1.0  3.0"
            ]
          },
          "metadata": {
            "tags": []
          },
          "execution_count": 78
        }
      ]
    },
    {
      "metadata": {
        "id": "4Tr-SsQ6DVkx",
        "colab_type": "code",
        "outputId": "f8d9b822-679b-4c77-b2d5-9a78c0415709",
        "colab": {
          "base_uri": "https://localhost:8080/",
          "height": 182
        }
      },
      "cell_type": "code",
      "source": [
        "#행과 열을 바꿔주는 T # Transposing your dataframe:\n",
        "df.T"
      ],
      "execution_count": 79,
      "outputs": [
        {
          "output_type": "execute_result",
          "data": {
            "text/html": [
              "<div>\n",
              "<style scoped>\n",
              "    .dataframe tbody tr th:only-of-type {\n",
              "        vertical-align: middle;\n",
              "    }\n",
              "\n",
              "    .dataframe tbody tr th {\n",
              "        vertical-align: top;\n",
              "    }\n",
              "\n",
              "    .dataframe thead th {\n",
              "        text-align: right;\n",
              "    }\n",
              "</style>\n",
              "<table border=\"1\" class=\"dataframe\">\n",
              "  <thead>\n",
              "    <tr style=\"text-align: right;\">\n",
              "      <th></th>\n",
              "      <th>2013-01-01 00:00:00</th>\n",
              "      <th>2013-01-02 00:00:00</th>\n",
              "      <th>2013-01-03 00:00:00</th>\n",
              "      <th>2013-01-04 00:00:00</th>\n",
              "      <th>2013-01-05 00:00:00</th>\n",
              "      <th>2013-01-06 00:00:00</th>\n",
              "    </tr>\n",
              "  </thead>\n",
              "  <tbody>\n",
              "    <tr>\n",
              "      <th>A</th>\n",
              "      <td>0.828306</td>\n",
              "      <td>-0.544799</td>\n",
              "      <td>0.217715</td>\n",
              "      <td>-0.475458</td>\n",
              "      <td>-0.300339</td>\n",
              "      <td>-0.347017</td>\n",
              "    </tr>\n",
              "    <tr>\n",
              "      <th>B</th>\n",
              "      <td>-1.210004</td>\n",
              "      <td>0.655444</td>\n",
              "      <td>-0.753202</td>\n",
              "      <td>0.841730</td>\n",
              "      <td>-0.930300</td>\n",
              "      <td>-0.793589</td>\n",
              "    </tr>\n",
              "    <tr>\n",
              "      <th>C</th>\n",
              "      <td>-1.061015</td>\n",
              "      <td>0.712425</td>\n",
              "      <td>-0.134670</td>\n",
              "      <td>-1.821381</td>\n",
              "      <td>0.369425</td>\n",
              "      <td>0.905843</td>\n",
              "    </tr>\n",
              "    <tr>\n",
              "      <th>D</th>\n",
              "      <td>0.055927</td>\n",
              "      <td>0.863576</td>\n",
              "      <td>2.582344</td>\n",
              "      <td>0.058715</td>\n",
              "      <td>-0.425397</td>\n",
              "      <td>1.089211</td>\n",
              "    </tr>\n",
              "  </tbody>\n",
              "</table>\n",
              "</div>"
            ],
            "text/plain": [
              "   2013-01-01  2013-01-02  2013-01-03  2013-01-04  2013-01-05  2013-01-06\n",
              "A    0.828306   -0.544799    0.217715   -0.475458   -0.300339   -0.347017\n",
              "B   -1.210004    0.655444   -0.753202    0.841730   -0.930300   -0.793589\n",
              "C   -1.061015    0.712425   -0.134670   -1.821381    0.369425    0.905843\n",
              "D    0.055927    0.863576    2.582344    0.058715   -0.425397    1.089211"
            ]
          },
          "metadata": {
            "tags": []
          },
          "execution_count": 79
        }
      ]
    },
    {
      "metadata": {
        "id": "oyDr21ETDVkz",
        "colab_type": "text"
      },
      "cell_type": "markdown",
      "source": [
        "#### Sorting"
      ]
    },
    {
      "metadata": {
        "id": "lb7dRlFhDVk1",
        "colab_type": "code",
        "outputId": "a7d9fc4c-b5cc-4e31-f6f1-8942fa65e1b4",
        "colab": {
          "base_uri": "https://localhost:8080/",
          "height": 225
        }
      },
      "cell_type": "code",
      "source": [
        "# Sorting by an axis:\n",
        "df.sort_index(axis=0, ascending=False)\n",
        "#axis=0 행 기준(알파벳 순), 아래로 내려갈 수록 옛날"
      ],
      "execution_count": 80,
      "outputs": [
        {
          "output_type": "execute_result",
          "data": {
            "text/html": [
              "<div>\n",
              "<style scoped>\n",
              "    .dataframe tbody tr th:only-of-type {\n",
              "        vertical-align: middle;\n",
              "    }\n",
              "\n",
              "    .dataframe tbody tr th {\n",
              "        vertical-align: top;\n",
              "    }\n",
              "\n",
              "    .dataframe thead th {\n",
              "        text-align: right;\n",
              "    }\n",
              "</style>\n",
              "<table border=\"1\" class=\"dataframe\">\n",
              "  <thead>\n",
              "    <tr style=\"text-align: right;\">\n",
              "      <th></th>\n",
              "      <th>A</th>\n",
              "      <th>B</th>\n",
              "      <th>C</th>\n",
              "      <th>D</th>\n",
              "    </tr>\n",
              "  </thead>\n",
              "  <tbody>\n",
              "    <tr>\n",
              "      <th>2013-01-06</th>\n",
              "      <td>-0.347017</td>\n",
              "      <td>-0.793589</td>\n",
              "      <td>0.905843</td>\n",
              "      <td>1.089211</td>\n",
              "    </tr>\n",
              "    <tr>\n",
              "      <th>2013-01-05</th>\n",
              "      <td>-0.300339</td>\n",
              "      <td>-0.930300</td>\n",
              "      <td>0.369425</td>\n",
              "      <td>-0.425397</td>\n",
              "    </tr>\n",
              "    <tr>\n",
              "      <th>2013-01-04</th>\n",
              "      <td>-0.475458</td>\n",
              "      <td>0.841730</td>\n",
              "      <td>-1.821381</td>\n",
              "      <td>0.058715</td>\n",
              "    </tr>\n",
              "    <tr>\n",
              "      <th>2013-01-03</th>\n",
              "      <td>0.217715</td>\n",
              "      <td>-0.753202</td>\n",
              "      <td>-0.134670</td>\n",
              "      <td>2.582344</td>\n",
              "    </tr>\n",
              "    <tr>\n",
              "      <th>2013-01-02</th>\n",
              "      <td>-0.544799</td>\n",
              "      <td>0.655444</td>\n",
              "      <td>0.712425</td>\n",
              "      <td>0.863576</td>\n",
              "    </tr>\n",
              "    <tr>\n",
              "      <th>2013-01-01</th>\n",
              "      <td>0.828306</td>\n",
              "      <td>-1.210004</td>\n",
              "      <td>-1.061015</td>\n",
              "      <td>0.055927</td>\n",
              "    </tr>\n",
              "  </tbody>\n",
              "</table>\n",
              "</div>"
            ],
            "text/plain": [
              "                   A         B         C         D\n",
              "2013-01-06 -0.347017 -0.793589  0.905843  1.089211\n",
              "2013-01-05 -0.300339 -0.930300  0.369425 -0.425397\n",
              "2013-01-04 -0.475458  0.841730 -1.821381  0.058715\n",
              "2013-01-03  0.217715 -0.753202 -0.134670  2.582344\n",
              "2013-01-02 -0.544799  0.655444  0.712425  0.863576\n",
              "2013-01-01  0.828306 -1.210004 -1.061015  0.055927"
            ]
          },
          "metadata": {
            "tags": []
          },
          "execution_count": 80
        }
      ]
    },
    {
      "metadata": {
        "id": "5YLKtpO8DVk3",
        "colab_type": "code",
        "outputId": "50059891-7094-4330-f8a2-01d49df0945d",
        "colab": {
          "base_uri": "https://localhost:8080/",
          "height": 225
        }
      },
      "cell_type": "code",
      "source": [
        "df.sort_index(axis=1, ascending=False)\n",
        "#axis=1은 열 기준(날짜 순) #아래가 최근"
      ],
      "execution_count": 81,
      "outputs": [
        {
          "output_type": "execute_result",
          "data": {
            "text/html": [
              "<div>\n",
              "<style scoped>\n",
              "    .dataframe tbody tr th:only-of-type {\n",
              "        vertical-align: middle;\n",
              "    }\n",
              "\n",
              "    .dataframe tbody tr th {\n",
              "        vertical-align: top;\n",
              "    }\n",
              "\n",
              "    .dataframe thead th {\n",
              "        text-align: right;\n",
              "    }\n",
              "</style>\n",
              "<table border=\"1\" class=\"dataframe\">\n",
              "  <thead>\n",
              "    <tr style=\"text-align: right;\">\n",
              "      <th></th>\n",
              "      <th>D</th>\n",
              "      <th>C</th>\n",
              "      <th>B</th>\n",
              "      <th>A</th>\n",
              "    </tr>\n",
              "  </thead>\n",
              "  <tbody>\n",
              "    <tr>\n",
              "      <th>2013-01-01</th>\n",
              "      <td>0.055927</td>\n",
              "      <td>-1.061015</td>\n",
              "      <td>-1.210004</td>\n",
              "      <td>0.828306</td>\n",
              "    </tr>\n",
              "    <tr>\n",
              "      <th>2013-01-02</th>\n",
              "      <td>0.863576</td>\n",
              "      <td>0.712425</td>\n",
              "      <td>0.655444</td>\n",
              "      <td>-0.544799</td>\n",
              "    </tr>\n",
              "    <tr>\n",
              "      <th>2013-01-03</th>\n",
              "      <td>2.582344</td>\n",
              "      <td>-0.134670</td>\n",
              "      <td>-0.753202</td>\n",
              "      <td>0.217715</td>\n",
              "    </tr>\n",
              "    <tr>\n",
              "      <th>2013-01-04</th>\n",
              "      <td>0.058715</td>\n",
              "      <td>-1.821381</td>\n",
              "      <td>0.841730</td>\n",
              "      <td>-0.475458</td>\n",
              "    </tr>\n",
              "    <tr>\n",
              "      <th>2013-01-05</th>\n",
              "      <td>-0.425397</td>\n",
              "      <td>0.369425</td>\n",
              "      <td>-0.930300</td>\n",
              "      <td>-0.300339</td>\n",
              "    </tr>\n",
              "    <tr>\n",
              "      <th>2013-01-06</th>\n",
              "      <td>1.089211</td>\n",
              "      <td>0.905843</td>\n",
              "      <td>-0.793589</td>\n",
              "      <td>-0.347017</td>\n",
              "    </tr>\n",
              "  </tbody>\n",
              "</table>\n",
              "</div>"
            ],
            "text/plain": [
              "                   D         C         B         A\n",
              "2013-01-01  0.055927 -1.061015 -1.210004  0.828306\n",
              "2013-01-02  0.863576  0.712425  0.655444 -0.544799\n",
              "2013-01-03  2.582344 -0.134670 -0.753202  0.217715\n",
              "2013-01-04  0.058715 -1.821381  0.841730 -0.475458\n",
              "2013-01-05 -0.425397  0.369425 -0.930300 -0.300339\n",
              "2013-01-06  1.089211  0.905843 -0.793589 -0.347017"
            ]
          },
          "metadata": {
            "tags": []
          },
          "execution_count": 81
        }
      ]
    },
    {
      "metadata": {
        "id": "MQ02XoT9DVk5",
        "colab_type": "code",
        "outputId": "795c01e2-cd10-43cc-b6ac-73ce35efa939",
        "colab": {
          "base_uri": "https://localhost:8080/",
          "height": 225
        }
      },
      "cell_type": "code",
      "source": [
        "# Sorting by values:\n",
        "df.sort_values(by='B')#, ascending=False) # False를 하면 큰 값이 제일 먼저\n",
        "#B 데이터의 큰 값이 젤 밑에오게 정렬"
      ],
      "execution_count": 82,
      "outputs": [
        {
          "output_type": "execute_result",
          "data": {
            "text/html": [
              "<div>\n",
              "<style scoped>\n",
              "    .dataframe tbody tr th:only-of-type {\n",
              "        vertical-align: middle;\n",
              "    }\n",
              "\n",
              "    .dataframe tbody tr th {\n",
              "        vertical-align: top;\n",
              "    }\n",
              "\n",
              "    .dataframe thead th {\n",
              "        text-align: right;\n",
              "    }\n",
              "</style>\n",
              "<table border=\"1\" class=\"dataframe\">\n",
              "  <thead>\n",
              "    <tr style=\"text-align: right;\">\n",
              "      <th></th>\n",
              "      <th>A</th>\n",
              "      <th>B</th>\n",
              "      <th>C</th>\n",
              "      <th>D</th>\n",
              "    </tr>\n",
              "  </thead>\n",
              "  <tbody>\n",
              "    <tr>\n",
              "      <th>2013-01-01</th>\n",
              "      <td>0.828306</td>\n",
              "      <td>-1.210004</td>\n",
              "      <td>-1.061015</td>\n",
              "      <td>0.055927</td>\n",
              "    </tr>\n",
              "    <tr>\n",
              "      <th>2013-01-05</th>\n",
              "      <td>-0.300339</td>\n",
              "      <td>-0.930300</td>\n",
              "      <td>0.369425</td>\n",
              "      <td>-0.425397</td>\n",
              "    </tr>\n",
              "    <tr>\n",
              "      <th>2013-01-06</th>\n",
              "      <td>-0.347017</td>\n",
              "      <td>-0.793589</td>\n",
              "      <td>0.905843</td>\n",
              "      <td>1.089211</td>\n",
              "    </tr>\n",
              "    <tr>\n",
              "      <th>2013-01-03</th>\n",
              "      <td>0.217715</td>\n",
              "      <td>-0.753202</td>\n",
              "      <td>-0.134670</td>\n",
              "      <td>2.582344</td>\n",
              "    </tr>\n",
              "    <tr>\n",
              "      <th>2013-01-02</th>\n",
              "      <td>-0.544799</td>\n",
              "      <td>0.655444</td>\n",
              "      <td>0.712425</td>\n",
              "      <td>0.863576</td>\n",
              "    </tr>\n",
              "    <tr>\n",
              "      <th>2013-01-04</th>\n",
              "      <td>-0.475458</td>\n",
              "      <td>0.841730</td>\n",
              "      <td>-1.821381</td>\n",
              "      <td>0.058715</td>\n",
              "    </tr>\n",
              "  </tbody>\n",
              "</table>\n",
              "</div>"
            ],
            "text/plain": [
              "                   A         B         C         D\n",
              "2013-01-01  0.828306 -1.210004 -1.061015  0.055927\n",
              "2013-01-05 -0.300339 -0.930300  0.369425 -0.425397\n",
              "2013-01-06 -0.347017 -0.793589  0.905843  1.089211\n",
              "2013-01-03  0.217715 -0.753202 -0.134670  2.582344\n",
              "2013-01-02 -0.544799  0.655444  0.712425  0.863576\n",
              "2013-01-04 -0.475458  0.841730 -1.821381  0.058715"
            ]
          },
          "metadata": {
            "tags": []
          },
          "execution_count": 82
        }
      ]
    },
    {
      "metadata": {
        "id": "cZU3rtoeg3hr",
        "colab_type": "code",
        "outputId": "eb8846fa-3a0c-4eb8-eeb0-9e7ecd575261",
        "colab": {
          "base_uri": "https://localhost:8080/",
          "height": 225
        }
      },
      "cell_type": "code",
      "source": [
        "df.sort_values(by = 'C')  #by 가 C열을 기준으로 정렬하는 것"
      ],
      "execution_count": 83,
      "outputs": [
        {
          "output_type": "execute_result",
          "data": {
            "text/html": [
              "<div>\n",
              "<style scoped>\n",
              "    .dataframe tbody tr th:only-of-type {\n",
              "        vertical-align: middle;\n",
              "    }\n",
              "\n",
              "    .dataframe tbody tr th {\n",
              "        vertical-align: top;\n",
              "    }\n",
              "\n",
              "    .dataframe thead th {\n",
              "        text-align: right;\n",
              "    }\n",
              "</style>\n",
              "<table border=\"1\" class=\"dataframe\">\n",
              "  <thead>\n",
              "    <tr style=\"text-align: right;\">\n",
              "      <th></th>\n",
              "      <th>A</th>\n",
              "      <th>B</th>\n",
              "      <th>C</th>\n",
              "      <th>D</th>\n",
              "    </tr>\n",
              "  </thead>\n",
              "  <tbody>\n",
              "    <tr>\n",
              "      <th>2013-01-04</th>\n",
              "      <td>-0.475458</td>\n",
              "      <td>0.841730</td>\n",
              "      <td>-1.821381</td>\n",
              "      <td>0.058715</td>\n",
              "    </tr>\n",
              "    <tr>\n",
              "      <th>2013-01-01</th>\n",
              "      <td>0.828306</td>\n",
              "      <td>-1.210004</td>\n",
              "      <td>-1.061015</td>\n",
              "      <td>0.055927</td>\n",
              "    </tr>\n",
              "    <tr>\n",
              "      <th>2013-01-03</th>\n",
              "      <td>0.217715</td>\n",
              "      <td>-0.753202</td>\n",
              "      <td>-0.134670</td>\n",
              "      <td>2.582344</td>\n",
              "    </tr>\n",
              "    <tr>\n",
              "      <th>2013-01-05</th>\n",
              "      <td>-0.300339</td>\n",
              "      <td>-0.930300</td>\n",
              "      <td>0.369425</td>\n",
              "      <td>-0.425397</td>\n",
              "    </tr>\n",
              "    <tr>\n",
              "      <th>2013-01-02</th>\n",
              "      <td>-0.544799</td>\n",
              "      <td>0.655444</td>\n",
              "      <td>0.712425</td>\n",
              "      <td>0.863576</td>\n",
              "    </tr>\n",
              "    <tr>\n",
              "      <th>2013-01-06</th>\n",
              "      <td>-0.347017</td>\n",
              "      <td>-0.793589</td>\n",
              "      <td>0.905843</td>\n",
              "      <td>1.089211</td>\n",
              "    </tr>\n",
              "  </tbody>\n",
              "</table>\n",
              "</div>"
            ],
            "text/plain": [
              "                   A         B         C         D\n",
              "2013-01-04 -0.475458  0.841730 -1.821381  0.058715\n",
              "2013-01-01  0.828306 -1.210004 -1.061015  0.055927\n",
              "2013-01-03  0.217715 -0.753202 -0.134670  2.582344\n",
              "2013-01-05 -0.300339 -0.930300  0.369425 -0.425397\n",
              "2013-01-02 -0.544799  0.655444  0.712425  0.863576\n",
              "2013-01-06 -0.347017 -0.793589  0.905843  1.089211"
            ]
          },
          "metadata": {
            "tags": []
          },
          "execution_count": 83
        }
      ]
    },
    {
      "metadata": {
        "id": "QNeRM39EDVk7",
        "colab_type": "text"
      },
      "cell_type": "markdown",
      "source": [
        "#### Selecting data by indexing and slicing\n",
        "\n",
        "> **at, iat, loc, iloc**\n",
        "\n",
        "=>at~에  iat~에 대한 인덱션\n",
        "i는 모두 인덱션을 뜻함"
      ]
    },
    {
      "metadata": {
        "id": "R5M34GzRDVk8",
        "colab_type": "code",
        "outputId": "d0e37c10-ac78-47bf-c350-c901b57ecd2f",
        "colab": {
          "base_uri": "https://localhost:8080/",
          "height": 146
        }
      },
      "cell_type": "code",
      "source": [
        "# Selecting a single column, which yields a Series\n",
        "df['A']"
      ],
      "execution_count": 84,
      "outputs": [
        {
          "output_type": "execute_result",
          "data": {
            "text/plain": [
              "2013-01-01    0.828306\n",
              "2013-01-02   -0.544799\n",
              "2013-01-03    0.217715\n",
              "2013-01-04   -0.475458\n",
              "2013-01-05   -0.300339\n",
              "2013-01-06   -0.347017\n",
              "Freq: D, Name: A, dtype: float64"
            ]
          },
          "metadata": {
            "tags": []
          },
          "execution_count": 84
        }
      ]
    },
    {
      "metadata": {
        "id": "cVB8J-VIDVk-",
        "colab_type": "code",
        "outputId": "5793bf78-ff2d-4a50-c878-03d095fa6eaa",
        "colab": {
          "base_uri": "https://localhost:8080/",
          "height": 166
        }
      },
      "cell_type": "code",
      "source": [
        "# Selecting via [], which slices the rows.\n",
        "df[0:4] #행인덱스 0부터 3까지"
      ],
      "execution_count": 85,
      "outputs": [
        {
          "output_type": "execute_result",
          "data": {
            "text/html": [
              "<div>\n",
              "<style scoped>\n",
              "    .dataframe tbody tr th:only-of-type {\n",
              "        vertical-align: middle;\n",
              "    }\n",
              "\n",
              "    .dataframe tbody tr th {\n",
              "        vertical-align: top;\n",
              "    }\n",
              "\n",
              "    .dataframe thead th {\n",
              "        text-align: right;\n",
              "    }\n",
              "</style>\n",
              "<table border=\"1\" class=\"dataframe\">\n",
              "  <thead>\n",
              "    <tr style=\"text-align: right;\">\n",
              "      <th></th>\n",
              "      <th>A</th>\n",
              "      <th>B</th>\n",
              "      <th>C</th>\n",
              "      <th>D</th>\n",
              "    </tr>\n",
              "  </thead>\n",
              "  <tbody>\n",
              "    <tr>\n",
              "      <th>2013-01-01</th>\n",
              "      <td>0.828306</td>\n",
              "      <td>-1.210004</td>\n",
              "      <td>-1.061015</td>\n",
              "      <td>0.055927</td>\n",
              "    </tr>\n",
              "    <tr>\n",
              "      <th>2013-01-02</th>\n",
              "      <td>-0.544799</td>\n",
              "      <td>0.655444</td>\n",
              "      <td>0.712425</td>\n",
              "      <td>0.863576</td>\n",
              "    </tr>\n",
              "    <tr>\n",
              "      <th>2013-01-03</th>\n",
              "      <td>0.217715</td>\n",
              "      <td>-0.753202</td>\n",
              "      <td>-0.134670</td>\n",
              "      <td>2.582344</td>\n",
              "    </tr>\n",
              "    <tr>\n",
              "      <th>2013-01-04</th>\n",
              "      <td>-0.475458</td>\n",
              "      <td>0.841730</td>\n",
              "      <td>-1.821381</td>\n",
              "      <td>0.058715</td>\n",
              "    </tr>\n",
              "  </tbody>\n",
              "</table>\n",
              "</div>"
            ],
            "text/plain": [
              "                   A         B         C         D\n",
              "2013-01-01  0.828306 -1.210004 -1.061015  0.055927\n",
              "2013-01-02 -0.544799  0.655444  0.712425  0.863576\n",
              "2013-01-03  0.217715 -0.753202 -0.134670  2.582344\n",
              "2013-01-04 -0.475458  0.841730 -1.821381  0.058715"
            ]
          },
          "metadata": {
            "tags": []
          },
          "execution_count": 85
        }
      ]
    },
    {
      "metadata": {
        "id": "I0IdRh6oDVlA",
        "colab_type": "code",
        "outputId": "7edbf384-89f0-4029-dfca-f845fc0e625d",
        "colab": {
          "base_uri": "https://localhost:8080/",
          "height": 136
        }
      },
      "cell_type": "code",
      "source": [
        "df['20130102':'20130104'] # 인덱스가 아닌 값인 경우는 지전된 범위가 다 선택된다.\n",
        "#지정된 값은 마지막까지 포함됨"
      ],
      "execution_count": 86,
      "outputs": [
        {
          "output_type": "execute_result",
          "data": {
            "text/html": [
              "<div>\n",
              "<style scoped>\n",
              "    .dataframe tbody tr th:only-of-type {\n",
              "        vertical-align: middle;\n",
              "    }\n",
              "\n",
              "    .dataframe tbody tr th {\n",
              "        vertical-align: top;\n",
              "    }\n",
              "\n",
              "    .dataframe thead th {\n",
              "        text-align: right;\n",
              "    }\n",
              "</style>\n",
              "<table border=\"1\" class=\"dataframe\">\n",
              "  <thead>\n",
              "    <tr style=\"text-align: right;\">\n",
              "      <th></th>\n",
              "      <th>A</th>\n",
              "      <th>B</th>\n",
              "      <th>C</th>\n",
              "      <th>D</th>\n",
              "    </tr>\n",
              "  </thead>\n",
              "  <tbody>\n",
              "    <tr>\n",
              "      <th>2013-01-02</th>\n",
              "      <td>-0.544799</td>\n",
              "      <td>0.655444</td>\n",
              "      <td>0.712425</td>\n",
              "      <td>0.863576</td>\n",
              "    </tr>\n",
              "    <tr>\n",
              "      <th>2013-01-03</th>\n",
              "      <td>0.217715</td>\n",
              "      <td>-0.753202</td>\n",
              "      <td>-0.134670</td>\n",
              "      <td>2.582344</td>\n",
              "    </tr>\n",
              "    <tr>\n",
              "      <th>2013-01-04</th>\n",
              "      <td>-0.475458</td>\n",
              "      <td>0.841730</td>\n",
              "      <td>-1.821381</td>\n",
              "      <td>0.058715</td>\n",
              "    </tr>\n",
              "  </tbody>\n",
              "</table>\n",
              "</div>"
            ],
            "text/plain": [
              "                   A         B         C         D\n",
              "2013-01-02 -0.544799  0.655444  0.712425  0.863576\n",
              "2013-01-03  0.217715 -0.753202 -0.134670  2.582344\n",
              "2013-01-04 -0.475458  0.841730 -1.821381  0.058715"
            ]
          },
          "metadata": {
            "tags": []
          },
          "execution_count": 86
        }
      ]
    },
    {
      "metadata": {
        "id": "yeSb6v7JDVlD",
        "colab_type": "text"
      },
      "cell_type": "markdown",
      "source": [
        "#### Selecting data by label"
      ]
    },
    {
      "metadata": {
        "id": "nCcVySyUDVlD",
        "colab_type": "code",
        "outputId": "56a55769-8318-4236-dd5b-967a97db81ab",
        "colab": {
          "base_uri": "https://localhost:8080/",
          "height": 225
        }
      },
      "cell_type": "code",
      "source": [
        "df#랜덤의 값이기 때문에 다다름"
      ],
      "execution_count": 87,
      "outputs": [
        {
          "output_type": "execute_result",
          "data": {
            "text/html": [
              "<div>\n",
              "<style scoped>\n",
              "    .dataframe tbody tr th:only-of-type {\n",
              "        vertical-align: middle;\n",
              "    }\n",
              "\n",
              "    .dataframe tbody tr th {\n",
              "        vertical-align: top;\n",
              "    }\n",
              "\n",
              "    .dataframe thead th {\n",
              "        text-align: right;\n",
              "    }\n",
              "</style>\n",
              "<table border=\"1\" class=\"dataframe\">\n",
              "  <thead>\n",
              "    <tr style=\"text-align: right;\">\n",
              "      <th></th>\n",
              "      <th>A</th>\n",
              "      <th>B</th>\n",
              "      <th>C</th>\n",
              "      <th>D</th>\n",
              "    </tr>\n",
              "  </thead>\n",
              "  <tbody>\n",
              "    <tr>\n",
              "      <th>2013-01-01</th>\n",
              "      <td>0.828306</td>\n",
              "      <td>-1.210004</td>\n",
              "      <td>-1.061015</td>\n",
              "      <td>0.055927</td>\n",
              "    </tr>\n",
              "    <tr>\n",
              "      <th>2013-01-02</th>\n",
              "      <td>-0.544799</td>\n",
              "      <td>0.655444</td>\n",
              "      <td>0.712425</td>\n",
              "      <td>0.863576</td>\n",
              "    </tr>\n",
              "    <tr>\n",
              "      <th>2013-01-03</th>\n",
              "      <td>0.217715</td>\n",
              "      <td>-0.753202</td>\n",
              "      <td>-0.134670</td>\n",
              "      <td>2.582344</td>\n",
              "    </tr>\n",
              "    <tr>\n",
              "      <th>2013-01-04</th>\n",
              "      <td>-0.475458</td>\n",
              "      <td>0.841730</td>\n",
              "      <td>-1.821381</td>\n",
              "      <td>0.058715</td>\n",
              "    </tr>\n",
              "    <tr>\n",
              "      <th>2013-01-05</th>\n",
              "      <td>-0.300339</td>\n",
              "      <td>-0.930300</td>\n",
              "      <td>0.369425</td>\n",
              "      <td>-0.425397</td>\n",
              "    </tr>\n",
              "    <tr>\n",
              "      <th>2013-01-06</th>\n",
              "      <td>-0.347017</td>\n",
              "      <td>-0.793589</td>\n",
              "      <td>0.905843</td>\n",
              "      <td>1.089211</td>\n",
              "    </tr>\n",
              "  </tbody>\n",
              "</table>\n",
              "</div>"
            ],
            "text/plain": [
              "                   A         B         C         D\n",
              "2013-01-01  0.828306 -1.210004 -1.061015  0.055927\n",
              "2013-01-02 -0.544799  0.655444  0.712425  0.863576\n",
              "2013-01-03  0.217715 -0.753202 -0.134670  2.582344\n",
              "2013-01-04 -0.475458  0.841730 -1.821381  0.058715\n",
              "2013-01-05 -0.300339 -0.930300  0.369425 -0.425397\n",
              "2013-01-06 -0.347017 -0.793589  0.905843  1.089211"
            ]
          },
          "metadata": {
            "tags": []
          },
          "execution_count": 87
        }
      ]
    },
    {
      "metadata": {
        "id": "R6kqX5bXDVlF",
        "colab_type": "code",
        "outputId": "2b5d079d-cc63-4df1-a74c-39412ede34fb",
        "colab": {
          "base_uri": "https://localhost:8080/",
          "height": 109
        }
      },
      "cell_type": "code",
      "source": [
        "df.loc[dates[0]]   # loc()\n",
        "#열 0번째 데이터 인덱스에 포함되는 값 가져오기\n",
        "#Series로 보여짐"
      ],
      "execution_count": 88,
      "outputs": [
        {
          "output_type": "execute_result",
          "data": {
            "text/plain": [
              "A    0.828306\n",
              "B   -1.210004\n",
              "C   -1.061015\n",
              "D    0.055927\n",
              "Name: 2013-01-01 00:00:00, dtype: float64"
            ]
          },
          "metadata": {
            "tags": []
          },
          "execution_count": 88
        }
      ]
    },
    {
      "metadata": {
        "id": "3UjrlQKuDVlI",
        "colab_type": "code",
        "outputId": "e071f836-4707-48a4-e27d-a81841b875a3",
        "colab": {
          "base_uri": "https://localhost:8080/",
          "height": 225
        }
      },
      "cell_type": "code",
      "source": [
        "# Selecting on a multi-axis by label:\n",
        "df.loc[:,['A','B']] #데이터 베이스 인덱스는 모두 []"
      ],
      "execution_count": 89,
      "outputs": [
        {
          "output_type": "execute_result",
          "data": {
            "text/html": [
              "<div>\n",
              "<style scoped>\n",
              "    .dataframe tbody tr th:only-of-type {\n",
              "        vertical-align: middle;\n",
              "    }\n",
              "\n",
              "    .dataframe tbody tr th {\n",
              "        vertical-align: top;\n",
              "    }\n",
              "\n",
              "    .dataframe thead th {\n",
              "        text-align: right;\n",
              "    }\n",
              "</style>\n",
              "<table border=\"1\" class=\"dataframe\">\n",
              "  <thead>\n",
              "    <tr style=\"text-align: right;\">\n",
              "      <th></th>\n",
              "      <th>A</th>\n",
              "      <th>B</th>\n",
              "    </tr>\n",
              "  </thead>\n",
              "  <tbody>\n",
              "    <tr>\n",
              "      <th>2013-01-01</th>\n",
              "      <td>0.828306</td>\n",
              "      <td>-1.210004</td>\n",
              "    </tr>\n",
              "    <tr>\n",
              "      <th>2013-01-02</th>\n",
              "      <td>-0.544799</td>\n",
              "      <td>0.655444</td>\n",
              "    </tr>\n",
              "    <tr>\n",
              "      <th>2013-01-03</th>\n",
              "      <td>0.217715</td>\n",
              "      <td>-0.753202</td>\n",
              "    </tr>\n",
              "    <tr>\n",
              "      <th>2013-01-04</th>\n",
              "      <td>-0.475458</td>\n",
              "      <td>0.841730</td>\n",
              "    </tr>\n",
              "    <tr>\n",
              "      <th>2013-01-05</th>\n",
              "      <td>-0.300339</td>\n",
              "      <td>-0.930300</td>\n",
              "    </tr>\n",
              "    <tr>\n",
              "      <th>2013-01-06</th>\n",
              "      <td>-0.347017</td>\n",
              "      <td>-0.793589</td>\n",
              "    </tr>\n",
              "  </tbody>\n",
              "</table>\n",
              "</div>"
            ],
            "text/plain": [
              "                   A         B\n",
              "2013-01-01  0.828306 -1.210004\n",
              "2013-01-02 -0.544799  0.655444\n",
              "2013-01-03  0.217715 -0.753202\n",
              "2013-01-04 -0.475458  0.841730\n",
              "2013-01-05 -0.300339 -0.930300\n",
              "2013-01-06 -0.347017 -0.793589"
            ]
          },
          "metadata": {
            "tags": []
          },
          "execution_count": 89
        }
      ]
    },
    {
      "metadata": {
        "id": "ANlPvi6hDVlJ",
        "colab_type": "text"
      },
      "cell_type": "markdown",
      "source": [
        "#### [도전코딩]\n",
        "\n",
        "> Select data for first two days AND comumn 3,4 from df.\n",
        "\n",
        "=> 시험(사지선다형)"
      ]
    },
    {
      "metadata": {
        "id": "_Zs1eSs-DVlJ",
        "colab_type": "code",
        "outputId": "23e6aaa0-7559-4b63-8a99-309fc55a9b20",
        "colab": {
          "base_uri": "https://localhost:8080/",
          "height": 106
        }
      },
      "cell_type": "code",
      "source": [
        "#df.loc[0:3,['C','D']] #인덱스 번호를 바로 넣으면 실행되지 않음\n",
        "df.loc['20130101':'20130102',['C','D']]\n",
        "#df.loc[dates[:2],['C','D']] \n",
        "#pandas에서 부분 데이터를 불어오려면 loc 함수를 사용 \n",
        "#loc 안에 인덱스 번호가 아닌 값이 들어가야함"
      ],
      "execution_count": 90,
      "outputs": [
        {
          "output_type": "execute_result",
          "data": {
            "text/html": [
              "<div>\n",
              "<style scoped>\n",
              "    .dataframe tbody tr th:only-of-type {\n",
              "        vertical-align: middle;\n",
              "    }\n",
              "\n",
              "    .dataframe tbody tr th {\n",
              "        vertical-align: top;\n",
              "    }\n",
              "\n",
              "    .dataframe thead th {\n",
              "        text-align: right;\n",
              "    }\n",
              "</style>\n",
              "<table border=\"1\" class=\"dataframe\">\n",
              "  <thead>\n",
              "    <tr style=\"text-align: right;\">\n",
              "      <th></th>\n",
              "      <th>C</th>\n",
              "      <th>D</th>\n",
              "    </tr>\n",
              "  </thead>\n",
              "  <tbody>\n",
              "    <tr>\n",
              "      <th>2013-01-01</th>\n",
              "      <td>-1.061015</td>\n",
              "      <td>0.055927</td>\n",
              "    </tr>\n",
              "    <tr>\n",
              "      <th>2013-01-02</th>\n",
              "      <td>0.712425</td>\n",
              "      <td>0.863576</td>\n",
              "    </tr>\n",
              "  </tbody>\n",
              "</table>\n",
              "</div>"
            ],
            "text/plain": [
              "                   C         D\n",
              "2013-01-01 -1.061015  0.055927\n",
              "2013-01-02  0.712425  0.863576"
            ]
          },
          "metadata": {
            "tags": []
          },
          "execution_count": 90
        }
      ]
    },
    {
      "metadata": {
        "id": "BeoFQ2MCiemL",
        "colab_type": "code",
        "outputId": "347bfb68-5963-4a5f-d91b-09a11950f931",
        "colab": {
          "base_uri": "https://localhost:8080/",
          "height": 106
        }
      },
      "cell_type": "code",
      "source": [
        "df.loc[dates[:2],['C','D']] "
      ],
      "execution_count": 91,
      "outputs": [
        {
          "output_type": "execute_result",
          "data": {
            "text/html": [
              "<div>\n",
              "<style scoped>\n",
              "    .dataframe tbody tr th:only-of-type {\n",
              "        vertical-align: middle;\n",
              "    }\n",
              "\n",
              "    .dataframe tbody tr th {\n",
              "        vertical-align: top;\n",
              "    }\n",
              "\n",
              "    .dataframe thead th {\n",
              "        text-align: right;\n",
              "    }\n",
              "</style>\n",
              "<table border=\"1\" class=\"dataframe\">\n",
              "  <thead>\n",
              "    <tr style=\"text-align: right;\">\n",
              "      <th></th>\n",
              "      <th>C</th>\n",
              "      <th>D</th>\n",
              "    </tr>\n",
              "  </thead>\n",
              "  <tbody>\n",
              "    <tr>\n",
              "      <th>2013-01-01</th>\n",
              "      <td>-1.061015</td>\n",
              "      <td>0.055927</td>\n",
              "    </tr>\n",
              "    <tr>\n",
              "      <th>2013-01-02</th>\n",
              "      <td>0.712425</td>\n",
              "      <td>0.863576</td>\n",
              "    </tr>\n",
              "  </tbody>\n",
              "</table>\n",
              "</div>"
            ],
            "text/plain": [
              "                   C         D\n",
              "2013-01-01 -1.061015  0.055927\n",
              "2013-01-02  0.712425  0.863576"
            ]
          },
          "metadata": {
            "tags": []
          },
          "execution_count": 91
        }
      ]
    },
    {
      "metadata": {
        "id": "HX9xG6A5DVlL",
        "colab_type": "text"
      },
      "cell_type": "markdown",
      "source": [
        "#### Selecting data by position  (iloc())"
      ]
    },
    {
      "metadata": {
        "id": "-_2enLPiDVlM",
        "colab_type": "code",
        "outputId": "2fe54ee9-075a-4ff9-8bde-c035c07801ba",
        "colab": {
          "base_uri": "https://localhost:8080/",
          "height": 225
        }
      },
      "cell_type": "code",
      "source": [
        "df"
      ],
      "execution_count": 92,
      "outputs": [
        {
          "output_type": "execute_result",
          "data": {
            "text/html": [
              "<div>\n",
              "<style scoped>\n",
              "    .dataframe tbody tr th:only-of-type {\n",
              "        vertical-align: middle;\n",
              "    }\n",
              "\n",
              "    .dataframe tbody tr th {\n",
              "        vertical-align: top;\n",
              "    }\n",
              "\n",
              "    .dataframe thead th {\n",
              "        text-align: right;\n",
              "    }\n",
              "</style>\n",
              "<table border=\"1\" class=\"dataframe\">\n",
              "  <thead>\n",
              "    <tr style=\"text-align: right;\">\n",
              "      <th></th>\n",
              "      <th>A</th>\n",
              "      <th>B</th>\n",
              "      <th>C</th>\n",
              "      <th>D</th>\n",
              "    </tr>\n",
              "  </thead>\n",
              "  <tbody>\n",
              "    <tr>\n",
              "      <th>2013-01-01</th>\n",
              "      <td>0.828306</td>\n",
              "      <td>-1.210004</td>\n",
              "      <td>-1.061015</td>\n",
              "      <td>0.055927</td>\n",
              "    </tr>\n",
              "    <tr>\n",
              "      <th>2013-01-02</th>\n",
              "      <td>-0.544799</td>\n",
              "      <td>0.655444</td>\n",
              "      <td>0.712425</td>\n",
              "      <td>0.863576</td>\n",
              "    </tr>\n",
              "    <tr>\n",
              "      <th>2013-01-03</th>\n",
              "      <td>0.217715</td>\n",
              "      <td>-0.753202</td>\n",
              "      <td>-0.134670</td>\n",
              "      <td>2.582344</td>\n",
              "    </tr>\n",
              "    <tr>\n",
              "      <th>2013-01-04</th>\n",
              "      <td>-0.475458</td>\n",
              "      <td>0.841730</td>\n",
              "      <td>-1.821381</td>\n",
              "      <td>0.058715</td>\n",
              "    </tr>\n",
              "    <tr>\n",
              "      <th>2013-01-05</th>\n",
              "      <td>-0.300339</td>\n",
              "      <td>-0.930300</td>\n",
              "      <td>0.369425</td>\n",
              "      <td>-0.425397</td>\n",
              "    </tr>\n",
              "    <tr>\n",
              "      <th>2013-01-06</th>\n",
              "      <td>-0.347017</td>\n",
              "      <td>-0.793589</td>\n",
              "      <td>0.905843</td>\n",
              "      <td>1.089211</td>\n",
              "    </tr>\n",
              "  </tbody>\n",
              "</table>\n",
              "</div>"
            ],
            "text/plain": [
              "                   A         B         C         D\n",
              "2013-01-01  0.828306 -1.210004 -1.061015  0.055927\n",
              "2013-01-02 -0.544799  0.655444  0.712425  0.863576\n",
              "2013-01-03  0.217715 -0.753202 -0.134670  2.582344\n",
              "2013-01-04 -0.475458  0.841730 -1.821381  0.058715\n",
              "2013-01-05 -0.300339 -0.930300  0.369425 -0.425397\n",
              "2013-01-06 -0.347017 -0.793589  0.905843  1.089211"
            ]
          },
          "metadata": {
            "tags": []
          },
          "execution_count": 92
        }
      ]
    },
    {
      "metadata": {
        "id": "WrocuW8lj5IN",
        "colab_type": "text"
      },
      "cell_type": "markdown",
      "source": [
        "=> df.iloc[행 인덱스, 열 인덱스]의 형태를 만족해야한다.\n",
        "\n",
        "=> 값을 슬라이싱(문자열 범위 지정), 리스트의 형태로도 사용 가능"
      ]
    },
    {
      "metadata": {
        "id": "VzQ_BY2EDVlN",
        "colab_type": "code",
        "outputId": "c2fc3f4e-1dc5-40b1-cd15-766e85507200",
        "colab": {
          "base_uri": "https://localhost:8080/",
          "height": 109
        }
      },
      "cell_type": "code",
      "source": [
        "df.iloc[3]  # 결과는 차원축소형으로 표현됨. #1월 4일의 데이터가 나옴"
      ],
      "execution_count": 93,
      "outputs": [
        {
          "output_type": "execute_result",
          "data": {
            "text/plain": [
              "A   -0.475458\n",
              "B    0.841730\n",
              "C   -1.821381\n",
              "D    0.058715\n",
              "Name: 2013-01-04 00:00:00, dtype: float64"
            ]
          },
          "metadata": {
            "tags": []
          },
          "execution_count": 93
        }
      ]
    },
    {
      "metadata": {
        "id": "F0k7IDWPDVlP",
        "colab_type": "code",
        "outputId": "c7fcf073-fd31-4ec5-81c7-28d160d65386",
        "colab": {
          "base_uri": "https://localhost:8080/",
          "height": 106
        }
      },
      "cell_type": "code",
      "source": [
        "# [다시 도전]\n",
        "# Select data for first two days AND comumn 3,4 from df.\n",
        "df.iloc[:2,2:4]"
      ],
      "execution_count": 94,
      "outputs": [
        {
          "output_type": "execute_result",
          "data": {
            "text/html": [
              "<div>\n",
              "<style scoped>\n",
              "    .dataframe tbody tr th:only-of-type {\n",
              "        vertical-align: middle;\n",
              "    }\n",
              "\n",
              "    .dataframe tbody tr th {\n",
              "        vertical-align: top;\n",
              "    }\n",
              "\n",
              "    .dataframe thead th {\n",
              "        text-align: right;\n",
              "    }\n",
              "</style>\n",
              "<table border=\"1\" class=\"dataframe\">\n",
              "  <thead>\n",
              "    <tr style=\"text-align: right;\">\n",
              "      <th></th>\n",
              "      <th>C</th>\n",
              "      <th>D</th>\n",
              "    </tr>\n",
              "  </thead>\n",
              "  <tbody>\n",
              "    <tr>\n",
              "      <th>2013-01-01</th>\n",
              "      <td>-1.061015</td>\n",
              "      <td>0.055927</td>\n",
              "    </tr>\n",
              "    <tr>\n",
              "      <th>2013-01-02</th>\n",
              "      <td>0.712425</td>\n",
              "      <td>0.863576</td>\n",
              "    </tr>\n",
              "  </tbody>\n",
              "</table>\n",
              "</div>"
            ],
            "text/plain": [
              "                   C         D\n",
              "2013-01-01 -1.061015  0.055927\n",
              "2013-01-02  0.712425  0.863576"
            ]
          },
          "metadata": {
            "tags": []
          },
          "execution_count": 94
        }
      ]
    },
    {
      "metadata": {
        "id": "ZZkIj5OgDVlQ",
        "colab_type": "code",
        "outputId": "8a373af2-945b-47a6-e95b-bc428247fe08",
        "colab": {
          "base_uri": "https://localhost:8080/",
          "height": 35
        }
      },
      "cell_type": "code",
      "source": [
        "# Select one item\n",
        "df.iloc[1,1]"
      ],
      "execution_count": 95,
      "outputs": [
        {
          "output_type": "execute_result",
          "data": {
            "text/plain": [
              "0.655444204462161"
            ]
          },
          "metadata": {
            "tags": []
          },
          "execution_count": 95
        }
      ]
    },
    {
      "metadata": {
        "id": "BzzPWOs2DVlS",
        "colab_type": "text"
      },
      "cell_type": "markdown",
      "source": [
        "#### Selecting data by Boolean indexing"
      ]
    },
    {
      "metadata": {
        "id": "8qQDtuLNDVlS",
        "colab_type": "code",
        "outputId": "c248eeda-ee43-484f-a9d9-4408d1abbc6f",
        "colab": {
          "base_uri": "https://localhost:8080/",
          "height": 225
        }
      },
      "cell_type": "code",
      "source": [
        "df"
      ],
      "execution_count": 96,
      "outputs": [
        {
          "output_type": "execute_result",
          "data": {
            "text/html": [
              "<div>\n",
              "<style scoped>\n",
              "    .dataframe tbody tr th:only-of-type {\n",
              "        vertical-align: middle;\n",
              "    }\n",
              "\n",
              "    .dataframe tbody tr th {\n",
              "        vertical-align: top;\n",
              "    }\n",
              "\n",
              "    .dataframe thead th {\n",
              "        text-align: right;\n",
              "    }\n",
              "</style>\n",
              "<table border=\"1\" class=\"dataframe\">\n",
              "  <thead>\n",
              "    <tr style=\"text-align: right;\">\n",
              "      <th></th>\n",
              "      <th>A</th>\n",
              "      <th>B</th>\n",
              "      <th>C</th>\n",
              "      <th>D</th>\n",
              "    </tr>\n",
              "  </thead>\n",
              "  <tbody>\n",
              "    <tr>\n",
              "      <th>2013-01-01</th>\n",
              "      <td>0.828306</td>\n",
              "      <td>-1.210004</td>\n",
              "      <td>-1.061015</td>\n",
              "      <td>0.055927</td>\n",
              "    </tr>\n",
              "    <tr>\n",
              "      <th>2013-01-02</th>\n",
              "      <td>-0.544799</td>\n",
              "      <td>0.655444</td>\n",
              "      <td>0.712425</td>\n",
              "      <td>0.863576</td>\n",
              "    </tr>\n",
              "    <tr>\n",
              "      <th>2013-01-03</th>\n",
              "      <td>0.217715</td>\n",
              "      <td>-0.753202</td>\n",
              "      <td>-0.134670</td>\n",
              "      <td>2.582344</td>\n",
              "    </tr>\n",
              "    <tr>\n",
              "      <th>2013-01-04</th>\n",
              "      <td>-0.475458</td>\n",
              "      <td>0.841730</td>\n",
              "      <td>-1.821381</td>\n",
              "      <td>0.058715</td>\n",
              "    </tr>\n",
              "    <tr>\n",
              "      <th>2013-01-05</th>\n",
              "      <td>-0.300339</td>\n",
              "      <td>-0.930300</td>\n",
              "      <td>0.369425</td>\n",
              "      <td>-0.425397</td>\n",
              "    </tr>\n",
              "    <tr>\n",
              "      <th>2013-01-06</th>\n",
              "      <td>-0.347017</td>\n",
              "      <td>-0.793589</td>\n",
              "      <td>0.905843</td>\n",
              "      <td>1.089211</td>\n",
              "    </tr>\n",
              "  </tbody>\n",
              "</table>\n",
              "</div>"
            ],
            "text/plain": [
              "                   A         B         C         D\n",
              "2013-01-01  0.828306 -1.210004 -1.061015  0.055927\n",
              "2013-01-02 -0.544799  0.655444  0.712425  0.863576\n",
              "2013-01-03  0.217715 -0.753202 -0.134670  2.582344\n",
              "2013-01-04 -0.475458  0.841730 -1.821381  0.058715\n",
              "2013-01-05 -0.300339 -0.930300  0.369425 -0.425397\n",
              "2013-01-06 -0.347017 -0.793589  0.905843  1.089211"
            ]
          },
          "metadata": {
            "tags": []
          },
          "execution_count": 96
        }
      ]
    },
    {
      "metadata": {
        "id": "Ejr-UtbMDVlW",
        "colab_type": "code",
        "outputId": "a8ba8617-27ab-4ea3-abbc-d70e23230ea5",
        "colab": {
          "base_uri": "https://localhost:8080/",
          "height": 106
        }
      },
      "cell_type": "code",
      "source": [
        "df[df.A > 0] #A의 값이 0보다 큰 데이터"
      ],
      "execution_count": 97,
      "outputs": [
        {
          "output_type": "execute_result",
          "data": {
            "text/html": [
              "<div>\n",
              "<style scoped>\n",
              "    .dataframe tbody tr th:only-of-type {\n",
              "        vertical-align: middle;\n",
              "    }\n",
              "\n",
              "    .dataframe tbody tr th {\n",
              "        vertical-align: top;\n",
              "    }\n",
              "\n",
              "    .dataframe thead th {\n",
              "        text-align: right;\n",
              "    }\n",
              "</style>\n",
              "<table border=\"1\" class=\"dataframe\">\n",
              "  <thead>\n",
              "    <tr style=\"text-align: right;\">\n",
              "      <th></th>\n",
              "      <th>A</th>\n",
              "      <th>B</th>\n",
              "      <th>C</th>\n",
              "      <th>D</th>\n",
              "    </tr>\n",
              "  </thead>\n",
              "  <tbody>\n",
              "    <tr>\n",
              "      <th>2013-01-01</th>\n",
              "      <td>0.828306</td>\n",
              "      <td>-1.210004</td>\n",
              "      <td>-1.061015</td>\n",
              "      <td>0.055927</td>\n",
              "    </tr>\n",
              "    <tr>\n",
              "      <th>2013-01-03</th>\n",
              "      <td>0.217715</td>\n",
              "      <td>-0.753202</td>\n",
              "      <td>-0.134670</td>\n",
              "      <td>2.582344</td>\n",
              "    </tr>\n",
              "  </tbody>\n",
              "</table>\n",
              "</div>"
            ],
            "text/plain": [
              "                   A         B         C         D\n",
              "2013-01-01  0.828306 -1.210004 -1.061015  0.055927\n",
              "2013-01-03  0.217715 -0.753202 -0.134670  2.582344"
            ]
          },
          "metadata": {
            "tags": []
          },
          "execution_count": 97
        }
      ]
    },
    {
      "metadata": {
        "id": "ss4qW-ZuDVlZ",
        "colab_type": "code",
        "outputId": "d7da4b55-c3eb-402b-f398-139180f8948d",
        "colab": {
          "base_uri": "https://localhost:8080/",
          "height": 225
        }
      },
      "cell_type": "code",
      "source": [
        "df[df > 0] #값이 0보다 작으면 NaN or Na로 나타남"
      ],
      "execution_count": 98,
      "outputs": [
        {
          "output_type": "execute_result",
          "data": {
            "text/html": [
              "<div>\n",
              "<style scoped>\n",
              "    .dataframe tbody tr th:only-of-type {\n",
              "        vertical-align: middle;\n",
              "    }\n",
              "\n",
              "    .dataframe tbody tr th {\n",
              "        vertical-align: top;\n",
              "    }\n",
              "\n",
              "    .dataframe thead th {\n",
              "        text-align: right;\n",
              "    }\n",
              "</style>\n",
              "<table border=\"1\" class=\"dataframe\">\n",
              "  <thead>\n",
              "    <tr style=\"text-align: right;\">\n",
              "      <th></th>\n",
              "      <th>A</th>\n",
              "      <th>B</th>\n",
              "      <th>C</th>\n",
              "      <th>D</th>\n",
              "    </tr>\n",
              "  </thead>\n",
              "  <tbody>\n",
              "    <tr>\n",
              "      <th>2013-01-01</th>\n",
              "      <td>0.828306</td>\n",
              "      <td>NaN</td>\n",
              "      <td>NaN</td>\n",
              "      <td>0.055927</td>\n",
              "    </tr>\n",
              "    <tr>\n",
              "      <th>2013-01-02</th>\n",
              "      <td>NaN</td>\n",
              "      <td>0.655444</td>\n",
              "      <td>0.712425</td>\n",
              "      <td>0.863576</td>\n",
              "    </tr>\n",
              "    <tr>\n",
              "      <th>2013-01-03</th>\n",
              "      <td>0.217715</td>\n",
              "      <td>NaN</td>\n",
              "      <td>NaN</td>\n",
              "      <td>2.582344</td>\n",
              "    </tr>\n",
              "    <tr>\n",
              "      <th>2013-01-04</th>\n",
              "      <td>NaN</td>\n",
              "      <td>0.841730</td>\n",
              "      <td>NaN</td>\n",
              "      <td>0.058715</td>\n",
              "    </tr>\n",
              "    <tr>\n",
              "      <th>2013-01-05</th>\n",
              "      <td>NaN</td>\n",
              "      <td>NaN</td>\n",
              "      <td>0.369425</td>\n",
              "      <td>NaN</td>\n",
              "    </tr>\n",
              "    <tr>\n",
              "      <th>2013-01-06</th>\n",
              "      <td>NaN</td>\n",
              "      <td>NaN</td>\n",
              "      <td>0.905843</td>\n",
              "      <td>1.089211</td>\n",
              "    </tr>\n",
              "  </tbody>\n",
              "</table>\n",
              "</div>"
            ],
            "text/plain": [
              "                   A         B         C         D\n",
              "2013-01-01  0.828306       NaN       NaN  0.055927\n",
              "2013-01-02       NaN  0.655444  0.712425  0.863576\n",
              "2013-01-03  0.217715       NaN       NaN  2.582344\n",
              "2013-01-04       NaN  0.841730       NaN  0.058715\n",
              "2013-01-05       NaN       NaN  0.369425       NaN\n",
              "2013-01-06       NaN       NaN  0.905843  1.089211"
            ]
          },
          "metadata": {
            "tags": []
          },
          "execution_count": 98
        }
      ]
    },
    {
      "metadata": {
        "id": "bVId98rDDVld",
        "colab_type": "text"
      },
      "cell_type": "markdown",
      "source": [
        "### Setting (데이터 재구성 또는 확장)"
      ]
    },
    {
      "metadata": {
        "id": "A5Cw6jKFDVld",
        "colab_type": "code",
        "outputId": "68470c2a-8d07-4379-f4d8-335572a19412",
        "colab": {
          "base_uri": "https://localhost:8080/",
          "height": 146
        }
      },
      "cell_type": "code",
      "source": [
        "# Setting a new column automatically aligns the data by the indexes.\n",
        "s1 = pd.Series([1,2,3,4,5,6], index=pd.date_range('20130102', periods=6))\n",
        "s1"
      ],
      "execution_count": 99,
      "outputs": [
        {
          "output_type": "execute_result",
          "data": {
            "text/plain": [
              "2013-01-02    1\n",
              "2013-01-03    2\n",
              "2013-01-04    3\n",
              "2013-01-05    4\n",
              "2013-01-06    5\n",
              "2013-01-07    6\n",
              "Freq: D, dtype: int64"
            ]
          },
          "metadata": {
            "tags": []
          },
          "execution_count": 99
        }
      ]
    },
    {
      "metadata": {
        "id": "m2Q6mQRiDVlf",
        "colab_type": "code",
        "colab": {}
      },
      "cell_type": "code",
      "source": [
        "df['F'] = s1 #열 추가하고 값을 s1에서 가져옴"
      ],
      "execution_count": 0,
      "outputs": []
    },
    {
      "metadata": {
        "id": "1rMdEAfJDVli",
        "colab_type": "code",
        "outputId": "ea1026be-69d8-4ebf-9839-222c10f40268",
        "colab": {
          "base_uri": "https://localhost:8080/",
          "height": 225
        }
      },
      "cell_type": "code",
      "source": [
        "df  # 기존 df의 구조에 맞춰서 재구성됨."
      ],
      "execution_count": 101,
      "outputs": [
        {
          "output_type": "execute_result",
          "data": {
            "text/html": [
              "<div>\n",
              "<style scoped>\n",
              "    .dataframe tbody tr th:only-of-type {\n",
              "        vertical-align: middle;\n",
              "    }\n",
              "\n",
              "    .dataframe tbody tr th {\n",
              "        vertical-align: top;\n",
              "    }\n",
              "\n",
              "    .dataframe thead th {\n",
              "        text-align: right;\n",
              "    }\n",
              "</style>\n",
              "<table border=\"1\" class=\"dataframe\">\n",
              "  <thead>\n",
              "    <tr style=\"text-align: right;\">\n",
              "      <th></th>\n",
              "      <th>A</th>\n",
              "      <th>B</th>\n",
              "      <th>C</th>\n",
              "      <th>D</th>\n",
              "      <th>F</th>\n",
              "    </tr>\n",
              "  </thead>\n",
              "  <tbody>\n",
              "    <tr>\n",
              "      <th>2013-01-01</th>\n",
              "      <td>0.828306</td>\n",
              "      <td>-1.210004</td>\n",
              "      <td>-1.061015</td>\n",
              "      <td>0.055927</td>\n",
              "      <td>NaN</td>\n",
              "    </tr>\n",
              "    <tr>\n",
              "      <th>2013-01-02</th>\n",
              "      <td>-0.544799</td>\n",
              "      <td>0.655444</td>\n",
              "      <td>0.712425</td>\n",
              "      <td>0.863576</td>\n",
              "      <td>1.0</td>\n",
              "    </tr>\n",
              "    <tr>\n",
              "      <th>2013-01-03</th>\n",
              "      <td>0.217715</td>\n",
              "      <td>-0.753202</td>\n",
              "      <td>-0.134670</td>\n",
              "      <td>2.582344</td>\n",
              "      <td>2.0</td>\n",
              "    </tr>\n",
              "    <tr>\n",
              "      <th>2013-01-04</th>\n",
              "      <td>-0.475458</td>\n",
              "      <td>0.841730</td>\n",
              "      <td>-1.821381</td>\n",
              "      <td>0.058715</td>\n",
              "      <td>3.0</td>\n",
              "    </tr>\n",
              "    <tr>\n",
              "      <th>2013-01-05</th>\n",
              "      <td>-0.300339</td>\n",
              "      <td>-0.930300</td>\n",
              "      <td>0.369425</td>\n",
              "      <td>-0.425397</td>\n",
              "      <td>4.0</td>\n",
              "    </tr>\n",
              "    <tr>\n",
              "      <th>2013-01-06</th>\n",
              "      <td>-0.347017</td>\n",
              "      <td>-0.793589</td>\n",
              "      <td>0.905843</td>\n",
              "      <td>1.089211</td>\n",
              "      <td>5.0</td>\n",
              "    </tr>\n",
              "  </tbody>\n",
              "</table>\n",
              "</div>"
            ],
            "text/plain": [
              "                   A         B         C         D    F\n",
              "2013-01-01  0.828306 -1.210004 -1.061015  0.055927  NaN\n",
              "2013-01-02 -0.544799  0.655444  0.712425  0.863576  1.0\n",
              "2013-01-03  0.217715 -0.753202 -0.134670  2.582344  2.0\n",
              "2013-01-04 -0.475458  0.841730 -1.821381  0.058715  3.0\n",
              "2013-01-05 -0.300339 -0.930300  0.369425 -0.425397  4.0\n",
              "2013-01-06 -0.347017 -0.793589  0.905843  1.089211  5.0"
            ]
          },
          "metadata": {
            "tags": []
          },
          "execution_count": 101
        }
      ]
    },
    {
      "metadata": {
        "id": "eKcs8cuvDVlj",
        "colab_type": "code",
        "outputId": "e5bf6e14-4e35-470f-cecc-7fec83883cf8",
        "colab": {
          "base_uri": "https://localhost:8080/",
          "height": 225
        }
      },
      "cell_type": "code",
      "source": [
        "# Setting values by label:\n",
        "df.at[dates[0],'A'] = 0 #특정한 값 변경\n",
        "df"
      ],
      "execution_count": 102,
      "outputs": [
        {
          "output_type": "execute_result",
          "data": {
            "text/html": [
              "<div>\n",
              "<style scoped>\n",
              "    .dataframe tbody tr th:only-of-type {\n",
              "        vertical-align: middle;\n",
              "    }\n",
              "\n",
              "    .dataframe tbody tr th {\n",
              "        vertical-align: top;\n",
              "    }\n",
              "\n",
              "    .dataframe thead th {\n",
              "        text-align: right;\n",
              "    }\n",
              "</style>\n",
              "<table border=\"1\" class=\"dataframe\">\n",
              "  <thead>\n",
              "    <tr style=\"text-align: right;\">\n",
              "      <th></th>\n",
              "      <th>A</th>\n",
              "      <th>B</th>\n",
              "      <th>C</th>\n",
              "      <th>D</th>\n",
              "      <th>F</th>\n",
              "    </tr>\n",
              "  </thead>\n",
              "  <tbody>\n",
              "    <tr>\n",
              "      <th>2013-01-01</th>\n",
              "      <td>0.000000</td>\n",
              "      <td>-1.210004</td>\n",
              "      <td>-1.061015</td>\n",
              "      <td>0.055927</td>\n",
              "      <td>NaN</td>\n",
              "    </tr>\n",
              "    <tr>\n",
              "      <th>2013-01-02</th>\n",
              "      <td>-0.544799</td>\n",
              "      <td>0.655444</td>\n",
              "      <td>0.712425</td>\n",
              "      <td>0.863576</td>\n",
              "      <td>1.0</td>\n",
              "    </tr>\n",
              "    <tr>\n",
              "      <th>2013-01-03</th>\n",
              "      <td>0.217715</td>\n",
              "      <td>-0.753202</td>\n",
              "      <td>-0.134670</td>\n",
              "      <td>2.582344</td>\n",
              "      <td>2.0</td>\n",
              "    </tr>\n",
              "    <tr>\n",
              "      <th>2013-01-04</th>\n",
              "      <td>-0.475458</td>\n",
              "      <td>0.841730</td>\n",
              "      <td>-1.821381</td>\n",
              "      <td>0.058715</td>\n",
              "      <td>3.0</td>\n",
              "    </tr>\n",
              "    <tr>\n",
              "      <th>2013-01-05</th>\n",
              "      <td>-0.300339</td>\n",
              "      <td>-0.930300</td>\n",
              "      <td>0.369425</td>\n",
              "      <td>-0.425397</td>\n",
              "      <td>4.0</td>\n",
              "    </tr>\n",
              "    <tr>\n",
              "      <th>2013-01-06</th>\n",
              "      <td>-0.347017</td>\n",
              "      <td>-0.793589</td>\n",
              "      <td>0.905843</td>\n",
              "      <td>1.089211</td>\n",
              "      <td>5.0</td>\n",
              "    </tr>\n",
              "  </tbody>\n",
              "</table>\n",
              "</div>"
            ],
            "text/plain": [
              "                   A         B         C         D    F\n",
              "2013-01-01  0.000000 -1.210004 -1.061015  0.055927  NaN\n",
              "2013-01-02 -0.544799  0.655444  0.712425  0.863576  1.0\n",
              "2013-01-03  0.217715 -0.753202 -0.134670  2.582344  2.0\n",
              "2013-01-04 -0.475458  0.841730 -1.821381  0.058715  3.0\n",
              "2013-01-05 -0.300339 -0.930300  0.369425 -0.425397  4.0\n",
              "2013-01-06 -0.347017 -0.793589  0.905843  1.089211  5.0"
            ]
          },
          "metadata": {
            "tags": []
          },
          "execution_count": 102
        }
      ]
    },
    {
      "metadata": {
        "id": "qBf8MxYIDVll",
        "colab_type": "code",
        "outputId": "741dab6c-bf33-412a-bf00-42543f527e2a",
        "colab": {
          "base_uri": "https://localhost:8080/",
          "height": 225
        }
      },
      "cell_type": "code",
      "source": [
        "# Setting values by position (index):\n",
        "df.iat[0,1] = 0\n",
        "df"
      ],
      "execution_count": 103,
      "outputs": [
        {
          "output_type": "execute_result",
          "data": {
            "text/html": [
              "<div>\n",
              "<style scoped>\n",
              "    .dataframe tbody tr th:only-of-type {\n",
              "        vertical-align: middle;\n",
              "    }\n",
              "\n",
              "    .dataframe tbody tr th {\n",
              "        vertical-align: top;\n",
              "    }\n",
              "\n",
              "    .dataframe thead th {\n",
              "        text-align: right;\n",
              "    }\n",
              "</style>\n",
              "<table border=\"1\" class=\"dataframe\">\n",
              "  <thead>\n",
              "    <tr style=\"text-align: right;\">\n",
              "      <th></th>\n",
              "      <th>A</th>\n",
              "      <th>B</th>\n",
              "      <th>C</th>\n",
              "      <th>D</th>\n",
              "      <th>F</th>\n",
              "    </tr>\n",
              "  </thead>\n",
              "  <tbody>\n",
              "    <tr>\n",
              "      <th>2013-01-01</th>\n",
              "      <td>0.000000</td>\n",
              "      <td>0.000000</td>\n",
              "      <td>-1.061015</td>\n",
              "      <td>0.055927</td>\n",
              "      <td>NaN</td>\n",
              "    </tr>\n",
              "    <tr>\n",
              "      <th>2013-01-02</th>\n",
              "      <td>-0.544799</td>\n",
              "      <td>0.655444</td>\n",
              "      <td>0.712425</td>\n",
              "      <td>0.863576</td>\n",
              "      <td>1.0</td>\n",
              "    </tr>\n",
              "    <tr>\n",
              "      <th>2013-01-03</th>\n",
              "      <td>0.217715</td>\n",
              "      <td>-0.753202</td>\n",
              "      <td>-0.134670</td>\n",
              "      <td>2.582344</td>\n",
              "      <td>2.0</td>\n",
              "    </tr>\n",
              "    <tr>\n",
              "      <th>2013-01-04</th>\n",
              "      <td>-0.475458</td>\n",
              "      <td>0.841730</td>\n",
              "      <td>-1.821381</td>\n",
              "      <td>0.058715</td>\n",
              "      <td>3.0</td>\n",
              "    </tr>\n",
              "    <tr>\n",
              "      <th>2013-01-05</th>\n",
              "      <td>-0.300339</td>\n",
              "      <td>-0.930300</td>\n",
              "      <td>0.369425</td>\n",
              "      <td>-0.425397</td>\n",
              "      <td>4.0</td>\n",
              "    </tr>\n",
              "    <tr>\n",
              "      <th>2013-01-06</th>\n",
              "      <td>-0.347017</td>\n",
              "      <td>-0.793589</td>\n",
              "      <td>0.905843</td>\n",
              "      <td>1.089211</td>\n",
              "      <td>5.0</td>\n",
              "    </tr>\n",
              "  </tbody>\n",
              "</table>\n",
              "</div>"
            ],
            "text/plain": [
              "                   A         B         C         D    F\n",
              "2013-01-01  0.000000  0.000000 -1.061015  0.055927  NaN\n",
              "2013-01-02 -0.544799  0.655444  0.712425  0.863576  1.0\n",
              "2013-01-03  0.217715 -0.753202 -0.134670  2.582344  2.0\n",
              "2013-01-04 -0.475458  0.841730 -1.821381  0.058715  3.0\n",
              "2013-01-05 -0.300339 -0.930300  0.369425 -0.425397  4.0\n",
              "2013-01-06 -0.347017 -0.793589  0.905843  1.089211  5.0"
            ]
          },
          "metadata": {
            "tags": []
          },
          "execution_count": 103
        }
      ]
    },
    {
      "metadata": {
        "id": "oyKj13XaDVlp",
        "colab_type": "code",
        "outputId": "2ae9a07c-dca2-4a58-eb1a-c02faca1a2ae",
        "colab": {
          "base_uri": "https://localhost:8080/",
          "height": 225
        }
      },
      "cell_type": "code",
      "source": [
        "# Setting by assigning with a NumPy array:\n",
        "df.loc[:,'D'] = np.array([5] * len(df))\n",
        "#[5] 5라는 숫자 len(df) = 6 번 출력\n",
        "df"
      ],
      "execution_count": 106,
      "outputs": [
        {
          "output_type": "execute_result",
          "data": {
            "text/html": [
              "<div>\n",
              "<style scoped>\n",
              "    .dataframe tbody tr th:only-of-type {\n",
              "        vertical-align: middle;\n",
              "    }\n",
              "\n",
              "    .dataframe tbody tr th {\n",
              "        vertical-align: top;\n",
              "    }\n",
              "\n",
              "    .dataframe thead th {\n",
              "        text-align: right;\n",
              "    }\n",
              "</style>\n",
              "<table border=\"1\" class=\"dataframe\">\n",
              "  <thead>\n",
              "    <tr style=\"text-align: right;\">\n",
              "      <th></th>\n",
              "      <th>A</th>\n",
              "      <th>B</th>\n",
              "      <th>C</th>\n",
              "      <th>D</th>\n",
              "      <th>F</th>\n",
              "    </tr>\n",
              "  </thead>\n",
              "  <tbody>\n",
              "    <tr>\n",
              "      <th>2013-01-01</th>\n",
              "      <td>0.000000</td>\n",
              "      <td>0.000000</td>\n",
              "      <td>-1.061015</td>\n",
              "      <td>5</td>\n",
              "      <td>NaN</td>\n",
              "    </tr>\n",
              "    <tr>\n",
              "      <th>2013-01-02</th>\n",
              "      <td>-0.544799</td>\n",
              "      <td>0.655444</td>\n",
              "      <td>0.712425</td>\n",
              "      <td>5</td>\n",
              "      <td>1.0</td>\n",
              "    </tr>\n",
              "    <tr>\n",
              "      <th>2013-01-03</th>\n",
              "      <td>0.217715</td>\n",
              "      <td>-0.753202</td>\n",
              "      <td>-0.134670</td>\n",
              "      <td>5</td>\n",
              "      <td>2.0</td>\n",
              "    </tr>\n",
              "    <tr>\n",
              "      <th>2013-01-04</th>\n",
              "      <td>-0.475458</td>\n",
              "      <td>0.841730</td>\n",
              "      <td>-1.821381</td>\n",
              "      <td>5</td>\n",
              "      <td>3.0</td>\n",
              "    </tr>\n",
              "    <tr>\n",
              "      <th>2013-01-05</th>\n",
              "      <td>-0.300339</td>\n",
              "      <td>-0.930300</td>\n",
              "      <td>0.369425</td>\n",
              "      <td>5</td>\n",
              "      <td>4.0</td>\n",
              "    </tr>\n",
              "    <tr>\n",
              "      <th>2013-01-06</th>\n",
              "      <td>-0.347017</td>\n",
              "      <td>-0.793589</td>\n",
              "      <td>0.905843</td>\n",
              "      <td>5</td>\n",
              "      <td>5.0</td>\n",
              "    </tr>\n",
              "  </tbody>\n",
              "</table>\n",
              "</div>"
            ],
            "text/plain": [
              "                   A         B         C  D    F\n",
              "2013-01-01  0.000000  0.000000 -1.061015  5  NaN\n",
              "2013-01-02 -0.544799  0.655444  0.712425  5  1.0\n",
              "2013-01-03  0.217715 -0.753202 -0.134670  5  2.0\n",
              "2013-01-04 -0.475458  0.841730 -1.821381  5  3.0\n",
              "2013-01-05 -0.300339 -0.930300  0.369425  5  4.0\n",
              "2013-01-06 -0.347017 -0.793589  0.905843  5  5.0"
            ]
          },
          "metadata": {
            "tags": []
          },
          "execution_count": 106
        }
      ]
    },
    {
      "metadata": {
        "id": "_MbACFzTF_fI",
        "colab_type": "code",
        "colab": {
          "base_uri": "https://localhost:8080/",
          "height": 35
        },
        "outputId": "f2f39c88-2b2f-4508-ab37-5e31bdddefd4"
      },
      "cell_type": "code",
      "source": [
        "[5]*len(df)"
      ],
      "execution_count": 107,
      "outputs": [
        {
          "output_type": "execute_result",
          "data": {
            "text/plain": [
              "[5, 5, 5, 5, 5, 5]"
            ]
          },
          "metadata": {
            "tags": []
          },
          "execution_count": 107
        }
      ]
    },
    {
      "metadata": {
        "id": "AFISpoxNDVlq",
        "colab_type": "text"
      },
      "cell_type": "markdown",
      "source": [
        "### Missing data\n",
        "\n",
        "- pandas primarily uses the value np.nan to represent missing data. "
      ]
    },
    {
      "metadata": {
        "id": "z8YD2KYUDVlr",
        "colab_type": "code",
        "outputId": "0f9ce28c-b6d8-48fd-a155-02733f6dd756",
        "colab": {
          "base_uri": "https://localhost:8080/",
          "height": 166
        }
      },
      "cell_type": "code",
      "source": [
        "# Reindexing allows you to change/add/delete the index on a specified axis.\n",
        "df1 = df.reindex(index=dates[0:4], columns=list(df.columns) + ['E'])\n",
        "#reindex => index 재설정하기\n",
        "df1 #E의 값을 할당하지 않아서 값이 없다고 나타나는 것임"
      ],
      "execution_count": 111,
      "outputs": [
        {
          "output_type": "execute_result",
          "data": {
            "text/html": [
              "<div>\n",
              "<style scoped>\n",
              "    .dataframe tbody tr th:only-of-type {\n",
              "        vertical-align: middle;\n",
              "    }\n",
              "\n",
              "    .dataframe tbody tr th {\n",
              "        vertical-align: top;\n",
              "    }\n",
              "\n",
              "    .dataframe thead th {\n",
              "        text-align: right;\n",
              "    }\n",
              "</style>\n",
              "<table border=\"1\" class=\"dataframe\">\n",
              "  <thead>\n",
              "    <tr style=\"text-align: right;\">\n",
              "      <th></th>\n",
              "      <th>A</th>\n",
              "      <th>B</th>\n",
              "      <th>C</th>\n",
              "      <th>D</th>\n",
              "      <th>F</th>\n",
              "      <th>E</th>\n",
              "    </tr>\n",
              "  </thead>\n",
              "  <tbody>\n",
              "    <tr>\n",
              "      <th>2013-01-01</th>\n",
              "      <td>0.000000</td>\n",
              "      <td>0.000000</td>\n",
              "      <td>-1.061015</td>\n",
              "      <td>5</td>\n",
              "      <td>NaN</td>\n",
              "      <td>NaN</td>\n",
              "    </tr>\n",
              "    <tr>\n",
              "      <th>2013-01-02</th>\n",
              "      <td>-0.544799</td>\n",
              "      <td>0.655444</td>\n",
              "      <td>0.712425</td>\n",
              "      <td>5</td>\n",
              "      <td>1.0</td>\n",
              "      <td>NaN</td>\n",
              "    </tr>\n",
              "    <tr>\n",
              "      <th>2013-01-03</th>\n",
              "      <td>0.217715</td>\n",
              "      <td>-0.753202</td>\n",
              "      <td>-0.134670</td>\n",
              "      <td>5</td>\n",
              "      <td>2.0</td>\n",
              "      <td>NaN</td>\n",
              "    </tr>\n",
              "    <tr>\n",
              "      <th>2013-01-04</th>\n",
              "      <td>-0.475458</td>\n",
              "      <td>0.841730</td>\n",
              "      <td>-1.821381</td>\n",
              "      <td>5</td>\n",
              "      <td>3.0</td>\n",
              "      <td>NaN</td>\n",
              "    </tr>\n",
              "  </tbody>\n",
              "</table>\n",
              "</div>"
            ],
            "text/plain": [
              "                   A         B         C  D    F   E\n",
              "2013-01-01  0.000000  0.000000 -1.061015  5  NaN NaN\n",
              "2013-01-02 -0.544799  0.655444  0.712425  5  1.0 NaN\n",
              "2013-01-03  0.217715 -0.753202 -0.134670  5  2.0 NaN\n",
              "2013-01-04 -0.475458  0.841730 -1.821381  5  3.0 NaN"
            ]
          },
          "metadata": {
            "tags": []
          },
          "execution_count": 111
        }
      ]
    },
    {
      "metadata": {
        "id": "np18tTXcDVlt",
        "colab_type": "code",
        "outputId": "1b6c09fe-11ec-4962-9430-4497a89104ac",
        "colab": {
          "base_uri": "https://localhost:8080/",
          "height": 166
        }
      },
      "cell_type": "code",
      "source": [
        "df1.loc[dates[0]:dates[1],'E'] = 1\n",
        "df1 #E 열의 첫째날 둘째날 값을 1로 넣는다"
      ],
      "execution_count": 112,
      "outputs": [
        {
          "output_type": "execute_result",
          "data": {
            "text/html": [
              "<div>\n",
              "<style scoped>\n",
              "    .dataframe tbody tr th:only-of-type {\n",
              "        vertical-align: middle;\n",
              "    }\n",
              "\n",
              "    .dataframe tbody tr th {\n",
              "        vertical-align: top;\n",
              "    }\n",
              "\n",
              "    .dataframe thead th {\n",
              "        text-align: right;\n",
              "    }\n",
              "</style>\n",
              "<table border=\"1\" class=\"dataframe\">\n",
              "  <thead>\n",
              "    <tr style=\"text-align: right;\">\n",
              "      <th></th>\n",
              "      <th>A</th>\n",
              "      <th>B</th>\n",
              "      <th>C</th>\n",
              "      <th>D</th>\n",
              "      <th>F</th>\n",
              "      <th>E</th>\n",
              "    </tr>\n",
              "  </thead>\n",
              "  <tbody>\n",
              "    <tr>\n",
              "      <th>2013-01-01</th>\n",
              "      <td>0.000000</td>\n",
              "      <td>0.000000</td>\n",
              "      <td>-1.061015</td>\n",
              "      <td>5</td>\n",
              "      <td>NaN</td>\n",
              "      <td>1.0</td>\n",
              "    </tr>\n",
              "    <tr>\n",
              "      <th>2013-01-02</th>\n",
              "      <td>-0.544799</td>\n",
              "      <td>0.655444</td>\n",
              "      <td>0.712425</td>\n",
              "      <td>5</td>\n",
              "      <td>1.0</td>\n",
              "      <td>1.0</td>\n",
              "    </tr>\n",
              "    <tr>\n",
              "      <th>2013-01-03</th>\n",
              "      <td>0.217715</td>\n",
              "      <td>-0.753202</td>\n",
              "      <td>-0.134670</td>\n",
              "      <td>5</td>\n",
              "      <td>2.0</td>\n",
              "      <td>NaN</td>\n",
              "    </tr>\n",
              "    <tr>\n",
              "      <th>2013-01-04</th>\n",
              "      <td>-0.475458</td>\n",
              "      <td>0.841730</td>\n",
              "      <td>-1.821381</td>\n",
              "      <td>5</td>\n",
              "      <td>3.0</td>\n",
              "      <td>NaN</td>\n",
              "    </tr>\n",
              "  </tbody>\n",
              "</table>\n",
              "</div>"
            ],
            "text/plain": [
              "                   A         B         C  D    F    E\n",
              "2013-01-01  0.000000  0.000000 -1.061015  5  NaN  1.0\n",
              "2013-01-02 -0.544799  0.655444  0.712425  5  1.0  1.0\n",
              "2013-01-03  0.217715 -0.753202 -0.134670  5  2.0  NaN\n",
              "2013-01-04 -0.475458  0.841730 -1.821381  5  3.0  NaN"
            ]
          },
          "metadata": {
            "tags": []
          },
          "execution_count": 112
        }
      ]
    },
    {
      "metadata": {
        "id": "AdBxQ-RCDVlv",
        "colab_type": "code",
        "outputId": "4a9b7ba0-27fc-4454-e13b-195ad40e44ad",
        "colab": {
          "base_uri": "https://localhost:8080/",
          "height": 77
        }
      },
      "cell_type": "code",
      "source": [
        "# To drop any rows that have missing data.\n",
        "df1.dropna(how='any') #숫자가 아닌 것들은 모두 없애라"
      ],
      "execution_count": 113,
      "outputs": [
        {
          "output_type": "execute_result",
          "data": {
            "text/html": [
              "<div>\n",
              "<style scoped>\n",
              "    .dataframe tbody tr th:only-of-type {\n",
              "        vertical-align: middle;\n",
              "    }\n",
              "\n",
              "    .dataframe tbody tr th {\n",
              "        vertical-align: top;\n",
              "    }\n",
              "\n",
              "    .dataframe thead th {\n",
              "        text-align: right;\n",
              "    }\n",
              "</style>\n",
              "<table border=\"1\" class=\"dataframe\">\n",
              "  <thead>\n",
              "    <tr style=\"text-align: right;\">\n",
              "      <th></th>\n",
              "      <th>A</th>\n",
              "      <th>B</th>\n",
              "      <th>C</th>\n",
              "      <th>D</th>\n",
              "      <th>F</th>\n",
              "      <th>E</th>\n",
              "    </tr>\n",
              "  </thead>\n",
              "  <tbody>\n",
              "    <tr>\n",
              "      <th>2013-01-02</th>\n",
              "      <td>-0.544799</td>\n",
              "      <td>0.655444</td>\n",
              "      <td>0.712425</td>\n",
              "      <td>5</td>\n",
              "      <td>1.0</td>\n",
              "      <td>1.0</td>\n",
              "    </tr>\n",
              "  </tbody>\n",
              "</table>\n",
              "</div>"
            ],
            "text/plain": [
              "                   A         B         C  D    F    E\n",
              "2013-01-02 -0.544799  0.655444  0.712425  5  1.0  1.0"
            ]
          },
          "metadata": {
            "tags": []
          },
          "execution_count": 113
        }
      ]
    },
    {
      "metadata": {
        "id": "VMwPU-BGDVlx",
        "colab_type": "code",
        "outputId": "bfd3ce98-3132-42e6-bb94-6c257618e962",
        "colab": {
          "base_uri": "https://localhost:8080/",
          "height": 166
        }
      },
      "cell_type": "code",
      "source": [
        "# Filling missing data.\n",
        "df1.fillna(value=5) #값이 없는 NaN에 5라는 값으로 대체"
      ],
      "execution_count": 114,
      "outputs": [
        {
          "output_type": "execute_result",
          "data": {
            "text/html": [
              "<div>\n",
              "<style scoped>\n",
              "    .dataframe tbody tr th:only-of-type {\n",
              "        vertical-align: middle;\n",
              "    }\n",
              "\n",
              "    .dataframe tbody tr th {\n",
              "        vertical-align: top;\n",
              "    }\n",
              "\n",
              "    .dataframe thead th {\n",
              "        text-align: right;\n",
              "    }\n",
              "</style>\n",
              "<table border=\"1\" class=\"dataframe\">\n",
              "  <thead>\n",
              "    <tr style=\"text-align: right;\">\n",
              "      <th></th>\n",
              "      <th>A</th>\n",
              "      <th>B</th>\n",
              "      <th>C</th>\n",
              "      <th>D</th>\n",
              "      <th>F</th>\n",
              "      <th>E</th>\n",
              "    </tr>\n",
              "  </thead>\n",
              "  <tbody>\n",
              "    <tr>\n",
              "      <th>2013-01-01</th>\n",
              "      <td>0.000000</td>\n",
              "      <td>0.000000</td>\n",
              "      <td>-1.061015</td>\n",
              "      <td>5</td>\n",
              "      <td>5.0</td>\n",
              "      <td>1.0</td>\n",
              "    </tr>\n",
              "    <tr>\n",
              "      <th>2013-01-02</th>\n",
              "      <td>-0.544799</td>\n",
              "      <td>0.655444</td>\n",
              "      <td>0.712425</td>\n",
              "      <td>5</td>\n",
              "      <td>1.0</td>\n",
              "      <td>1.0</td>\n",
              "    </tr>\n",
              "    <tr>\n",
              "      <th>2013-01-03</th>\n",
              "      <td>0.217715</td>\n",
              "      <td>-0.753202</td>\n",
              "      <td>-0.134670</td>\n",
              "      <td>5</td>\n",
              "      <td>2.0</td>\n",
              "      <td>5.0</td>\n",
              "    </tr>\n",
              "    <tr>\n",
              "      <th>2013-01-04</th>\n",
              "      <td>-0.475458</td>\n",
              "      <td>0.841730</td>\n",
              "      <td>-1.821381</td>\n",
              "      <td>5</td>\n",
              "      <td>3.0</td>\n",
              "      <td>5.0</td>\n",
              "    </tr>\n",
              "  </tbody>\n",
              "</table>\n",
              "</div>"
            ],
            "text/plain": [
              "                   A         B         C  D    F    E\n",
              "2013-01-01  0.000000  0.000000 -1.061015  5  5.0  1.0\n",
              "2013-01-02 -0.544799  0.655444  0.712425  5  1.0  1.0\n",
              "2013-01-03  0.217715 -0.753202 -0.134670  5  2.0  5.0\n",
              "2013-01-04 -0.475458  0.841730 -1.821381  5  3.0  5.0"
            ]
          },
          "metadata": {
            "tags": []
          },
          "execution_count": 114
        }
      ]
    },
    {
      "metadata": {
        "id": "Sfs5KByDDVlz",
        "colab_type": "code",
        "outputId": "78837ae6-33c9-450f-a70e-d56f4811e767",
        "colab": {
          "base_uri": "https://localhost:8080/",
          "height": 166
        }
      },
      "cell_type": "code",
      "source": [
        "# Get the boolean mask where values are nan.\n",
        "pd.isna(df1) #누락된 값 감지"
      ],
      "execution_count": 116,
      "outputs": [
        {
          "output_type": "execute_result",
          "data": {
            "text/html": [
              "<div>\n",
              "<style scoped>\n",
              "    .dataframe tbody tr th:only-of-type {\n",
              "        vertical-align: middle;\n",
              "    }\n",
              "\n",
              "    .dataframe tbody tr th {\n",
              "        vertical-align: top;\n",
              "    }\n",
              "\n",
              "    .dataframe thead th {\n",
              "        text-align: right;\n",
              "    }\n",
              "</style>\n",
              "<table border=\"1\" class=\"dataframe\">\n",
              "  <thead>\n",
              "    <tr style=\"text-align: right;\">\n",
              "      <th></th>\n",
              "      <th>A</th>\n",
              "      <th>B</th>\n",
              "      <th>C</th>\n",
              "      <th>D</th>\n",
              "      <th>F</th>\n",
              "      <th>E</th>\n",
              "    </tr>\n",
              "  </thead>\n",
              "  <tbody>\n",
              "    <tr>\n",
              "      <th>2013-01-01</th>\n",
              "      <td>False</td>\n",
              "      <td>False</td>\n",
              "      <td>False</td>\n",
              "      <td>False</td>\n",
              "      <td>True</td>\n",
              "      <td>False</td>\n",
              "    </tr>\n",
              "    <tr>\n",
              "      <th>2013-01-02</th>\n",
              "      <td>False</td>\n",
              "      <td>False</td>\n",
              "      <td>False</td>\n",
              "      <td>False</td>\n",
              "      <td>False</td>\n",
              "      <td>False</td>\n",
              "    </tr>\n",
              "    <tr>\n",
              "      <th>2013-01-03</th>\n",
              "      <td>False</td>\n",
              "      <td>False</td>\n",
              "      <td>False</td>\n",
              "      <td>False</td>\n",
              "      <td>False</td>\n",
              "      <td>True</td>\n",
              "    </tr>\n",
              "    <tr>\n",
              "      <th>2013-01-04</th>\n",
              "      <td>False</td>\n",
              "      <td>False</td>\n",
              "      <td>False</td>\n",
              "      <td>False</td>\n",
              "      <td>False</td>\n",
              "      <td>True</td>\n",
              "    </tr>\n",
              "  </tbody>\n",
              "</table>\n",
              "</div>"
            ],
            "text/plain": [
              "                A      B      C      D      F      E\n",
              "2013-01-01  False  False  False  False   True  False\n",
              "2013-01-02  False  False  False  False  False  False\n",
              "2013-01-03  False  False  False  False  False   True\n",
              "2013-01-04  False  False  False  False  False   True"
            ]
          },
          "metadata": {
            "tags": []
          },
          "execution_count": 116
        }
      ]
    },
    {
      "metadata": {
        "id": "FpWdom-RDVl0",
        "colab_type": "text"
      },
      "cell_type": "markdown",
      "source": [
        "### Stats"
      ]
    },
    {
      "metadata": {
        "id": "0K4DtT00DVl0",
        "colab_type": "code",
        "outputId": "ce3b2f72-a1cf-4d5e-867b-e9e289b437a9",
        "colab": {
          "base_uri": "https://localhost:8080/",
          "height": 225
        }
      },
      "cell_type": "code",
      "source": [
        "df"
      ],
      "execution_count": 117,
      "outputs": [
        {
          "output_type": "execute_result",
          "data": {
            "text/html": [
              "<div>\n",
              "<style scoped>\n",
              "    .dataframe tbody tr th:only-of-type {\n",
              "        vertical-align: middle;\n",
              "    }\n",
              "\n",
              "    .dataframe tbody tr th {\n",
              "        vertical-align: top;\n",
              "    }\n",
              "\n",
              "    .dataframe thead th {\n",
              "        text-align: right;\n",
              "    }\n",
              "</style>\n",
              "<table border=\"1\" class=\"dataframe\">\n",
              "  <thead>\n",
              "    <tr style=\"text-align: right;\">\n",
              "      <th></th>\n",
              "      <th>A</th>\n",
              "      <th>B</th>\n",
              "      <th>C</th>\n",
              "      <th>D</th>\n",
              "      <th>F</th>\n",
              "    </tr>\n",
              "  </thead>\n",
              "  <tbody>\n",
              "    <tr>\n",
              "      <th>2013-01-01</th>\n",
              "      <td>0.000000</td>\n",
              "      <td>0.000000</td>\n",
              "      <td>-1.061015</td>\n",
              "      <td>5</td>\n",
              "      <td>NaN</td>\n",
              "    </tr>\n",
              "    <tr>\n",
              "      <th>2013-01-02</th>\n",
              "      <td>-0.544799</td>\n",
              "      <td>0.655444</td>\n",
              "      <td>0.712425</td>\n",
              "      <td>5</td>\n",
              "      <td>1.0</td>\n",
              "    </tr>\n",
              "    <tr>\n",
              "      <th>2013-01-03</th>\n",
              "      <td>0.217715</td>\n",
              "      <td>-0.753202</td>\n",
              "      <td>-0.134670</td>\n",
              "      <td>5</td>\n",
              "      <td>2.0</td>\n",
              "    </tr>\n",
              "    <tr>\n",
              "      <th>2013-01-04</th>\n",
              "      <td>-0.475458</td>\n",
              "      <td>0.841730</td>\n",
              "      <td>-1.821381</td>\n",
              "      <td>5</td>\n",
              "      <td>3.0</td>\n",
              "    </tr>\n",
              "    <tr>\n",
              "      <th>2013-01-05</th>\n",
              "      <td>-0.300339</td>\n",
              "      <td>-0.930300</td>\n",
              "      <td>0.369425</td>\n",
              "      <td>5</td>\n",
              "      <td>4.0</td>\n",
              "    </tr>\n",
              "    <tr>\n",
              "      <th>2013-01-06</th>\n",
              "      <td>-0.347017</td>\n",
              "      <td>-0.793589</td>\n",
              "      <td>0.905843</td>\n",
              "      <td>5</td>\n",
              "      <td>5.0</td>\n",
              "    </tr>\n",
              "  </tbody>\n",
              "</table>\n",
              "</div>"
            ],
            "text/plain": [
              "                   A         B         C  D    F\n",
              "2013-01-01  0.000000  0.000000 -1.061015  5  NaN\n",
              "2013-01-02 -0.544799  0.655444  0.712425  5  1.0\n",
              "2013-01-03  0.217715 -0.753202 -0.134670  5  2.0\n",
              "2013-01-04 -0.475458  0.841730 -1.821381  5  3.0\n",
              "2013-01-05 -0.300339 -0.930300  0.369425  5  4.0\n",
              "2013-01-06 -0.347017 -0.793589  0.905843  5  5.0"
            ]
          },
          "metadata": {
            "tags": []
          },
          "execution_count": 117
        }
      ]
    },
    {
      "metadata": {
        "id": "rdF0ehfIDVl1",
        "colab_type": "code",
        "outputId": "58b6f988-d35e-4550-e7eb-ce3999120091",
        "colab": {
          "base_uri": "https://localhost:8080/",
          "height": 127
        }
      },
      "cell_type": "code",
      "source": [
        "df.mean() #열의 평균을 얻을 수 있다."
      ],
      "execution_count": 118,
      "outputs": [
        {
          "output_type": "execute_result",
          "data": {
            "text/plain": [
              "A   -0.241650\n",
              "B   -0.163319\n",
              "C   -0.171562\n",
              "D    5.000000\n",
              "F    3.000000\n",
              "dtype: float64"
            ]
          },
          "metadata": {
            "tags": []
          },
          "execution_count": 118
        }
      ]
    },
    {
      "metadata": {
        "id": "LKK4mLzjDVl3",
        "colab_type": "code",
        "outputId": "df01fc6c-6fe7-4c2f-9dfa-037824ea4795",
        "colab": {
          "base_uri": "https://localhost:8080/",
          "height": 127
        }
      },
      "cell_type": "code",
      "source": [
        "df.mean(0)"
      ],
      "execution_count": 119,
      "outputs": [
        {
          "output_type": "execute_result",
          "data": {
            "text/plain": [
              "A   -0.241650\n",
              "B   -0.163319\n",
              "C   -0.171562\n",
              "D    5.000000\n",
              "F    3.000000\n",
              "dtype: float64"
            ]
          },
          "metadata": {
            "tags": []
          },
          "execution_count": 119
        }
      ]
    },
    {
      "metadata": {
        "id": "ceFnY1HbDVl5",
        "colab_type": "code",
        "outputId": "e946a887-45d0-4194-b330-9c8e5c611034",
        "colab": {
          "base_uri": "https://localhost:8080/",
          "height": 146
        }
      },
      "cell_type": "code",
      "source": [
        "df.mean(1) #가로로 평균"
      ],
      "execution_count": 120,
      "outputs": [
        {
          "output_type": "execute_result",
          "data": {
            "text/plain": [
              "2013-01-01    0.984746\n",
              "2013-01-02    1.364614\n",
              "2013-01-03    1.265969\n",
              "2013-01-04    1.308978\n",
              "2013-01-05    1.627757\n",
              "2013-01-06    1.953047\n",
              "Freq: D, dtype: float64"
            ]
          },
          "metadata": {
            "tags": []
          },
          "execution_count": 120
        }
      ]
    },
    {
      "metadata": {
        "id": "koBzQEnlDVl6",
        "colab_type": "text"
      },
      "cell_type": "markdown",
      "source": [
        "***"
      ]
    },
    {
      "metadata": {
        "id": "p4u6pGCeDVl6",
        "colab_type": "text"
      },
      "cell_type": "markdown",
      "source": [
        "# Chapter 12-03\n",
        "## matplotlib을 사용한다"
      ]
    },
    {
      "metadata": {
        "id": "I7wB5FqgDVl7",
        "colab_type": "text"
      },
      "cell_type": "markdown",
      "source": [
        "### plot( )로 그래프를 그린다"
      ]
    },
    {
      "metadata": {
        "id": "fF4PKxLHDVl7",
        "colab_type": "code",
        "outputId": "ac123bbf-418d-418a-8f07-72ad4ea0257e",
        "colab": {
          "base_uri": "https://localhost:8080/",
          "height": 265
        }
      },
      "cell_type": "code",
      "source": [
        "# sin그래프를 그린다\n",
        "%matplotlib inline\n",
        "import numpy as np\n",
        "import matplotlib.pyplot as plt\n",
        "\n",
        "s = np.sin(np.pi*np.arange(0.0, 2.0, 0.01)) #np.pi 원주율(?\n",
        "t = plt.plot(s)    # sin의 그래프를 그림 \n",
        "# x축이 데이터 인덱스"
      ],
      "execution_count": 121,
      "outputs": [
        {
          "output_type": "display_data",
          "data": {
            "image/png": "[encoded data removed]",
            "text/plain": [
              "<matplotlib.figure.Figure at 0x7fd5ed55c588>"
            ]
          },
          "metadata": {
            "tags": []
          }
        }
      ]
    },
    {
      "metadata": {
        "id": "T2duo1stDVl9",
        "colab_type": "code",
        "outputId": "307efa9b-c7d7-4cf4-f46d-6a697e45d17a",
        "colab": {
          "base_uri": "https://localhost:8080/",
          "height": 283
        }
      },
      "cell_type": "code",
      "source": [
        "plt.plot(np.arange(0.0, 2.0, 0.01),s)"
      ],
      "execution_count": 122,
      "outputs": [
        {
          "output_type": "execute_result",
          "data": {
            "text/plain": [
              "[<matplotlib.lines.Line2D at 0x7fd5eaba26d8>]"
            ]
          },
          "metadata": {
            "tags": []
          },
          "execution_count": 122
        },
        {
          "output_type": "display_data",
          "data": {
            "image/png": "[encoded data removed]",
            "text/plain": [
              "<matplotlib.figure.Figure at 0x7fd5ed507d30>"
            ]
          },
          "metadata": {
            "tags": []
          }
        }
      ]
    },
    {
      "metadata": {
        "id": "Mz_EaJDaDVl-",
        "colab_type": "code",
        "outputId": "05e81855-491f-4fac-9f34-3aa028c95af6",
        "colab": {
          "base_uri": "https://localhost:8080/",
          "height": 265
        }
      },
      "cell_type": "code",
      "source": [
        "# 산포도(scatter plot)를 그린다\n",
        "# 인수 마커를 사용하여 산포도를 작성\n",
        "x = np.random.randn(5000)    # 표준 정규 분포에 따라 난수 생성\n",
        "y = np.random.randn(5000)\n",
        "t = plt.plot(x, y, 'o', alpha=0.1)\n",
        "#점의 모양 o"
      ],
      "execution_count": 123,
      "outputs": [
        {
          "output_type": "display_data",
          "data": {
            "image/png": "[encoded data removed]",
            "text/plain": [
              "<matplotlib.figure.Figure at 0x7fd5ed4f9e10>"
            ]
          },
          "metadata": {
            "tags": []
          }
        }
      ]
    },
    {
      "metadata": {
        "id": "MElI7jFWDVmA",
        "colab_type": "code",
        "outputId": "277efbc2-624b-4e17-8742-36c82852f7be",
        "colab": {
          "base_uri": "https://localhost:8080/",
          "height": 340
        }
      },
      "cell_type": "code",
      "source": [
        "# 그래프를 중복해 그림\n",
        "x = np.array([1.628, 3.363, 5.145, 7.683, 9.855])\n",
        "y = np.array([1.257, 3.672, 5.841, 7.951, 9.775])\n",
        "# 최소 자승법(least square method)으로 데이터를 근사하는 직선을 구함\n",
        "a = np.array([x, np.ones(x.size)])\n",
        "a = a.T\n",
        "m, c = np.linalg.lstsq(a, y)[0]\n",
        "t = plt.plot(x, y, 'o', ms=12)   # 데이터를 그림\n",
        "t = plt.plot(x, (m*x+c))  # 근사직선을 그림, m:기울기,c:bias(절편)"
      ],
      "execution_count": 124,
      "outputs": [
        {
          "output_type": "stream",
          "text": [
            "/usr/local/lib/python3.6/dist-packages/ipykernel_launcher.py:6: FutureWarning: `rcond` parameter will change to the default of machine precision times ``max(M, N)`` where M and N are the input matrix dimensions.\n",
            "To use the future default and silence this warning we advise to pass `rcond=None`, to keep using the old, explicitly pass `rcond=-1`.\n",
            "  \n"
          ],
          "name": "stderr"
        },
        {
          "output_type": "display_data",
          "data": {
            "image/png": "[encoded data removed]",
            "text/plain": [
              "<matplotlib.figure.Figure at 0x7fd5eab3e5f8>"
            ]
          },
          "metadata": {
            "tags": []
          }
        }
      ]
    },
    {
      "metadata": {
        "id": "6lNjAhXzDVmB",
        "colab_type": "text"
      },
      "cell_type": "markdown",
      "source": [
        "### plot( )로 그림을 제어"
      ]
    },
    {
      "metadata": {
        "id": "gkF5K5mGDVmC",
        "colab_type": "code",
        "outputId": "51ca0464-3e4d-4ef4-c4f2-20ad6f554391",
        "colab": {
          "base_uri": "https://localhost:8080/",
          "height": 265
        }
      },
      "cell_type": "code",
      "source": [
        "# 선 스타일 변경\n",
        "s = np.sin(np.pi*np.arange(0.0, 2.0, 0.01))\n",
        "t = plt.plot(s, linestyle='--', linewidth=4) #스타일, 두께"
      ],
      "execution_count": 125,
      "outputs": [
        {
          "output_type": "display_data",
          "data": {
            "image/png": "[encoded data removed]",
            "text/plain": [
              "<matplotlib.figure.Figure at 0x7fd5eab21c18>"
            ]
          },
          "metadata": {
            "tags": []
          }
        }
      ]
    },
    {
      "metadata": {
        "id": "no2207jeDVmD",
        "colab_type": "text"
      },
      "cell_type": "markdown",
      "source": [
        "### 문자를 삽입한다"
      ]
    },
    {
      "metadata": {
        "id": "TtKkk57mDVmD",
        "colab_type": "code",
        "colab": {}
      },
      "cell_type": "code",
      "source": [
        "# 표시용 폰트 지정\n",
        "import matplotlib.pyplot as plt\n",
        "# plt.rcParams['font.family'] = 'AppleGothic'"
      ],
      "execution_count": 0,
      "outputs": []
    },
    {
      "metadata": {
        "id": "KABj2sr-DVmE",
        "colab_type": "code",
        "colab": {}
      },
      "cell_type": "code",
      "source": [
        "# 시스템에서 사용 가능한 글꼴 목록을 표시\n",
        "import matplotlib.font_manager as fm\n",
        "fontsfamily = fm.findSystemFonts()"
      ],
      "execution_count": 0,
      "outputs": []
    },
    {
      "metadata": {
        "id": "y7xkVG8BDVmF",
        "colab_type": "code",
        "outputId": "59f5cce9-b243-4038-af3a-fa4e8929bbd6",
        "colab": {
          "base_uri": "https://localhost:8080/",
          "height": 109
        }
      },
      "cell_type": "code",
      "source": [
        "fontsfamily[:5]"
      ],
      "execution_count": 128,
      "outputs": [
        {
          "output_type": "execute_result",
          "data": {
            "text/plain": [
              "['/usr/share/fonts/truetype/liberation/LiberationMono-Bold.ttf',\n",
              " '/usr/share/fonts/truetype/liberation/LiberationSans-BoldItalic.ttf',\n",
              " '/usr/share/fonts/truetype/liberation/LiberationSansNarrow-Regular.ttf',\n",
              " '/usr/share/fonts/truetype/liberation/LiberationSerif-Bold.ttf',\n",
              " '/usr/share/fonts/truetype/liberation/LiberationSans-Regular.ttf']"
            ]
          },
          "metadata": {
            "tags": []
          },
          "execution_count": 128
        }
      ]
    },
    {
      "metadata": {
        "id": "Z9-skDmuDVmI",
        "colab_type": "text"
      },
      "cell_type": "markdown",
      "source": [
        "***"
      ]
    },
    {
      "metadata": {
        "id": "gMkUM5huDVmI",
        "colab_type": "text"
      },
      "cell_type": "markdown",
      "source": [
        "# Chapter 12-04\n",
        "## 일본 인구를 시각화한다"
      ]
    },
    {
      "metadata": {
        "id": "cDu50fGKDVmJ",
        "colab_type": "text"
      },
      "cell_type": "markdown",
      "source": [
        "### 인구 데이터를 읽어 들임"
      ]
    },
    {
      "metadata": {
        "id": "SYFeOriFWdxz",
        "colab_type": "code",
        "outputId": "0be08065-a96e-443f-f9c3-a0872342f017",
        "colab": {
          "resources": {
            "http://localhost:8080/nbextensions/google.colab/files.js": {
              "data": "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",
              "ok": true,
              "headers": [
                [
                  "content-type",
                  "application/javascript"
                ]
              ],
              "status": 200,
              "status_text": ""
            }
          },
          "base_uri": "https://localhost:8080/",
          "height": 42
        }
      },
      "cell_type": "code",
      "source": [
        "from google.colab import files\n",
        "\n",
        "uploaded = files.upload()\n",
        "\n",
        "for fn in uploaded.keys():\n",
        "  print('User uploaded file \"{name}\" with length {length} bytes'.format(\n",
        "      name=fn, length=len(uploaded[fn])))"
      ],
      "execution_count": 129,
      "outputs": [
        {
          "output_type": "display_data",
          "data": {
            "text/html": [
              "\n",
              "     <input type=\"file\" id=\"files-e4a3d5fd-6e9f-4593-adc8-8401980cf067\" name=\"files[]\" multiple disabled />\n",
              "     <output id=\"result-e4a3d5fd-6e9f-4593-adc8-8401980cf067\">\n",
              "      Upload widget is only available when the cell has been executed in the\n",
              "      current browser session. Please rerun this cell to enable.\n",
              "      </output>\n",
              "      <script src=\"/nbextensions/google.colab/files.js\"></script> "
            ],
            "text/plain": [
              "<IPython.core.display.HTML object>"
            ]
          },
          "metadata": {
            "tags": []
          }
        }
      ]
    },
    {
      "metadata": {
        "id": "Qa_47D5kDVmJ",
        "colab_type": "code",
        "colab": {}
      },
      "cell_type": "code",
      "source": [
        "# 1944년부터 2014년까지의 5계층 단계별로 인구를 남녀별로 읽어 들임\n",
        "import numpy as np\n",
        "\n",
        "p_male = np.loadtxt('male_1944_2014.csv', delimiter=\",\",\n",
        "                      skiprows=1, usecols=range(1, 22))\n",
        "p_female = np.loadtxt('female_1944_2014.csv', delimiter=\",\",\n",
        "                      skiprows=1, usecols=range(1, 22))"
      ],
      "execution_count": 0,
      "outputs": []
    },
    {
      "metadata": {
        "id": "nQ9hgGUaDVmK",
        "colab_type": "code",
        "outputId": "81afb473-4a57-454d-acf5-faff49d334e8",
        "colab": {
          "base_uri": "https://localhost:8080/",
          "height": 348
        }
      },
      "cell_type": "code",
      "source": [
        "# 계급별과 연도별로 인구를 계산한다.\n",
        "# 남녀 5세씩의 단계별로 인구를 합계\n",
        "p_total = p_male+p_female\n",
        "print(p_total)\n",
        "# 연도별 인구로 수정\n",
        "p_yearly = p_total.sum(axis=1)\n",
        "p_yearly #년도별 총 인구 수"
      ],
      "execution_count": 131,
      "outputs": [
        {
          "output_type": "stream",
          "text": [
            "[[8712. 8803. 8684. ...    0.    0.    0.]\n",
            " [9251. 8581. 8645. ...    0.    0.    0.]\n",
            " [7858. 8734. 8692. ...    0.    0.    0.]\n",
            " ...\n",
            " [5272. 5407. 5868. ... 1146.  331.   51.]\n",
            " [5239. 5361. 5790. ... 1215.  343.   55.]\n",
            " [5213. 5307. 5713. ... 1305.  352.   60.]]\n"
          ],
          "name": "stdout"
        },
        {
          "output_type": "execute_result",
          "data": {
            "text/plain": [
              "array([ 73063.,  71999.,  73115.,  78101.,  80003.,  81771.,  83199.,\n",
              "        84571.,  85854.,  87034.,  88294.,  89277.,  90258.,  91086.,\n",
              "        92010.,  92971.,  93420.,  94285.,  95179.,  96157.,  97187.,\n",
              "        98275.,  99054., 100244., 101410., 102649., 103719., 105013.,\n",
              "       107334., 108709., 110050., 111940., 113086., 114153., 115174.,\n",
              "       116131., 117061., 117879., 118693., 119485., 120237., 121046.,\n",
              "       121672., 122264., 122784., 123254., 123611., 124044., 124452.,\n",
              "       124765., 125033., 125568., 125865., 126169., 126485., 126685.,\n",
              "       126923., 127289., 127433., 127618., 127687., 127766., 127769.,\n",
              "       127767., 127690., 127509., 128057., 127799., 127513., 127295.,\n",
              "       127082.])"
            ]
          },
          "metadata": {
            "tags": []
          },
          "execution_count": 131
        }
      ]
    },
    {
      "metadata": {
        "id": "F6S-9Y1EDVmL",
        "colab_type": "code",
        "outputId": "55b7edce-a308-40ce-c92f-a08182e6f98d",
        "colab": {
          "base_uri": "https://localhost:8080/",
          "height": 265
        }
      },
      "cell_type": "code",
      "source": [
        "# 연도별 인구를 그래프화 한다\n",
        "%matplotlib inline\n",
        "import matplotlib.pyplot as plt\n",
        "\n",
        "t = plt.plot(range(1944, 2015), p_yearly, '^')\n",
        "plt.ylim((0, 130000)) #y축의 범위\n",
        "plt.grid(True) #격자"
      ],
      "execution_count": 132,
      "outputs": [
        {
          "output_type": "display_data",
          "data": {
            "image/png": "[encoded data removed]",
            "text/plain": [
              "<matplotlib.figure.Figure at 0x7fd5ed4a8160>"
            ]
          },
          "metadata": {
            "tags": []
          }
        }
      ]
    },
    {
      "metadata": {
        "id": "qhpgwcbYDVmO",
        "colab_type": "code",
        "outputId": "5ceb190c-ed3a-4440-fa57-0a1776af566b",
        "colab": {
          "base_uri": "https://localhost:8080/",
          "height": 265
        }
      },
      "cell_type": "code",
      "source": [
        "# 출생률(합계 특수 출생률) 그래프를 그린다\n",
        "# 1960년에서 2014년을 읽어 들임\n",
        "tfr = np.loadtxt('total_fertility_rate.csv', delimiter=\",\", skiprows=1) #한 줄을 빼고 가져옴\n",
        "# 출산율 그래프를 그린다\n",
        "t = plt.plot(range(1960, 2015), tfr, ls=\":\")\n",
        "# 인구 치환 경계선을 2.07로 하여 선을 그림\n",
        "t = plt.plot([1960, 2015], [2.07, 2.07])\n",
        "#출생률이 라인보다 낮으면 출생률이 낮다는 것을 표현"
      ],
      "execution_count": 133,
      "outputs": [
        {
          "output_type": "display_data",
          "data": {
            "image/png": "[encoded data removed]",
            "text/plain": [
              "<matplotlib.figure.Figure at 0x7fd5e92b0208>"
            ]
          },
          "metadata": {
            "tags": []
          }
        }
      ]
    },
    {
      "metadata": {
        "id": "Ec5iZTulDVmQ",
        "colab_type": "text"
      },
      "cell_type": "markdown",
      "source": [
        "### 인구 피라미드를 그린다"
      ]
    },
    {
      "metadata": {
        "id": "MDnQW1zNDVmQ",
        "colab_type": "code",
        "colab": {}
      },
      "cell_type": "code",
      "source": [
        "# show_pgraph( ) 함수의 정의\n",
        "from matplotlib import gridspec\n",
        "\n",
        "def show_pgraph(year, arr1, arr2, arr3,\n",
        "                ymin, ymax, ydim=1):\n",
        "#     fig = plt.figure(figsize=(10,9))\n",
        "    # 인구 피라미드를 표시\n",
        "    # 표시하는 인구의 인덱스를 가져옴 (1년 간격)\n",
        "    idx = int((year-ymin)/ydim)\n",
        "    # 인구 피라미드와 인구 그래프의 그리드를 생성\n",
        "    gs = gridspec.GridSpec(2, 2, height_ratios=(3, 2))\n",
        "    # 그래프의 배치를 결정\n",
        "    ax = [plt.subplot(gs[0, 0]),plt.subplot(gs[0, 1]),\n",
        "          plt.subplot(gs[1, :])]\n",
        "    # 남성 인구 피라미드를 그림\n",
        "    ax[0].barh(range(0, 101, 5), arr1[idx], height=3)\n",
        "    ax[0].set(ylim=(0, 100), xlim=(0, 6000)) # 0부터 100세까지\n",
        "    ax[0].invert_xaxis() #x축을 반대로 돌리기\n",
        "    ax[0].yaxis.tick_right() #y 눈금은 오른쪽에 표시\n",
        "    # 여성 인구 피라미드를 그림\n",
        "    ax[1].barh(range(0, 101, 5), arr2[idx], height=4)\n",
        "    ax[1].tick_params(labelleft='off') #남자의  y그래프를 공유하기 때문에 표시 X\n",
        "    ax[1].set(ylim=(0, 100), xlim=(0, 6000))\n",
        "    # 인구 그래프를 그림\n",
        "    ax[2].plot(range(ymin, ymax+1, ydim), arr3, ls=\":\")\n",
        "    ax[2].plot([year, year], [0, 140000])\n",
        "    \n",
        "    #show_pgraph 그래프를 나누어 그려줌"
      ],
      "execution_count": 0,
      "outputs": []
    },
    {
      "metadata": {
        "id": "6BhONnDgDVmT",
        "colab_type": "code",
        "outputId": "9465d3b7-e2ce-4544-adb3-ab6eb87fba1c",
        "colab": {
          "base_uri": "https://localhost:8080/",
          "height": 269
        }
      },
      "cell_type": "code",
      "source": [
        "# 인구 피라미드의 그래프를 그린다\n",
        "show_pgraph(1950, p_male, p_female, p_yearly,\n",
        "            1944, 2014)"
      ],
      "execution_count": 135,
      "outputs": [
        {
          "output_type": "display_data",
          "data": {
            "image/png": "[encoded data removed]",
            "text/plain": [
              "<matplotlib.figure.Figure at 0x7fd5e89f1240>"
            ]
          },
          "metadata": {
            "tags": []
          }
        }
      ]
    },
    {
      "metadata": {
        "id": "YStaVTKLDVmW",
        "colab_type": "text"
      },
      "cell_type": "markdown",
      "source": [
        "> year를 변경해서 그래프를 그려보시오."
      ]
    },
    {
      "metadata": {
        "id": "x4Ljy1u1mhwk",
        "colab_type": "code",
        "colab": {}
      },
      "cell_type": "code",
      "source": [
        "# show_pgraph( ) 함수의 정의\n",
        "from matplotlib import gridspec\n",
        "\n",
        "def show_pgraph(year, arr1, arr2, arr3,\n",
        "                ymin, ymax, ydim=1):\n",
        "#     fig = plt.figure(figsize=(10,9))\n",
        "    # 인구 피라미드를 표시\n",
        "    # 표시하는 인구의 인덱스를 가져옴 (1년 간격)\n",
        "    idx = int((year-ymin)/ydim)\n",
        "    # 인구 피라미드와 인구 그래프의 그리드를 생성\n",
        "    gs = gridspec.GridSpec(2, 2, height_ratios=(3, 2))\n",
        "    # 그래프의 배치를 결정\n",
        "    ax = [plt.subplot(gs[0, 0]),plt.subplot(gs[0, 1]),\n",
        "          plt.subplot(gs[1, :])]\n",
        "    # 남성 인구 피라미드를 그림\n",
        "    ax[0].barh(range(0, 101, 5), arr1[idx], height=3)\n",
        "    ax[0].set(ylim=(0, 100), xlim=(0, 6000)) # 0부터 100세까지\n",
        "    ax[0].invert_xaxis() #x축을 반대로 돌리기\n",
        "    ax[0].yaxis.tick_right() #y 눈금은 오른쪽에 표시\n",
        "    # 여성 인구 피라미드를 그림\n",
        "    ax[1].barh(range(0, 101, 5), arr2[idx], height=4)\n",
        "    ax[1].tick_params(labelleft='off') #남자의  y그래프를 공유하기 때문에 표시 X\n",
        "    ax[1].set(ylim=(0, 100), xlim=(0, 6000))\n",
        "    # 인구 그래프를 그림\n",
        "    ax[2].plot(range(ymin, ymax+1, ydim), arr3, ls=\":\")\n",
        "    ax[2].plot([year, year], [0, 140000])\n",
        "    \n",
        "    #show_pgraph 그래프를 나누어 그려줌"
      ],
      "execution_count": 0,
      "outputs": []
    },
    {
      "metadata": {
        "id": "mq3XyPLkmBp3",
        "colab_type": "code",
        "outputId": "5141b46a-4a19-4cbc-e2a9-8023d7af78e6",
        "colab": {
          "base_uri": "https://localhost:8080/",
          "height": 269
        }
      },
      "cell_type": "code",
      "source": [
        "show_pgraph(1980, p_male, p_female, p_yearly,\n",
        "            1944, 2014) #1980년의 데이터를 가져옴"
      ],
      "execution_count": 137,
      "outputs": [
        {
          "output_type": "display_data",
          "data": {
            "image/png": "[encoded data removed]",
            "text/plain": [
              "<matplotlib.figure.Figure at 0x7fd5e883f978>"
            ]
          },
          "metadata": {
            "tags": []
          }
        }
      ]
    },
    {
      "metadata": {
        "id": "AuzYgyqMDVmW",
        "colab_type": "text"
      },
      "cell_type": "markdown",
      "source": [
        "***"
      ]
    },
    {
      "metadata": {
        "id": "qBvJwwt6DVmW",
        "colab_type": "text"
      },
      "cell_type": "markdown",
      "source": [
        "## 특강안내\n",
        "\n",
        "### VR 응용과 전망 (HC 관련 내용 포함)\n",
        "\n",
        "### 11월8일(목) 4시~6시, 신어관 101호 강당"
      ]
    },
    {
      "metadata": {
        "id": "GLATIu4EDVmW",
        "colab_type": "text"
      },
      "cell_type": "markdown",
      "source": [
        "***"
      ]
    },
    {
      "metadata": {
        "id": "7f5MZ4B5DVmX",
        "colab_type": "text"
      },
      "cell_type": "markdown",
      "source": [
        "### [wk10] homework\n",
        "\n",
        "#### 다음 파이썬 노트북 [tips_reshape](https://github.com/Redwoods/Py/blob/master/py-basic/tips/Tips_py_reshape.ipynb) 을 colab에서 실행하고 설명을 추가해서 github에 올리시오.(마감: 2018.11.11(일). 24:00)\n",
        "\n",
        "> 제출 파일명: Summary_reshape.ipynb"
      ]
    },
    {
      "metadata": {
        "id": "c23jYwfCDVmX",
        "colab_type": "text"
      },
      "cell_type": "markdown",
      "source": [
        "***\n",
        "https://github.com/Redwoods/Py/blob/master/py-basic/tips/digits100.csv 다운로드해서 업로딩하는 것\n",
        "이해한 걸 써서 올리기"
      ]
    }
  ]
}