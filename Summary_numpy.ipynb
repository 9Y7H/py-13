{
  "nbformat": 4,
  "nbformat_minor": 0,
  "metadata": {
    "colab": {
      "name": "Summary_numpy.ipynb",
      "version": "0.3.2",
      "provenance": [],
      "collapsed_sections": [],
      "include_colab_link": true
    },
    "kernelspec": {
      "name": "python3",
      "display_name": "Python 3"
    }
  },
  "cells": [
    {
      "cell_type": "markdown",
      "metadata": {
        "id": "view-in-github",
        "colab_type": "text"
      },
      "source": [
        "<a href=\"https://colab.research.google.com/github/9Y7H/py-13/blob/master/Summary_numpy.ipynb\" target=\"_parent\"><img src=\"https://colab.research.google.com/assets/colab-badge.svg\" alt=\"Open In Colab\"/></a>"
      ]
    },
    {
      "metadata": {
        "id": "tzaSGpvLYwbG",
        "colab_type": "toc"
      },
      "cell_type": "markdown",
      "source": [
        ">>>[라이브러리 - overview](#scrollTo=Oowy-rXCINrL)\n",
        "\n",
        ">>>[라이브러리 - numpy](#scrollTo=lwkU4jfreQMo)\n",
        "\n",
        ">>>>>[numpy란?](#scrollTo=lwkU4jfreQMo)\n",
        "\n",
        ">>>>>[numpy vs list](#scrollTo=lwkU4jfreQMo)\n",
        "\n",
        ">>>[라이브러리-numpy vector(1차원 배열)](#scrollTo=o_9t87yDgkeg)\n",
        "\n",
        ">>>>>[벡터(vector) 생성](#scrollTo=o_9t87yDgkeg)\n",
        "\n",
        ">>>>>[벡터(vector) 산술연산](#scrollTo=o_9t87yDgkeg)\n",
        "\n",
        ">>>[라이브러리-numpy matrix(행렬)](#scrollTo=G7AYXs34kGfm)\n",
        "\n",
        ">>>>>[행렬(matrix) 생성](#scrollTo=G7AYXs34kGfm)\n",
        "\n",
        ">>>>>[형 변환(reshape)](#scrollTo=G7AYXs34kGfm)\n",
        "\n",
        ">>>[리이브러리-numpy 행렬 곱(dot product)](#scrollTo=njx2ym96m7cu)\n",
        "\n",
        ">>>>>[행렬 곱(dot product)(1)](#scrollTo=njx2ym96m7cu)\n",
        "\n",
        ">>>>>[행렬 곱(dot product)(2)](#scrollTo=k9i3f7eqoylr)\n",
        "\n",
        ">>>[라이브러리-numpy broadcast](#scrollTo=1iRn5ED-p2H1)\n",
        "\n",
        ">>>[라이브러리-nupmy 전치행렬(transpose)](#scrollTo=Kv0MmfNvqz_N)\n",
        "\n",
        ">>>>>[전치행렬(transpose)](#scrollTo=Kv0MmfNvqz_N)\n",
        "\n",
        ">>>[라이브러리-numpy 행렬 indexing/ slicing](#scrollTo=7PEwUy13ts0A)\n",
        "\n",
        ">>>>>[행렬 원소 접근(1)](#scrollTo=7PEwUy13ts0A)\n",
        "\n",
        ">>>[라이브러리-numpy 행렬 iterator](#scrollTo=subzM4ZZvYTb)\n",
        "\n",
        ">>>>>[행렬 원소 접근(2)](#scrollTo=subzM4ZZvYTb)\n",
        "\n"
      ]
    },
    {
      "metadata": {
        "id": "Oowy-rXCINrL",
        "colab_type": "text"
      },
      "cell_type": "markdown",
      "source": [
        "###라이브러리 - overview"
      ]
    },
    {
      "metadata": {
        "id": "eplqNvMXICUk",
        "colab_type": "code",
        "colab": {
          "base_uri": "https://localhost:8080/",
          "height": 35
        },
        "outputId": "a46312c0-e2fb-4798-f117-db1c7eefc136"
      },
      "cell_type": "code",
      "source": [
        "import numpy\n",
        "\n",
        "A = numpy.array([1,2])\n",
        "\n",
        "print(\"A ==\", A, \",type ==\",type(A))"
      ],
      "execution_count": 2,
      "outputs": [
        {
          "output_type": "stream",
          "text": [
            "A == [1 2] ,type == <class 'numpy.ndarray'>\n"
          ],
          "name": "stdout"
        }
      ]
    },
    {
      "metadata": {
        "id": "uP5YDkh5IvY9",
        "colab_type": "code",
        "colab": {
          "base_uri": "https://localhost:8080/",
          "height": 35
        },
        "outputId": "e020805e-8952-49fe-f1b6-034b75c199e2"
      },
      "cell_type": "code",
      "source": [
        "import numpy as np\n",
        "\n",
        "A = np.array([1,2])\n",
        "\n",
        "print(\"A ==\", A, \",type ==\",type(A))"
      ],
      "execution_count": 3,
      "outputs": [
        {
          "output_type": "stream",
          "text": [
            "A == [1 2] ,type == <class 'numpy.ndarray'>\n"
          ],
          "name": "stdout"
        }
      ]
    },
    {
      "metadata": {
        "id": "nBe_TpQQJBlM",
        "colab_type": "code",
        "colab": {
          "base_uri": "https://localhost:8080/",
          "height": 35
        },
        "outputId": "ef35240d-52a9-4477-8378-547682c46fb4"
      },
      "cell_type": "code",
      "source": [
        "from numpy import exp\n",
        "\n",
        "result = exp(1)\n",
        "\n",
        "print(\"result ==\", result,\", type ==\", type(result))"
      ],
      "execution_count": 4,
      "outputs": [
        {
          "output_type": "stream",
          "text": [
            "result == 2.718281828459045 , type == <class 'numpy.float64'>\n"
          ],
          "name": "stdout"
        }
      ]
    },
    {
      "metadata": {
        "id": "fxtZis_5JSbG",
        "colab_type": "code",
        "colab": {
          "base_uri": "https://localhost:8080/",
          "height": 35
        },
        "outputId": "579f509e-1626-416c-a015-b5c6bf3defc9"
      },
      "cell_type": "code",
      "source": [
        "from numpy import *\n",
        "\n",
        "result = exp(1) + log(1.7) + sqrt(2)\n",
        "\n",
        "print(\"result ==\", result,\", type ==\", type(result))"
      ],
      "execution_count": 5,
      "outputs": [
        {
          "output_type": "stream",
          "text": [
            "result == 4.663123641894311 , type == <class 'numpy.float64'>\n"
          ],
          "name": "stdout"
        }
      ]
    },
    {
      "metadata": {
        "id": "lwkU4jfreQMo",
        "colab_type": "text"
      },
      "cell_type": "markdown",
      "source": [
        "###라이브러리 - numpy\n",
        "\n",
        "\n",
        "#####numpy란?\n",
        "\n",
        "=>머신러닝 코드 개발할 경우 자주 사용되는 벡터, 행렬 등을 표현하고 연산될 때 반드시 필요한 라이브러리\n",
        "\n",
        "#####numpy vs list\n",
        "\n",
        "=>머신러닝에서 숫자, 사람, 동물 등의 인식을 하기 위해서는 이미지(image)데이터를 행렬(matrix)로 변환하는 것이 중요\n",
        "\n",
        "=>행렬(matrix)을 나타내기 위해서는 리스트(list)를 사용할 수도 있지만, 행렬 연산이 직관적이지 않고 오류 가능성이 높기 때문에, 행렬 연산을 위해서는 numpy 사용이 필수임"
      ]
    },
    {
      "metadata": {
        "id": "q0R2Sv3-JpDq",
        "colab_type": "code",
        "colab": {}
      },
      "cell_type": "code",
      "source": [
        "import numpy as no"
      ],
      "execution_count": 0,
      "outputs": []
    },
    {
      "metadata": {
        "id": "K22A2y8WfzCL",
        "colab_type": "code",
        "colab": {}
      },
      "cell_type": "code",
      "source": [
        "#리스트로 행렬 표현\n",
        "\n",
        "A = [ [1,0], [0,1] ]\n",
        "B = [ [1,1], [1,1] ]"
      ],
      "execution_count": 0,
      "outputs": []
    },
    {
      "metadata": {
        "id": "XvickkQTgAf0",
        "colab_type": "code",
        "colab": {
          "base_uri": "https://localhost:8080/",
          "height": 35
        },
        "outputId": "879ee282-2047-4d3a-b3e1-43824f30ec44"
      },
      "cell_type": "code",
      "source": [
        "A + B #행렬 연산이 아닌 리스트 연산"
      ],
      "execution_count": 8,
      "outputs": [
        {
          "output_type": "execute_result",
          "data": {
            "text/plain": [
              "[[1, 0], [0, 1], [1, 1], [1, 1]]"
            ]
          },
          "metadata": {
            "tags": []
          },
          "execution_count": 8
        }
      ]
    },
    {
      "metadata": {
        "id": "rCB9G21RgEuw",
        "colab_type": "code",
        "colab": {}
      },
      "cell_type": "code",
      "source": [
        "#numpy, matrix, 직관적임\n",
        "\n",
        "A = np.array([ [1,0], [0,1] ])\n",
        "B = np.array([ [1,1], [1,1] ])"
      ],
      "execution_count": 0,
      "outputs": []
    },
    {
      "metadata": {
        "id": "rvU-Iq4ggVVK",
        "colab_type": "code",
        "colab": {
          "base_uri": "https://localhost:8080/",
          "height": 54
        },
        "outputId": "4191e774-7de3-4557-bd00-be11e26508aa"
      },
      "cell_type": "code",
      "source": [
        "A + B #행렬 연산"
      ],
      "execution_count": 10,
      "outputs": [
        {
          "output_type": "execute_result",
          "data": {
            "text/plain": [
              "array([[2, 1],\n",
              "       [1, 2]])"
            ]
          },
          "metadata": {
            "tags": []
          },
          "execution_count": 10
        }
      ]
    },
    {
      "metadata": {
        "id": "o_9t87yDgkeg",
        "colab_type": "text"
      },
      "cell_type": "markdown",
      "source": [
        "###라이브러리-numpy vector(1차원 배열)\n",
        "\n",
        "#####*  벡터(vector) 생성\n",
        "\n",
        "=>vector는 np.array([...])를 사용하여 생성함(import numpy as np)\n",
        "\n",
        "=>머신러닝 코드 구현시, 연산을 위해서 vetcor, matrix등의 형상(shape),차원(dimension)을 확인하는 것이 필요함\n",
        "\n",
        "#####*   벡터(vector) 산술연산\n",
        "\n",
        "=>vector 간 산술연산(+, -, *, /)은 벡터의 각각의 원소에 대하여 행해짐\n",
        "\n"
      ]
    },
    {
      "metadata": {
        "id": "DBZ9s0gOgZTH",
        "colab_type": "code",
        "colab": {}
      },
      "cell_type": "code",
      "source": [
        "A = np.array([1, 2, 3])\n",
        "B = np.array([4, 5, 6])"
      ],
      "execution_count": 0,
      "outputs": []
    },
    {
      "metadata": {
        "id": "YqWAEYLZiZmJ",
        "colab_type": "code",
        "colab": {
          "base_uri": "https://localhost:8080/",
          "height": 35
        },
        "outputId": "11789a31-ef98-41ed-941a-1b24f59af243"
      },
      "cell_type": "code",
      "source": [
        "#vector A, B 출력\n",
        "print(\"A ==\", A,\", B ==\",B)"
      ],
      "execution_count": 12,
      "outputs": [
        {
          "output_type": "stream",
          "text": [
            "A == [1 2 3] , B == [4 5 6]\n"
          ],
          "name": "stdout"
        }
      ]
    },
    {
      "metadata": {
        "id": "WSSTYJhNinto",
        "colab_type": "code",
        "colab": {
          "base_uri": "https://localhost:8080/",
          "height": 35
        },
        "outputId": "165b93ea-bdbc-4075-ebe3-1494674555f7"
      },
      "cell_type": "code",
      "source": [
        "#vector A, B 형상 출력 => shape\n",
        "print(\"A.shape ==\",A.shape,\", B.shaape ==\",B.shape)"
      ],
      "execution_count": 13,
      "outputs": [
        {
          "output_type": "stream",
          "text": [
            "A.shape == (3,) , B.shaape == (3,)\n"
          ],
          "name": "stdout"
        }
      ]
    },
    {
      "metadata": {
        "id": "RsSYkW-LjJo6",
        "colab_type": "code",
        "colab": {
          "base_uri": "https://localhost:8080/",
          "height": 35
        },
        "outputId": "4557f4b8-4897-4da1-84dc-23329b208566"
      },
      "cell_type": "code",
      "source": [
        "#vector A, B 차원 출력 => ndim\n",
        "print(\"A.ndim ==\",A.ndim,\", B.ndim ==\",B.ndim)"
      ],
      "execution_count": 14,
      "outputs": [
        {
          "output_type": "stream",
          "text": [
            "A.ndim == 1 , B.ndim == 1\n"
          ],
          "name": "stdout"
        }
      ]
    },
    {
      "metadata": {
        "id": "7OdBR-abjTTw",
        "colab_type": "code",
        "colab": {
          "base_uri": "https://localhost:8080/",
          "height": 90
        },
        "outputId": "64abe1e0-bf6b-4af4-c7e8-6b39d63f1669"
      },
      "cell_type": "code",
      "source": [
        "#vector 산술 연산\n",
        "\n",
        "print(\"A + B ==\", A+B)\n",
        "print(\"A - B ==\", A-B)\n",
        "print(\"A * B ==\", A*B)\n",
        "print(\"A / B ==\", A/B)"
      ],
      "execution_count": 15,
      "outputs": [
        {
          "output_type": "stream",
          "text": [
            "A + B == [5 7 9]\n",
            "A - B == [-3 -3 -3]\n",
            "A * B == [ 4 10 18]\n",
            "A / B == [0.25 0.4  0.5 ]\n"
          ],
          "name": "stdout"
        }
      ]
    },
    {
      "metadata": {
        "id": "G7AYXs34kGfm",
        "colab_type": "text"
      },
      "cell_type": "markdown",
      "source": [
        "###라이브러리-numpy matrix(행렬)\n",
        "\n",
        "\n",
        "#####*   행렬(matrix) 생성\n",
        "\n",
        "=>matrix는 vector와 마찬가지로 np.array([ [...],[...], ...])를 사용하여 생성함(import numpy as np)\n",
        "#####*   형 변환(reshape)\n",
        "\n",
        "=>vector를 matrix로 변경하거나 matrix를 다른 형상의 matrix로 변경하기 위해서는 reshape() 사용하여 행렬의 shape을 변경하여야 함"
      ]
    },
    {
      "metadata": {
        "id": "Hbafvmdfj62H",
        "colab_type": "code",
        "colab": {}
      },
      "cell_type": "code",
      "source": [
        "A = np.array([[1, 2, 3],[4, 5, 6]])\n",
        "B = np.array([[-1, -2, -3],[-4,-5,-6]])"
      ],
      "execution_count": 0,
      "outputs": []
    },
    {
      "metadata": {
        "id": "6iOsrzoQlUa2",
        "colab_type": "code",
        "colab": {
          "base_uri": "https://localhost:8080/",
          "height": 35
        },
        "outputId": "9a7e9d23-53f2-4d32-9108-584dc7f78120"
      },
      "cell_type": "code",
      "source": [
        "#matrix A, B 형상 출력 => shape\n",
        "print(\"A.shape ==\",A.shape,\", B.shape ==\",B.shape)"
      ],
      "execution_count": 17,
      "outputs": [
        {
          "output_type": "stream",
          "text": [
            "A.shape == (2, 3) , B.shape == (2, 3)\n"
          ],
          "name": "stdout"
        }
      ]
    },
    {
      "metadata": {
        "id": "jfh4XMdylnHE",
        "colab_type": "code",
        "colab": {
          "base_uri": "https://localhost:8080/",
          "height": 35
        },
        "outputId": "0f67096d-5da3-445f-c4b5-6cf168026527"
      },
      "cell_type": "code",
      "source": [
        "#matrix A, B 차원 출력 => ndim\n",
        "print(\"A.ndim ==\",A.ndim,\", B.ndim ==\",B.ndim)"
      ],
      "execution_count": 18,
      "outputs": [
        {
          "output_type": "stream",
          "text": [
            "A.ndim == 2 , B.ndim == 2\n"
          ],
          "name": "stdout"
        }
      ]
    },
    {
      "metadata": {
        "id": "vcqpOL7_l55C",
        "colab_type": "code",
        "colab": {}
      },
      "cell_type": "code",
      "source": [
        "#vector 생성\n",
        "\n",
        "C = np.array([1, 2, 3])"
      ],
      "execution_count": 0,
      "outputs": []
    },
    {
      "metadata": {
        "id": "JSU8T5M8mBG2",
        "colab_type": "code",
        "colab": {
          "base_uri": "https://localhost:8080/",
          "height": 35
        },
        "outputId": "21dd4e8d-fccc-44bb-938f-d3431702c483"
      },
      "cell_type": "code",
      "source": [
        "#vector C형상 출력 => shape\n",
        "print(\"C.shape ==\", C.shape)"
      ],
      "execution_count": 20,
      "outputs": [
        {
          "output_type": "stream",
          "text": [
            "C.shape == (3,)\n"
          ],
          "name": "stdout"
        }
      ]
    },
    {
      "metadata": {
        "id": "sFdQ9OTCmX3r",
        "colab_type": "code",
        "colab": {}
      },
      "cell_type": "code",
      "source": [
        "#vector를 (1,3) 행렬로 형 변환\n",
        "C = C.reshape(1, 3)"
      ],
      "execution_count": 0,
      "outputs": []
    },
    {
      "metadata": {
        "id": "S06Pzbpxmiy0",
        "colab_type": "code",
        "colab": {
          "base_uri": "https://localhost:8080/",
          "height": 35
        },
        "outputId": "80d54ef7-50d2-4e7f-a535-ed982e9ceabf"
      },
      "cell_type": "code",
      "source": [
        "print(\"C.shape ==\", C.shape)"
      ],
      "execution_count": 22,
      "outputs": [
        {
          "output_type": "stream",
          "text": [
            "C.shape == (1, 3)\n"
          ],
          "name": "stdout"
        }
      ]
    },
    {
      "metadata": {
        "id": "njx2ym96m7cu",
        "colab_type": "text"
      },
      "cell_type": "markdown",
      "source": [
        "###리이브러리-numpy 행렬 곱(dot product)\n",
        "\n",
        "#####*   행렬 곱(dot product)(1)\n",
        "\n",
        "=>A행렬과 B행렬의 행렬 곱(dot product)는 np.dot(A,B) 나타내며, 행렬 A의 열 벡터와 B 행렬의 행 벡터가 같아야 함\n",
        "\n",
        "=>만약 같지 않다면 reshape 또는 전치행렬(transpose)등을 사용하여 형 변환을 한 후에 행렬 곱 실행해야 함\n",
        "\n"
      ]
    },
    {
      "metadata": {
        "id": "gTieiaBemnQw",
        "colab_type": "code",
        "colab": {}
      },
      "cell_type": "code",
      "source": [
        "A = np.array([ [1, 2, 3], [4, 5, 6]]) #2X3 행렬\n",
        "B = np.array([ [-1, -2], [-3, -4], [-5, -6] ]) #3X2 행렬"
      ],
      "execution_count": 0,
      "outputs": []
    },
    {
      "metadata": {
        "id": "ZKt077CwoD0l",
        "colab_type": "code",
        "colab": {}
      },
      "cell_type": "code",
      "source": [
        "#(2X3) dot product (3X2) ==(2X2) 행렬\n",
        "C = np.dot(A, B) #행렬 곱 수행"
      ],
      "execution_count": 0,
      "outputs": []
    },
    {
      "metadata": {
        "id": "7w3rfT4yoTG4",
        "colab_type": "code",
        "colab": {
          "base_uri": "https://localhost:8080/",
          "height": 90
        },
        "outputId": "601519f4-73c7-44a9-8500-a368cfc6dd28"
      },
      "cell_type": "code",
      "source": [
        "#matrix A, B 형상 출력 => shape\n",
        "print(\"A.shape ==\", A.shape,\", B.shape ==\", B.shape)\n",
        "print(\"C.shape ==\",C.shape)\n",
        "print(C)"
      ],
      "execution_count": 25,
      "outputs": [
        {
          "output_type": "stream",
          "text": [
            "A.shape == (2, 3) , B.shape == (3, 2)\n",
            "C.shape == (2, 2)\n",
            "[[-22 -28]\n",
            " [-49 -64]]\n"
          ],
          "name": "stdout"
        }
      ]
    },
    {
      "metadata": {
        "id": "k9i3f7eqoylr",
        "colab_type": "text"
      },
      "cell_type": "markdown",
      "source": [
        "\n",
        "\n",
        "#####*   행렬 곱(dot product)(2)\n",
        "1.행렬곱 조건을 만족하는 다양한 크기의 행렬을 연속으로 만든다\n",
        "\n",
        "2.행렬 곱을 연속으로 계산\n",
        "\n",
        "3.결과값을 만들 수 있기 때문에 머신러닝과 이미지 프로세싱 분야에서 자주 사용\n",
        "\n",
        "*다양한 특성을 갖는 필터 개발이 불가능*\n",
        "\n"
      ]
    },
    {
      "metadata": {
        "id": "1iRn5ED-p2H1",
        "colab_type": "text"
      },
      "cell_type": "markdown",
      "source": [
        "###라이브러리-numpy broadcast\n",
        "=>numpy에서는 크기가 다른 두 행렬 간에서도 사칙연산(+, -, *, /)을 할 수 있는데 이를 브로드캐스트(broadcast)라고 지칭함 \n",
        "\n",
        "=> 차원이 작은 쪽이 큰 쪽의 행 단위로 반복적으로 크기를 맞춘 후에 계산"
      ]
    },
    {
      "metadata": {
        "id": "ErMX5f65omVX",
        "colab_type": "code",
        "colab": {}
      },
      "cell_type": "code",
      "source": [
        "A = np.array([ [1, 2], [3, 4]])\n",
        "b =5"
      ],
      "execution_count": 0,
      "outputs": []
    },
    {
      "metadata": {
        "id": "RACt7uAiqe9Q",
        "colab_type": "code",
        "colab": {
          "base_uri": "https://localhost:8080/",
          "height": 54
        },
        "outputId": "6d6b3308-2b2d-4138-8474-c39122aa0551"
      },
      "cell_type": "code",
      "source": [
        "print(A+b)"
      ],
      "execution_count": 27,
      "outputs": [
        {
          "output_type": "stream",
          "text": [
            "[[6 7]\n",
            " [8 9]]\n"
          ],
          "name": "stdout"
        }
      ]
    },
    {
      "metadata": {
        "id": "TVfe-UC_qiCE",
        "colab_type": "code",
        "colab": {}
      },
      "cell_type": "code",
      "source": [
        "C = np.array([ [1, 2],[3, 4] ])\n",
        "D = np.array([4, 5])"
      ],
      "execution_count": 0,
      "outputs": []
    },
    {
      "metadata": {
        "id": "nZuRxxutqsCn",
        "colab_type": "code",
        "colab": {
          "base_uri": "https://localhost:8080/",
          "height": 54
        },
        "outputId": "818604a8-82b1-4e0e-a704-0bc1165b5272"
      },
      "cell_type": "code",
      "source": [
        "print(C+D)"
      ],
      "execution_count": 29,
      "outputs": [
        {
          "output_type": "stream",
          "text": [
            "[[5 7]\n",
            " [7 9]]\n"
          ],
          "name": "stdout"
        }
      ]
    },
    {
      "metadata": {
        "id": "Kv0MmfNvqz_N",
        "colab_type": "text"
      },
      "cell_type": "markdown",
      "source": [
        "###라이브러리-nupmy 전치행렬(transpose)\n",
        "\n",
        "\n",
        "#####*  전치행렬(transpose)\n",
        "\n",
        "=>어떤 행렬의 전치행렬(transposed matrix)은 원본 행렬의 열은 행으로, 행은 열로 바꾼 것으로서, 원본 행렬을 A라고 하면 A^T로 나타냄\n",
        "\n",
        "=>즉, 1행은 1열로 바꾸고 2행은 2열로, 3행은 3열로 바꾼 행렬을 의미\n",
        "\n"
      ]
    },
    {
      "metadata": {
        "id": "8BA2mmhcqt_p",
        "colab_type": "code",
        "colab": {}
      },
      "cell_type": "code",
      "source": [
        "A = np.array([ [1, 2],[3, 4],[5, 6] ]) #3X2 행렬\n",
        "B = A.T #A의 전치행렬, 2X3 행렬"
      ],
      "execution_count": 0,
      "outputs": []
    },
    {
      "metadata": {
        "id": "5oucrH3ysNsL",
        "colab_type": "code",
        "colab": {
          "base_uri": "https://localhost:8080/",
          "height": 127
        },
        "outputId": "6c1f7392-a901-4b0a-8baf-248032fe3f8e"
      },
      "cell_type": "code",
      "source": [
        "print(\"A.shape ==\",A.shape,\", B.shape ==\",B.shape)\n",
        "print(A)\n",
        "print(B)"
      ],
      "execution_count": 31,
      "outputs": [
        {
          "output_type": "stream",
          "text": [
            "A.shape == (3, 2) , B.shape == (2, 3)\n",
            "[[1 2]\n",
            " [3 4]\n",
            " [5 6]]\n",
            "[[1 3 5]\n",
            " [2 4 6]]\n"
          ],
          "name": "stdout"
        }
      ]
    },
    {
      "metadata": {
        "id": "rWwKJdmPscF-",
        "colab_type": "code",
        "colab": {}
      },
      "cell_type": "code",
      "source": [
        "#vector 전치행렬\n",
        "\n",
        "C = np.array([ 1, 2, 3, 4, 5]) #vector, matrix 아님\n",
        "D = C.T #C는 vector 이므로 transpose 안됨"
      ],
      "execution_count": 0,
      "outputs": []
    },
    {
      "metadata": {
        "id": "CbIuK5gQs6JX",
        "colab_type": "code",
        "colab": {}
      },
      "cell_type": "code",
      "source": [
        "E = C.reshape(1,5) #1X5 matrix\n",
        "F = E.T #E의 전치행렬"
      ],
      "execution_count": 0,
      "outputs": []
    },
    {
      "metadata": {
        "id": "duFj6VTItGeU",
        "colab_type": "code",
        "colab": {
          "base_uri": "https://localhost:8080/",
          "height": 146
        },
        "outputId": "c5b4b51f-0f62-4f51-e6e8-502193878866"
      },
      "cell_type": "code",
      "source": [
        "print(\"C.shape ==\", C.shape,\", D.shape ==\", D.shape)\n",
        "print(\"E.shape ==\", E.shape,\", F.shape ==\", F.shape)\n",
        "print(F)"
      ],
      "execution_count": 34,
      "outputs": [
        {
          "output_type": "stream",
          "text": [
            "C.shape == (5,) , D.shape == (5,)\n",
            "E.shape == (1, 5) , F.shape == (5, 1)\n",
            "[[1]\n",
            " [2]\n",
            " [3]\n",
            " [4]\n",
            " [5]]\n"
          ],
          "name": "stdout"
        }
      ]
    },
    {
      "metadata": {
        "id": "7PEwUy13ts0A",
        "colab_type": "text"
      },
      "cell_type": "markdown",
      "source": [
        "###라이브러리-numpy 행렬 indexing/ slicing\n",
        "\n",
        "\n",
        "#####*   행렬 원소 접근(1)\n",
        "\n",
        "=>행렬 원소를 명시적(explicit)으로 접근하기 위해서는 리스트(list)에서처럼, 인덱스/슬라이싱 모두 사용가능 함\n",
        "\n"
      ]
    },
    {
      "metadata": {
        "id": "1Bc0BiP3tbEz",
        "colab_type": "code",
        "colab": {}
      },
      "cell_type": "code",
      "source": [
        "A = np.array([10, 20, 30, 40, 50, 60]).reshape(3, 2)"
      ],
      "execution_count": 0,
      "outputs": []
    },
    {
      "metadata": {
        "id": "HHlA55ImuTK9",
        "colab_type": "code",
        "colab": {
          "base_uri": "https://localhost:8080/",
          "height": 90
        },
        "outputId": "5a2ba9e0-89a8-42f6-cd86-57d4d75533cb"
      },
      "cell_type": "code",
      "source": [
        "print(\"A.shape ==\",A.shape)\n",
        "print(A)"
      ],
      "execution_count": 36,
      "outputs": [
        {
          "output_type": "stream",
          "text": [
            "A.shape == (3, 2)\n",
            "[[10 20]\n",
            " [30 40]\n",
            " [50 60]]\n"
          ],
          "name": "stdout"
        }
      ]
    },
    {
      "metadata": {
        "id": "VV-voIseuYQA",
        "colab_type": "code",
        "colab": {
          "base_uri": "https://localhost:8080/",
          "height": 54
        },
        "outputId": "3ff0b1d0-13ff-45f3-e4ad-5f1f7614cbe0"
      },
      "cell_type": "code",
      "source": [
        "print(\"A[0, 0] ==\",A[0, 0],\", A[0][0] ==\",A[0][0]) #A[0,0] 과 A[0][0]의 값을 출력\n",
        "print(\"A[2, 1] ==\",A[2, 1],\", A[2][1] ==\",A[2][1]) #A[2,1] 과 A[2][1]의 값을 출력"
      ],
      "execution_count": 37,
      "outputs": [
        {
          "output_type": "stream",
          "text": [
            "A[0, 0] == 10 , A[0][0] == 10\n",
            "A[2, 1] == 60 , A[2][1] == 60\n"
          ],
          "name": "stdout"
        }
      ]
    },
    {
      "metadata": {
        "id": "AxCm2lYputUE",
        "colab_type": "code",
        "colab": {
          "base_uri": "https://localhost:8080/",
          "height": 35
        },
        "outputId": "0d4b6184-c140-4259-eb71-66aa2dd6c1f9"
      },
      "cell_type": "code",
      "source": [
        "print(\"A[0:-1, 1:2] ==\", A[0:-1, 1:2])#배열 A 의 인덱스 0번부터 마지막 값을 뺀 인덱스 중\n",
        "                                      # 인덱스 1번부터 2버을를 포함하지 않은 값을 출력"
      ],
      "execution_count": 44,
      "outputs": [
        {
          "output_type": "stream",
          "text": [
            "A[0:-1, 1:2] == [[20]]\n"
          ],
          "name": "stdout"
        }
      ]
    },
    {
      "metadata": {
        "id": "bGEwqu_2u42x",
        "colab_type": "code",
        "colab": {
          "base_uri": "https://localhost:8080/",
          "height": 90
        },
        "outputId": "a3c06a52-16a3-43f9-eb0c-a902830249d8"
      },
      "cell_type": "code",
      "source": [
        "print(\"A[:,0] ==\",A[:,0])\n",
        "print(\"A[:, :] ==\",A[:, :])"
      ],
      "execution_count": 39,
      "outputs": [
        {
          "output_type": "stream",
          "text": [
            "A[:,0] == [10 30 50]\n",
            "A[:, :] == [[10 20]\n",
            " [30 40]\n",
            " [50 60]]\n"
          ],
          "name": "stdout"
        }
      ]
    },
    {
      "metadata": {
        "id": "subzM4ZZvYTb",
        "colab_type": "text"
      },
      "cell_type": "markdown",
      "source": [
        "###라이브러리-numpy 행렬 iterator\n",
        "\n",
        "\n",
        "#####*   행렬 원소 접근(2)\n",
        "\n",
        "=>명시적(explicit) 인덱스/ 슬라이싱 이외에, 행렬 모든 원소를 access하는 경우에는 iterator 사용가능\n",
        "\n"
      ]
    },
    {
      "metadata": {
        "id": "bvXpR4yOvHMk",
        "colab_type": "code",
        "colab": {
          "base_uri": "https://localhost:8080/",
          "height": 109
        },
        "outputId": "2d67763f-096d-4be0-c523-5a7a75ceb4f6"
      },
      "cell_type": "code",
      "source": [
        "import numpy as np\n",
        "\n",
        "A = np.array([[10, 20, 30, 40],[50, 60, 70, 80]])\n",
        "\n",
        "print(A,\"\\n\")\n",
        "print(\"A.shape ==\", A.shape,\"\\n\")"
      ],
      "execution_count": 40,
      "outputs": [
        {
          "output_type": "stream",
          "text": [
            "[[10 20 30 40]\n",
            " [50 60 70 80]] \n",
            "\n",
            "A.shape == (2, 4) \n",
            "\n"
          ],
          "name": "stdout"
        }
      ]
    },
    {
      "metadata": {
        "id": "wvDF31VSwXbt",
        "colab_type": "code",
        "colab": {
          "base_uri": "https://localhost:8080/",
          "height": 164
        },
        "outputId": "bb8ac299-eeaf-4559-d6dd-908adf95cbaa"
      },
      "cell_type": "code",
      "source": [
        "#행렬 A의 itrator 생성\n",
        "\n",
        "it = np.nditer(A,flags=['multi_index'],op_flags=['readwrite'])\n",
        "\n",
        "while not it.finished:\n",
        "  idx = it.multi_index\n",
        "  \n",
        "  print(\"current value => \",A[idx])\n",
        "  \n",
        "  it.iternext()"
      ],
      "execution_count": 41,
      "outputs": [
        {
          "output_type": "stream",
          "text": [
            "current value =>  10\n",
            "current value =>  20\n",
            "current value =>  30\n",
            "current value =>  40\n",
            "current value =>  50\n",
            "current value =>  60\n",
            "current value =>  70\n",
            "current value =>  80\n"
          ],
          "name": "stdout"
        }
      ]
    }
  ]
}