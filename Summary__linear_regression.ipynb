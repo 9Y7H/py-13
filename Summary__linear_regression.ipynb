{
  "nbformat": 4,
  "nbformat_minor": 0,
  "metadata": {
    "colab": {
      "name": "Summary_ linear regression.ipynb",
      "version": "0.3.2",
      "provenance": [],
      "collapsed_sections": [],
      "include_colab_link": true
    },
    "kernelspec": {
      "name": "python3",
      "display_name": "Python 3"
    }
  },
  "cells": [
    {
      "cell_type": "markdown",
      "metadata": {
        "id": "view-in-github",
        "colab_type": "text"
      },
      "source": [
        "<a href=\"https://colab.research.google.com/github/9Y7H/py-13/blob/master/Summary__linear_regression.ipynb\" target=\"_parent\"><img src=\"https://colab.research.google.com/assets/colab-badge.svg\" alt=\"Open In Colab\"/></a>"
      ]
    },
    {
      "metadata": {
        "id": "0exBBh2MEpmz",
        "colab_type": "text"
      },
      "cell_type": "markdown",
      "source": [
        "##simple regression"
      ]
    },
    {
      "metadata": {
        "id": "6mmza4_BE9aC",
        "colab_type": "text"
      },
      "cell_type": "markdown",
      "source": [
        "###[1] 학습데이터(Trainning Date) 준비"
      ]
    },
    {
      "metadata": {
        "id": "odNzr-v9Dvh6",
        "colab_type": "code",
        "colab": {}
      },
      "cell_type": "code",
      "source": [
        "import numpy as np\n",
        "\n",
        "x_data = np.array([1, 2, 3, 4, 5]).reshape(5, 1)\n",
        "t_data = np.array([2, 3, 4, 5, 6]).reshape(5, 1)\n",
        "\n",
        "#raw_data = [[1, 2],[2, 3],[3, 4],[4, 5],[5, 6]]"
      ],
      "execution_count": 0,
      "outputs": []
    },
    {
      "metadata": {
        "id": "f0d2t4q5FsTc",
        "colab_type": "text"
      },
      "cell_type": "markdown",
      "source": [
        "###[2] 임의의 직선 y =Wx + b 정의 (임의의 값으로 가중치 W, 바이어스 b 초기화)"
      ]
    },
    {
      "metadata": {
        "id": "ytoS-dm9Fq1x",
        "colab_type": "code",
        "outputId": "f3e3d2bb-13fe-406c-a28e-27295b5f2812",
        "colab": {
          "base_uri": "https://localhost:8080/",
          "height": 35
        }
      },
      "cell_type": "code",
      "source": [
        "W = np.random.rand(1, 1)\n",
        "b = np.random.rand(1)\n",
        "\n",
        "print(\"W = \",W,\", W,shape = \",W.shape,\",b = \",b,\", b.shape = \",b.shape)"
      ],
      "execution_count": 0,
      "outputs": [
        {
          "output_type": "stream",
          "text": [
            "W =  [[0.74295541]] , W,shape =  (1, 1) ,b =  [0.32377453] , b.shape =  (1,)\n"
          ],
          "name": "stdout"
        }
      ]
    },
    {
      "metadata": {
        "id": "WKT5LkqNG3W4",
        "colab_type": "text"
      },
      "cell_type": "markdown",
      "source": [
        "###[3] 손실함수 E(W,b) 정의"
      ]
    },
    {
      "metadata": {
        "id": "A3VWqpEwGPza",
        "colab_type": "code",
        "colab": {}
      },
      "cell_type": "code",
      "source": [
        "def loss_func(x, t):\n",
        "  y = np.dot(x, W) + b\n",
        "  \n",
        "  return ( np.sum((t-y)**2))/(len(x))"
      ],
      "execution_count": 0,
      "outputs": []
    },
    {
      "metadata": {
        "id": "RLCMTPzNHiyk",
        "colab_type": "text"
      },
      "cell_type": "markdown",
      "source": [
        "###[4] 수치미분 numerical_derivative 및 utility 함수 미분"
      ]
    },
    {
      "metadata": {
        "id": "v7_9iurVHM8R",
        "colab_type": "code",
        "colab": {}
      },
      "cell_type": "code",
      "source": [
        "def numerical_derivative(f, x):\n",
        "  delta_x = 1e-4 #0.0001\n",
        "  grad = np.zeros_like(x)\n",
        " \n",
        "  it = np.nditer(x, flags = ['multi_index'], op_flags = ['readwrite'])\n",
        "  \n",
        "  while not it.finished:\n",
        "    idx = it.multi_index\n",
        "    tmp_val = x[idx]\n",
        "    x[idx] = float( tmp_val ) + delta_x\n",
        "    fx1 = f(x) #f(x + delta_x)\n",
        "    \n",
        "    x[idx] = tmp_val - delta_x\n",
        "    fx2 = f(x) #f(x - delta_x)\n",
        "    grad[idx] = (fx1 - fx2)/(2*delta_x)\n",
        "    \n",
        "    x[idx] = tmp_val\n",
        "    it.iternext()\n",
        "    \n",
        "    return grad"
      ],
      "execution_count": 0,
      "outputs": []
    },
    {
      "metadata": {
        "id": "w4feG-zTKBhx",
        "colab_type": "code",
        "colab": {}
      },
      "cell_type": "code",
      "source": [
        "#손실함수 값 계산 함수\n",
        "#입력변수 x,t : numpy type\n",
        "def error_val(x, t):\n",
        "  y = np.dot(x, W) + b\n",
        "  \n",
        "  return(np.sum((t-y)**2))/(len(x))\n",
        "\n",
        "#학습을 마친 후, 임의의 데이터에 대해 미래 값 예측 함수\n",
        "#입력변수 x : numpy type\n",
        "def predict(x):\n",
        "  y = np.dot(x, W) + b\n",
        "  \n",
        "  \n",
        "  return y"
      ],
      "execution_count": 0,
      "outputs": []
    },
    {
      "metadata": {
        "id": "2xcylPmBLcNz",
        "colab_type": "text"
      },
      "cell_type": "markdown",
      "source": [
        "###[5] 학습율(learning rate) 초기화 및 손실함수가 최소가 될 때까지 W,  b 업데이트"
      ]
    },
    {
      "metadata": {
        "id": "kc0HFuOrLZ07",
        "colab_type": "code",
        "outputId": "e07319e5-1474-43da-92e5-05401102baa3",
        "colab": {
          "base_uri": "https://localhost:8080/",
          "height": 460
        }
      },
      "cell_type": "code",
      "source": [
        "learning_rate = 1e-2 #발산하는 경우, 1e-3 ~ 1e-6 등으로 바꾸어서 실행\n",
        "\n",
        "f = lambda x : loss_func(x_data, t_data) #f(x) = loss_func(x_data, t_data)\n",
        "\n",
        "print(\"lntial error value = \", error_val(x_data, t_data),\"lnitial W = \",W,\"\\n\",\",b = \",b)\n",
        "\n",
        "for step in range(8001):\n",
        " \n",
        "  W -= learning_rate * numerical_derivative(f,W)\n",
        "  \n",
        "  b -= learning_rate * numerical_derivative(f,b)\n",
        "  \n",
        "  if(step % 400 == 0):\n",
        "    print(\"step = \",step,\"error value = \",error_val(x_data,t_data),\"W = \",W,\",b = \",b)"
      ],
      "execution_count": 0,
      "outputs": [
        {
          "output_type": "stream",
          "text": [
            "lntial error value =  2.2269926242339424 lnitial W =  [[0.74295541]] \n",
            " ,b =  [0.32377453]\n",
            "step =  0 error value =  1.334542792095024 W =  [[0.84007875]] ,b =  [0.34689432]\n",
            "step =  400 error value =  0.0039557443582936835 W =  [[1.04084236]] ,b =  [0.85258221]\n",
            "step =  800 error value =  0.0002523998763123863 W =  [[1.01031671]] ,b =  [0.96276251]\n",
            "step =  1200 error value =  1.610460428993647e-05 W =  [[1.00260598]] ,b =  [0.99059387]\n",
            "step =  1600 error value =  1.027568963681295e-06 W =  [[1.00065827]] ,b =  [0.99762403]\n",
            "step =  2000 error value =  6.55649748427975e-08 W =  [[1.00016628]] ,b =  [0.99939983]\n",
            "step =  2400 error value =  4.183433013320361e-09 W =  [[1.000042]] ,b =  [0.9998484]\n",
            "step =  2800 error value =  2.66927758607638e-10 W =  [[1.00001061]] ,b =  [0.99996171]\n",
            "step =  3200 error value =  1.7031569068707295e-11 W =  [[1.00000268]] ,b =  [0.99999033]\n",
            "step =  3600 error value =  1.0867147973327964e-12 W =  [[1.00000068]] ,b =  [0.99999756]\n",
            "step =  4000 error value =  6.933882859181941e-14 W =  [[1.00000017]] ,b =  [0.99999938]\n",
            "step =  4400 error value =  4.424227177371659e-15 W =  [[1.00000004]] ,b =  [0.99999984]\n",
            "step =  4800 error value =  2.822918631246002e-16 W =  [[1.00000001]] ,b =  [0.99999996]\n",
            "step =  5200 error value =  1.8011890363090603e-17 W =  [[1.]] ,b =  [0.99999999]\n",
            "step =  5600 error value =  1.1492645687839804e-18 W =  [[1.]] ,b =  [1.]\n",
            "step =  6000 error value =  7.332978024170382e-20 W =  [[1.]] ,b =  [1.]\n",
            "step =  6400 error value =  4.678918614360009e-21 W =  [[1.]] ,b =  [1.]\n",
            "step =  6800 error value =  2.9854829543082493e-22 W =  [[1.]] ,b =  [1.]\n",
            "step =  7200 error value =  1.905088961079025e-23 W =  [[1.]] ,b =  [1.]\n",
            "step =  7600 error value =  1.2174145618060294e-24 W =  [[1.]] ,b =  [1.]\n",
            "step =  8000 error value =  7.798442250743356e-26 W =  [[1.]] ,b =  [1.]\n"
          ],
          "name": "stdout"
        }
      ]
    },
    {
      "metadata": {
        "id": "SH2njA5WN81-",
        "colab_type": "text"
      },
      "cell_type": "markdown",
      "source": [
        "###[6] 학습결과 및 입력 43에 대한 미래 값 예측"
      ]
    },
    {
      "metadata": {
        "id": "H4HbkvM0NE7J",
        "colab_type": "code",
        "outputId": "6f7fe9a8-4a15-4903-ec8b-991116328e94",
        "colab": {
          "base_uri": "https://localhost:8080/",
          "height": 35
        }
      },
      "cell_type": "code",
      "source": [
        "predict(43) #43의 미래값 예측"
      ],
      "execution_count": 0,
      "outputs": [
        {
          "output_type": "execute_result",
          "data": {
            "text/plain": [
              "array([[44.]])"
            ]
          },
          "metadata": {
            "tags": []
          },
          "execution_count": 9
        }
      ]
    },
    {
      "metadata": {
        "id": "bj5fhydKOUfm",
        "colab_type": "text"
      },
      "cell_type": "markdown",
      "source": [
        "##multi - variable regression - example"
      ]
    },
    {
      "metadata": {
        "id": "YoFPpF57Of-a",
        "colab_type": "text"
      },
      "cell_type": "markdown",
      "source": [
        "###[1] 학습데이터(Training Data) 준비"
      ]
    },
    {
      "metadata": {
        "id": "waweX65IOIum",
        "colab_type": "code",
        "colab": {}
      },
      "cell_type": "code",
      "source": [
        "import numpy as np\n",
        "\n",
        "loaded_data = np.loadtxt('./data-01-test-score.csv',delimiter = ',',dtype = np.float32)\n",
        "\n",
        "x_data = loaded_data[:,0:-1]\n",
        "t_data = loaded_data[:,[-1]]"
      ],
      "execution_count": 0,
      "outputs": []
    },
    {
      "metadata": {
        "id": "duzTl3OfxGd4",
        "colab_type": "text"
      },
      "cell_type": "markdown",
      "source": [
        "###[2] 임의의 직선 y = W1x1 + W2x2 + W3x3 + b 정의"
      ]
    },
    {
      "metadata": {
        "id": "UPQxNXtQPMxO",
        "colab_type": "code",
        "outputId": "a843b1d7-1d9b-42dc-c501-8470c8b65b12",
        "colab": {
          "base_uri": "https://localhost:8080/",
          "height": 72
        }
      },
      "cell_type": "code",
      "source": [
        "W = np.random.rand(3, 1) #3X1 행렬\n",
        "b = np.random.rand(1)\n",
        "\n",
        "print(\"W = \",W ,\", W.shape = \",W.shape,\",b = \",b,\", b.shape = \",b.shape)"
      ],
      "execution_count": 0,
      "outputs": [
        {
          "output_type": "stream",
          "text": [
            "W =  [[0.41000191]\n",
            " [0.6461366 ]\n",
            " [0.22022484]] , W.shape =  (3, 1) ,b =  [0.08811936] , b.shape =  (1,)\n"
          ],
          "name": "stdout"
        }
      ]
    },
    {
      "metadata": {
        "id": "GuLGjaVdx5Jh",
        "colab_type": "text"
      },
      "cell_type": "markdown",
      "source": [
        "###[3] 손실함수 E( W , b ) 정의"
      ]
    },
    {
      "metadata": {
        "id": "jEs1src4xjvS",
        "colab_type": "code",
        "colab": {}
      },
      "cell_type": "code",
      "source": [
        "def loss_func(x,t):\n",
        "  y = np.dot(x,W) + b\n",
        "  \n",
        "  return ( np.sum((t-y)**2))/(len(x))"
      ],
      "execution_count": 0,
      "outputs": []
    },
    {
      "metadata": {
        "id": "649pq0b2yCTy",
        "colab_type": "text"
      },
      "cell_type": "markdown",
      "source": [
        "###[4] 수치미분 numerical_derivative 및 utility 함수 정의"
      ]
    },
    {
      "metadata": {
        "id": "wAWkrRIDxzSf",
        "colab_type": "code",
        "colab": {}
      },
      "cell_type": "code",
      "source": [
        "def numerical_derivative(f, x) :\n",
        "  delta_x = 1e-4 #0.0001\n",
        "  grad = np.zeros_like(x)\n",
        "  \n",
        "  it = np.nditer(x, flags = ['multi_index'], op_flags = ['readwrite'])\n",
        "  \n",
        "  while not it.finished:\n",
        "    idx = it.multi_index\n",
        "    tmp_val = x[idx]\n",
        "    x[idx] = float(tmp_val) + delta_x\n",
        "    fx1 = f(x) # f(x+delta_x)\n",
        "    \n",
        "    x[idx] = tmp_val - delta_x\n",
        "    fx2 = f(x) # f(x-delta_x)\n",
        "    grad[idx] = (fx1 - fx2)/(2*delta_x)\n",
        "    \n",
        "    x[idx] = tmp_val\n",
        "    it.iternext()\n",
        "    \n",
        "  return grad"
      ],
      "execution_count": 0,
      "outputs": []
    },
    {
      "metadata": {
        "id": "ax6rRiEzzqIE",
        "colab_type": "code",
        "colab": {}
      },
      "cell_type": "code",
      "source": [
        "#손실함수 값 계산 함수\n",
        "#입력변수 x, f : numpy type\n",
        "def error_val(x , t):\n",
        "  y = np.dot(x, W) + b\n",
        "  \n",
        "  return (np.sum((t-y)**2))/(len(x))\n",
        "\n",
        "#학습을 마친 후, 임의의 데이터에 대한 미래 값 예측 함수\n",
        "#입력변수 x : numpy type\n",
        "def predict(x):\n",
        "  y = np.dot(x, W) + b\n",
        "  \n",
        "  return y"
      ],
      "execution_count": 0,
      "outputs": []
    },
    {
      "metadata": {
        "id": "3yBK9zgJ0Qte",
        "colab_type": "text"
      },
      "cell_type": "markdown",
      "source": [
        "###[5] 학습율 ( learning rate ) 초기화 및 손실함수가 최소가 될 때까지 W, b 업데이트"
      ]
    },
    {
      "metadata": {
        "id": "eVI84c_A0POK",
        "colab_type": "code",
        "outputId": "78fe325a-3117-4aab-b754-d01aeb9e7fbc",
        "colab": {
          "base_uri": "https://localhost:8080/",
          "height": 1507
        }
      },
      "cell_type": "code",
      "source": [
        "learing_rate = 1e-5 #1e-2, 1e-3은 손실함수 값 발산\n",
        "\n",
        "f = lambda x : loss_func(x_data, t_data) #f(x) = loss_funx(x_data, t_data)\n",
        "\n",
        "print(\"lnitial error value = \", error_val(x_data, t_data),\"lnitial W = \",W,\"Wn\",\",b = \",b)\n",
        "\n",
        "for step in range(10001):\n",
        "  \n",
        "  W -= learning_rate * numerical_derivative(f, W)\n",
        "  \n",
        "  b -= learning_rate * numerical_derivative(f, b)\n",
        "  \n",
        "  if(step % 400 == 0):\n",
        "    print(\"step = \",step,\"error value = \",error_val(x_data, t_data),\"W = \",W,\",b = \",b)"
      ],
      "execution_count": 0,
      "outputs": [
        {
          "output_type": "stream",
          "text": [
            "lnitial error value =  3721.985100596324 lnitial W =  [[0.41000191]\n",
            " [0.6461366 ]\n",
            " [0.22022484]] Wn ,b =  [0.08811936]\n",
            "step =  0 error value =  543879835.1652644 W =  [[ 97.56147704]\n",
            " [ 98.22364688]\n",
            " [100.53379699]] ,b =  [-470.8642067]\n",
            "step =  400 error value =  2.630825037726549e+29 W =  [[2.08833640e+12]\n",
            " [2.10172835e+12]\n",
            " [2.15528746e+12]] ,b =  [2.67746056e+10]\n",
            "step =  800 error value =  2.630825037726549e+29 W =  [[2.08833640e+12]\n",
            " [2.10172835e+12]\n",
            " [2.15528746e+12]] ,b =  [2.67746056e+10]\n",
            "step =  1200 error value =  2.630825037726549e+29 W =  [[2.08833640e+12]\n",
            " [2.10172835e+12]\n",
            " [2.15528746e+12]] ,b =  [2.67746056e+10]\n",
            "step =  1600 error value =  2.630825037726549e+29 W =  [[2.08833640e+12]\n",
            " [2.10172835e+12]\n",
            " [2.15528746e+12]] ,b =  [2.67746056e+10]\n",
            "step =  2000 error value =  2.630825037726549e+29 W =  [[2.08833640e+12]\n",
            " [2.10172835e+12]\n",
            " [2.15528746e+12]] ,b =  [2.67746056e+10]\n",
            "step =  2400 error value =  2.630825037726549e+29 W =  [[2.08833640e+12]\n",
            " [2.10172835e+12]\n",
            " [2.15528746e+12]] ,b =  [2.67746056e+10]\n",
            "step =  2800 error value =  2.630825037726549e+29 W =  [[2.08833640e+12]\n",
            " [2.10172835e+12]\n",
            " [2.15528746e+12]] ,b =  [2.67746056e+10]\n",
            "step =  3200 error value =  2.630825037726549e+29 W =  [[2.08833640e+12]\n",
            " [2.10172835e+12]\n",
            " [2.15528746e+12]] ,b =  [2.67746056e+10]\n",
            "step =  3600 error value =  2.630825037726549e+29 W =  [[2.08833640e+12]\n",
            " [2.10172835e+12]\n",
            " [2.15528746e+12]] ,b =  [2.67746056e+10]\n",
            "step =  4000 error value =  2.630825037726549e+29 W =  [[2.08833640e+12]\n",
            " [2.10172835e+12]\n",
            " [2.15528746e+12]] ,b =  [2.67746056e+10]\n",
            "step =  4400 error value =  2.630825037726549e+29 W =  [[2.08833640e+12]\n",
            " [2.10172835e+12]\n",
            " [2.15528746e+12]] ,b =  [2.67746056e+10]\n",
            "step =  4800 error value =  2.630825037726549e+29 W =  [[2.08833640e+12]\n",
            " [2.10172835e+12]\n",
            " [2.15528746e+12]] ,b =  [2.67746056e+10]\n",
            "step =  5200 error value =  2.630825037726549e+29 W =  [[2.08833640e+12]\n",
            " [2.10172835e+12]\n",
            " [2.15528746e+12]] ,b =  [2.67746056e+10]\n",
            "step =  5600 error value =  2.630825037726549e+29 W =  [[2.08833640e+12]\n",
            " [2.10172835e+12]\n",
            " [2.15528746e+12]] ,b =  [2.67746056e+10]\n",
            "step =  6000 error value =  2.630825037726549e+29 W =  [[2.08833640e+12]\n",
            " [2.10172835e+12]\n",
            " [2.15528746e+12]] ,b =  [2.67746056e+10]\n",
            "step =  6400 error value =  2.630825037726549e+29 W =  [[2.08833640e+12]\n",
            " [2.10172835e+12]\n",
            " [2.15528746e+12]] ,b =  [2.67746056e+10]\n",
            "step =  6800 error value =  2.630825037726549e+29 W =  [[2.08833640e+12]\n",
            " [2.10172835e+12]\n",
            " [2.15528746e+12]] ,b =  [2.67746056e+10]\n",
            "step =  7200 error value =  2.630825037726549e+29 W =  [[2.08833640e+12]\n",
            " [2.10172835e+12]\n",
            " [2.15528746e+12]] ,b =  [2.67746056e+10]\n",
            "step =  7600 error value =  2.630825037726549e+29 W =  [[2.08833640e+12]\n",
            " [2.10172835e+12]\n",
            " [2.15528746e+12]] ,b =  [2.67746056e+10]\n",
            "step =  8000 error value =  2.630825037726549e+29 W =  [[2.08833640e+12]\n",
            " [2.10172835e+12]\n",
            " [2.15528746e+12]] ,b =  [2.67746056e+10]\n",
            "step =  8400 error value =  2.630825037726549e+29 W =  [[2.08833640e+12]\n",
            " [2.10172835e+12]\n",
            " [2.15528746e+12]] ,b =  [2.67746056e+10]\n",
            "step =  8800 error value =  2.630825037726549e+29 W =  [[2.08833640e+12]\n",
            " [2.10172835e+12]\n",
            " [2.15528746e+12]] ,b =  [2.67746056e+10]\n",
            "step =  9200 error value =  2.630825037726549e+29 W =  [[2.08833640e+12]\n",
            " [2.10172835e+12]\n",
            " [2.15528746e+12]] ,b =  [2.67746056e+10]\n",
            "step =  9600 error value =  2.630825037726549e+29 W =  [[2.08833640e+12]\n",
            " [2.10172835e+12]\n",
            " [2.15528746e+12]] ,b =  [2.67746056e+10]\n",
            "step =  10000 error value =  2.630825037726549e+29 W =  [[2.08833640e+12]\n",
            " [2.10172835e+12]\n",
            " [2.15528746e+12]] ,b =  [2.67746056e+10]\n"
          ],
          "name": "stdout"
        }
      ]
    },
    {
      "metadata": {
        "id": "N_ZC7DUN1oY9",
        "colab_type": "code",
        "outputId": "13d1d87e-e366-4d29-d00a-7da1f475fd41",
        "colab": {
          "base_uri": "https://localhost:8080/",
          "height": 35
        }
      },
      "cell_type": "code",
      "source": [
        "test_data = np.array([100, 98, 81]) #[100, 98, 81] 의 미래값 예측\n",
        "\n",
        "predict(test_data)"
      ],
      "execution_count": 0,
      "outputs": [
        {
          "output_type": "execute_result",
          "data": {
            "text/plain": [
              "array([5.89408077e+14])"
            ]
          },
          "metadata": {
            "tags": []
          },
          "execution_count": 24
        }
      ]
    },
    {
      "metadata": {
        "id": "KG5iDltd16zI",
        "colab_type": "code",
        "colab": {}
      },
      "cell_type": "code",
      "source": [
        ""
      ],
      "execution_count": 0,
      "outputs": []
    }
  ]
}