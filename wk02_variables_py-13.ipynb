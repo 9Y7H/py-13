{
  "nbformat": 4,
  "nbformat_minor": 0,
  "metadata": {
    "colab": {
      "name": "wk02_variables_py13.ipynb",
      "version": "0.3.2",
      "provenance": [],
      "collapsed_sections": [],
      "include_colab_link": true
    },
    "kernelspec": {
      "name": "python3",
      "display_name": "Python 3"
    }
  },
  "cells": [
    {
      "cell_type": "markdown",
      "metadata": {
        "id": "view-in-github",
        "colab_type": "text"
      },
      "source": [
        "[View in Colaboratory](https://colab.research.google.com/github/9Y7H/py-13/blob/master/wk02_variables_py-13.ipynb)"
      ]
    },
    {
      "metadata": {
        "id": "ymumfUBw7zKP",
        "colab_type": "toc"
      },
      "cell_type": "markdown",
      "source": [
        ">>[변수(variables)](#updateTitle=true&folderId=117Sf2vXVH_F1RXCZnupQ-CzaJJUyEZMu&scrollTo=DJdYHa5KqaHL)\n",
        "\n",
        ">>>[동적변수](#updateTitle=true&folderId=117Sf2vXVH_F1RXCZnupQ-CzaJJUyEZMu&scrollTo=ox99TCAjs3ri)\n",
        "\n",
        ">>>[문자열](#updateTitle=true&folderId=117Sf2vXVH_F1RXCZnupQ-CzaJJUyEZMu&scrollTo=Fk4zbYu6s0hh)\n",
        "\n",
        ">>>[여러 행 문자열(\"\"~~\"\"\")](#updateTitle=true&folderId=117Sf2vXVH_F1RXCZnupQ-CzaJJUyEZMu&scrollTo=99NsuZ5xtZwa)\n",
        "\n",
        ">>>[여러 행 수식](#updateTitle=true&folderId=117Sf2vXVH_F1RXCZnupQ-CzaJJUyEZMu&scrollTo=6yqFm52Mz4Yh)\n",
        "\n",
        ">>>[숫자와 문자열 처리](#updateTitle=true&folderId=117Sf2vXVH_F1RXCZnupQ-CzaJJUyEZMu&scrollTo=thMmWkR0z0VR)\n",
        "\n",
        ">>>[변수 type](#updateTitle=true&folderId=117Sf2vXVH_F1RXCZnupQ-CzaJJUyEZMu&scrollTo=Nmdhmt6DvVGa)\n",
        "\n",
        ">>>[문자열을 숫자로 변환: int(),float()](#updateTitle=true&folderId=117Sf2vXVH_F1RXCZnupQ-CzaJJUyEZMu&scrollTo=O_ZQx55ixgqi)\n",
        "\n",
        ">>[예약어(keywords)](#updateTitle=true&folderId=117Sf2vXVH_F1RXCZnupQ-CzaJJUyEZMu&scrollTo=R23Ks4_py6hZ)\n",
        "\n",
        ">>>[User input](#updateTitle=true&folderId=117Sf2vXVH_F1RXCZnupQ-CzaJJUyEZMu&scrollTo=jctnPNWa1hT4)\n",
        "\n",
        ">>>[Code block & Indentation](#updateTitle=true&folderId=117Sf2vXVH_F1RXCZnupQ-CzaJJUyEZMu&scrollTo=VEQxgHnz10GI)\n",
        "\n",
        ">>>[Indentation error](#updateTitle=true&folderId=117Sf2vXVH_F1RXCZnupQ-CzaJJUyEZMu&scrollTo=l5psh6QH3XIp)\n",
        "\n",
        ">>>[도전 코딩1. M/H**2, (M(kg),H(m))](#updateTitle=true&folderId=117Sf2vXVH_F1RXCZnupQ-CzaJJUyEZMu&scrollTo=IF2Ww_q43x5h)\n",
        "\n",
        ">>>[도전 코딩2.](#updateTitle=true&folderId=117Sf2vXVH_F1RXCZnupQ-CzaJJUyEZMu&scrollTo=b1swQ1qC5N4w)\n",
        "\n"
      ]
    },
    {
      "metadata": {
        "id": "DJdYHa5KqaHL",
        "colab_type": "text"
      },
      "cell_type": "markdown",
      "source": [
        "##변수(variables)"
      ]
    },
    {
      "metadata": {
        "id": "-ecmigcdqhGv",
        "colab_type": "code",
        "colab": {
          "base_uri": "https://localhost:8080/",
          "height": 35
        },
        "outputId": "4fd09ce6-942f-4b16-8981-9713bb8d6f20"
      },
      "cell_type": "code",
      "source": [
        "5-5+1+9 "
      ],
      "execution_count": 1,
      "outputs": [
        {
          "output_type": "execute_result",
          "data": {
            "text/plain": [
              "10"
            ]
          },
          "metadata": {
            "tags": []
          },
          "execution_count": 1
        }
      ]
    },
    {
      "metadata": {
        "id": "d1X6-SpgqwJF",
        "colab_type": "code",
        "colab": {
          "base_uri": "https://localhost:8080/",
          "height": 35
        },
        "outputId": "95b913fe-60d3-443f-d27d-67577327f846"
      },
      "cell_type": "code",
      "source": [
        "5/5/3+9"
      ],
      "execution_count": 2,
      "outputs": [
        {
          "output_type": "execute_result",
          "data": {
            "text/plain": [
              "9.333333333333334"
            ]
          },
          "metadata": {
            "tags": []
          },
          "execution_count": 2
        }
      ]
    },
    {
      "metadata": {
        "id": "zCgmoUZMrCAI",
        "colab_type": "code",
        "colab": {
          "base_uri": "https://localhost:8080/",
          "height": 35
        },
        "outputId": "585f8042-2e61-4e88-b9ab-1b33dc27646a"
      },
      "cell_type": "code",
      "source": [
        "5/(5/3)+9 #연산자는 순서대로 계산"
      ],
      "execution_count": 3,
      "outputs": [
        {
          "output_type": "execute_result",
          "data": {
            "text/plain": [
              "15.0"
            ]
          },
          "metadata": {
            "tags": []
          },
          "execution_count": 3
        }
      ]
    },
    {
      "metadata": {
        "id": "eAuCT4bRrLYZ",
        "colab_type": "code",
        "colab": {
          "base_uri": "https://localhost:8080/",
          "height": 35
        },
        "outputId": "09c4cf92-b306-44a7-fc34-44b23ddbae19"
      },
      "cell_type": "code",
      "source": [
        "5/5*1+9"
      ],
      "execution_count": 4,
      "outputs": [
        {
          "output_type": "execute_result",
          "data": {
            "text/plain": [
              "10.0"
            ]
          },
          "metadata": {
            "tags": []
          },
          "execution_count": 4
        }
      ]
    },
    {
      "metadata": {
        "id": "SV-PQL4arb5T",
        "colab_type": "code",
        "colab": {
          "base_uri": "https://localhost:8080/",
          "height": 35
        },
        "outputId": "d3fcee20-6f5b-4423-83a5-73274c29b2b5"
      },
      "cell_type": "code",
      "source": [
        "5/5*(1+9)"
      ],
      "execution_count": 5,
      "outputs": [
        {
          "output_type": "execute_result",
          "data": {
            "text/plain": [
              "10.0"
            ]
          },
          "metadata": {
            "tags": []
          },
          "execution_count": 5
        }
      ]
    },
    {
      "metadata": {
        "id": "ox99TCAjs3ri",
        "colab_type": "text"
      },
      "cell_type": "markdown",
      "source": [
        "### 동적변수 (숫자나 글이나 상관없음)"
      ]
    },
    {
      "metadata": {
        "id": "Wgjn5Z12rgFv",
        "colab_type": "code",
        "colab": {}
      },
      "cell_type": "code",
      "source": [
        "some_var = 100"
      ],
      "execution_count": 0,
      "outputs": []
    },
    {
      "metadata": {
        "id": "krF8TeyNsTQk",
        "colab_type": "code",
        "colab": {}
      },
      "cell_type": "code",
      "source": [
        "some_var = \"강남스타일\""
      ],
      "execution_count": 0,
      "outputs": []
    },
    {
      "metadata": {
        "id": "7i_1chCssZ5R",
        "colab_type": "code",
        "colab": {
          "base_uri": "https://localhost:8080/",
          "height": 35
        },
        "outputId": "35519358-688f-49e3-a65d-e16b20fae1b1"
      },
      "cell_type": "code",
      "source": [
        "some_var # 같은 이름으로 실행해도 에러가 나지않고 마지막에 입력한 값이 뜸"
      ],
      "execution_count": 4,
      "outputs": [
        {
          "output_type": "execute_result",
          "data": {
            "text/plain": [
              "'강남스타일'"
            ]
          },
          "metadata": {
            "tags": []
          },
          "execution_count": 4
        }
      ]
    },
    {
      "metadata": {
        "id": "Fk4zbYu6s0hh",
        "colab_type": "text"
      },
      "cell_type": "markdown",
      "source": [
        "### 문자열"
      ]
    },
    {
      "metadata": {
        "id": "dPiP4xL5sgwi",
        "colab_type": "code",
        "colab": {}
      },
      "cell_type": "code",
      "source": [
        "psy = \"오빤 강남스타일 \""
      ],
      "execution_count": 0,
      "outputs": []
    },
    {
      "metadata": {
        "id": "l4FfwsoXsyVD",
        "colab_type": "code",
        "colab": {}
      },
      "cell_type": "code",
      "source": [
        "psy = psy + \"오, 강남스타일\""
      ],
      "execution_count": 0,
      "outputs": []
    },
    {
      "metadata": {
        "id": "Xg-TLAk-s-qV",
        "colab_type": "code",
        "colab": {
          "base_uri": "https://localhost:8080/",
          "height": 35
        },
        "outputId": "ee80c30b-9240-45ae-b2c9-bf31fbda75c8"
      },
      "cell_type": "code",
      "source": [
        "psy"
      ],
      "execution_count": 14,
      "outputs": [
        {
          "output_type": "execute_result",
          "data": {
            "text/plain": [
              "'오빤 강남스타일 오, 강남스타일'"
            ]
          },
          "metadata": {
            "tags": []
          },
          "execution_count": 14
        }
      ]
    },
    {
      "metadata": {
        "id": "buw3XxLCs___",
        "colab_type": "code",
        "colab": {}
      },
      "cell_type": "code",
      "source": [
        "psy2 = \"아름다워 사랑스러워 \""
      ],
      "execution_count": 0,
      "outputs": []
    },
    {
      "metadata": {
        "id": "jB5wMR3CtHTU",
        "colab_type": "code",
        "colab": {}
      },
      "cell_type": "code",
      "source": [
        "psy2 += \"그래 너, 그래 바로 너\""
      ],
      "execution_count": 0,
      "outputs": []
    },
    {
      "metadata": {
        "id": "DChBTlQstMuV",
        "colab_type": "code",
        "colab": {
          "base_uri": "https://localhost:8080/",
          "height": 35
        },
        "outputId": "2a6a9e69-59d5-49d2-96dc-93160c1d8531"
      },
      "cell_type": "code",
      "source": [
        "psy2"
      ],
      "execution_count": 19,
      "outputs": [
        {
          "output_type": "execute_result",
          "data": {
            "text/plain": [
              "'아름다워 사랑스러워 그래 너, 그래 바로 너'"
            ]
          },
          "metadata": {
            "tags": []
          },
          "execution_count": 19
        }
      ]
    },
    {
      "metadata": {
        "id": "99NsuZ5xtZwa",
        "colab_type": "text"
      },
      "cell_type": "markdown",
      "source": [
        "### 여러 행 문자열(\"\"~~\"\"\")"
      ]
    },
    {
      "metadata": {
        "id": "9aACljKrtYEp",
        "colab_type": "code",
        "colab": {}
      },
      "cell_type": "code",
      "source": [
        "psy = \"\"\"낮에는 따사로운 인간적인 여자\n",
        "커피 한잔의 여유를 아는 품격있는 여자\n",
        "밤이 오면 심장이 뜨거워지는 여자 그런 반전 있는 여자\"\"\""
      ],
      "execution_count": 0,
      "outputs": []
    },
    {
      "metadata": {
        "id": "M4ZGXKlitu3D",
        "colab_type": "code",
        "colab": {
          "base_uri": "https://localhost:8080/",
          "height": 55
        },
        "outputId": "804988ac-f5ba-46d8-867b-26e79aafcb28"
      },
      "cell_type": "code",
      "source": [
        "psy"
      ],
      "execution_count": 21,
      "outputs": [
        {
          "output_type": "execute_result",
          "data": {
            "text/plain": [
              "'낮에는 따사로운 인간적인 여자\\n커피 한잔의 여유를 아는 품격있는 여자\\n밤이 오면 심장이 뜨거워지는 여자 그런 반전 있는 여자'"
            ]
          },
          "metadata": {
            "tags": []
          },
          "execution_count": 21
        }
      ]
    },
    {
      "metadata": {
        "id": "Bq1kFJRAtxvh",
        "colab_type": "code",
        "colab": {
          "base_uri": "https://localhost:8080/",
          "height": 71
        },
        "outputId": "a83a5395-76f3-47ce-a4f6-f05c5b255085"
      },
      "cell_type": "code",
      "source": [
        "print(psy)"
      ],
      "execution_count": 22,
      "outputs": [
        {
          "output_type": "stream",
          "text": [
            "낮에는 따사로운 인간적인 여자\n",
            "커피 한잔의 여유를 아는 품격있는 여자\n",
            "밤이 오면 심장이 뜨거워지는 여자 그런 반전 있는 여자\n"
          ],
          "name": "stdout"
        }
      ]
    },
    {
      "metadata": {
        "id": "6yqFm52Mz4Yh",
        "colab_type": "text"
      },
      "cell_type": "markdown",
      "source": [
        "### 여러 행 수식"
      ]
    },
    {
      "metadata": {
        "id": "4qdowQW7t2VD",
        "colab_type": "code",
        "colab": {}
      },
      "cell_type": "code",
      "source": [
        "sum = 10+20+\\\n",
        "30+40"
      ],
      "execution_count": 0,
      "outputs": []
    },
    {
      "metadata": {
        "id": "PbgUlkTHuLpA",
        "colab_type": "code",
        "colab": {
          "base_uri": "https://localhost:8080/",
          "height": 35
        },
        "outputId": "b51549d7-94be-4244-e972-47b0bfe04166"
      },
      "cell_type": "code",
      "source": [
        "sum"
      ],
      "execution_count": 26,
      "outputs": [
        {
          "output_type": "execute_result",
          "data": {
            "text/plain": [
              "100"
            ]
          },
          "metadata": {
            "tags": []
          },
          "execution_count": 26
        }
      ]
    },
    {
      "metadata": {
        "id": "thMmWkR0z0VR",
        "colab_type": "text"
      },
      "cell_type": "markdown",
      "source": [
        "### 숫자와 문자열 처리"
      ]
    },
    {
      "metadata": {
        "id": "6MkYpjOLuQ1D",
        "colab_type": "code",
        "colab": {}
      },
      "cell_type": "code",
      "source": [
        "day = 3"
      ],
      "execution_count": 0,
      "outputs": []
    },
    {
      "metadata": {
        "id": "tme48uaDueng",
        "colab_type": "code",
        "colab": {}
      },
      "cell_type": "code",
      "source": [
        "date = day + 5"
      ],
      "execution_count": 0,
      "outputs": []
    },
    {
      "metadata": {
        "id": "u4PPvnNZuhTz",
        "colab_type": "code",
        "colab": {
          "base_uri": "https://localhost:8080/",
          "height": 35
        },
        "outputId": "0cefa81f-575e-4769-f504-e18a362740d7"
      },
      "cell_type": "code",
      "source": [
        "print(date)"
      ],
      "execution_count": 34,
      "outputs": [
        {
          "output_type": "stream",
          "text": [
            "8\n"
          ],
          "name": "stdout"
        }
      ]
    },
    {
      "metadata": {
        "id": "QqKu4MYwulwj",
        "colab_type": "code",
        "colab": {
          "base_uri": "https://localhost:8080/",
          "height": 35
        },
        "outputId": "bb91eb2b-f34e-4bdf-c1c0-6aebd4560519"
      },
      "cell_type": "code",
      "source": [
        "day = 3\n",
        "str_day = str(day)\n",
        "date = str_day+ \" 일\"\n",
        "print(date) #숫자와 문자열이 더해질 수 없기 때문에 string을 사용"
      ],
      "execution_count": 35,
      "outputs": [
        {
          "output_type": "stream",
          "text": [
            "3 일\n"
          ],
          "name": "stdout"
        }
      ]
    },
    {
      "metadata": {
        "id": "A6yJlh1j3lDt",
        "colab_type": "code",
        "colab": {
          "base_uri": "https://localhost:8080/",
          "height": 35
        },
        "outputId": "cb9a8c06-b0cf-41b5-84eb-26b6ada47595"
      },
      "cell_type": "code",
      "source": [
        "day = \"3\"\n",
        "date = day + \" 일\"\n",
        "print(date) #문자열 취급을 하면 string의 형태가 아니여도 문자열+문자열 형태를 가짐"
      ],
      "execution_count": 6,
      "outputs": [
        {
          "output_type": "stream",
          "text": [
            "3 일\n"
          ],
          "name": "stdout"
        }
      ]
    },
    {
      "metadata": {
        "id": "Nmdhmt6DvVGa",
        "colab_type": "text"
      },
      "cell_type": "markdown",
      "source": [
        "### 변수 type"
      ]
    },
    {
      "metadata": {
        "id": "YedNCTwpvQJf",
        "colab_type": "code",
        "colab": {
          "base_uri": "https://localhost:8080/",
          "height": 35
        },
        "outputId": "b4bc6ac3-5fd3-48ca-938a-baa47ab0f7a9"
      },
      "cell_type": "code",
      "source": [
        "type(day)"
      ],
      "execution_count": 36,
      "outputs": [
        {
          "output_type": "execute_result",
          "data": {
            "text/plain": [
              "int"
            ]
          },
          "metadata": {
            "tags": []
          },
          "execution_count": 36
        }
      ]
    },
    {
      "metadata": {
        "id": "foBQybeHvbAS",
        "colab_type": "code",
        "colab": {
          "base_uri": "https://localhost:8080/",
          "height": 35
        },
        "outputId": "c04c8a36-9eb7-4a6e-b818-7fd14f0308b9"
      },
      "cell_type": "code",
      "source": [
        "type(day),type(str_day),type(date)"
      ],
      "execution_count": 37,
      "outputs": [
        {
          "output_type": "execute_result",
          "data": {
            "text/plain": [
              "(int, str, str)"
            ]
          },
          "metadata": {
            "tags": []
          },
          "execution_count": 37
        }
      ]
    },
    {
      "metadata": {
        "id": "sxWU77-tvot3",
        "colab_type": "code",
        "colab": {
          "base_uri": "https://localhost:8080/",
          "height": 753
        },
        "outputId": "5f0aa6f5-842b-4afe-fe62-3e87f72d987b"
      },
      "cell_type": "code",
      "source": [
        "dir() #사용하고 있는 변수를 다 보여줌"
      ],
      "execution_count": 7,
      "outputs": [
        {
          "output_type": "execute_result",
          "data": {
            "text/plain": [
              "['In',\n",
              " 'Out',\n",
              " '_',\n",
              " '_4',\n",
              " '_TensorFlowImportHook',\n",
              " '__',\n",
              " '___',\n",
              " '__builtin__',\n",
              " '__builtins__',\n",
              " '__doc__',\n",
              " '__loader__',\n",
              " '__name__',\n",
              " '__package__',\n",
              " '__spec__',\n",
              " '_dh',\n",
              " '_i',\n",
              " '_i1',\n",
              " '_i2',\n",
              " '_i3',\n",
              " '_i4',\n",
              " '_i5',\n",
              " '_i6',\n",
              " '_i7',\n",
              " '_ih',\n",
              " '_ii',\n",
              " '_iii',\n",
              " '_oh',\n",
              " '_sh',\n",
              " 'date',\n",
              " 'datetime',\n",
              " 'day',\n",
              " 'exit',\n",
              " 'get_ipython',\n",
              " 'imp',\n",
              " 'logging',\n",
              " 'os',\n",
              " 'quit',\n",
              " 'register_hook',\n",
              " 'some_var',\n",
              " 'sys']"
            ]
          },
          "metadata": {
            "tags": []
          },
          "execution_count": 7
        }
      ]
    },
    {
      "metadata": {
        "id": "O_ZQx55ixgqi",
        "colab_type": "text"
      },
      "cell_type": "markdown",
      "source": [
        "### 문자열을 숫자로 변환: int(),float()"
      ]
    },
    {
      "metadata": {
        "id": "rRO7TGEHvqwN",
        "colab_type": "code",
        "colab": {}
      },
      "cell_type": "code",
      "source": [
        "num=int(\"31\")\n",
        "pi = float('3.141592')"
      ],
      "execution_count": 0,
      "outputs": []
    },
    {
      "metadata": {
        "id": "0xOxPCnlw4iM",
        "colab_type": "code",
        "colab": {
          "base_uri": "https://localhost:8080/",
          "height": 35
        },
        "outputId": "fcdae9fb-1fe1-4588-e644-46a716d22834"
      },
      "cell_type": "code",
      "source": [
        "#num.pi\n",
        "num"
      ],
      "execution_count": 43,
      "outputs": [
        {
          "output_type": "execute_result",
          "data": {
            "text/plain": [
              "31"
            ]
          },
          "metadata": {
            "tags": []
          },
          "execution_count": 43
        }
      ]
    },
    {
      "metadata": {
        "id": "iv2sUXGIw_ah",
        "colab_type": "code",
        "colab": {
          "base_uri": "https://localhost:8080/",
          "height": 35
        },
        "outputId": "56c24a1b-465d-48c6-87c0-81e0182ebbb8"
      },
      "cell_type": "code",
      "source": [
        "pi,type(pi)"
      ],
      "execution_count": 44,
      "outputs": [
        {
          "output_type": "execute_result",
          "data": {
            "text/plain": [
              "(3.141592, float)"
            ]
          },
          "metadata": {
            "tags": []
          },
          "execution_count": 44
        }
      ]
    },
    {
      "metadata": {
        "id": "b4pO1iXNxDIS",
        "colab_type": "code",
        "colab": {
          "base_uri": "https://localhost:8080/",
          "height": 35
        },
        "outputId": "9609bd7b-e8f6-427e-cdaa-c1a5a29e486d"
      },
      "cell_type": "code",
      "source": [
        "print(\"num = {}, pi = {}\".format(num,pi))"
      ],
      "execution_count": 46,
      "outputs": [
        {
          "output_type": "stream",
          "text": [
            "num = 31, pi = 3.141592\n"
          ],
          "name": "stdout"
        }
      ]
    },
    {
      "metadata": {
        "id": "R23Ks4_py6hZ",
        "colab_type": "text"
      },
      "cell_type": "markdown",
      "source": [
        "##예약어(keywords)"
      ]
    },
    {
      "metadata": {
        "id": "8QJcCp3CxMyR",
        "colab_type": "code",
        "colab": {
          "base_uri": "https://localhost:8080/",
          "height": 35
        },
        "outputId": "9d12fefd-b6ef-4244-c7a2-14a426acbdea"
      },
      "cell_type": "code",
      "source": [
        "import keyword\n",
        "# 파이썬의 예약어 수\n",
        "len(keyword.kwlist)"
      ],
      "execution_count": 47,
      "outputs": [
        {
          "output_type": "execute_result",
          "data": {
            "text/plain": [
              "33"
            ]
          },
          "metadata": {
            "tags": []
          },
          "execution_count": 47
        }
      ]
    },
    {
      "metadata": {
        "id": "eGsaBrsf0y2U",
        "colab_type": "code",
        "colab": {
          "base_uri": "https://localhost:8080/",
          "height": 35
        },
        "outputId": "57e935c2-4822-4c22-de9c-e4a78fe8db9c"
      },
      "cell_type": "code",
      "source": [
        "keyword"
      ],
      "execution_count": 51,
      "outputs": [
        {
          "output_type": "execute_result",
          "data": {
            "text/plain": [
              "<module 'keyword' from '/usr/lib/python3.6/keyword.py'>"
            ]
          },
          "metadata": {
            "tags": []
          },
          "execution_count": 51
        }
      ]
    },
    {
      "metadata": {
        "id": "tb6124E2zOu-",
        "colab_type": "code",
        "colab": {
          "base_uri": "https://localhost:8080/",
          "height": 611
        },
        "outputId": "ef47c8b4-7e12-4bf2-d1f9-10ca473f793e"
      },
      "cell_type": "code",
      "source": [
        "#예약어 목록\n",
        "keyword.kwlist"
      ],
      "execution_count": 52,
      "outputs": [
        {
          "output_type": "execute_result",
          "data": {
            "text/plain": [
              "['False',\n",
              " 'None',\n",
              " 'True',\n",
              " 'and',\n",
              " 'as',\n",
              " 'assert',\n",
              " 'break',\n",
              " 'class',\n",
              " 'continue',\n",
              " 'def',\n",
              " 'del',\n",
              " 'elif',\n",
              " 'else',\n",
              " 'except',\n",
              " 'finally',\n",
              " 'for',\n",
              " 'from',\n",
              " 'global',\n",
              " 'if',\n",
              " 'import',\n",
              " 'in',\n",
              " 'is',\n",
              " 'lambda',\n",
              " 'nonlocal',\n",
              " 'not',\n",
              " 'or',\n",
              " 'pass',\n",
              " 'raise',\n",
              " 'return',\n",
              " 'try',\n",
              " 'while',\n",
              " 'with',\n",
              " 'yield']"
            ]
          },
          "metadata": {
            "tags": []
          },
          "execution_count": 52
        }
      ]
    },
    {
      "metadata": {
        "id": "1vtNjeid0mTJ",
        "colab_type": "code",
        "colab": {
          "base_uri": "https://localhost:8080/",
          "height": 35
        },
        "outputId": "70906e45-ad29-437e-ec5a-65bae23b75b8"
      },
      "cell_type": "code",
      "source": [
        "_as =  \"inje\" # 키워드 as는 변수로 사용할 수 없음.\n",
        "_as"
      ],
      "execution_count": 55,
      "outputs": [
        {
          "output_type": "execute_result",
          "data": {
            "text/plain": [
              "'inje'"
            ]
          },
          "metadata": {
            "tags": []
          },
          "execution_count": 55
        }
      ]
    },
    {
      "metadata": {
        "id": "jctnPNWa1hT4",
        "colab_type": "text"
      },
      "cell_type": "markdown",
      "source": [
        "### User input"
      ]
    },
    {
      "metadata": {
        "id": "UZVlHucZ0qZ6",
        "colab_type": "code",
        "colab": {
          "base_uri": "https://localhost:8080/",
          "height": 35
        },
        "outputId": "bfcd6d83-e21b-4fe8-e7f6-da07082f7239"
      },
      "cell_type": "code",
      "source": [
        "name = input(\"Please write down your name here!\")"
      ],
      "execution_count": 56,
      "outputs": [
        {
          "output_type": "stream",
          "text": [
            "Please write down your name here! YuHyeon\n"
          ],
          "name": "stdout"
        }
      ]
    },
    {
      "metadata": {
        "id": "SPA5gnGC1sQW",
        "colab_type": "code",
        "colab": {
          "base_uri": "https://localhost:8080/",
          "height": 35
        },
        "outputId": "cdbba869-2eba-4c88-cd9c-780273a6b1a0"
      },
      "cell_type": "code",
      "source": [
        "name"
      ],
      "execution_count": 57,
      "outputs": [
        {
          "output_type": "execute_result",
          "data": {
            "text/plain": [
              "' YuHyeon'"
            ]
          },
          "metadata": {
            "tags": []
          },
          "execution_count": 57
        }
      ]
    },
    {
      "metadata": {
        "id": "VEQxgHnz10GI",
        "colab_type": "text"
      },
      "cell_type": "markdown",
      "source": [
        "### Code block & Indentation"
      ]
    },
    {
      "metadata": {
        "id": "UK3qdva-1woj",
        "colab_type": "code",
        "colab": {
          "base_uri": "https://localhost:8080/",
          "height": 71
        },
        "outputId": "df65462e-85d6-49c0-9a05-a25207339039"
      },
      "cell_type": "code",
      "source": [
        "if(10>3):\n",
        "  print('inside if block')\n",
        "  print('still inside if block') #가정이 ture라면 3줄 다 출력됨.\n",
        "  \n",
        "print('outside if block!') #가정이 false라면 이 줄만 출력됨."
      ],
      "execution_count": 69,
      "outputs": [
        {
          "output_type": "stream",
          "text": [
            "inside if block\n",
            "still inside if block\n",
            "outside if block!\n"
          ],
          "name": "stdout"
        }
      ]
    },
    {
      "metadata": {
        "id": "l5psh6QH3XIp",
        "colab_type": "text"
      },
      "cell_type": "markdown",
      "source": [
        "### Indentation error"
      ]
    },
    {
      "metadata": {
        "id": "4Oo2QHQf2SHw",
        "colab_type": "code",
        "colab": {}
      },
      "cell_type": "code",
      "source": [
        "if(10>3):\n",
        "  print('inside if block')\n",
        "   print('still inside if block') #에러가 난 이유는 윗 줄과 같은 라인이 아니기때문\n",
        "  \n",
        "print('outside if block!')"
      ],
      "execution_count": 0,
      "outputs": []
    },
    {
      "metadata": {
        "id": "IF2Ww_q43x5h",
        "colab_type": "text"
      },
      "cell_type": "markdown",
      "source": [
        "### 도전 코딩1. M/H**2, (M(kg),H(m))"
      ]
    },
    {
      "metadata": {
        "id": "EtZgTDTY3wA1",
        "colab_type": "code",
        "colab": {
          "base_uri": "https://localhost:8080/",
          "height": 71
        },
        "outputId": "628b4e9e-ff52-4338-d48f-c8a4f691c176"
      },
      "cell_type": "code",
      "source": [
        "h = float(input(\"Your height in meters:\"))\n",
        "m = float(input(\"Your weight in kilograms:\"))\n",
        "bmi = round(m/(h*h),1)\n",
        "bmi"
      ],
      "execution_count": 72,
      "outputs": [
        {
          "output_type": "stream",
          "text": [
            "Your height in meters:1.55\n",
            "Your weight in kilograms:44\n"
          ],
          "name": "stdout"
        },
        {
          "output_type": "execute_result",
          "data": {
            "text/plain": [
              "18.3"
            ]
          },
          "metadata": {
            "tags": []
          },
          "execution_count": 72
        }
      ]
    },
    {
      "metadata": {
        "id": "b1swQ1qC5N4w",
        "colab_type": "text"
      },
      "cell_type": "markdown",
      "source": [
        "### 도전 코딩2.\n",
        "\n",
        "1.조깅에서 1kg 지방을 태우는데 몇 시간이 걸리는지 계산\n",
        "\n",
        "2 조깅에서 1kg  체중을 감소하는데 몇 분이 필요한지\n",
        "\n"
      ]
    },
    {
      "metadata": {
        "id": "3hQGeAft4x5x",
        "colab_type": "code",
        "colab": {}
      },
      "cell_type": "code",
      "source": [
        "cal_per_1kg_fat = 7200 # 지방 1kg 연소에 필요한 열량\n",
        "\n",
        "cal_per_1min_jog = 7.76 # 조깅 1 분에 의한 소비 칼로리"
      ],
      "execution_count": 0,
      "outputs": []
    },
    {
      "metadata": {
        "id": "M4Ul8SLy6FXf",
        "colab_type": "code",
        "colab": {
          "base_uri": "https://localhost:8080/",
          "height": 53
        },
        "outputId": "72a86fe4-eb4b-4591-ade1-17eb0f80e4cf"
      },
      "cell_type": "code",
      "source": [
        "min_to_lose1kg = cal_per_1kg_fat/cal_per_1min_jog\n",
        "hours_to_lose1kg = min_to_lose1kg/60 # 분을 시간으로 환산\n",
        "print(round(hours_to_lose1kg,1))\n",
        "print(str(round(hours_to_lose1kg,1))+\"시간\") #\"시간\" 또한 문자열이기 때문에 string을 사용해 연결."
      ],
      "execution_count": 78,
      "outputs": [
        {
          "output_type": "stream",
          "text": [
            "15.5\n",
            "15.5시간\n"
          ],
          "name": "stdout"
        }
      ]
    },
    {
      "metadata": {
        "id": "HSCPbZN_6WXO",
        "colab_type": "code",
        "colab": {
          "base_uri": "https://localhost:8080/",
          "height": 35
        },
        "outputId": "02ba65fc-ef79-4525-c4a2-b12dbff8d2df"
      },
      "cell_type": "code",
      "source": [
        "print(\"{}시간\".format(round(hours_to_lose1kg,1)))"
      ],
      "execution_count": 79,
      "outputs": [
        {
          "output_type": "stream",
          "text": [
            "15.5시간\n"
          ],
          "name": "stdout"
        }
      ]
    }
  ]
}